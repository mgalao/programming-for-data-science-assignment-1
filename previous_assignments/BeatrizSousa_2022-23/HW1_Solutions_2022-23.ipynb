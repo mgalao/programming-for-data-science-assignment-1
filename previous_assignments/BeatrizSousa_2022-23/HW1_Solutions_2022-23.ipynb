{
 "cells": [
  {
   "cell_type": "markdown",
   "metadata": {
    "tags": []
   },
   "source": [
    "# Programming for Data Science 2022\n",
    "## Homework Assigment One\n",
    "\n",
    "Homework activities aim, not only, at testing your ability to put into practice the concepts you have learned during the Lectures and Labs, but also your ability to explore the Python documentation as a resource. \n",
    "\n",
    "Above all, it is an opportunity for you to challenge yourself and practice. If you are having difficulties with the assignment reach out for support.\n",
    "\n",
    "The Homework Assigment One is divided into **three parts**:\n",
    "1. Explore the core building blocks of programming, focusing in variables, data structures, and their manipulation;\n",
    "2. Explore data loading and analysis using the core elements of Python, without fancy third-party libraries;\n",
    "3. Explore functional programming by defining different functions and operating with the map() and filter().\n",
    "\n",
    "Your submission will be graded according to the following guidelines:\n",
    "1. Execution (does your program does what is asked from the exercise?\n",
    "2. Objectivity (are you using the adequate libraries? are you using a library ... );\n",
    "3. Readibility of your code (that includes comments, naming of variables, supporting text, etc ...).\n",
    "\n",
    "This assignment is to be done in groups of two, groups that are caught cheating will obtain a score of 0 points. \\\n",
    "\n",
    "The Homeworking Assignment One is worth **20%** of your final grade.\n",
    "\n",
    "The submission package should correspond to a .zip archive (.rar files are not acceptable) with the following files:\n",
    "1. Jupyter Notebook with the output of all the cells;\n",
    "2. PDF/HTML of your Jupyter Notebook;\n",
    "3. All text or .csv files exported as part of the exercises.\n",
    "\n",
    "#### Important Notes: \n",
    "- **You are ONLY allowed to use any library from the Python STL (see here https://docs.python.org/3/library/).**\n",
    "- **Comment your code properly, which includes naming your variables in a meaningful manner. Badly documented code will be penalized.**</b>\n",
    "- **Submissions in non .zip format will be penalize with 2 points.**\n",
    "\n",
    "Submission is done through the respective Moodle activity.\\\n",
    "Deadline is **2022-10-02**, a Sunday, at 23:59.\\\n",
    "A penality of 1 point per day late will be applied to late deliveries."
   ]
  },
  {
   "cell_type": "markdown",
   "metadata": {},
   "source": [
    "# <span style=\"color:brown\"> Part 1 -  Variable Declaration and Manipulation </span> \n",
    "\n",
    "## Exercise I - of Lists and Random numbers\n",
    "\n",
    "**Q**: Declare a variable X that stores a list of 100 integers randomly sampled between -25 and 25.<br>\n",
    "Note: You are not allowed to use Numpy or Scipy."
   ]
  },
  {
   "cell_type": "code",
   "execution_count": 1,
   "metadata": {},
   "outputs": [
    {
     "name": "stdout",
     "output_type": "stream",
     "text": [
      "[-6, 17, 13, 24, -25, -16, -10, -17, -19, -2, 23, -20, -2, 25, 14, -10, -7, -21, 20, 7, -13, 16, -5, 0, 19, 21, 25, 15, -10, 1, 20, -16, -9, -10, -7, -10, -19, -4, -2, -22, 13, -19, 1, -1, 12, 16, -10, -1, 22, -15, 8, 10, -4, 6, 5, -20, 25, -6, -4, 21, 7, -19, 10, -3, 5, -3, 15, -24, -21, 20, -18, 21, 5, 17, 2, -3, 5, -4, 19, 15, 10, 10, -11, -25, -21, -12, 4, -17, -2, -21, 23, -15, 19, 4, 22, 23, -22, -22, -1, -18]\n"
     ]
    }
   ],
   "source": [
    "#import random module\n",
    "import random\n",
    "\n",
    "#create list\n",
    "X = [random.randint(-25, 25) for i in range(100)]\n",
    "\n",
    "#show output\n",
    "print(X)"
   ]
  },
  {
   "cell_type": "markdown",
   "metadata": {},
   "source": [
    "**Q**: How many odd numbers are in the list X? Check if the numbers that are even are exactly the same as the number of odd numbers, else discard the list and generate a new one.<br>\n",
    "Extra: Can you automatize this pipeline to avoid having to run multiple cells multiple times by hand?"
   ]
  },
  {
   "cell_type": "code",
   "execution_count": 2,
   "metadata": {},
   "outputs": [
    {
     "name": "stdout",
     "output_type": "stream",
     "text": [
      "Odd numbers in the list:  56\n",
      "Odd numbers in the list:  47\n",
      "Odd numbers in the list:  47\n",
      "Odd numbers in the list:  57\n",
      "Odd numbers in the list:  46\n",
      "Odd numbers in the list:  43\n",
      "Odd numbers in the list:  64\n",
      "Odd numbers in the list:  57\n",
      "Odd numbers in the list:  53\n",
      "Odd numbers in the list:  56\n",
      "Odd numbers in the list:  46\n",
      "Odd numbers in the list:  58\n",
      "Odd numbers in the list:  54\n",
      "Odd numbers in the list:  55\n",
      "Odd numbers in the list:  51\n",
      "Odd numbers in the list:  55\n",
      "Odd numbers in the list:  51\n",
      "Odd numbers in the list:  62\n",
      "Odd numbers in the list:  59\n",
      "Odd numbers in the list:  55\n",
      "Odd numbers in the list:  54\n",
      "Odd numbers in the list:  44\n",
      "Odd numbers in the list:  50\n",
      "[-22, -10, 12, -10, -21, -14, 14, -19, -5, -2, 1, 23, -15, 6, 8, -14, 3, -5, -12, -15, -16, -21, -10, 9, -22, -5, 13, 22, -4, -13, -1, 2, -24, 8, -2, -12, -6, 1, -22, -17, -17, 1, -21, -13, 10, -14, 1, 3, -24, 16, 22, -1, 2, -19, -20, 10, 18, 15, 21, 9, -22, -19, 9, -10, -3, -6, -4, -1, 22, -6, 16, -5, -4, 23, -7, 23, -3, -25, 9, -23, 21, -20, 20, -14, -3, 22, 23, -21, 19, 12, 4, -12, 25, 17, -8, -11, -4, 17, -3, 8]\n"
     ]
    }
   ],
   "source": [
    "#counter of odd numbers\n",
    "odd_count=0\n",
    "\n",
    "#loop that only stops when odd=even\n",
    "same_even_odd=False\n",
    "while same_even_odd==False:\n",
    "    odd_count=0\n",
    "    for i in range(100):\n",
    "        #create list\n",
    "        aux_list=(random.randint(-25,25))\n",
    "        X.append(aux_list)\n",
    "        #count odd numbers\n",
    "        if aux_list%2!=0:\n",
    "            odd_count+=1\n",
    "    print('Odd numbers in the list: ', odd_count)\n",
    "    #check if odd=event\n",
    "    if odd_count==len(X)/2:\n",
    "        same_even_odd=True\n",
    "    else:\n",
    "        #if odd!=even clear the list created\n",
    "        X.clear()\n",
    "        \n",
    "print(X)"
   ]
  },
  {
   "cell_type": "markdown",
   "metadata": {},
   "source": [
    "**Q**: Print the number of digits on the 5th and 100th element of the list. <br>\n",
    "Note: For instance, the number 1 contains one digit, the number 10 contains two digits, the number -2 contains one digit."
   ]
  },
  {
   "cell_type": "code",
   "execution_count": 3,
   "metadata": {},
   "outputs": [
    {
     "name": "stdout",
     "output_type": "stream",
     "text": [
      "The digit in the 5th position is -21 the number of digits on the 5th position is: 2\n",
      "The digit in the 5th position is 8 the number of digits on the 5th position is: 1\n"
     ]
    }
   ],
   "source": [
    "# Use abs() to only have positive values\n",
    "# Convert to string and use len to check how many characters\n",
    "print('The digit in the 5th position is', X[4],'the number of digits on the 5th position is:',\n",
    "      str(len(str(abs(X[4])))))\n",
    "print('The digit in the 5th position is', X[99],'the number of digits on the 5th position is:',\n",
    "      str(len(str(abs(X[99])))))"
   ]
  },
  {
   "cell_type": "markdown",
   "metadata": {},
   "source": [
    "**Q:** Is the sum of all the numbers in the list even or odd?"
   ]
  },
  {
   "cell_type": "code",
   "execution_count": 4,
   "metadata": {},
   "outputs": [
    {
     "name": "stdout",
     "output_type": "stream",
     "text": [
      "The sum of all numbers in the list ( -162 ) is even.\n"
     ]
    }
   ],
   "source": [
    "#Sum the elements and use if-else statement to check if the sum is even or odd\n",
    "if sum(X)%2==0:\n",
    "    print('The sum of all numbers in the list (',sum(X),') is even.')\n",
    "else:\n",
    "    print('The sum of all numbers in the list (',sum(X),') is odd.')"
   ]
  },
  {
   "cell_type": "markdown",
   "metadata": {},
   "source": [
    "**Q**: What is the average of all the numbers in the list? What is the standard deviation? <br>"
   ]
  },
  {
   "cell_type": "code",
   "execution_count": 5,
   "metadata": {},
   "outputs": [
    {
     "name": "stdout",
     "output_type": "stream",
     "text": [
      "The average is:  -1.62\n",
      "The standart deviation is:  14.5045\n"
     ]
    }
   ],
   "source": [
    "#import statistics (Python Standard Library) to get the mean and standard deviation easily\n",
    "import statistics\n",
    "\n",
    "average = statistics.mean(X)\n",
    "std = statistics.stdev(X)\n",
    "\n",
    "print('The average is: ', average)\n",
    "print('The standart deviation is: ', round(std,4))"
   ]
  },
  {
   "cell_type": "markdown",
   "metadata": {},
   "source": [
    "**Q**: Sort list X in descending order and store the result in variable Xsort. <br>\n",
    "Then replace each value in Xsort with index i as the sum of the values with index i-1 and i. <br> *Per definition Xsort[-1] = 0.*"
   ]
  },
  {
   "cell_type": "code",
   "execution_count": 6,
   "metadata": {},
   "outputs": [
    {
     "name": "stdout",
     "output_type": "stream",
     "text": [
      "[25, 48, 71, 94, 117, 139, 161, 183, 205, 226, 247, 267, 286, 304, 321, 338, 354, 370, 385, 399, 412, 424, 436, 446, 456, 465, 474, 483, 492, 500, 508, 516, 522, 526, 529, 532, 534, 536, 537, 538, 539, 540, 539, 538, 537, 535, 533, 530, 527, 524, 521, 517, 513, 509, 505, 500, 495, 490, 485, 479, 473, 467, 460, 452, 442, 432, 422, 412, 401, 389, 377, 365, 352, 339, 325, 311, 297, 283, 268, 253, 237, 220, 203, 184, 165, 146, 126, 106, 85, 64, 43, 22, 0, -22, -44, -66, -89, -113, -137, -162]\n"
     ]
    }
   ],
   "source": [
    "#Sort in descending order\n",
    "Xsort = sorted(X, reverse=True)\n",
    "\n",
    "#For loop that starts in 1 because Xsort[-1] = 0\n",
    "for i in range(1,len(Xsort)):\n",
    "    Xsort[i]+=Xsort[i-1]\n",
    "\n",
    "print(Xsort)"
   ]
  },
  {
   "cell_type": "markdown",
   "metadata": {},
   "source": [
    "## Exercise II - We have a gamer in the room\n",
    "\n",
    "**Q**: Consider the dictionaries  *purchases* and *clients* that are declared in the cells below. <br>\n",
    "1. Create a list with the names of the clients who bought more than one videogame. \n",
    "2. Print the List. <br>\n",
    "3. What is the name of the client that bought more videogames?\n",
    "\n",
    "TIP: You will want to check the methods associated with string manipulation. See the link: <br>\n",
    "https://python-reference.readthedocs.io/en/latest/docs/unicode/index.html"
   ]
  },
  {
   "cell_type": "code",
   "execution_count": 7,
   "metadata": {},
   "outputs": [],
   "source": [
    "# (Notice There are different games associated to each key)\n",
    "\n",
    "purchases = {\n",
    "    \n",
    "    \"1539\":\"Red dead redemption II\",\n",
    "    \"9843\":\"GTA V,FarCry 5\",\n",
    "    \"8472\":\"Canis Canem Edit\",\n",
    "    \"3874\":\"Watchdogs II,South Park: The Stick of Truth\",\n",
    "    \"5783\":\"AC: The Ezio Collection\",\n",
    "    \"9823\":\"For Honor,The Forest,South Park: The Fractured but whole\"\n",
    "    \n",
    "}"
   ]
  },
  {
   "cell_type": "code",
   "execution_count": 8,
   "metadata": {},
   "outputs": [],
   "source": [
    "clients = {\n",
    "    \n",
    "    \"1539\":\"Rick Sanchez\",\n",
    "    \"9843\":\"Morty Smith\",\n",
    "    \"8472\":\"Eve Polastri\",\n",
    "    \"3874\":\"Mildred Ratched\",\n",
    "    \"5783\":\"Alex Vause\",\n",
    "    \"9823\":\"Sheldon Cooper\"\n",
    "    \n",
    "}"
   ]
  },
  {
   "cell_type": "code",
   "execution_count": 9,
   "metadata": {},
   "outputs": [
    {
     "name": "stdout",
     "output_type": "stream",
     "text": [
      "The clients that bought more than one videogame were ['Morty Smith', 'Mildred Ratched', 'Sheldon Cooper']\n"
     ]
    }
   ],
   "source": [
    "clients_list =[]\n",
    "for i in purchases:\n",
    "    for j in purchases[i]:\n",
    "        if ',' in j: #when we find a comma means that client purchased more that one game...\n",
    "            clients_list.append(clients[i]) #...and we just append that clients\n",
    "            break\n",
    "print('The clients that bought more than one videogame were',clients_list)"
   ]
  },
  {
   "cell_type": "code",
   "execution_count": 10,
   "metadata": {},
   "outputs": [
    {
     "name": "stdout",
     "output_type": "stream",
     "text": [
      "{'Morty Smith': 2, 'Mildred Ratched': 2, 'Sheldon Cooper': 3} \n",
      "\n",
      "The client that bought more videogames was Sheldon Cooper\n"
     ]
    }
   ],
   "source": [
    "clients_dict = []\n",
    "for i in purchases:\n",
    "    for j in purchases[i]:\n",
    "        if ',' in j:\n",
    "            clients_dict.append(clients[i])\n",
    "count = []\n",
    "count = dict((i, clients_dict.count(i)+1) for i in clients_dict) \n",
    "\n",
    "#count the commas and sum +1 to have the number of the games purchased for those we know that have purchased more\n",
    "print(count, '\\n') #checking if the dictionary was created properly\n",
    "print('The client that bought more videogames was', max(count.keys()))"
   ]
  },
  {
   "cell_type": "markdown",
   "metadata": {},
   "source": [
    "# <span style=\"color:brown\"> Part 2 -  Data loading and analysis  </span>\n",
    "\n",
    "## Exercise I - Alice what do you have to say?\n",
    "\n",
    "Download the file alice.txt to the filepath (i.e., same folder) where you have your notebook."
   ]
  },
  {
   "cell_type": "markdown",
   "metadata": {},
   "source": [
    "**Q**: Load the Alice text file into a variable called Alice. Use a relative filepath in relation to the location of your notebook. <br>\n",
    "Note: You are not allowed to use third-party libraries like Pandas."
   ]
  },
  {
   "cell_type": "code",
   "execution_count": 11,
   "metadata": {},
   "outputs": [
    {
     "name": "stdout",
     "output_type": "stream",
     "text": [
      "Alice was beginning to get very tired of sitting by her sister on the bank, and of having nothing to do: once or twice she had peeped into the book her sister was reading, but it had no pictures or conversations in it, <<and what is the use of a book>>. thought Alice <<without pictures or conversation?>>.\n"
     ]
    }
   ],
   "source": [
    "Alice = \"\"\n",
    "with open('./alice.txt') as f:\n",
    "    Alice = f.readlines()[0]\n",
    "\n",
    "print(Alice)"
   ]
  },
  {
   "cell_type": "markdown",
   "metadata": {},
   "source": [
    "**Q**: Create a list in which each element is a word from the file Alice. Store that list in a variable called wAlice. <br>\n",
    "Note: You will need to do some text parsing here. In particular to **split the sentences into words**. It is also a good practice to **normalize words** so that words \"Hello\" and \"hello\" become identical, by making all letters lower case. <br>\n",
    "Tip: check the following links for a discussion on regular expressions. Also consult the methods available for string manipulation.\n",
    "\n",
    "https://docs.python.org/3/library/re.html\n",
    "\n",
    "https://stackoverflow.com/questions/1276764/stripping-everything-but-alphanumeric-chars-from-a-string-in-python"
   ]
  },
  {
   "cell_type": "code",
   "execution_count": 12,
   "metadata": {},
   "outputs": [
    {
     "name": "stdout",
     "output_type": "stream",
     "text": [
      "['alice', 'was', 'beginning', 'to', 'get', 'very', 'tired', 'of', 'sitting', 'by', 'her', 'sister', 'on', 'the', 'bank', 'and', 'of', 'having', 'nothing', 'to', 'do', 'once', 'or', 'twice', 'she', 'had', 'peeped', 'into', 'the', 'book', 'her', 'sister', 'was', 'reading', 'but', 'it', 'had', 'no', 'pictures', 'or', 'conversations', 'in', 'it', 'and', 'what', 'is', 'the', 'use', 'of', 'a', 'book', 'thought', 'alice', 'without', 'pictures', 'or', 'conversation']\n"
     ]
    }
   ],
   "source": [
    "#import ncessary modules to manipulate strings\n",
    "import re, string\n",
    "\n",
    "#remove all unwanted ponctuation and symbols from Alice\n",
    "pattern = re.compile('[\\W_]+')\n",
    "\n",
    "#split the text and make all the letters lowercase.\n",
    "wAlice= pattern.split(Alice.lower())\n",
    "\n",
    "#remove empty instances\n",
    "wAlice.remove('')\n",
    "\n",
    "#print the resulting list\n",
    "print(wAlice)"
   ]
  },
  {
   "cell_type": "markdown",
   "metadata": {},
   "source": [
    "#### Using the list wAlice answer the following questions:<br>\n",
    "**Q**: How many words contains the text file Alice.txt? <br>"
   ]
  },
  {
   "cell_type": "code",
   "execution_count": 13,
   "metadata": {},
   "outputs": [
    {
     "name": "stdout",
     "output_type": "stream",
     "text": [
      "The text file \"Alice.txt\" contains  57  words.\n"
     ]
    }
   ],
   "source": [
    "#check length of list\n",
    "print('The text file \"Alice.txt\" contains ' ,str(len(wAlice)), ' words.')"
   ]
  },
  {
   "cell_type": "markdown",
   "metadata": {},
   "source": [
    "**Q**: What is the longest and smallest word in the text file? (Length here is measured in terms of the number of characters)<br>"
   ]
  },
  {
   "cell_type": "code",
   "execution_count": 14,
   "metadata": {},
   "outputs": [
    {
     "name": "stdout",
     "output_type": "stream",
     "text": [
      "The smallest word in the text file is:  a\n",
      "The longest word in the text file is:  conversations\n"
     ]
    }
   ],
   "source": [
    "#instantiate variables that will store the longest and smallest word\n",
    "smallest=wAlice[0]\n",
    "longest=wAlice[0]\n",
    "\n",
    "#for loop that checks each word and compares it to the current smallest and longest word\n",
    "for i in wAlice:    \n",
    "    if len(i)>len(longest):\n",
    "        longest=i\n",
    "    elif len(i)<len(smallest):\n",
    "        smallest=i\n",
    "        \n",
    "#print the smallest and longest words found\n",
    "print('The smallest word in the text file is: ', smallest)\n",
    "print('The longest word in the text file is: ', longest)"
   ]
  },
  {
   "cell_type": "markdown",
   "metadata": {},
   "source": [
    "**Q**: Delete all the repeated words from wAlice. How many different words does the text contain?"
   ]
  },
  {
   "cell_type": "code",
   "execution_count": 15,
   "metadata": {},
   "outputs": [
    {
     "name": "stdout",
     "output_type": "stream",
     "text": [
      "The text contains 41 different words.\n"
     ]
    }
   ],
   "source": [
    "#use set to remove duplicates\n",
    "wAlice = set(wAlice)\n",
    "\n",
    "#count how many words and print the result\n",
    "print('The text contains ' + str(len(wAlice)) +' different words.')"
   ]
  },
  {
   "cell_type": "markdown",
   "metadata": {},
   "source": [
    "## Exercise II - I Love Economics\n",
    "\n",
    "Consider the list *countries* in the cell below. <br>\n",
    "It consists of a list of the 3-digit ISO codes of a set of countries of interest."
   ]
  },
  {
   "cell_type": "code",
   "execution_count": 16,
   "metadata": {},
   "outputs": [],
   "source": [
    "countries = [\n",
    "\n",
    "('PRT','Portugal','Europe'),\n",
    "('ISL','Israel','Asia'),\n",
    "('COL','Colombia','South America'),\n",
    "('NEV','Nevada','North America'),\n",
    "('JPN','Japan','Asia'),\n",
    "('RUS','Russia','well... which part?'),\n",
    "('DEN','Denmark','Europe'),\n",
    "('NOR','Norway','Europe')\n",
    "    \n",
    "]"
   ]
  },
  {
   "cell_type": "markdown",
   "metadata": {},
   "source": [
    "**Now consider the file cdata.csv that you should download.** <br>\n",
    "The file contains several information about countries, and is organized as follows:\n",
    "1. Column 1 is the 3-digit ISO Code\n",
    "2. Column 2 is the Full name of the country\n",
    "3. Column 3 is the Continent in which the continent\n",
    "4. Column 4 is the population size in 2010\n",
    "5. Column 5 is the gdp per capita in 2010"
   ]
  },
  {
   "cell_type": "code",
   "execution_count": 17,
   "metadata": {},
   "outputs": [],
   "source": [
    "#importing csv module to be able to open and read csv files.\n",
    "import csv\n",
    "file=open(\"cdata.csv\")"
   ]
  },
  {
   "cell_type": "markdown",
   "metadata": {},
   "source": [
    "**Q**: Load the file cdata.csv into an object called RAW. <br> Create a dictionary called cData in which the key is the 3-digit ISO Code and the value is a tuple with the information contained in the 2nd to the 5th of column of the cdata file."
   ]
  },
  {
   "cell_type": "code",
   "execution_count": 18,
   "metadata": {},
   "outputs": [
    {
     "name": "stdout",
     "output_type": "stream",
     "text": [
      "{'ago': ('Angola', 'Africa', '23.369131088256836', '5988.534997149481'), 'bdi': ('Burundi', 'Africa', '8.766929626464844', '731.4232803265862'), 'ben': ('Benin', 'Africa', '9.199258804321289', '1919.9969479963038'), 'bfa': ('Burkina Faso', 'Africa', '15.605216979980469', '1327.2165314775982'), 'bwa': ('Botswana', 'Africa', '2.0148661136627197', '12256.14159052444'), 'caf': ('Central African Republic', 'Africa', '4.4485249519348145', '865.4421867263901'), 'cmr': ('Cameroon', 'Africa', '19.970495223999023', '2684.972890247272'), 'cod': ('Democratic Republic of the Congo', 'Africa', '64.52326202392578', '634.9713963013496'), 'cog': ('Republic of the Congo', 'Africa', '4.386693000793457', '4979.990496069269'), 'com': ('Comoros', 'Africa', '0.6896920204162598', '2292.997969425929'), 'cpv': ('Cape Verde', 'Africa', '0.5023840069770813', '5644.821253339075'), 'dji': ('Djibouti', 'Africa', '0.8511459827423096', '2124.4420625972525'), 'dza': ('Algeria', 'Africa', '36.117637634277344', '12590.224223813591'), 'egy': ('Egypt', 'Africa', '84.10760498046875', '9148.839753298033'), 'eth': ('Ethiopia', 'Africa', '87.70266723632812', '1100.1831875876223'), 'gab': ('Gabon', 'Africa', '1.6402100324630737', '11961.168226448879'), 'gha': ('Ghana', 'Africa', '24.512104034423828', '3931.2918319728856'), 'gin': ('Guinea', 'Africa', '10.794170379638672', '1742.7346742167783'), 'gmb': ('Gambia', 'Africa', '1.692149043083191', '2681.8586168502143'), 'gnb': ('Guinea-Bissau', 'Africa', '1.5558799505233765', '1387.2497310879905'), 'gnq': ('Equatorial Guinea', 'Africa', '0.9511039853096008', '31416.887137501908'), 'ken': ('Kenya', 'Africa', '41.35015106201172', '2484.0349094725366'), 'lbr': ('Liberia', 'Africa', '3.948124885559082', '786.6702306741524'), 'lso': ('Lesotho', 'Africa', '2.040550947189331', '2432.7976546880823'), 'mar': ('Morocco', 'Africa', '32.409637451171875', '6421.937677907418'), 'mdg': ('Madagascar', 'Africa', '21.151639938354492', '1459.9156124535612'), 'mli': ('Mali', 'Africa', '15.075084686279297', '1873.2809618195865'), 'moz': ('Mozambique', 'Africa', '24.221405029296875', '969.2307622526259'), 'mrt': ('Mauritania', 'Africa', '3.6095430850982666', '3082.647028528842'), 'mus': ('Mauritius', 'Africa', '1.2479549646377563', '15178.325920597827'), 'mwi': ('Malawi', 'Africa', '15.167095184326172', '972.0456815116237'), 'nam': ('Namibia', 'Africa', '2.1731700897216797', '7689.171239820006'), 'ner': ('Niger', 'Africa', '16.42557716369629', '845.8693682212395'), 'nga': ('Nigeria', 'Africa', '158.57826232910156', '5186.304307542348'), 'rwa': ('Rwanda', 'Africa', '10.246842384338379', '1379.6993252327009'), 'sdn': ('Sudan', 'Africa', '34.385963439941406', '3608.7856176907358'), 'sen': ('Senegal', 'Africa', '12.916229248046875', '2741.121456198507'), 'sle': ('Sierra Leone', 'Africa', '6.4587202072143555', '1161.8796942144647'), 'swz': ('Swaziland', 'Africa', '1.2028429508209229', '7042.524359035093'), 'syc': ('Seychelles', 'Africa', '0.0914049968123436', '17960.353075613308'), 'tcd': ('Chad', 'Africa', '11.887202262878418', '1880.3748762799714'), 'tgo': ('Togo', 'Africa', '6.5029520988464355', '1222.8150529133295'), 'tun': ('Tunisia', 'Africa', '10.639930725097656', '10647.834980284626'), 'tza': ('Tanzania', 'Africa', '44.82893753051758', '1979.1718644815185'), 'uga': ('Uganda', 'Africa', '33.91513442993164', '1723.5943355766267'), 'zaf': ('South Africa', 'Africa', '51.58466339111328', '11388.640515995063'), 'zmb': ('Zambia', 'Africa', '13.850032806396484', '2870.8872656342314'), 'zwe': ('Zimbabwe', 'Africa', '14.08631706237793', '1479.0305839163732'), 'are': ('United Arab Emirates', 'Asia', '8.270684242248535', '59707.412565389604'), 'arm': ('Armenia', 'Asia', '2.8773109912872314', '8222.945234202914'), 'aze': ('Azerbaijan', 'Asia', '9.03245735168457', '12947.102198682365'), 'bgd': ('Bangladesh', 'Asia', '152.14910888671875', '2411.1020691099325'), 'bhr': ('Bahrain', 'Asia', '1.2408620119094849', '37045.81310919623'), 'brn': ('Brunei', 'Asia', '0.3886620104312897', '67320.89957245934'), 'btn': ('Bhutan', 'Asia', '0.7276409864425659', '7235.18974818538'), 'chn': ('China', 'Asia', '1359.755126953125', '9337.290772677254'), 'cyp': ('Cyprus', 'Asia', '0.829446017742157', '28046.373877741087'), 'geo': ('Georgia', 'Asia', '4.231660842895508', '7966.602756952667'), 'hkg': ('Hong Kong', 'Asia', '7.02522087097168', '41687.946418899235'), 'ind': ('India', 'Asia', '1230.980712890625', '4357.0597360582315'), 'irn': ('Iran', 'Asia', '74.56751251220703', '17328.457882894658'), 'irq': ('Iraq', 'Asia', '30.7627010345459', '9344.543768350652'), 'isr': ('Israel', 'Asia', '7.42595911026001', '28638.9037385305'), 'jor': ('Jordan', 'Asia', '7.182390213012695', '9351.387283068141'), 'jpn': ('Japan', 'Asia', '128.5518798828125', '36595.63364058582'), 'kaz': ('Kazakhstan', 'Asia', '16.398975372314453', '17908.83993251286'), 'kgz': ('Kyrgyzstan', 'Asia', '5.422337055206299', '3382.4639059259293'), 'khm': ('Cambodia', 'Asia', '14.30873966217041', '2330.127207632253'), 'kor': ('South Korea', 'Asia', '49.5528564453125', '31589.705161145695'), 'kwt': ('Kuwait', 'Asia', '2.9980831146240234', '67029.51680017101'), 'lao': ('Laos', 'Asia', '6.246273994445801', '4316.969858587265'), 'lbn': ('Lebanon', 'Asia', '4.337141036987305', '18025.24893894264'), 'lka': ('Sri Lanka', 'Asia', '20.198352813720703', '8390.429701766443'), 'mac': ('Macau', 'Asia', '0.536969006061554', '91982.39517540816'), 'mdv': ('Maldives', 'Asia', '0.36451101303100586', '12140.803390739566'), 'mmr': ('Burma', 'Asia', '50.1558952331543', '3422.241340266976'), 'mng': ('Mongolia', 'Asia', '2.7126500606536865', '7670.714034382584'), 'mys': ('Malaysia', 'Asia', '28.112289428710938', '17913.164410782432'), 'npl': ('Nepal', 'Asia', '27.023136138916016', '1996.1961554516242'), 'omn': ('Oman', 'Asia', '3.0414600372314453', '40472.674942509126'), 'pak': ('Pakistan', 'Asia', '170.5601806640625', '4171.416562353057'), 'phl': ('Philippines', 'Asia', '93.72662353515625', '5391.233965240031'), 'qat': ('Qatar', 'Asia', '1.7796759605407715', '123128.40152283433'), 'sau': ('Saudi Arabia', 'Asia', '27.425676345825195', '42331.65885721999'), 'sgp': ('Singapore', 'Asia', '5.074252128601074', '58618.43503468222'), 'syr': ('Syria', 'Asia', '21.01883316040039', '5700.329438992399'), 'tha': ('Thailand', 'Asia', '67.20880889892578', '12496.244186726299'), 'tjk': ('Tajikistan', 'Asia', '7.641630172729492', '2784.5145587763627'), 'tkm': ('Turkmenistan', 'Asia', '5.087210178375244', '16061.429412691556'), 'tur': ('Turkey', 'Asia', '72.32691192626953', '17930.678781392427'), 'twn': ('Taiwan', 'Asia', '23.140947341918945', '37188.89452901009'), 'uzb': ('Uzbekistan', 'Asia', '28.606294631958008', '6574.51672506692'), 'vnm': ('Vietnam', 'Asia', '88.4725112915039', '4428.42140209062'), 'yem': ('Yemen', 'Asia', '23.606779098510742', '4553.557258443674'), 'alb': ('Albania', 'Europe', '2.9405250549316406', '9544.73991912729'), 'aut': ('Austria', 'Europe', '8.40994930267334', '40489.80635849457'), 'bel': ('Belgium', 'Europe', '10.938738822937012', '38177.94724875522'), 'bgr': ('Bulgaria', 'Europe', '7.404590129852295', '14906.784964031736'), 'bih': ('Bosnia and Herzegovina', 'Europe', '3.7220840454101562', '9049.364732987471'), 'blr': ('Belarus', 'Europe', '9.473071098327637', '16457.02937904922'), 'che': ('Switzerland', 'Europe', '7.831971168518066', '55688.020214268225'), 'cze': ('Czech Republic', 'Europe', '10.536286354064941', '26129.56935189834'), 'deu': ('Germany', 'Europe', '80.89478302001953', '40627.23054942445'), 'dnk': ('Denmark', 'Europe', '5.554843902587891', '43416.22338615916'), 'esp': ('Spain', 'Europe', '46.788631439208984', '31610.980157042286'), 'est': ('Estonia', 'Europe', '1.3321019411087036', '20265.572596704937'), 'fin': ('Finland', 'Europe', '5.365781784057617', '38394.06158150017'), 'fra': ('France', 'Europe', '65.14578247070312', '35786.16161450548'), 'gbr': ('United Kingdom', 'Europe', '63.30684280395508', '34810.28120173958'), 'grc': ('Greece', 'Europe', '11.446004867553711', '25815.80076797162'), 'hrv': ('Croatia', 'Europe', '4.328153133392334', '19305.008088868373'), 'hun': ('Hungary', 'Europe', '9.927840232849121', '20477.79856764035'), 'irl': ('Ireland', 'Europe', '4.626927852630615', '47823.50815113634'), 'isl': ('Iceland', 'Europe', '0.3203279972076416', '37729.01607603124'), 'ita': ('Italy', 'Europe', '59.72980880737305', '34727.67268834705'), 'ltu': ('Lithuania', 'Europe', '3.123802900314331', '18475.371145517096'), 'lux': ('Luxembourg', 'Europe', '0.5078889727592468', '57882.81020537233'), 'lva': ('Latvia', 'Europe', '2.1188480854034424', '16943.688322829523'), 'mda': ('Moldova', 'Europe', '4.0844807624816895', '4173.634753274572'), 'mkd': ('Macedonia', 'Europe', '2.0707390308380127', '11265.643175619889'), 'mlt': ('Malta', 'Europe', '0.41611000895500183', '22983.44992639125'), 'mne': ('Montenegro', 'Europe', '0.6242849826812744', '14960.94855221103'), 'nld': ('Netherlands', 'Europe', '16.68291664123535', '44004.146024770846'), 'nor': ('Norway', 'Europe', '4.885878086090088', '73262.68174170727'), 'pol': ('Poland', 'Europe', '38.323402404785156', '21006.027309294514'), 'prt': ('Portugal', 'Europe', '10.652320861816406', '25788.2739652247'), 'rou': ('Romania', 'Europe', '20.44034767150879', '16775.609043478133'), 'rus': ('Russia', 'Asia', '143.15386962890625', '21754.067899615977'), 'srb': ('Serbia', 'Europe', '7.291436195373535', '12453.482551916944'), 'svk': ('Slovakia', 'Europe', '5.404294013977051', '23061.12099058148'), 'svn': ('Slovenia', 'Europe', '2.045167922973633', '25831.33128718208'), 'swe': ('Sweden', 'Europe', '9.390168190002441', '40421.906436576974'), 'ukr': ('Ukraine', 'Europe', '45.79249954223633', '8713.259627419637'), 'abw': ('Aruba', 'NorthAmerica', '0.10166899859905243', '37059.34143869512'), 'aia': ('Anguilla', 'NorthAmerica', '0.013768999837338924', '21098.057152999143'), 'atg': ('Antigua and Barbuda', 'NorthAmerica', '0.09466099739074707', '17162.16102781353'), 'bhs': ('Bahamas', 'NorthAmerica', '0.36083200573921204', '29504.581346144332'), 'blz': ('Belize', 'NorthAmerica', '0.3216080069541931', '7145.952547655193'), 'bmu': ('Bermuda', 'NorthAmerica', '0.06395599991083145', '51447.147481910884'), 'brb': ('Barbados', 'NorthAmerica', '0.27956900000572205', '13995.612896540895'), 'can': ('Canada', 'NorthAmerica', '34.16866683959961', '40269.03526728651'), 'cri': ('Costa Rica', 'NorthAmerica', '4.5452799797058105', '12106.99191566891'), 'cuw': ('Curaçao', 'NorthAmerica', '0.14760799705982208', '24337.816177887613'), 'cym': ('Cayman Islands', 'NorthAmerica', '0.05550700053572655', '36670.678481483985'), 'dma': ('Dominica', 'NorthAmerica', '0.07143999636173248', '9101.993729581038'), 'dom': ('Dominican Republic', 'NorthAmerica', '9.897985458374023', '11500.13134401987'), 'grd': ('Grenada', 'NorthAmerica', '0.1046769991517067', '9791.291133092265'), 'gtm': ('Guatemala', 'NorthAmerica', '14.630416870117188', '6359.262684615136'), 'hnd': ('Honduras', 'NorthAmerica', '8.194778442382812', '3789.9102248753848'), 'hti': ('Haiti', 'NorthAmerica', '9.999616622924805', '1650.2697128700804'), 'jam': ('Jamaica', 'NorthAmerica', '2.8172099590301514', '6675.176956450172'), 'kna': ('Saint Kitts and Nevis', 'NorthAmerica', '0.05144499987363815', '17837.349758162076'), 'lca': ('Saint Lucia', 'NorthAmerica', '0.17258000373840332', '9178.266990673521'), 'mex': ('Mexico', 'NorthAmerica', '117.31893920898438', '14507.011923865603'), 'msr': ('Montserrat', 'NorthAmerica', '0.00494399992749095', '15385.002991478228'), 'nic': ('Nicaragua', 'NorthAmerica', '5.737722873687744', '3992.7619078961748'), 'pan': ('Panama', 'NorthAmerica', '3.6432220935821533', '15055.237591848218'), 'slv': ('El Salvador', 'NorthAmerica', '6.164626121520996', '6096.958357099287'), 'tca': ('Turks and Caicos Islands', 'NorthAmerica', '0.030993999913334846', '7230.966074605446'), 'tto': ('Trinidad and Tobago', 'NorthAmerica', '1.3280999660491943', '27510.236190041924'), 'usa': ('United States', 'NorthAmerica', '308.6413879394531', '49500.62628346238'), 'vct': ('Saint Vincent and the Grenadines', 'NorthAmerica', '0.10931500047445297', '8095.21923068351'), 'vgb': ('British Virgin Islands', 'NorthAmerica', '0.027224000543355942', '21183.279165646647'), 'aus': ('Australia', 'Oceania', '22.12006378173828', '44854.90004866657'), 'fji': ('Fiji', 'Oceania', '0.8599500060081482', '6902.0687720944225'), 'nzl': ('New Zealand', 'Oceania', '4.370061874389648', '30867.05437525178'), 'arg': ('Argentina', 'SouthAmerica', '41.2238883972168', '15841.658208158999'), 'bol': ('Bolivia', 'SouthAmerica', '9.918242454528809', '4806.608983377068'), 'bra': ('Brazil', 'SouthAmerica', '196.7962646484375', '13541.462561602328'), 'chl': ('Chile', 'SouthAmerica', '16.99335479736328', '18092.94007371081')}\n"
     ]
    }
   ],
   "source": [
    "#load file and store it\n",
    "RAW=open(\"cdata.csv\", newline='')\n",
    "RAW=RAW.read()\n",
    "\n",
    "#instantiate dictionary\n",
    "cData={}\n",
    "\n",
    "#create a list that stores each row of the cdata file\n",
    "rows=RAW.split('\\n')\n",
    "\n",
    "#create a list that stores the contents of each row\n",
    "aux_list=[]\n",
    "\n",
    "#create the dictionary\n",
    "for i in range(1,len(rows)-1):\n",
    "    aux_list=str(rows[i]).split(',')\n",
    "    cData[aux_list[0]]=(aux_list[1],aux_list[2],aux_list[3],aux_list[4])\n",
    "\n",
    "#print resulting dictionary    \n",
    "print(cData)"
   ]
  },
  {
   "cell_type": "markdown",
   "metadata": {},
   "source": [
    "**Q**: Using cData, identify what is the most common Continent among the Nations in the list countries."
   ]
  },
  {
   "cell_type": "code",
   "execution_count": 19,
   "metadata": {},
   "outputs": [
    {
     "name": "stdout",
     "output_type": "stream",
     "text": [
      "{'Europe': 3, 'Asia': 3}\n",
      "Asia and Europe are both the most common continents.\n"
     ]
    }
   ],
   "source": [
    "dict_continents = {}\n",
    "continents =[]\n",
    "for i in range(len(countries)):\n",
    "    for j in cData.values():\n",
    "        if countries[i][1] == j[0]: #if the country name on the list and the file are the same...\n",
    "            continents.append(j[1]) #append the continent name to a new list\n",
    "            break\n",
    "            \n",
    "#create a dictionary and count the number os appearances in the list       \n",
    "dict_continents = dict((i, continents.count(i)) for i in continents) \n",
    "\n",
    "print(dict_continents)\n",
    "print('Asia and Europe are both the most common continents.')"
   ]
  },
  {
   "cell_type": "markdown",
   "metadata": {},
   "source": [
    "**Q**: Using cData, identify the most populated nation among the countries list."
   ]
  },
  {
   "cell_type": "code",
   "execution_count": 20,
   "metadata": {},
   "outputs": [
    {
     "name": "stdout",
     "output_type": "stream",
     "text": [
      "The most populated nation is Russia\n"
     ]
    }
   ],
   "source": [
    "max_population=0\n",
    "nation=''\n",
    "\n",
    "#for loop goes through all the countries in the countries list and checks if these are in the cData file\n",
    "for key in countries:\n",
    "    for i in cData.values():\n",
    "        country_name=key[1]\n",
    "        if country_name in i[0]:\n",
    "            #compare the country's population with the max population\n",
    "            if float(i[2])>float(max_population):\n",
    "                max_population=i[2]\n",
    "                nation=i[0]\n",
    "\n",
    "print('The most populated nation is', nation)\n"
   ]
  },
  {
   "cell_type": "markdown",
   "metadata": {},
   "source": [
    "**Q**: Compare the average GDP per capita of the Nations in countries list, with all the countries in the cData file. How they compare?"
   ]
  },
  {
   "cell_type": "code",
   "execution_count": 21,
   "metadata": {},
   "outputs": [
    {
     "name": "stdout",
     "output_type": "stream",
     "text": [
      "The average GDP per capita of the nations in the csv file is  18014.654543946035  and in the countries list is  38242.63072863724\n",
      "\n",
      "The average GDP per capita of the nations in the csv file is lower than the average GDP per capita of the nations in the countries list.\n",
      "\n",
      "The GDP per capita of ISRAEL is greater than the average GDP per capita of the nations in the csv file.\n",
      "\n",
      "The GDP per capita of JAPAN is greater than the average GDP per capita of the nations in the csv file.\n",
      "\n",
      "The GDP per capita of DENMARK is greater than the average GDP per capita of the nations in the csv file.\n",
      "\n",
      "The GDP per capita of NORWAY is greater than the average GDP per capita of the nations in the csv file.\n",
      "\n",
      "The GDP per capita of PORTUGAL is greater than the average GDP per capita of the nations in the csv file.\n",
      "\n",
      "The GDP per capita of RUSSIA is greater than the average GDP per capita of the nations in the csv file.\n"
     ]
    }
   ],
   "source": [
    "GDP_list=[]\n",
    "countries_GDP=[]\n",
    "nations=[]\n",
    "\n",
    "#for loop goes through all the countries in the countries list and checks if these are in the cData file\n",
    "for i in cData.values():\n",
    "    for key in countries:\n",
    "        country_name=key[1]\n",
    "        if country_name in i[0]:\n",
    "            #for each country append its GDP and name\n",
    "            countries_GDP.append(float(i[3]))\n",
    "            nations.append(i[0])\n",
    "    #store all the GDP's\n",
    "    GDP_list.append(float(i[3]))\n",
    "    \n",
    "#use statistics.mean() to calculate the average GDP\n",
    "average_cData=statistics.mean(GDP_list)    \n",
    "average_countries=statistics.mean(countries_GDP)  \n",
    "\n",
    "print('The average GDP per capita of the nations in the csv file is ', \n",
    "      str(average_cData), ' and in the countries list is ', str(average_countries))\n",
    "\n",
    "if average_cData>average_countries:\n",
    "    print('\\nThe average GDP per capita of the nations in the csv file greater than the average GDP per capita of the nations in the countries list.')\n",
    "else:\n",
    "    print('\\nThe average GDP per capita of the nations in the csv file is lower than the average GDP per capita of the nations in the countries list.')\n",
    "\n",
    "#compare the average GDP of the cData file with the GDP of every country in the countries list. \n",
    "for j in range(len(nations)):\n",
    "    if average_cData>countries_GDP[j]:\n",
    "        print('\\nThe GDP per capita of ' + nations[j].upper + \n",
    "              ' is lower than the average GDP per capita of the nations in the csv file.')\n",
    "    else:\n",
    "        print('\\nThe GDP per capita of ' + nations[j].upper() +\n",
    "              ' is greater than the average GDP per capita of the nations in the csv file.')  "
   ]
  },
  {
   "cell_type": "markdown",
   "metadata": {},
   "source": [
    "# <span style=\"color:brown\"> Part 3 - Functions hurt nobody </span>\n",
    "\n",
    "## Exercise I - I hate math\n",
    "\n",
    "Consider the following equation:\n",
    "\n",
    "\\begin{equation}\n",
    "    y = 6x^2 + 3x + 2\n",
    "\\end{equation}\n",
    "\n",
    "**Q**: write a function (called f) that takes one argument, x, and returns y according to the equation above. <br> Call the function for x = 2 and print the answer."
   ]
  },
  {
   "cell_type": "code",
   "execution_count": 22,
   "metadata": {},
   "outputs": [
    {
     "data": {
      "text/plain": [
       "32"
      ]
     },
     "execution_count": 22,
     "metadata": {},
     "output_type": "execute_result"
    }
   ],
   "source": [
    "def f(x):\n",
    "    return 6*(x**2)+3*x+2\n",
    "f(2)"
   ]
  },
  {
   "cell_type": "markdown",
   "metadata": {},
   "source": [
    "Consider a sequence $x_n$ of numbers, defined as follows:\n",
    "\n",
    "$\n",
    "\\begin{align}\n",
    "    ~~~ ~~~ ~~~ ~~&x_0 = 0; ~~~ ~~~ ~~~ ~~ ~~~ ~~~ ~~~ ~~ ~~~ ~~~ ~~~ ~~ ~~~ ~~~ ~~ ~ \\\\\n",
    "    ~~~ ~~~ ~~~ ~~&x_{n} = x_{n-1} - n; ~~~ \\textit{ if} ~~~ x_{n-1}-n > 0 \\textit{ and not already in the sequence} \\\\\n",
    "    ~~~ ~~~ ~~~ ~~&x_{n} = x_{n-1} + n; ~~~ \\textit{ otherwise}~~~ ~~~ ~~~ ~~ \\\\\n",
    "\\end{align}\n",
    "$\n",
    "\n",
    "**Q**: Write a function that returns the nth digit of the above defined sequence. <br>\n",
    "Note: the above sequence is also known as the Recamán's sequence, and it was invnted by Bernardo Recamán Santos (Bogotá, Colombia)"
   ]
  },
  {
   "cell_type": "code",
   "execution_count": 23,
   "metadata": {},
   "outputs": [
    {
     "name": "stdout",
     "output_type": "stream",
     "text": [
      "21\n"
     ]
    }
   ],
   "source": [
    "def recaman_seq(n):\n",
    "    a = [0] * n\n",
    "    a[0] = 0\n",
    " \n",
    "    for i in range(1, n):\n",
    "        value = a[i-1] - i\n",
    "        for j in range(0, i):\n",
    "            if (a[j] == value or value < 0):\n",
    "                value = a[i-1] + i\n",
    "                break\n",
    "             \n",
    "        a[i] = value\n",
    "    print(a[i])\n",
    "    \n",
    "#check output\n",
    "recaman_seq(10)"
   ]
  },
  {
   "cell_type": "markdown",
   "metadata": {},
   "source": [
    "## Exercise II - Role Playing with Python\n",
    "\n",
    "**Q**: Create a function named randomNr that takes a number (e.g., m) as an argument and returns a random number from 1 to m."
   ]
  },
  {
   "cell_type": "code",
   "execution_count": 24,
   "metadata": {},
   "outputs": [
    {
     "data": {
      "text/plain": [
       "8"
      ]
     },
     "execution_count": 24,
     "metadata": {},
     "output_type": "execute_result"
    }
   ],
   "source": [
    "def randomNr(m):\n",
    "    #random.randint allows to generate a random number between 1 and m\n",
    "    return random.randint(1,m)\n",
    "randomNr(8)"
   ]
  },
  {
   "cell_type": "markdown",
   "metadata": {},
   "source": [
    "**Q**: Create a function named keyReturner that takes a number (n) and a dictionary (s) as arguments and returns n random keys from s."
   ]
  },
  {
   "cell_type": "code",
   "execution_count": 25,
   "metadata": {},
   "outputs": [
    {
     "data": {
      "text/plain": [
       "[['samsung'], ['apple'], ['starlink']]"
      ]
     },
     "execution_count": 25,
     "metadata": {},
     "output_type": "execute_result"
    }
   ],
   "source": [
    "def keyReturner(n,s):\n",
    "    keys = []\n",
    "    keys_return =[]\n",
    "    for i in s:\n",
    "        keys.append(i) #new list with the keys alone\n",
    "\n",
    "    for j in range(n):\n",
    "        keys_return.append(random.choices(keys)) #new list with the n number of random keys\n",
    "    return keys_return\n",
    "        \n",
    "dict_test={\"apple\":\"one\", \"windows\":\"two\", \"samsung\":\"three\", \"tesla\":\"four\", \"starlink\":\"five\"}\n",
    "keyReturner(3,dict_test)"
   ]
  },
  {
   "cell_type": "markdown",
   "metadata": {},
   "source": [
    "**Q**: Create a function named boolGen that takes a number (p) as argument and returns True with probability p, else it returns False.\n",
    "\n",
    "**NOTE:** Your function needs to consider if p is a number from 0 to 1 (and hence is the probability itself) or if p is between 0 to 100 (and hence is in percentage and needs to be changed to a probability). If the value inserted is inferior to 0 or bigger than 100 the function should assume p to be 0.5\n",
    "\n",
    "**To clarify**\n",
    "If p is 0.45 we will have a 45% chance to return True. If p is 55, it needs to be converted to 0.55 (having the same meaning as previously stated: 55% chance of returning true)"
   ]
  },
  {
   "cell_type": "code",
   "execution_count": 26,
   "metadata": {},
   "outputs": [
    {
     "data": {
      "text/plain": [
       "True"
      ]
     },
     "execution_count": 26,
     "metadata": {},
     "output_type": "execute_result"
    }
   ],
   "source": [
    "def boolGen(p):\n",
    "    if p > 0 and p < 1: #if p is betwwen 0 and 1\n",
    "        return random.random() < p #return boolean of the probability of that random beeing less than p\n",
    "    elif p > 0 and p < 100:\n",
    "        p /= 100 #turn percentage to probability\n",
    "        return random.random() < p\n",
    "    else:\n",
    "        p= 0.5\n",
    "        return random.random() < p\n",
    "\n",
    "boolGen(75)"
   ]
  },
  {
   "cell_type": "markdown",
   "metadata": {},
   "source": [
    "**Q**: Create a function named applyDiscount that receives a number (v) and a boolean (b) as arguments. If b is true then the function should apply a discount of 15% to the number, and return it. Otherwise it should return the number as is."
   ]
  },
  {
   "cell_type": "code",
   "execution_count": 27,
   "metadata": {},
   "outputs": [
    {
     "data": {
      "text/plain": [
       "85.0"
      ]
     },
     "execution_count": 27,
     "metadata": {},
     "output_type": "execute_result"
    }
   ],
   "source": [
    "def applyDiscount(v, b):\n",
    "    #check if the second argument is boolean\n",
    "    if isinstance(b, bool):\n",
    "        #apply the discount\n",
    "        if b:\n",
    "            return v*(1-0.15)\n",
    "        else:\n",
    "            return v\n",
    "    else:\n",
    "        return print(\"Second argument needs to be a boolean value!\")\n",
    "\n",
    "applyDiscount(100, True)"
   ]
  },
  {
   "cell_type": "markdown",
   "metadata": {},
   "source": [
    "**Q**: Create a function called customerSim. This function takes as an input two dictionaries (stock and prices). <br>\n",
    "Then it should perform the following steps:\n",
    "1. **Call randomNr** to generate a number between 1 and the maximum number of videogames available in the store's stock (this number will represent the number of videogames that will be purchased);\n",
    "2. **Call keyReturner**, passing the number of videogames that will be purchased obtained from 1. and the stock dictionary, in order to determine what are the codes of the videogames to be purchased;\n",
    "3. **Call applyDiscount** to each value in the customer order and combined with the boolGen, decide whether you apply a discount or not to each item;\n",
    "5. **Print the following message** \"Dear customer, your order of Y items has a total cost of X euros, and a 15% discount was applied to W items.\", replacing X,Y, W with the respective values.\n",
    "6. **Return a tuple** with the number of items ordered, total cost, and the total discount applied.\n",
    "\n",
    "- Run the function customerSim to simulate the orders of 10 clients."
   ]
  },
  {
   "cell_type": "code",
   "execution_count": 28,
   "metadata": {},
   "outputs": [],
   "source": [
    "def customerSim(stock,prices):\n",
    "    num = randomNr(len(stock)) #random number between 1 and the max of videogames available\n",
    "    games = keyReturner(num, stock) #random 'num' games to be purchased\n",
    "\n",
    "    p=0.60\n",
    "    price = 0\n",
    "    count = 0\n",
    "    discount = 0\n",
    "    \n",
    "    for i in games:\n",
    "        value = applyDiscount(prices[i[0]], boolGen(p)) #value is the price to pay for each game applying the function\n",
    "        price += value #sum all the values into the final price to pay \n",
    "        if value != prices[i[0]]:\n",
    "            count +=1 #calculate how many games was applyed the discount\n",
    "            discount += prices[i[0]] - value #calcutale the discounts\n",
    "            \n",
    "            \n",
    "    print('Dear customer, your order of',num,'items has a total cost of',round(price,2),\n",
    "          'euros, and a 15% discount was applied to',round(count,2),'items.')\n",
    "    print((num,round(price,2),round(discount,2)))"
   ]
  },
  {
   "cell_type": "code",
   "execution_count": 29,
   "metadata": {},
   "outputs": [],
   "source": [
    "stock = {\n",
    "    \n",
    "    \"234\":\"God of War\",\n",
    "    \"956\":\"Call of Duty: Modern Warfare 2\",\n",
    "    \"365\":\"Final Fantasy IX\",\n",
    "    \"827\":\"BioShock Infinite\",\n",
    "    \"106\":\"World of Goo\",\n",
    "    \"465\":\"Metal Gear Solid V: The Phantom Pain\",\n",
    "    \"622\":\"Portal 2\",\n",
    "    \"266\":\"The Last of Us\",\n",
    "    \"534\":\"The Legend of Zelda: Majora's Mask\",\n",
    "    \"884\":\"Halo 2\",\n",
    "    \"472\":\"Red Dead Redemption\",\n",
    "    \"123\":\"Grand Theft Auto: San Andreas\"\n",
    "    \n",
    "}\n",
    "\n",
    "prices = {\n",
    "    \n",
    "    \"234\":49.99,\n",
    "    \"956\":35.0,\n",
    "    \"365\":68.99,\n",
    "    \"827\":20.99,\n",
    "    \"106\":2.50,\n",
    "    \"465\":49.99,\n",
    "    \"622\":19.99,\n",
    "    \"266\":19.99,\n",
    "    \"534\":5.99,\n",
    "    \"884\":9.99,\n",
    "    \"472\":19.99,\n",
    "    \"123\":24.99\n",
    "    \n",
    "}"
   ]
  },
  {
   "cell_type": "code",
   "execution_count": 30,
   "metadata": {},
   "outputs": [
    {
     "name": "stdout",
     "output_type": "stream",
     "text": [
      "Dear customer, your order of 2 items has a total cost of 15.08 euros, and a 15% discount was applied to 1 items.\n",
      "(2, 15.08, 0.9)\n",
      "Dear customer, your order of 1 items has a total cost of 16.99 euros, and a 15% discount was applied to 1 items.\n",
      "(1, 16.99, 3.0)\n",
      "Dear customer, your order of 2 items has a total cost of 84.98 euros, and a 15% discount was applied to 2 items.\n",
      "(2, 84.98, 15.0)\n",
      "Dear customer, your order of 3 items has a total cost of 39.11 euros, and a 15% discount was applied to 2 items.\n",
      "(3, 39.11, 3.37)\n",
      "Dear customer, your order of 2 items has a total cost of 26.98 euros, and a 15% discount was applied to 1 items.\n",
      "(2, 26.98, 3.0)\n",
      "Dear customer, your order of 6 items has a total cost of 161.95 euros, and a 15% discount was applied to 4 items.\n",
      "(6, 161.95, 17.99)\n",
      "Dear customer, your order of 6 items has a total cost of 106.59 euros, and a 15% discount was applied to 4 items.\n",
      "(6, 106.59, 10.87)\n",
      "Dear customer, your order of 1 items has a total cost of 5.09 euros, and a 15% discount was applied to 1 items.\n",
      "(1, 5.09, 0.9)\n",
      "Dear customer, your order of 2 items has a total cost of 22.11 euros, and a 15% discount was applied to 1 items.\n",
      "(2, 22.11, 0.38)\n",
      "Dear customer, your order of 12 items has a total cost of 345.15 euros, and a 15% discount was applied to 6 items.\n",
      "(12, 345.15, 30.74)\n"
     ]
    }
   ],
   "source": [
    "#Call your function here :)\n",
    "\n",
    "#admitting that prob = 0.8\n",
    "for i in range(10):\n",
    "    customerSim(stock, prices)"
   ]
  },
  {
   "cell_type": "markdown",
   "metadata": {},
   "source": [
    "## Exercise III - Map and Filter\n",
    "\n",
    "#### You can go to the documentation on: https://book.pythontips.com/en/latest/map_filter.html\n",
    "\n",
    "**Q**: Consider the list A declared below. Use the function map() to change the values in A by adding 1 to each value if it is even and subtracting 1 to it otherwise."
   ]
  },
  {
   "cell_type": "code",
   "execution_count": 31,
   "metadata": {},
   "outputs": [],
   "source": [
    "A = [460,3347,3044,490,699,1258,1804,973,2223,3416,2879,1058,2915,2422,351,1543,1020,208,643,795,3337,2585,471,2623,1077]"
   ]
  },
  {
   "cell_type": "code",
   "execution_count": 32,
   "metadata": {},
   "outputs": [
    {
     "name": "stdout",
     "output_type": "stream",
     "text": [
      "[461, 3346, 3045, 491, 698, 1259, 1805, 972, 2222, 3417, 2878, 1059, 2914, 2423, 350, 1542, 1021, 209, 642, 794, 3336, 2584, 470, 2622, 1076]\n"
     ]
    }
   ],
   "source": [
    "#use map with lambda function\n",
    "A = list(map(lambda x: x+1 if x%2==0 else x-1, A))\n",
    "print(A)"
   ]
  },
  {
   "cell_type": "markdown",
   "metadata": {},
   "source": [
    "**Q:** Create a list B with the same size of A, and where each element is True if the associated value in list A is greater than 700, else is False. <br>\n",
    "Note: You should use the function map()"
   ]
  },
  {
   "cell_type": "code",
   "execution_count": 33,
   "metadata": {},
   "outputs": [
    {
     "name": "stdout",
     "output_type": "stream",
     "text": [
      "[False, True, True, False, False, True, True, True, True, True, True, True, True, True, False, True, True, False, False, True, True, True, False, True, True]\n"
     ]
    }
   ],
   "source": [
    "#use map with lambda function and if-else statement\n",
    "B = list(map(lambda x: True if x>700 else False, A))\n",
    "print(B)"
   ]
  },
  {
   "cell_type": "markdown",
   "metadata": {},
   "source": [
    "**Q**: Create a list L that contains the Logarithm of base 10 of each value in A. <br>\n",
    "Note: You should use the module math to compute the logarithm."
   ]
  },
  {
   "cell_type": "code",
   "execution_count": 34,
   "metadata": {},
   "outputs": [
    {
     "name": "stdout",
     "output_type": "stream",
     "text": [
      "[2.663700925389648, 3.5245259366263757, 3.4835872969688944, 2.6910814921229687, 2.843855422623161, 3.1000257301078626, 3.256477206241677, 2.9876662649262746, 3.346744054604849, 3.5336449787987627, 3.4590907896005865, 3.024895960107485, 3.4644895474339714, 3.384353414137506, 2.5440680443502757, 3.188084373714938, 3.0090257420869104, 2.3201462861110542, 2.807535028068853, 2.8998205024270964, 3.523226041965701, 3.4122925093230463, 2.6720978579357175, 3.4186326873540653, 3.0318122713303706]\n"
     ]
    }
   ],
   "source": [
    "import math\n",
    "#use map with log10\n",
    "print(list(map(lambda x: math.log10(x), A)))"
   ]
  },
  {
   "cell_type": "markdown",
   "metadata": {},
   "source": [
    "**Q**: How many numbers in A are greater than 1000? <br>\n",
    "Note: You should use the function filter()"
   ]
  },
  {
   "cell_type": "code",
   "execution_count": 35,
   "metadata": {},
   "outputs": [
    {
     "name": "stdout",
     "output_type": "stream",
     "text": [
      "There are 16 numbers greater than 1000 in list A.\n"
     ]
    }
   ],
   "source": [
    "greater_than_1000=len(list(filter(lambda x: x>1000, A)))\n",
    "print(\"There are\", greater_than_1000, \"numbers greater than 1000 in list A.\")"
   ]
  },
  {
   "cell_type": "markdown",
   "metadata": {},
   "source": [
    "Congratulations, it is done! <br>\n",
    "**Don't forget, if you have any questions related with the homework assignment leave a post in the Moodle Forum.**"
   ]
  },
  {
   "cell_type": "code",
   "execution_count": null,
   "metadata": {},
   "outputs": [],
   "source": []
  }
 ],
 "metadata": {
  "kernelspec": {
   "display_name": "Python 3",
   "language": "python",
   "name": "python3"
  },
  "language_info": {
   "codemirror_mode": {
    "name": "ipython",
    "version": 3
   },
   "file_extension": ".py",
   "mimetype": "text/x-python",
   "name": "python",
   "nbconvert_exporter": "python",
   "pygments_lexer": "ipython3",
   "version": "3.8.8"
  }
 },
 "nbformat": 4,
 "nbformat_minor": 4
}
