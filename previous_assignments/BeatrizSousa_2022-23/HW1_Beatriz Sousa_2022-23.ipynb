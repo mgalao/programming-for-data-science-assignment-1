{
 "cells": [
  {
   "cell_type": "markdown",
   "metadata": {
    "tags": []
   },
   "source": [
    "# Programming for Data Science 2022\n",
    "## Homework Assigment One\n",
    "\n",
    "Homework activities aim, not only, at testing your ability to put into practice the concepts you have learned during the Lectures and Labs, but also your ability to explore the Python documentation as a resource. \n",
    "\n",
    "Above all, it is an opportunity for you to challenge yourself and practice. If you are having difficulties with the assignment reach out for support.\n",
    "\n",
    "The Homework Assigment One is divided into **three parts**:\n",
    "1. Explore the core building blocks of programming, focusing in variables, data structures, and their manipulation;\n",
    "2. Explore data loading and analysis using the core elements of Python, without fancy third-party libraries;\n",
    "3. Explore functional programming by defining different functions and operating with the map() and filter().\n",
    "\n",
    "Your submission will be graded according to the following guidelines:\n",
    "1. Execution (does your program does what is asked from the exercise?\n",
    "2. Objectivity (are you using the adequate libraries? are you using a library ... );\n",
    "3. Readibility of your code (that includes comments, naming of variables, supporting text, etc ...).\n",
    "\n",
    "This assignment is to be done in groups of two, groups that are caught cheating will obtain a score of 0 points. \\\n",
    "\n",
    "The Homeworking Assignment One is worth **20%** of your final grade.\n",
    "\n",
    "The submission package should correspond to a .zip archive (.rar files are not acceptable) with the following files:\n",
    "1. Jupyter Notebook with the output of all the cells;\n",
    "2. PDF/HTML of your Jupyter Notebook;\n",
    "3. All text or .csv files exported as part of the exercises.\n",
    "\n",
    "#### Important Notes: \n",
    "- **You are ONLY allowed to use any library from the Python STL (see here https://docs.python.org/3/library/).**\n",
    "- **Comment your code properly, which includes naming your variables in a meaningful manner. Badly documented code will be penalized.**</b>\n",
    "- **Submissions in non .zip format will be penalize with 2 points.**\n",
    "\n",
    "Submission is done through the respective Moodle activity.\\\n",
    "Deadline is **2022-10-02**, a Sunday, at 23:59.\\\n",
    "A penality of 1 point per day late will be applied to late deliveries."
   ]
  },
  {
   "cell_type": "markdown",
   "metadata": {},
   "source": [
    "## Group Registration\n",
    "\n",
    "Edit this cell with the information of the authors of this submission.\n",
    "\n",
    "|      |     Student Name                      |     Student ID         | \n",
    "|---   |         ---                           |           ---          |\n",
    "| 1    |      Beatriz Alves de Sousa           |       20220674         | \n",
    "| 2    |      Ana Sofia Vieira Mendonça        |       20220678         | "
   ]
  },
  {
   "cell_type": "markdown",
   "metadata": {},
   "source": [
    "# <span style=\"color:brown\"> Part 1 -  Variable Declaration and Manipulation </span> \n",
    "\n",
    "## Exercise I - of Lists and Random numbers\n",
    "\n",
    "**Q**: Declare a variable X that stores a list of 100 integers randomly sampled between -25 and 25.<br>\n",
    "Note: You are not allowed to use Numpy or Scipy."
   ]
  },
  {
   "cell_type": "code",
   "execution_count": 1,
   "metadata": {},
   "outputs": [],
   "source": [
    "import random"
   ]
  },
  {
   "cell_type": "code",
   "execution_count": 2,
   "metadata": {
    "scrolled": true
   },
   "outputs": [
    {
     "name": "stdout",
     "output_type": "stream",
     "text": [
      "[7, 25, 10, -22, 12, -19, 25, 16, -12, -21, -13, 5, 18, -11, 17, 5, -11, 8, -3, 20, -18, 3, -4, 6, -25, -10, -4, -16, 6, -9, 12, 16, 8, 15, 1, 17, -6, -10, 22, 12, -6, 20, -10, 16, -20, 20, -3, 19, -13, 24, 16, -6, -1, 25, -11, 4, 1, 8, -22, -23, 14, -17, -13, -10, -4, 25, -17, 14, -19, -9, -25, 21, 17, 18, -1, -16, -4, 14, -25, -3, 4, -5, 9, -10, -20, -24, 24, -3, -6, -13, -24, -9, -19, -17, 3, -1, 22, 16, -1, 23]\n"
     ]
    }
   ],
   "source": [
    "X = []\n",
    "for i in range(100):\n",
    "    X.append(random.randint(-25, 25))\n",
    "print(X)"
   ]
  },
  {
   "cell_type": "markdown",
   "metadata": {},
   "source": [
    "**Q**: How many odd numbers are in the list X? Check if the numbers that are even are exactly the same as the number of odd numbers, else discard the list and generate a new one.<br>\n",
    "Extra: Can you automatize this pipeline to avoid having to run multiple cells multiple times by hand?"
   ]
  },
  {
   "cell_type": "code",
   "execution_count": 3,
   "metadata": {},
   "outputs": [
    {
     "name": "stdout",
     "output_type": "stream",
     "text": [
      "The number of odd numbers is 49 and the number of even numbers is 51\n"
     ]
    }
   ],
   "source": [
    "# variables to count the number of odd and even numbers are initialized at 0\n",
    "odd = 0\n",
    "even = 0\n",
    "\n",
    "# python in this way considers 0 an even number\n",
    "# a number is even if the integer division by 2 is zero, and odd otherwise\n",
    "for element in X:\n",
    "    if element % 2 != 0:\n",
    "        odd += 1\n",
    "    else:\n",
    "        even += 1\n",
    "        \n",
    "print(\"The number of odd numbers is\", odd, \"and the number of even numbers is\", even)"
   ]
  },
  {
   "cell_type": "code",
   "execution_count": 4,
   "metadata": {
    "scrolled": false
   },
   "outputs": [
    {
     "name": "stdout",
     "output_type": "stream",
     "text": [
      "The number of odd numbers is different from the number of even numbers.\n",
      "The new list X is [20, -1, -13, -24, -7, -10, -20, 21, 25, 15, -8, 20, -9, -4, 5, -2, -3, 17, 19, 5, 2, -21, -19, -8, 9, -10, -13, -12, -14, -7, 20, 24, 9, -24, 9, 14, -11, -4, -12, 20, 22, 20, -13, 7, -19, 23, -22, 24, 8, -20, 10, 8, -10, -3, 9, 11, -10, -12, -11, -19, -3, -9, 20, 20, 3, 3, -17, 15, 13, 6, -3, 0, -16, -1, 1, 11, 15, -3, -6, -5, -25, 2, -6, 17, 3, 3, -3, -11, 19, -22, -25, -9, -11, 12, 8, -5, 20, 16, 9, -14]\n"
     ]
    }
   ],
   "source": [
    "# if the number of odd numbers is different from the number of even numbers we clear the list X (deleting only the elements inside it, and not the object itself)\n",
    "# and we append new random integers for creating a new list X\n",
    "if odd != even:\n",
    "    print(\"The number of odd numbers is different from the number of even numbers.\")\n",
    "    X.clear()\n",
    "    for i in range(100):\n",
    "        X.append(random.randint(-25, 25))\n",
    "    print(\"The new list X is\", X)\n",
    "else:\n",
    "    print(\"The number of odd numbers is the same as the number of even numbers, therefore the list X stays the same.\")"
   ]
  },
  {
   "cell_type": "code",
   "execution_count": 5,
   "metadata": {},
   "outputs": [],
   "source": [
    "# extra work:\n",
    "# we can build two aux functions and a main function (called even_odd_list) that does all the work as before\n",
    "\n",
    "def is_odd(a):\n",
    "    if (a % 2 != 0):\n",
    "        return True\n",
    "    else:\n",
    "        return False\n",
    "\n",
    "def count_odd_numbers(l):\n",
    "    count = 0\n",
    "    for i in range(len(l)):\n",
    "        if is_odd(l[i]):\n",
    "            count += 1\n",
    "    return count\n",
    "\n",
    "def even_odd_list(l):\n",
    "    print(\"The list has\", count_odd_numbers(l), \"odd numbers.\")\n",
    "    if count_odd_numbers(l) != (len(l) - count_odd_numbers(l)):\n",
    "        print(\"The number of odd numbers is different from the number of even numbers.\")\n",
    "        X.clear()\n",
    "        for i in range(100):\n",
    "            X.append(random.randint(-25, 25))\n",
    "        print(\"The new list X is\", X)\n",
    "    else:\n",
    "        print(\"The number of odd numbers is the same as the number of even numbers, therefore the list X stays the same.\")"
   ]
  },
  {
   "cell_type": "code",
   "execution_count": 6,
   "metadata": {},
   "outputs": [
    {
     "name": "stdout",
     "output_type": "stream",
     "text": [
      "The list has 55 odd numbers.\n",
      "The number of odd numbers is different from the number of even numbers.\n",
      "The new list X is [-4, 5, -12, 4, -24, 21, -1, 24, 19, -17, 12, 17, -1, -6, -5, 16, 19, 3, -4, -7, -18, 11, 14, 15, -3, 21, 17, -17, 12, -4, 24, 18, 19, 21, -19, 15, -3, 6, 14, 23, 14, 19, -23, -6, 22, -3, -9, 18, -25, -1, 10, 3, 5, -12, -24, 24, -15, -7, 23, -8, 14, 22, -17, -15, -10, -4, -13, -25, -2, 19, 14, 15, 24, 3, 20, 2, -18, 8, -2, 21, 15, -4, -17, -10, -22, -21, 0, -9, 14, 14, -1, -20, -11, 12, -16, -3, -4, -3, -22, -17]\n"
     ]
    }
   ],
   "source": [
    "even_odd_list(X)"
   ]
  },
  {
   "cell_type": "markdown",
   "metadata": {},
   "source": [
    "**Q**: Print the number of digits on the 5th and 100th element of the list. <br>\n",
    "Note: For instance, the number 1 contains one digit, the number 10 contains two digits, the number -2 contains one digit."
   ]
  },
  {
   "cell_type": "code",
   "execution_count": 7,
   "metadata": {},
   "outputs": [
    {
     "name": "stdout",
     "output_type": "stream",
     "text": [
      "The 5th element has 2 digits, and the 100th element has 2 digits.\n"
     ]
    }
   ],
   "source": [
    "# we must keep in mind that len(str()) counts the number of characters in a string, so if a number is negative, the negative sign will also be counted as a digit\n",
    "# to overcome this issue we use the absolute value of the number istead of the actual number\n",
    "\n",
    "# first we convert the already positive number to a string, and then we use the len function to calculate the number of characters\n",
    "\n",
    "digits_5th = len(str(abs(X[4])))\n",
    "digits_100th = len(str(abs(X[99])))\n",
    "  \n",
    "print(\"The 5th element has\", digits_5th, \"digits, and the 100th element has\", digits_100th, \"digits.\")"
   ]
  },
  {
   "cell_type": "markdown",
   "metadata": {},
   "source": [
    "**Q:** Is the sum of all the numbers in the list even or odd?"
   ]
  },
  {
   "cell_type": "code",
   "execution_count": 8,
   "metadata": {},
   "outputs": [
    {
     "name": "stdout",
     "output_type": "stream",
     "text": [
      "The sum of all the numbers in the list is 161 which is odd.\n"
     ]
    }
   ],
   "source": [
    "# first we calculate the sum of all the numbers in the list\n",
    "sum_list = 0\n",
    "for element in X:\n",
    "    sum_list += element\n",
    "\n",
    "# the same way we defined before, we check if the sum is even or odd\n",
    "if sum_list % 2 == 0:\n",
    "    print(\"The sum of all the numbers in the list is\", sum_list, \"which is even.\")\n",
    "else:\n",
    "    print(\"The sum of all the numbers in the list is\", sum_list, \"which is odd.\")"
   ]
  },
  {
   "cell_type": "markdown",
   "metadata": {},
   "source": [
    "**Q**: What is the average of all the numbers in the list? What is the standard deviation? <br>"
   ]
  },
  {
   "cell_type": "code",
   "execution_count": 9,
   "metadata": {},
   "outputs": [
    {
     "name": "stdout",
     "output_type": "stream",
     "text": [
      "The average of all the numbers in the list is 1.61 and the standard deviation is 14.797226091399697\n"
     ]
    }
   ],
   "source": [
    "# we already have the sum of the elements in the list, so we just divide the sum by the number of elements in the list given by the len function\n",
    "mean_list = sum_list / len(X)\n",
    "\n",
    "# in order to calculate the standard deviation, first we calculate the denominator part of the formula\n",
    "denominator = 0\n",
    "for element in X:\n",
    "    denominator += (element - mean_list) ** 2\n",
    "    \n",
    "# then we calculate the standard deviation, assuming we are calculating with the population standard deviation formula\n",
    "sd_list = (denominator/len(X))**0.5\n",
    "\n",
    "print(\"The average of all the numbers in the list is\", mean_list, \"and the standard deviation is\", sd_list)"
   ]
  },
  {
   "cell_type": "markdown",
   "metadata": {},
   "source": [
    "**Q**: Sort list X in descending order and store the result in variable Xsort. <br>\n",
    "Then replace each value in Xsort with index i as the sum of the values with index i-1 and i. <br> *Per definition Xsort[-1] = 0.*"
   ]
  },
  {
   "cell_type": "code",
   "execution_count": 10,
   "metadata": {
    "scrolled": true
   },
   "outputs": [
    {
     "name": "stdout",
     "output_type": "stream",
     "text": [
      "The new Xsort list is given by [24, 48, 48, 48, 47, 46, 45, 44, 43, 42, 42, 42, 41, 39, 38, 38, 38, 38, 37, 36, 35, 34, 33, 31, 30, 30, 30, 29, 28, 28, 28, 28, 28, 28, 26, 24, 24, 23, 21, 18, 14, 11, 10, 9, 7, 6, 6, 5, 2, -1, -2, -2, -2, -3, -4, -5, -6, -6, -6, -6, -7, -8, -8, -8, -8, -8, -9, -11, -12, -13, -14, -15, -17, -18, -19, -20, -21, -23, -24, -25, -28, -30, -31, -33, -34, -34, -34, -34, -35, -36, -37, -39, -41, -43, -44, -45, -47, -48, -49, -50]\n"
     ]
    }
   ],
   "source": [
    "# using the function sorted, with reverse = True (to sort in a descending order) we create a variable called Xsort\n",
    "Xsort = sorted(X, reverse = True)\n",
    "\n",
    "# then we store the values that will replace the initial variable (the sums of value with the current index and the previous one) in another variable called Xnew\n",
    "Xnew = []\n",
    "Xnew.append(Xsort[0])       # the first element will be equal, since we will sum 0 from the index Xsort[-1] = 0\n",
    "for i in range(1, len(X)):\n",
    "    Xnew.append(Xsort[i-1] + Xsort[i])\n",
    "    \n",
    "# finally we update the variable Xsort\n",
    "Xsort = Xnew\n",
    "print(\"The new Xsort list is given by\", Xsort)"
   ]
  },
  {
   "cell_type": "markdown",
   "metadata": {},
   "source": [
    "## Exercise II - We have a gamer in the room\n",
    "\n",
    "**Q**: Consider the dictionaries  *purchases* and *clients* that are declared in the cells below. <br>\n",
    "1. Create a list with the names of the clients who bought more than one videogame. \n",
    "2. Print the List. <br>\n",
    "3. What is the name of the client that bought more videogames?\n",
    "\n",
    "TIP: You will want to check the methods associated with string manipulation. See the link: <br>\n",
    "https://python-reference.readthedocs.io/en/latest/docs/unicode/index.html"
   ]
  },
  {
   "cell_type": "code",
   "execution_count": 11,
   "metadata": {},
   "outputs": [],
   "source": [
    "# (Notice There are different games associated to each key)\n",
    "\n",
    "purchases = {\n",
    "    \n",
    "    \"1539\":\"Red dead redemption II\",\n",
    "    \"9843\":\"GTA V,FarCry 5\",\n",
    "    \"8472\":\"Canis Canem Edit\",\n",
    "    \"3874\":\"Watchdogs II,South Park: The Stick of Truth\",\n",
    "    \"5783\":\"AC: The Ezio Collection\",\n",
    "    \"9823\":\"For Honor,The Forest,South Park: The Fractured but whole\"\n",
    "    \n",
    "}"
   ]
  },
  {
   "cell_type": "code",
   "execution_count": 12,
   "metadata": {},
   "outputs": [],
   "source": [
    "clients = {\n",
    "    \n",
    "    \"1539\":\"Rick Sanchez\",\n",
    "    \"9843\":\"Morty Smith\",\n",
    "    \"8472\":\"Eve Polastri\",\n",
    "    \"3874\":\"Mildred Ratched\",\n",
    "    \"5783\":\"Alex Vause\",\n",
    "    \"9823\":\"Sheldon Cooper\"\n",
    "    \n",
    "}"
   ]
  },
  {
   "cell_type": "code",
   "execution_count": 13,
   "metadata": {},
   "outputs": [
    {
     "name": "stdout",
     "output_type": "stream",
     "text": [
      "The names of the clients who bought more than one videogame are ['Morty Smith', 'Mildred Ratched', 'Sheldon Cooper']\n"
     ]
    }
   ],
   "source": [
    "# creating a dictionary (called number_purchases) with the numbers of videogames that each client purchased\n",
    "# we count the number of commas, and if the value has 2 commas, then there are 3 videogames, if the value does not have commas, then there is only 1 videogame\n",
    "number_purchases = {}\n",
    "for key in purchases:\n",
    "    number_purchases.update({key: purchases[key].count(\",\") + 1})\n",
    "\n",
    "# creating a list (called clients_more_than_one) with the names of the clients who bought more than one videogame\n",
    "clients_more_than_one = []\n",
    "for key, value in number_purchases.items():\n",
    "    if value > 1:\n",
    "        clients_more_than_one.append(clients[key])\n",
    "        \n",
    "print(\"The names of the clients who bought more than one videogame are\", clients_more_than_one)"
   ]
  },
  {
   "cell_type": "code",
   "execution_count": 14,
   "metadata": {},
   "outputs": [
    {
     "name": "stdout",
     "output_type": "stream",
     "text": [
      "Sheldon Cooper was the client who bought more videogames\n"
     ]
    }
   ],
   "source": [
    "# getting the key of the client who brought more videogames\n",
    "key_more = max(number_purchases, key = number_purchases.get)\n",
    "\n",
    "# and then getting the name from the clients' dictionary\n",
    "name_more = clients[key_more]\n",
    "\n",
    "print(name_more, \"was the client who bought more videogames\")"
   ]
  },
  {
   "cell_type": "markdown",
   "metadata": {},
   "source": [
    "# <span style=\"color:brown\"> Part 2 -  Data loading and analysis  </span>\n",
    "\n",
    "## Exercise I - Alice what do you have to say?\n",
    "\n",
    "Download the file alice.txt to the filepath (i.e., same folder) where you have your notebook."
   ]
  },
  {
   "cell_type": "markdown",
   "metadata": {},
   "source": [
    "**Q**: Load the Alice text file into a variable called Alice. Use a relative filepath in relation to the location of your notebook. <br>\n",
    "Note: You are not allowed to use third-party libraries like Pandas."
   ]
  },
  {
   "cell_type": "code",
   "execution_count": 15,
   "metadata": {},
   "outputs": [
    {
     "name": "stdout",
     "output_type": "stream",
     "text": [
      "Alice was beginning to get very tired of sitting by her sister on the bank, and of having nothing to do: once or twice she had peeped into the book her sister was reading, but it had no pictures or conversations in it, <<and what is the use of a book>>. thought Alice <<without pictures or conversation?>>.\n"
     ]
    }
   ],
   "source": [
    "with open(\"alice.txt\", \"r\") as txt_file:\n",
    "    Alice = txt_file.read()\n",
    "    print(Alice)\n",
    "txt_file.close()"
   ]
  },
  {
   "cell_type": "markdown",
   "metadata": {},
   "source": [
    "**Q**: Create a list in which each element is a word from the file Alice. Store that list in a variable called wAlice. <br>\n",
    "Note: You will need to do some text parsing here. In particular to **split the sentences into words**. It is also a good practice to **normalize words** so that words \"Hello\" and \"hello\" become identical, by making all letters lower case. <br>\n",
    "Tip: check the following links for a discussion on regular expressions. Also consult the methods available for string manipulation.\n",
    "\n",
    "https://docs.python.org/3/library/re.html\n",
    "\n",
    "https://stackoverflow.com/questions/1276764/stripping-everything-but-alphanumeric-chars-from-a-string-in-python"
   ]
  },
  {
   "cell_type": "code",
   "execution_count": 16,
   "metadata": {},
   "outputs": [],
   "source": [
    "import re\n",
    "import string"
   ]
  },
  {
   "cell_type": "code",
   "execution_count": 17,
   "metadata": {},
   "outputs": [
    {
     "name": "stdout",
     "output_type": "stream",
     "text": [
      "['alice', 'was', 'beginning', 'to', 'get', 'very', 'tired', 'of', 'sitting', 'by', 'her', 'sister', 'on', 'the', 'bank', 'and', 'of', 'having', 'nothing', 'to', 'do', 'once', 'or', 'twice', 'she', 'had', 'peeped', 'into', 'the', 'book', 'her', 'sister', 'was', 'reading', 'but', 'it', 'had', 'no', 'pictures', 'or', 'conversations', 'in', 'it', 'and', 'what', 'is', 'the', 'use', 'of', 'a', 'book', 'thought', 'alice', 'without', 'pictures', 'or', 'conversation']\n"
     ]
    }
   ],
   "source": [
    "# firstly we normalize words, this means that we put all the words with lower case letters. we use the string method lower()\n",
    "wAlice = Alice.lower()\n",
    "\n",
    "# then we use the function sub() of the regular expressions package to replace the punctuation that is present in the text with '', meaning delete it\n",
    "# string.punctuation is a constant that contains ASCII characters which are considered punctuation characters, such as !\"#$%&'()*+,-./:;<=>?@[\\]^_`{|}~\n",
    "# finally we split the string into a list with all the words, with method called split\n",
    "wAlice = re.sub('['+string.punctuation+']', '', wAlice).split()\n",
    "\n",
    "print(wAlice)"
   ]
  },
  {
   "cell_type": "markdown",
   "metadata": {},
   "source": [
    "#### Using the list wAlice answer the following questions:<br>\n",
    "**Q**: How many words contains the text file Alice.txt? <br>"
   ]
  },
  {
   "cell_type": "code",
   "execution_count": 18,
   "metadata": {},
   "outputs": [
    {
     "name": "stdout",
     "output_type": "stream",
     "text": [
      "The text file Alice.txt has 57 words\n"
     ]
    }
   ],
   "source": [
    "# since the list has each element as each word, we just count the number of elements in the list with the len() function\n",
    "number_words = len(wAlice)\n",
    "\n",
    "print(\"The text file Alice.txt has\", number_words, \"words\")"
   ]
  },
  {
   "cell_type": "markdown",
   "metadata": {},
   "source": [
    "**Q**: What is the longest and smallest word in the text file? (Length here is measured in terms of the number of characters)<br>"
   ]
  },
  {
   "cell_type": "code",
   "execution_count": 19,
   "metadata": {},
   "outputs": [
    {
     "name": "stdout",
     "output_type": "stream",
     "text": [
      "The longest word in the text file is ' conversations ' and the smallest is ' a '\n"
     ]
    }
   ],
   "source": [
    "# we use the max and min function with key = len in order to make the comparison being performed based on the return value of the lenght function\n",
    "longest_word = max(wAlice, key = len)\n",
    "smallest_word = min(wAlice, key = len)\n",
    "\n",
    "print(\"The longest word in the text file is '\", longest_word, \"' and the smallest is '\", smallest_word, \"'\")"
   ]
  },
  {
   "cell_type": "markdown",
   "metadata": {},
   "source": [
    "**Q**: Delete all the repeated words from wAlice. How many different words does the text contain?"
   ]
  },
  {
   "cell_type": "code",
   "execution_count": 20,
   "metadata": {},
   "outputs": [
    {
     "name": "stdout",
     "output_type": "stream",
     "text": [
      "The text contain 41 different words\n"
     ]
    }
   ],
   "source": [
    "# since sets do not allow repetition of elements, we transform the list into a set, and then we count the number of (different) elements in the set\n",
    "set_wAlice = set(wAlice)\n",
    "different_words = len(set_wAlice)\n",
    "\n",
    "print(\"The text contain\", different_words, \"different words\")"
   ]
  },
  {
   "cell_type": "markdown",
   "metadata": {},
   "source": [
    "## Exercise II - I Love Economics\n",
    "\n",
    "Consider the list *countries* in the cell below. <br>\n",
    "It consists of a list of the 3-digit ISO codes of a set of countries of interest."
   ]
  },
  {
   "cell_type": "code",
   "execution_count": 2,
   "metadata": {},
   "outputs": [],
   "source": [
    "countries = [\n",
    "\n",
    "('PRT','Portugal','Europe'),\n",
    "('ISL','Israel','Asia'),\n",
    "('COL','Colombia','South America'),\n",
    "('NEV','Nevada','North America'),\n",
    "('JPN','Japan','Asia'),\n",
    "('RUS','Russia','well... which part?'),\n",
    "('DEN','Denmark','Europe'),\n",
    "('NOR','Norway','Europe')\n",
    "    \n",
    "]\n",
    "\n",
    "# in the cdata, israel has the iso code 'isr', denmark has the iso code 'dnk'"
   ]
  },
  {
   "cell_type": "markdown",
   "metadata": {},
   "source": [
    "**Now consider the file cdata.csv that you should download.** <br>\n",
    "The file contains several information about countries, and is organized as follows:\n",
    "1. Column 1 is the 3-digit ISO Code\n",
    "2. Column 2 is the Full name of the country\n",
    "3. Column 3 is the Continent in which the continent\n",
    "4. Column 4 is the population size in 2010\n",
    "5. Column 5 is the gdp per capita in 2010"
   ]
  },
  {
   "cell_type": "code",
   "execution_count": 3,
   "metadata": {},
   "outputs": [],
   "source": [
    "import csv"
   ]
  },
  {
   "cell_type": "code",
   "execution_count": 4,
   "metadata": {
    "scrolled": true
   },
   "outputs": [
    {
     "name": "stdout",
     "output_type": "stream",
     "text": [
      "[['iso', 'countryname', 'continent', 'population(mil)', 'gdp'], ['ago', 'Angola', 'Africa', '23.369131088256836', '5988.534997149481'], ['bdi', 'Burundi', 'Africa', '8.766929626464844', '731.4232803265862'], ['ben', 'Benin', 'Africa', '9.199258804321289', '1919.9969479963038'], ['bfa', 'Burkina Faso', 'Africa', '15.605216979980469', '1327.2165314775982'], ['bwa', 'Botswana', 'Africa', '2.0148661136627197', '12256.14159052444'], ['caf', 'Central African Republic', 'Africa', '4.4485249519348145', '865.4421867263901'], ['cmr', 'Cameroon', 'Africa', '19.970495223999023', '2684.972890247272'], ['cod', 'Democratic Republic of the Congo', 'Africa', '64.52326202392578', '634.9713963013496'], ['cog', 'Republic of the Congo', 'Africa', '4.386693000793457', '4979.990496069269'], ['com', 'Comoros', 'Africa', '0.6896920204162598', '2292.997969425929'], ['cpv', 'Cape Verde', 'Africa', '0.5023840069770813', '5644.821253339075'], ['dji', 'Djibouti', 'Africa', '0.8511459827423096', '2124.4420625972525'], ['dza', 'Algeria', 'Africa', '36.117637634277344', '12590.224223813591'], ['egy', 'Egypt', 'Africa', '84.10760498046875', '9148.839753298033'], ['eth', 'Ethiopia', 'Africa', '87.70266723632812', '1100.1831875876223'], ['gab', 'Gabon', 'Africa', '1.6402100324630737', '11961.168226448879'], ['gha', 'Ghana', 'Africa', '24.512104034423828', '3931.2918319728856'], ['gin', 'Guinea', 'Africa', '10.794170379638672', '1742.7346742167783'], ['gmb', 'Gambia', 'Africa', '1.692149043083191', '2681.8586168502143'], ['gnb', 'Guinea-Bissau', 'Africa', '1.5558799505233765', '1387.2497310879905'], ['gnq', 'Equatorial Guinea', 'Africa', '0.9511039853096008', '31416.887137501908'], ['ken', 'Kenya', 'Africa', '41.35015106201172', '2484.0349094725366'], ['lbr', 'Liberia', 'Africa', '3.948124885559082', '786.6702306741524'], ['lso', 'Lesotho', 'Africa', '2.040550947189331', '2432.7976546880823'], ['mar', 'Morocco', 'Africa', '32.409637451171875', '6421.937677907418'], ['mdg', 'Madagascar', 'Africa', '21.151639938354492', '1459.9156124535612'], ['mli', 'Mali', 'Africa', '15.075084686279297', '1873.2809618195865'], ['moz', 'Mozambique', 'Africa', '24.221405029296875', '969.2307622526259'], ['mrt', 'Mauritania', 'Africa', '3.6095430850982666', '3082.647028528842'], ['mus', 'Mauritius', 'Africa', '1.2479549646377563', '15178.325920597827'], ['mwi', 'Malawi', 'Africa', '15.167095184326172', '972.0456815116237'], ['nam', 'Namibia', 'Africa', '2.1731700897216797', '7689.171239820006'], ['ner', 'Niger', 'Africa', '16.42557716369629', '845.8693682212395'], ['nga', 'Nigeria', 'Africa', '158.57826232910156', '5186.304307542348'], ['rwa', 'Rwanda', 'Africa', '10.246842384338379', '1379.6993252327009'], ['sdn', 'Sudan', 'Africa', '34.385963439941406', '3608.7856176907358'], ['sen', 'Senegal', 'Africa', '12.916229248046875', '2741.121456198507'], ['sle', 'Sierra Leone', 'Africa', '6.4587202072143555', '1161.8796942144647'], ['swz', 'Swaziland', 'Africa', '1.2028429508209229', '7042.524359035093'], ['syc', 'Seychelles', 'Africa', '0.0914049968123436', '17960.353075613308'], ['tcd', 'Chad', 'Africa', '11.887202262878418', '1880.3748762799714'], ['tgo', 'Togo', 'Africa', '6.5029520988464355', '1222.8150529133295'], ['tun', 'Tunisia', 'Africa', '10.639930725097656', '10647.834980284626'], ['tza', 'Tanzania', 'Africa', '44.82893753051758', '1979.1718644815185'], ['uga', 'Uganda', 'Africa', '33.91513442993164', '1723.5943355766267'], ['zaf', 'South Africa', 'Africa', '51.58466339111328', '11388.640515995063'], ['zmb', 'Zambia', 'Africa', '13.850032806396484', '2870.8872656342314'], ['zwe', 'Zimbabwe', 'Africa', '14.08631706237793', '1479.0305839163732'], ['are', 'United Arab Emirates', 'Asia', '8.270684242248535', '59707.412565389604'], ['arm', 'Armenia', 'Asia', '2.8773109912872314', '8222.945234202914'], ['aze', 'Azerbaijan', 'Asia', '9.03245735168457', '12947.102198682365'], ['bgd', 'Bangladesh', 'Asia', '152.14910888671875', '2411.1020691099325'], ['bhr', 'Bahrain', 'Asia', '1.2408620119094849', '37045.81310919623'], ['brn', 'Brunei', 'Asia', '0.3886620104312897', '67320.89957245934'], ['btn', 'Bhutan', 'Asia', '0.7276409864425659', '7235.18974818538'], ['chn', 'China', 'Asia', '1359.755126953125', '9337.290772677254'], ['cyp', 'Cyprus', 'Asia', '0.829446017742157', '28046.373877741087'], ['geo', 'Georgia', 'Asia', '4.231660842895508', '7966.602756952667'], ['hkg', 'Hong Kong', 'Asia', '7.02522087097168', '41687.946418899235'], ['ind', 'India', 'Asia', '1230.980712890625', '4357.0597360582315'], ['irn', 'Iran', 'Asia', '74.56751251220703', '17328.457882894658'], ['irq', 'Iraq', 'Asia', '30.7627010345459', '9344.543768350652'], ['isr', 'Israel', 'Asia', '7.42595911026001', '28638.9037385305'], ['jor', 'Jordan', 'Asia', '7.182390213012695', '9351.387283068141'], ['jpn', 'Japan', 'Asia', '128.5518798828125', '36595.63364058582'], ['kaz', 'Kazakhstan', 'Asia', '16.398975372314453', '17908.83993251286'], ['kgz', 'Kyrgyzstan', 'Asia', '5.422337055206299', '3382.4639059259293'], ['khm', 'Cambodia', 'Asia', '14.30873966217041', '2330.127207632253'], ['kor', 'South Korea', 'Asia', '49.5528564453125', '31589.705161145695'], ['kwt', 'Kuwait', 'Asia', '2.9980831146240234', '67029.51680017101'], ['lao', 'Laos', 'Asia', '6.246273994445801', '4316.969858587265'], ['lbn', 'Lebanon', 'Asia', '4.337141036987305', '18025.24893894264'], ['lka', 'Sri Lanka', 'Asia', '20.198352813720703', '8390.429701766443'], ['mac', 'Macau', 'Asia', '0.536969006061554', '91982.39517540816'], ['mdv', 'Maldives', 'Asia', '0.36451101303100586', '12140.803390739566'], ['mmr', 'Burma', 'Asia', '50.1558952331543', '3422.241340266976'], ['mng', 'Mongolia', 'Asia', '2.7126500606536865', '7670.714034382584'], ['mys', 'Malaysia', 'Asia', '28.112289428710938', '17913.164410782432'], ['npl', 'Nepal', 'Asia', '27.023136138916016', '1996.1961554516242'], ['omn', 'Oman', 'Asia', '3.0414600372314453', '40472.674942509126'], ['pak', 'Pakistan', 'Asia', '170.5601806640625', '4171.416562353057'], ['phl', 'Philippines', 'Asia', '93.72662353515625', '5391.233965240031'], ['qat', 'Qatar', 'Asia', '1.7796759605407715', '123128.40152283433'], ['sau', 'Saudi Arabia', 'Asia', '27.425676345825195', '42331.65885721999'], ['sgp', 'Singapore', 'Asia', '5.074252128601074', '58618.43503468222'], ['syr', 'Syria', 'Asia', '21.01883316040039', '5700.329438992399'], ['tha', 'Thailand', 'Asia', '67.20880889892578', '12496.244186726299'], ['tjk', 'Tajikistan', 'Asia', '7.641630172729492', '2784.5145587763627'], ['tkm', 'Turkmenistan', 'Asia', '5.087210178375244', '16061.429412691556'], ['tur', 'Turkey', 'Asia', '72.32691192626953', '17930.678781392427'], ['twn', 'Taiwan', 'Asia', '23.140947341918945', '37188.89452901009'], ['uzb', 'Uzbekistan', 'Asia', '28.606294631958008', '6574.51672506692'], ['vnm', 'Vietnam', 'Asia', '88.4725112915039', '4428.42140209062'], ['yem', 'Yemen', 'Asia', '23.606779098510742', '4553.557258443674'], ['alb', 'Albania', 'Europe', '2.9405250549316406', '9544.73991912729'], ['aut', 'Austria', 'Europe', '8.40994930267334', '40489.80635849457'], ['bel', 'Belgium', 'Europe', '10.938738822937012', '38177.94724875522'], ['bgr', 'Bulgaria', 'Europe', '7.404590129852295', '14906.784964031736'], ['bih', 'Bosnia and Herzegovina', 'Europe', '3.7220840454101562', '9049.364732987471'], ['blr', 'Belarus', 'Europe', '9.473071098327637', '16457.02937904922'], ['che', 'Switzerland', 'Europe', '7.831971168518066', '55688.020214268225'], ['cze', 'Czech Republic', 'Europe', '10.536286354064941', '26129.56935189834'], ['deu', 'Germany', 'Europe', '80.89478302001953', '40627.23054942445'], ['dnk', 'Denmark', 'Europe', '5.554843902587891', '43416.22338615916'], ['esp', 'Spain', 'Europe', '46.788631439208984', '31610.980157042286'], ['est', 'Estonia', 'Europe', '1.3321019411087036', '20265.572596704937'], ['fin', 'Finland', 'Europe', '5.365781784057617', '38394.06158150017'], ['fra', 'France', 'Europe', '65.14578247070312', '35786.16161450548'], ['gbr', 'United Kingdom', 'Europe', '63.30684280395508', '34810.28120173958'], ['grc', 'Greece', 'Europe', '11.446004867553711', '25815.80076797162'], ['hrv', 'Croatia', 'Europe', '4.328153133392334', '19305.008088868373'], ['hun', 'Hungary', 'Europe', '9.927840232849121', '20477.79856764035'], ['irl', 'Ireland', 'Europe', '4.626927852630615', '47823.50815113634'], ['isl', 'Iceland', 'Europe', '0.3203279972076416', '37729.01607603124'], ['ita', 'Italy', 'Europe', '59.72980880737305', '34727.67268834705'], ['ltu', 'Lithuania', 'Europe', '3.123802900314331', '18475.371145517096'], ['lux', 'Luxembourg', 'Europe', '0.5078889727592468', '57882.81020537233'], ['lva', 'Latvia', 'Europe', '2.1188480854034424', '16943.688322829523'], ['mda', 'Moldova', 'Europe', '4.0844807624816895', '4173.634753274572'], ['mkd', 'Macedonia', 'Europe', '2.0707390308380127', '11265.643175619889'], ['mlt', 'Malta', 'Europe', '0.41611000895500183', '22983.44992639125'], ['mne', 'Montenegro', 'Europe', '0.6242849826812744', '14960.94855221103'], ['nld', 'Netherlands', 'Europe', '16.68291664123535', '44004.146024770846'], ['nor', 'Norway', 'Europe', '4.885878086090088', '73262.68174170727'], ['pol', 'Poland', 'Europe', '38.323402404785156', '21006.027309294514'], ['prt', 'Portugal', 'Europe', '10.652320861816406', '25788.2739652247'], ['rou', 'Romania', 'Europe', '20.44034767150879', '16775.609043478133'], ['rus', 'Russia', 'Asia', '143.15386962890625', '21754.067899615977'], ['srb', 'Serbia', 'Europe', '7.291436195373535', '12453.482551916944'], ['svk', 'Slovakia', 'Europe', '5.404294013977051', '23061.12099058148'], ['svn', 'Slovenia', 'Europe', '2.045167922973633', '25831.33128718208'], ['swe', 'Sweden', 'Europe', '9.390168190002441', '40421.906436576974'], ['ukr', 'Ukraine', 'Europe', '45.79249954223633', '8713.259627419637'], ['abw', 'Aruba', 'NorthAmerica', '0.10166899859905243', '37059.34143869512'], ['aia', 'Anguilla', 'NorthAmerica', '0.013768999837338924', '21098.057152999143'], ['atg', 'Antigua and Barbuda', 'NorthAmerica', '0.09466099739074707', '17162.16102781353'], ['bhs', 'Bahamas', 'NorthAmerica', '0.36083200573921204', '29504.581346144332'], ['blz', 'Belize', 'NorthAmerica', '0.3216080069541931', '7145.952547655193'], ['bmu', 'Bermuda', 'NorthAmerica', '0.06395599991083145', '51447.147481910884'], ['brb', 'Barbados', 'NorthAmerica', '0.27956900000572205', '13995.612896540895'], ['can', 'Canada', 'NorthAmerica', '34.16866683959961', '40269.03526728651'], ['cri', 'Costa Rica', 'NorthAmerica', '4.5452799797058105', '12106.99191566891'], ['cuw', 'CuraÃ§ao', 'NorthAmerica', '0.14760799705982208', '24337.816177887613'], ['cym', 'Cayman Islands', 'NorthAmerica', '0.05550700053572655', '36670.678481483985'], ['dma', 'Dominica', 'NorthAmerica', '0.07143999636173248', '9101.993729581038'], ['dom', 'Dominican Republic', 'NorthAmerica', '9.897985458374023', '11500.13134401987'], ['grd', 'Grenada', 'NorthAmerica', '0.1046769991517067', '9791.291133092265'], ['gtm', 'Guatemala', 'NorthAmerica', '14.630416870117188', '6359.262684615136'], ['hnd', 'Honduras', 'NorthAmerica', '8.194778442382812', '3789.9102248753848'], ['hti', 'Haiti', 'NorthAmerica', '9.999616622924805', '1650.2697128700804'], ['jam', 'Jamaica', 'NorthAmerica', '2.8172099590301514', '6675.176956450172'], ['kna', 'Saint Kitts and Nevis', 'NorthAmerica', '0.05144499987363815', '17837.349758162076'], ['lca', 'Saint Lucia', 'NorthAmerica', '0.17258000373840332', '9178.266990673521'], ['mex', 'Mexico', 'NorthAmerica', '117.31893920898438', '14507.011923865603'], ['msr', 'Montserrat', 'NorthAmerica', '0.00494399992749095', '15385.002991478228'], ['nic', 'Nicaragua', 'NorthAmerica', '5.737722873687744', '3992.7619078961748'], ['pan', 'Panama', 'NorthAmerica', '3.6432220935821533', '15055.237591848218'], ['slv', 'El Salvador', 'NorthAmerica', '6.164626121520996', '6096.958357099287'], ['tca', 'Turks and Caicos Islands', 'NorthAmerica', '0.030993999913334846', '7230.966074605446'], ['tto', 'Trinidad and Tobago', 'NorthAmerica', '1.3280999660491943', '27510.236190041924'], ['usa', 'United States', 'NorthAmerica', '308.6413879394531', '49500.62628346238'], ['vct', 'Saint Vincent and the Grenadines', 'NorthAmerica', '0.10931500047445297', '8095.21923068351'], ['vgb', 'British Virgin Islands', 'NorthAmerica', '0.027224000543355942', '21183.279165646647'], ['aus', 'Australia', 'Oceania', '22.12006378173828', '44854.90004866657'], ['fji', 'Fiji', 'Oceania', '0.8599500060081482', '6902.0687720944225'], ['nzl', 'New Zealand', 'Oceania', '4.370061874389648', '30867.05437525178'], ['arg', 'Argentina', 'SouthAmerica', '41.2238883972168', '15841.658208158999'], ['bol', 'Bolivia', 'SouthAmerica', '9.918242454528809', '4806.608983377068'], ['bra', 'Brazil', 'SouthAmerica', '196.7962646484375', '13541.462561602328'], ['chl', 'Chile', 'SouthAmerica', '16.99335479736328', '18092.94007371081']]\n"
     ]
    }
   ],
   "source": [
    "#Download the file cdata.csv in this cell.\n",
    "RAW = []\n",
    "with open('cdata.csv', 'r') as csv_file:\n",
    "    reader = csv.reader(csv_file, delimiter=',')\n",
    "    for row in reader:\n",
    "        RAW.append(row)\n",
    "csv_file.close()\n",
    "\n",
    "# we have a list of lists with the data\n",
    "print(RAW)"
   ]
  },
  {
   "cell_type": "markdown",
   "metadata": {},
   "source": [
    "**Q**: Load the file cdata.csv into an object called RAW. <br> Create a dictionary called cData in which the key is the 3-digit ISO Code and the value is a tuple with the information contained in the 2nd to the 5th of column of the cdata file."
   ]
  },
  {
   "cell_type": "code",
   "execution_count": 5,
   "metadata": {
    "scrolled": true
   },
   "outputs": [
    {
     "name": "stdout",
     "output_type": "stream",
     "text": [
      "{'ago': ('Angola', 'Africa', '23.369131088256836', '5988.534997149481'), 'bdi': ('Burundi', 'Africa', '8.766929626464844', '731.4232803265862'), 'ben': ('Benin', 'Africa', '9.199258804321289', '1919.9969479963038'), 'bfa': ('Burkina Faso', 'Africa', '15.605216979980469', '1327.2165314775982'), 'bwa': ('Botswana', 'Africa', '2.0148661136627197', '12256.14159052444'), 'caf': ('Central African Republic', 'Africa', '4.4485249519348145', '865.4421867263901'), 'cmr': ('Cameroon', 'Africa', '19.970495223999023', '2684.972890247272'), 'cod': ('Democratic Republic of the Congo', 'Africa', '64.52326202392578', '634.9713963013496'), 'cog': ('Republic of the Congo', 'Africa', '4.386693000793457', '4979.990496069269'), 'com': ('Comoros', 'Africa', '0.6896920204162598', '2292.997969425929'), 'cpv': ('Cape Verde', 'Africa', '0.5023840069770813', '5644.821253339075'), 'dji': ('Djibouti', 'Africa', '0.8511459827423096', '2124.4420625972525'), 'dza': ('Algeria', 'Africa', '36.117637634277344', '12590.224223813591'), 'egy': ('Egypt', 'Africa', '84.10760498046875', '9148.839753298033'), 'eth': ('Ethiopia', 'Africa', '87.70266723632812', '1100.1831875876223'), 'gab': ('Gabon', 'Africa', '1.6402100324630737', '11961.168226448879'), 'gha': ('Ghana', 'Africa', '24.512104034423828', '3931.2918319728856'), 'gin': ('Guinea', 'Africa', '10.794170379638672', '1742.7346742167783'), 'gmb': ('Gambia', 'Africa', '1.692149043083191', '2681.8586168502143'), 'gnb': ('Guinea-Bissau', 'Africa', '1.5558799505233765', '1387.2497310879905'), 'gnq': ('Equatorial Guinea', 'Africa', '0.9511039853096008', '31416.887137501908'), 'ken': ('Kenya', 'Africa', '41.35015106201172', '2484.0349094725366'), 'lbr': ('Liberia', 'Africa', '3.948124885559082', '786.6702306741524'), 'lso': ('Lesotho', 'Africa', '2.040550947189331', '2432.7976546880823'), 'mar': ('Morocco', 'Africa', '32.409637451171875', '6421.937677907418'), 'mdg': ('Madagascar', 'Africa', '21.151639938354492', '1459.9156124535612'), 'mli': ('Mali', 'Africa', '15.075084686279297', '1873.2809618195865'), 'moz': ('Mozambique', 'Africa', '24.221405029296875', '969.2307622526259'), 'mrt': ('Mauritania', 'Africa', '3.6095430850982666', '3082.647028528842'), 'mus': ('Mauritius', 'Africa', '1.2479549646377563', '15178.325920597827'), 'mwi': ('Malawi', 'Africa', '15.167095184326172', '972.0456815116237'), 'nam': ('Namibia', 'Africa', '2.1731700897216797', '7689.171239820006'), 'ner': ('Niger', 'Africa', '16.42557716369629', '845.8693682212395'), 'nga': ('Nigeria', 'Africa', '158.57826232910156', '5186.304307542348'), 'rwa': ('Rwanda', 'Africa', '10.246842384338379', '1379.6993252327009'), 'sdn': ('Sudan', 'Africa', '34.385963439941406', '3608.7856176907358'), 'sen': ('Senegal', 'Africa', '12.916229248046875', '2741.121456198507'), 'sle': ('Sierra Leone', 'Africa', '6.4587202072143555', '1161.8796942144647'), 'swz': ('Swaziland', 'Africa', '1.2028429508209229', '7042.524359035093'), 'syc': ('Seychelles', 'Africa', '0.0914049968123436', '17960.353075613308'), 'tcd': ('Chad', 'Africa', '11.887202262878418', '1880.3748762799714'), 'tgo': ('Togo', 'Africa', '6.5029520988464355', '1222.8150529133295'), 'tun': ('Tunisia', 'Africa', '10.639930725097656', '10647.834980284626'), 'tza': ('Tanzania', 'Africa', '44.82893753051758', '1979.1718644815185'), 'uga': ('Uganda', 'Africa', '33.91513442993164', '1723.5943355766267'), 'zaf': ('South Africa', 'Africa', '51.58466339111328', '11388.640515995063'), 'zmb': ('Zambia', 'Africa', '13.850032806396484', '2870.8872656342314'), 'zwe': ('Zimbabwe', 'Africa', '14.08631706237793', '1479.0305839163732'), 'are': ('United Arab Emirates', 'Asia', '8.270684242248535', '59707.412565389604'), 'arm': ('Armenia', 'Asia', '2.8773109912872314', '8222.945234202914'), 'aze': ('Azerbaijan', 'Asia', '9.03245735168457', '12947.102198682365'), 'bgd': ('Bangladesh', 'Asia', '152.14910888671875', '2411.1020691099325'), 'bhr': ('Bahrain', 'Asia', '1.2408620119094849', '37045.81310919623'), 'brn': ('Brunei', 'Asia', '0.3886620104312897', '67320.89957245934'), 'btn': ('Bhutan', 'Asia', '0.7276409864425659', '7235.18974818538'), 'chn': ('China', 'Asia', '1359.755126953125', '9337.290772677254'), 'cyp': ('Cyprus', 'Asia', '0.829446017742157', '28046.373877741087'), 'geo': ('Georgia', 'Asia', '4.231660842895508', '7966.602756952667'), 'hkg': ('Hong Kong', 'Asia', '7.02522087097168', '41687.946418899235'), 'ind': ('India', 'Asia', '1230.980712890625', '4357.0597360582315'), 'irn': ('Iran', 'Asia', '74.56751251220703', '17328.457882894658'), 'irq': ('Iraq', 'Asia', '30.7627010345459', '9344.543768350652'), 'isr': ('Israel', 'Asia', '7.42595911026001', '28638.9037385305'), 'jor': ('Jordan', 'Asia', '7.182390213012695', '9351.387283068141'), 'jpn': ('Japan', 'Asia', '128.5518798828125', '36595.63364058582'), 'kaz': ('Kazakhstan', 'Asia', '16.398975372314453', '17908.83993251286'), 'kgz': ('Kyrgyzstan', 'Asia', '5.422337055206299', '3382.4639059259293'), 'khm': ('Cambodia', 'Asia', '14.30873966217041', '2330.127207632253'), 'kor': ('South Korea', 'Asia', '49.5528564453125', '31589.705161145695'), 'kwt': ('Kuwait', 'Asia', '2.9980831146240234', '67029.51680017101'), 'lao': ('Laos', 'Asia', '6.246273994445801', '4316.969858587265'), 'lbn': ('Lebanon', 'Asia', '4.337141036987305', '18025.24893894264'), 'lka': ('Sri Lanka', 'Asia', '20.198352813720703', '8390.429701766443'), 'mac': ('Macau', 'Asia', '0.536969006061554', '91982.39517540816'), 'mdv': ('Maldives', 'Asia', '0.36451101303100586', '12140.803390739566'), 'mmr': ('Burma', 'Asia', '50.1558952331543', '3422.241340266976'), 'mng': ('Mongolia', 'Asia', '2.7126500606536865', '7670.714034382584'), 'mys': ('Malaysia', 'Asia', '28.112289428710938', '17913.164410782432'), 'npl': ('Nepal', 'Asia', '27.023136138916016', '1996.1961554516242'), 'omn': ('Oman', 'Asia', '3.0414600372314453', '40472.674942509126'), 'pak': ('Pakistan', 'Asia', '170.5601806640625', '4171.416562353057'), 'phl': ('Philippines', 'Asia', '93.72662353515625', '5391.233965240031'), 'qat': ('Qatar', 'Asia', '1.7796759605407715', '123128.40152283433'), 'sau': ('Saudi Arabia', 'Asia', '27.425676345825195', '42331.65885721999'), 'sgp': ('Singapore', 'Asia', '5.074252128601074', '58618.43503468222'), 'syr': ('Syria', 'Asia', '21.01883316040039', '5700.329438992399'), 'tha': ('Thailand', 'Asia', '67.20880889892578', '12496.244186726299'), 'tjk': ('Tajikistan', 'Asia', '7.641630172729492', '2784.5145587763627'), 'tkm': ('Turkmenistan', 'Asia', '5.087210178375244', '16061.429412691556'), 'tur': ('Turkey', 'Asia', '72.32691192626953', '17930.678781392427'), 'twn': ('Taiwan', 'Asia', '23.140947341918945', '37188.89452901009'), 'uzb': ('Uzbekistan', 'Asia', '28.606294631958008', '6574.51672506692'), 'vnm': ('Vietnam', 'Asia', '88.4725112915039', '4428.42140209062'), 'yem': ('Yemen', 'Asia', '23.606779098510742', '4553.557258443674'), 'alb': ('Albania', 'Europe', '2.9405250549316406', '9544.73991912729'), 'aut': ('Austria', 'Europe', '8.40994930267334', '40489.80635849457'), 'bel': ('Belgium', 'Europe', '10.938738822937012', '38177.94724875522'), 'bgr': ('Bulgaria', 'Europe', '7.404590129852295', '14906.784964031736'), 'bih': ('Bosnia and Herzegovina', 'Europe', '3.7220840454101562', '9049.364732987471'), 'blr': ('Belarus', 'Europe', '9.473071098327637', '16457.02937904922'), 'che': ('Switzerland', 'Europe', '7.831971168518066', '55688.020214268225'), 'cze': ('Czech Republic', 'Europe', '10.536286354064941', '26129.56935189834'), 'deu': ('Germany', 'Europe', '80.89478302001953', '40627.23054942445'), 'dnk': ('Denmark', 'Europe', '5.554843902587891', '43416.22338615916'), 'esp': ('Spain', 'Europe', '46.788631439208984', '31610.980157042286'), 'est': ('Estonia', 'Europe', '1.3321019411087036', '20265.572596704937'), 'fin': ('Finland', 'Europe', '5.365781784057617', '38394.06158150017'), 'fra': ('France', 'Europe', '65.14578247070312', '35786.16161450548'), 'gbr': ('United Kingdom', 'Europe', '63.30684280395508', '34810.28120173958'), 'grc': ('Greece', 'Europe', '11.446004867553711', '25815.80076797162'), 'hrv': ('Croatia', 'Europe', '4.328153133392334', '19305.008088868373'), 'hun': ('Hungary', 'Europe', '9.927840232849121', '20477.79856764035'), 'irl': ('Ireland', 'Europe', '4.626927852630615', '47823.50815113634'), 'isl': ('Iceland', 'Europe', '0.3203279972076416', '37729.01607603124'), 'ita': ('Italy', 'Europe', '59.72980880737305', '34727.67268834705'), 'ltu': ('Lithuania', 'Europe', '3.123802900314331', '18475.371145517096'), 'lux': ('Luxembourg', 'Europe', '0.5078889727592468', '57882.81020537233'), 'lva': ('Latvia', 'Europe', '2.1188480854034424', '16943.688322829523'), 'mda': ('Moldova', 'Europe', '4.0844807624816895', '4173.634753274572'), 'mkd': ('Macedonia', 'Europe', '2.0707390308380127', '11265.643175619889'), 'mlt': ('Malta', 'Europe', '0.41611000895500183', '22983.44992639125'), 'mne': ('Montenegro', 'Europe', '0.6242849826812744', '14960.94855221103'), 'nld': ('Netherlands', 'Europe', '16.68291664123535', '44004.146024770846'), 'nor': ('Norway', 'Europe', '4.885878086090088', '73262.68174170727'), 'pol': ('Poland', 'Europe', '38.323402404785156', '21006.027309294514'), 'prt': ('Portugal', 'Europe', '10.652320861816406', '25788.2739652247'), 'rou': ('Romania', 'Europe', '20.44034767150879', '16775.609043478133'), 'rus': ('Russia', 'Asia', '143.15386962890625', '21754.067899615977'), 'srb': ('Serbia', 'Europe', '7.291436195373535', '12453.482551916944'), 'svk': ('Slovakia', 'Europe', '5.404294013977051', '23061.12099058148'), 'svn': ('Slovenia', 'Europe', '2.045167922973633', '25831.33128718208'), 'swe': ('Sweden', 'Europe', '9.390168190002441', '40421.906436576974'), 'ukr': ('Ukraine', 'Europe', '45.79249954223633', '8713.259627419637'), 'abw': ('Aruba', 'NorthAmerica', '0.10166899859905243', '37059.34143869512'), 'aia': ('Anguilla', 'NorthAmerica', '0.013768999837338924', '21098.057152999143'), 'atg': ('Antigua and Barbuda', 'NorthAmerica', '0.09466099739074707', '17162.16102781353'), 'bhs': ('Bahamas', 'NorthAmerica', '0.36083200573921204', '29504.581346144332'), 'blz': ('Belize', 'NorthAmerica', '0.3216080069541931', '7145.952547655193'), 'bmu': ('Bermuda', 'NorthAmerica', '0.06395599991083145', '51447.147481910884'), 'brb': ('Barbados', 'NorthAmerica', '0.27956900000572205', '13995.612896540895'), 'can': ('Canada', 'NorthAmerica', '34.16866683959961', '40269.03526728651'), 'cri': ('Costa Rica', 'NorthAmerica', '4.5452799797058105', '12106.99191566891'), 'cuw': ('CuraÃ§ao', 'NorthAmerica', '0.14760799705982208', '24337.816177887613'), 'cym': ('Cayman Islands', 'NorthAmerica', '0.05550700053572655', '36670.678481483985'), 'dma': ('Dominica', 'NorthAmerica', '0.07143999636173248', '9101.993729581038'), 'dom': ('Dominican Republic', 'NorthAmerica', '9.897985458374023', '11500.13134401987'), 'grd': ('Grenada', 'NorthAmerica', '0.1046769991517067', '9791.291133092265'), 'gtm': ('Guatemala', 'NorthAmerica', '14.630416870117188', '6359.262684615136'), 'hnd': ('Honduras', 'NorthAmerica', '8.194778442382812', '3789.9102248753848'), 'hti': ('Haiti', 'NorthAmerica', '9.999616622924805', '1650.2697128700804'), 'jam': ('Jamaica', 'NorthAmerica', '2.8172099590301514', '6675.176956450172'), 'kna': ('Saint Kitts and Nevis', 'NorthAmerica', '0.05144499987363815', '17837.349758162076'), 'lca': ('Saint Lucia', 'NorthAmerica', '0.17258000373840332', '9178.266990673521'), 'mex': ('Mexico', 'NorthAmerica', '117.31893920898438', '14507.011923865603'), 'msr': ('Montserrat', 'NorthAmerica', '0.00494399992749095', '15385.002991478228'), 'nic': ('Nicaragua', 'NorthAmerica', '5.737722873687744', '3992.7619078961748'), 'pan': ('Panama', 'NorthAmerica', '3.6432220935821533', '15055.237591848218'), 'slv': ('El Salvador', 'NorthAmerica', '6.164626121520996', '6096.958357099287'), 'tca': ('Turks and Caicos Islands', 'NorthAmerica', '0.030993999913334846', '7230.966074605446'), 'tto': ('Trinidad and Tobago', 'NorthAmerica', '1.3280999660491943', '27510.236190041924'), 'usa': ('United States', 'NorthAmerica', '308.6413879394531', '49500.62628346238'), 'vct': ('Saint Vincent and the Grenadines', 'NorthAmerica', '0.10931500047445297', '8095.21923068351'), 'vgb': ('British Virgin Islands', 'NorthAmerica', '0.027224000543355942', '21183.279165646647'), 'aus': ('Australia', 'Oceania', '22.12006378173828', '44854.90004866657'), 'fji': ('Fiji', 'Oceania', '0.8599500060081482', '6902.0687720944225'), 'nzl': ('New Zealand', 'Oceania', '4.370061874389648', '30867.05437525178'), 'arg': ('Argentina', 'SouthAmerica', '41.2238883972168', '15841.658208158999'), 'bol': ('Bolivia', 'SouthAmerica', '9.918242454528809', '4806.608983377068'), 'bra': ('Brazil', 'SouthAmerica', '196.7962646484375', '13541.462561602328'), 'chl': ('Chile', 'SouthAmerica', '16.99335479736328', '18092.94007371081')}\n"
     ]
    }
   ],
   "source": [
    "# we create the dictionary. the key is the ISO code and the values are a tuple with the columns from the RAW dataset\n",
    "cData = {}\n",
    "for i in range(1, len(RAW)):\n",
    "    cData.update({RAW[i][0]: tuple(RAW[i][1:5])})\n",
    "print(cData)"
   ]
  },
  {
   "cell_type": "markdown",
   "metadata": {},
   "source": [
    "**Q**: Using cData, identify what is the most common Continent among the Nations in the list countries."
   ]
  },
  {
   "cell_type": "code",
   "execution_count": 6,
   "metadata": {},
   "outputs": [],
   "source": [
    "# SOLVING THE PROBLEMS WITH THE COUNTRIES LIST"
   ]
  },
  {
   "cell_type": "code",
   "execution_count": 7,
   "metadata": {
    "scrolled": false
   },
   "outputs": [
    {
     "name": "stdout",
     "output_type": "stream",
     "text": [
      "[['prt', 'Portugal', 'Europe'], ['isr', 'Israel', 'Asia'], ['col', 'Colombia', 'South America'], ['nev', 'Nevada', 'North America'], ['jpn', 'Japan', 'Asia'], ['rus', 'Russia', 'Asia'], ['dnk', 'Denmark', 'Europe'], ['nor', 'Norway', 'Europe']]\n"
     ]
    }
   ],
   "source": [
    "# since we have some inconsistencies in the ISO codes we want to be able to change the codes in the countries' list in order to match to the cData\n",
    "# so we change the type of the tuples in the countries' list to lists, so we can change the objects inside\n",
    "# also, we normalize the ISO codes in the countries list, and put them with lower letters\n",
    "countries_mutable = []\n",
    "for i in range(len(countries)):\n",
    "    countries_mutable.append(list(countries[i]))\n",
    "    countries_mutable[i][0] = countries_mutable[i][0].lower()\n",
    "\n",
    "# then we assign the right ISO code to the countries' list (this means that we assign the ISO code associated with the country in the RAW dataset)\n",
    "# also we assign the right continent to the countries' list (so it is equivalent with the RAW dataset)\n",
    "for i in range(len(RAW)):\n",
    "    for j in range(len(countries_mutable)):\n",
    "        if RAW[i][1] == countries_mutable[j][1]:\n",
    "            countries_mutable[j][0] = RAW[i][0]\n",
    "            countries_mutable[j][2] = RAW[i][2]\n",
    "print(countries_mutable)"
   ]
  },
  {
   "cell_type": "code",
   "execution_count": 20,
   "metadata": {},
   "outputs": [
    {
     "name": "stdout",
     "output_type": "stream",
     "text": [
      "The most common continent among the nations in the list countries is ['Asia', 'Europe'] appearing 3 times\n"
     ]
    }
   ],
   "source": [
    "# we create a list with the continents of the countries in the countries' list\n",
    "# to do so, we use the ISO codes to search in the cData dictionary for the countries from the countries' list\n",
    "# when we find a country that we want in cData, we append the continent of it (given by cData[country_iso][1] --> index 1 of the tuple referent to the given country)\n",
    "continents_list = []\n",
    "for i in range(len(cData)):\n",
    "    for j in range(len(countries_mutable)):\n",
    "        if countries_mutable[j][0] == list(cData.keys())[i]:\n",
    "            country_iso = countries_mutable[j][0]\n",
    "            continents_list.append(cData[country_iso][1])\n",
    "\n",
    "# counter is a dictionary where the keys are the name of the continent, and the values are the times that this continent appears\n",
    "counter = {}\n",
    "for continent in continents_list:\n",
    "    if continent in counter:\n",
    "        counter[continent] += 1\n",
    "    else:\n",
    "        counter[continent] = 1\n",
    "\n",
    "# then we sort the list by the number of times that the continents appear (in reverse order, so the most common continents appear first)\n",
    "continent_sorted = list(sorted(counter.items(), key = lambda x: x[1], reverse = True))\n",
    "\n",
    "# number max is the greater number of times that a certain continent appears\n",
    "number_max = continent_sorted[0][1]\n",
    "\n",
    "# and common_continent is a list with the continents that appear number_max times (so if there are more than one continent appearing the most it will store those continents)\n",
    "common_continent = []\n",
    "for i in range(len(continent_sorted)):\n",
    "    if continent_sorted[i][1] == number_max:\n",
    "        common_continent.append(continent_sorted[i][0])\n",
    "\n",
    "print(\"The most common continent among the nations in the list countries is\", common_continent, \"appearing\", number_max, \"times\")"
   ]
  },
  {
   "cell_type": "markdown",
   "metadata": {},
   "source": [
    "**Q**: Using cData, identify the most populated nation among the countries list."
   ]
  },
  {
   "cell_type": "code",
   "execution_count": 28,
   "metadata": {},
   "outputs": [
    {
     "name": "stdout",
     "output_type": "stream",
     "text": [
      "The most populated nation among the countries list is Russia\n"
     ]
    }
   ],
   "source": [
    "# we create a list with the population and the names of the countries in the countries' list\n",
    "# to do so, we use the ISO codes to search in the cData dictionary for the countries from the countries' list\n",
    "# when we find a country that we want in cData, we append the name (given by cData[country_iso][0]) and the population of it (given by float(cData[country_iso][2]) --> index 2 of the tuple referent to the given country)\n",
    "population_list = []\n",
    "for i in range(len(cData)):\n",
    "    for j in range(len(countries_mutable)):\n",
    "        if countries_mutable[j][0] == list(cData.keys())[i]:\n",
    "            country_iso = countries_mutable[j][0]\n",
    "            country_name = cData[country_iso][0]\n",
    "            country_population = float(cData[country_iso][2])\n",
    "            population_list.append([country_name, country_population])\n",
    "    \n",
    "# finally, with a list of the populations and names we use the max function with a key being a lambda function, and to return a list with the maximum value of the population and the country name\n",
    "# lambda x: x[1] allow us to make the comparison based on the second element of each pair associated with the countries\n",
    "pair_population = max(population_list, key = lambda x: x[1])\n",
    "\n",
    "# since we only want the name of the country we access it through the index[0]\n",
    "print(\"The most populated nation among the countries list is\", pair_population[0])"
   ]
  },
  {
   "cell_type": "markdown",
   "metadata": {},
   "source": [
    "**Q**: Compare the average GDP per capita of the Nations in countries list, with all the countries in the cData file. How they compare?"
   ]
  },
  {
   "cell_type": "code",
   "execution_count": 29,
   "metadata": {},
   "outputs": [],
   "source": [
    "import statistics"
   ]
  },
  {
   "cell_type": "code",
   "execution_count": 30,
   "metadata": {
    "scrolled": true
   },
   "outputs": [
    {
     "name": "stdout",
     "output_type": "stream",
     "text": [
      "The average GDP per capita of the Nations in countries list is 38242.63072863724\n",
      "The comparison table is [['Angola', 15.659317581060353], ['Burundi', 1.9125862065207622], ['Benin', 5.020567129966171], ['Burkina Faso', 3.470515773078703], ['Botswana', 32.0483746986231], ['Central African Republic', 2.2630299491355883], ['Cameroon', 7.020889617399368], ['Democratic Republic of the Congo', 1.6603758271939797], ['Republic of the Congo', 13.022091841448818], ['Comoros', 5.995921111433536], ['Cape Verde', 14.760546400151448], ['Djibouti', 5.555167158012501], ['Algeria', 32.92196165360991], ['Egypt', 23.92314435221922], ['Ethiopia', 2.8768501711985306], ['Gabon', 31.277053901765168], ['Ghana', 10.27986766880296], ['Guinea', 4.557047046744527], ['Gambia', 7.012746157240583], ['Guinea-Bissau', 3.6274955583774102], ['Equatorial Guinea', 82.15148000782277], ['Kenya', 6.495460333518363], ['Liberia', 2.057050510610061], ['Lesotho', 6.361480913671374], ['Morocco', 16.79261482683114], ['Madagascar', 3.8175083268012], ['Mali', 4.89841029795269], ['Mozambique', 2.534424917391566], ['Mauritania', 8.06076090947494], ['Mauritius', 39.68954444661632], ['Malawi', 2.541785601542643], ['Namibia', 20.106282160296367], ['Niger', 2.2118493213068287], ['Nigeria', 13.561578292935497], ['Rwanda', 3.6077521314440855], ['Sudan', 9.4365516935747], ['Senegal', 7.167711540686119], ['Sierra Leone', 3.0381793095222767], ['Swaziland', 18.41537630872616], ['Seychelles', 46.96421959842855], ['Chad', 4.916960053357129], ['Togo', 3.197518135167539], ['Tunisia', 27.842841293633093], ['Tanzania', 5.175302605423153], ['Uganda', 4.506997303106417], ['South Africa', 29.779960999040018], ['Zambia', 7.507033932904685], ['Zimbabwe', 3.8674917382418212], ['United Arab Emirates', 156.12789033542845], ['Armenia', 21.502038634714857], ['Azerbaijan', 33.85515575681142], ['Bangladesh', 6.304749498586211], ['Bahrain', 96.87046210828586], ['Brunei', 176.0362670919692], ['Bhutan', 18.919173734477035], ['China', 24.415921694647455], ['Cyprus', 73.33798262141813], ['Georgia', 20.831733082073338], ['Hong Kong', 109.00909698056425], ['India', 11.393200867835521], ['Iran', 45.311887683287914], ['Iraq', 24.434887428790756], ['Israel', 74.88737880442106], ['Jordan', 24.45278241819682], ['Japan', 95.6932955273443], ['Kazakhstan', 46.82951876295], ['Kyrgyzstan', 8.84474692634845], ['Cambodia', 6.093009720399238], ['South Korea', 82.60337889749401], ['Kuwait', 175.27433527206924], ['Laos', 11.288370533972149], ['Lebanon', 47.13391467978899], ['Sri Lanka', 21.9399908999551], ['Macau', 240.5231894952482], ['Maldives', 31.74677881573708], ['Burma', 8.94876025802351], ['Mongolia', 20.058018729968076], ['Malaysia', 46.840826767099244], ['Nepal', 5.2198191322565375], ['Oman', 105.83130441442661], ['Pakistan', 10.907765712962247], ['Philippines', 14.097445344425303], ['Qatar', 321.9663479652619], ['Saudi Arabia', 110.69232960880164], ['Singapore', 153.28034164445427], ['Syria', 14.905693803966837], ['Thailand', 32.67621486449867], ['Tajikistan', 7.281179421297589], ['Turkmenistan', 41.99875664062062], ['Turkey', 46.88662479478796], ['Taiwan', 97.24460326198721], ['Uzbekistan', 17.191591163585205], ['Vietnam', 11.579803265925648], ['Yemen', 11.907018873138957], ['Albania', 24.95837691411721], ['Austria', 105.87610106062755], ['Belgium', 99.83086027647784], ['Bulgaria', 38.97949665076018], ['Bosnia and Herzegovina', 23.663028825605956], ['Belarus', 43.03320421606273], ['Switzerland', 145.61765012825688], ['Czech Republic', 68.32576330145542], ['Germany', 106.23544922342789], ['Denmark', 113.52833881704633], ['Spain', 82.65901051982553], ['Estonia', 52.992098635958804], ['Finland', 100.39597394315642], ['France', 93.57662099251901], ['United Kingdom', 91.0248080179081], ['Greece', 67.50529520616888], ['Croatia', 50.48033495878775], ['Hungary', 53.54704469194886], ['Ireland', 125.05287225265245], ['Iceland', 98.65695784306652], ['Italy', 90.80879643131328], ['Lithuania', 48.31093152721363], ['Luxembourg', 151.35676887946917], ['Latvia', 44.30576035173641], ['Moldova', 10.913566022405535], ['Macedonia', 29.45833736062471], ['Malta', 60.09902950839767], ['Montenegro', 39.12112808967355], ['Netherlands', 115.06568765369798], ['Norway', 191.5733315042209], ['Poland', 54.92830097999656], ['Portugal', 67.43331584119724], ['Romania', 43.86625272334115], ['Russia', 56.88433950577012], ['Serbia', 32.56439819813808], ['Slovakia', 60.3021302436514], ['Slovenia', 67.54590569481613], ['Sweden', 105.69855071792387], ['Ukraine', 22.78415334250236], ['Aruba', 96.90583710535364], ['Anguilla', 55.16894824183808], ['Antigua and Barbuda', 44.87704088558422], ['Bahamas', 77.15102435160249], ['Belize', 18.685828907434672], ['Bermuda', 134.52826466612743], ['Barbados', 36.59688841976176], ['Canada', 105.29881051601357], ['Costa Rica', 31.658365768761897], ['CuraÃ§ao', 63.64053861928154], ['Cayman Islands', 95.88952899629855], ['Dominica', 23.8006474872692], ['Dominican Republic', 30.07149645541572], ['Grenada', 25.603079460117396], ['Guatemala', 16.62872706048731], ['Honduras', 9.910171326256028], ['Haiti', 4.315262003234282], ['Jamaica', 17.454805878329907], ['Saint Kitts and Nevis', 46.64258033065944], ['Saint Lucia', 24.00009313114685], ['Mexico', 37.93413697610063], ['Montserrat', 40.229980778904604], ['Nicaragua', 10.440604717358719], ['Panama', 39.36768288425932], ['El Salvador', 15.942831967712149], ['Turks and Caicos Islands', 18.908129322783957], ['Trinidad and Tobago', 71.93604536583679], ['United States', 129.43833972801147], ['Saint Vincent and the Grenadines', 21.16805009604521], ['British Virgin Islands', 55.391793822865765], ['Australia', 117.29030977745435], ['Fiji', 18.048101400424695], ['New Zealand', 80.71373173639333], ['Argentina', 41.424080682546474], ['Bolivia', 12.568719493917385], ['Brazil', 35.40933848847922], ['Chile', 47.310919068552124]]\n"
     ]
    }
   ],
   "source": [
    "# we create a list with the gdp of the countries in the countries' list\n",
    "# to do so, we use the ISO codes to search in the cData dictionary for the countries from the countries' list\n",
    "# when we find a country that we want in cData, we append the gdp of it (given by cData[country_iso][3] --> index 3 of the tuple referent to the given country)\n",
    "gdp_list = []\n",
    "for i in range(len(cData)):\n",
    "    for j in range(len(countries_mutable)):\n",
    "        if countries_mutable[j][0] == list(cData.keys())[i]:\n",
    "            country_iso = countries_mutable[j][0]\n",
    "            country_gdp = float(cData[country_iso][3])\n",
    "            gdp_list.append(country_gdp)\n",
    "\n",
    "#calculating the mean of the gdp of the countries that are present in the countries' list\n",
    "sum_gdp_list = 0\n",
    "for gdp in gdp_list:\n",
    "    sum_gdp_list += gdp\n",
    "average_GDP_percapita = sum_gdp_list / len(gdp_list)\n",
    "print(\"The average GDP per capita of the Nations in countries list is\", average_GDP_percapita)\n",
    "\n",
    "# then we create a list with the GDP of all countries in cData (given by cData[key][3]), and the names of the countries\n",
    "all_gdp = []    \n",
    "for key, value in cData.items():\n",
    "    all_gdp.append([value[0], float(cData[key][3])])\n",
    "    \n",
    "# finally we create a list called comparison. Each element of this list contains the percentage of its country gdp when compared to the mean of the ones that are in countries' list\n",
    "comparison = []\n",
    "for i in range(len(all_gdp)):\n",
    "    percentage = (all_gdp[i][1] / average_GDP_percapita) * 100\n",
    "    comparison.append([all_gdp[i][0], percentage])\n",
    "\n",
    "print(\"The comparison table is\", comparison)"
   ]
  },
  {
   "cell_type": "code",
   "execution_count": 31,
   "metadata": {},
   "outputs": [
    {
     "name": "stdout",
     "output_type": "stream",
     "text": [
      "['Angola', 15.659317581060353] this means that Angola's GDP is only 15% of the average GDP from the considered countries.\n"
     ]
    }
   ],
   "source": [
    "print(comparison[0], \"this means that Angola's GDP is only 15% of the average GDP from the considered countries.\")"
   ]
  },
  {
   "cell_type": "code",
   "execution_count": 32,
   "metadata": {
    "scrolled": true
   },
   "outputs": [
    {
     "name": "stdout",
     "output_type": "stream",
     "text": [
      "['Austria', 105.87610106062755] this means that Austria's GDP is only 105% of the average GDP from the considered countries (6% bigger).\n"
     ]
    }
   ],
   "source": [
    "print(comparison[95], \"this means that Austria's GDP is only 105% of the average GDP from the considered countries (6% bigger).\")"
   ]
  },
  {
   "cell_type": "markdown",
   "metadata": {},
   "source": [
    "# <span style=\"color:brown\"> Part 3 - Functions hurt nobody </span>\n",
    "\n",
    "## Exercise I - I hate math\n",
    "\n",
    "Consider the following equation:\n",
    "\n",
    "\\begin{equation}\n",
    "    y = 6x^2 + 3x + 2\n",
    "\\end{equation}\n",
    "\n",
    "**Q**: write a function (called f) that takes one argument, x, and returns y according to the equation above. <br> Call the function for x = 2 and print the answer."
   ]
  },
  {
   "cell_type": "code",
   "execution_count": 33,
   "metadata": {},
   "outputs": [],
   "source": [
    "def f(x):\n",
    "    y = 6 * x**2 + 3 * x + 2\n",
    "    return y"
   ]
  },
  {
   "cell_type": "code",
   "execution_count": 34,
   "metadata": {},
   "outputs": [
    {
     "name": "stdout",
     "output_type": "stream",
     "text": [
      "For x=2, y is equal to 32\n"
     ]
    }
   ],
   "source": [
    "print(\"For x=2, y is equal to\", f(2))"
   ]
  },
  {
   "cell_type": "markdown",
   "metadata": {},
   "source": [
    "Consider a sequence $x_n$ of numbers, defined as follows:\n",
    "\n",
    "$\n",
    "\\begin{align}\n",
    "    ~~~ ~~~ ~~~ ~~&x_0 = 0; ~~~ ~~~ ~~~ ~~ ~~~ ~~~ ~~~ ~~ ~~~ ~~~ ~~~ ~~ ~~~ ~~~ ~~ ~ \\\\\n",
    "    ~~~ ~~~ ~~~ ~~&x_{n} = x_{n-1} - n; ~~~ \\textit{ if} ~~~ x_{n-1}-n > 0 \\textit{ and not already in the sequence} \\\\\n",
    "    ~~~ ~~~ ~~~ ~~&x_{n} = x_{n-1} + n; ~~~ \\textit{ otherwise}~~~ ~~~ ~~~ ~~ \\\\\n",
    "\\end{align}\n",
    "$\n",
    "\n",
    "**Q**: Write a function that returns the nth digit of the above defined sequence. <br>\n",
    "Note: the above sequence is also known as the Recamán's sequence, and it was invnted by Bernardo Recamán Santos (Bogotá, Colombia)"
   ]
  },
  {
   "cell_type": "code",
   "execution_count": 35,
   "metadata": {},
   "outputs": [],
   "source": [
    "# creating a function that returns the nth digit of the Recamán's sequence\n",
    "def recamans_sequence(n):\n",
    "    # list X will contain all elements of the recamans sequence until the nth\n",
    "    X = []\n",
    "    \n",
    "    # the x_0 element is always zero\n",
    "    if n == 0:\n",
    "        return 0\n",
    "    X.append(0)\n",
    "    \n",
    "    # we assume that the next observation added will be X[i-1] - i\n",
    "    for i in range(1, n):\n",
    "        current = X[i-1] - i\n",
    "        for j in range(len(X)):\n",
    "            # but if this value is already in the sequence or is negative, the next observation added will be X[i-1] + i\n",
    "            if current == X[j] or current < 0:\n",
    "                current = X[i-1] + i\n",
    "                break\n",
    "        # and we add the observation\n",
    "        X.append(current)\n",
    "    # repeat until n and we return the last element of the sequence, stored in the list X\n",
    "    return X[-1]"
   ]
  },
  {
   "cell_type": "code",
   "execution_count": 36,
   "metadata": {},
   "outputs": [
    {
     "name": "stdout",
     "output_type": "stream",
     "text": [
      "The 17th digit of the Recamán's sequence is 8\n"
     ]
    }
   ],
   "source": [
    "print(\"The 17th digit of the Recamán's sequence is\", recamans_sequence(17))"
   ]
  },
  {
   "cell_type": "markdown",
   "metadata": {},
   "source": [
    "## Exercise II - Role Playing with Python\n",
    "\n",
    "**Q**: Create a function named randomNr that takes a number (e.g., m) as an argument and returns a random number from 1 to m."
   ]
  },
  {
   "cell_type": "code",
   "execution_count": 37,
   "metadata": {},
   "outputs": [],
   "source": [
    "# although we have already imported before we will need this package\n",
    "import random"
   ]
  },
  {
   "cell_type": "code",
   "execution_count": 38,
   "metadata": {},
   "outputs": [],
   "source": [
    "# although it only asks for a number we assumed that it meant an integer number, since in the function customerSim this function is called to represent the number of videogames purchased, that has to be an integer\n",
    "\n",
    "def randomNr(m):\n",
    "    return random.randint(1, m)"
   ]
  },
  {
   "cell_type": "code",
   "execution_count": 39,
   "metadata": {},
   "outputs": [
    {
     "data": {
      "text/plain": [
       "2"
      ]
     },
     "execution_count": 39,
     "metadata": {},
     "output_type": "execute_result"
    }
   ],
   "source": [
    "randomNr(8)"
   ]
  },
  {
   "cell_type": "markdown",
   "metadata": {},
   "source": [
    "**Q**: Create a function named keyReturner that takes a number (n) and a dictionary (s) as arguments and returns n random keys from s."
   ]
  },
  {
   "cell_type": "code",
   "execution_count": 40,
   "metadata": {},
   "outputs": [],
   "source": [
    "def keyReturner(n, s):\n",
    "    if n > len(s):\n",
    "        # we cannot return n random keys from the dictionary, since it only has len(s) keys\n",
    "        return None\n",
    "    elif n == len(s):\n",
    "        # the number of wanted random keys equals the total number of keys, so there is no randomness\n",
    "        keys_list = list(s.keys())\n",
    "    else:\n",
    "        # we use the sample function aplied to keys, and get a random sample of n keys from the dictionary\n",
    "        keys_list = random.sample(list(s.keys()), k = n)\n",
    "    return keys_list"
   ]
  },
  {
   "cell_type": "markdown",
   "metadata": {},
   "source": [
    "**Q**: Create a function named boolGen that takes a number (p) as argument and returns True with probability p, else it returns False.\n",
    "\n",
    "**NOTE:** Your function needs to consider if p is a number from 0 to 1 (and hence is the probability itself) or if p is between 0 to 100 (and hence is in percentage and needs to be changed to a probability). If the value inserted is inferior to 0 or bigger than 100 the function should assume p to be 0.5\n",
    "\n",
    "**To clarify**\n",
    "If p is 0.45 we will have a 45% chance to return True. If p is 55, it needs to be converted to 0.55 (having the same meaning as previously stated: 55% chance of returning true)"
   ]
  },
  {
   "cell_type": "code",
   "execution_count": 41,
   "metadata": {},
   "outputs": [],
   "source": [
    "# we are assuming that if the function is called with an argument lower than one it is the direct probability and not the percentage\n",
    "# so we are excluding cases as for example p = 0.90%\n",
    "\n",
    "def boolGen(p):\n",
    "    if 1 < p < 100:\n",
    "        p /= 100\n",
    "    elif p < 0 or p > 100:\n",
    "        p = 0.5\n",
    "    elif p == 0:\n",
    "        # we will have True with a probability of 0, so it will always return False\n",
    "        return False\n",
    "    elif p == 1 or p == 100:\n",
    "        # we will have True with a probability of 1, so it will always return True\n",
    "        return True\n",
    "    \n",
    "    # random.choices gives us a list with one boolean variable, since we just want that variable, we access it through the index 0\n",
    "    choice = random.choices([True, False], weights = (p, 1 - p), k = 1)[0]\n",
    "    \n",
    "    return choice"
   ]
  },
  {
   "cell_type": "code",
   "execution_count": 42,
   "metadata": {
    "scrolled": true
   },
   "outputs": [
    {
     "data": {
      "text/plain": [
       "False"
      ]
     },
     "execution_count": 42,
     "metadata": {},
     "output_type": "execute_result"
    }
   ],
   "source": [
    "boolGen(9)"
   ]
  },
  {
   "cell_type": "markdown",
   "metadata": {},
   "source": [
    "**Q**: Create a function named applyDiscount that receives a number (v) and a boolean (b) as arguments. If b is true then the function should apply a discount of 15% to the number, and return it. Otherwise it should return the number as is."
   ]
  },
  {
   "cell_type": "code",
   "execution_count": 43,
   "metadata": {},
   "outputs": [],
   "source": [
    "def applyDiscount(v, b):\n",
    "    # if b is true we apply the discount on the value v\n",
    "    if b:\n",
    "        v *= 0.85\n",
    "    return v"
   ]
  },
  {
   "cell_type": "code",
   "execution_count": 44,
   "metadata": {},
   "outputs": [
    {
     "data": {
      "text/plain": [
       "85.0"
      ]
     },
     "execution_count": 44,
     "metadata": {},
     "output_type": "execute_result"
    }
   ],
   "source": [
    "applyDiscount(100, True)"
   ]
  },
  {
   "cell_type": "markdown",
   "metadata": {},
   "source": [
    "**Q**: Create a function called customerSim. This function takes as an input two dictionaries (stock and prices). <br>\n",
    "Then it should perform the following steps:\n",
    "1. **Call randomNr** to generate a number between 1 and the maximum number of videogames available in the store's stock (this number will represent the number of videogames that will be purchased);\n",
    "2. **Call keyReturner**, passing the number of videogames that will be purchased obtained from 1. and the stock dictionary, in order to determine what are the codes of the videogames to be purchased;\n",
    "3. **Call applyDiscount** to each value in the customer order and combined with the boolGen, decide whether you apply a discount or not to each item;\n",
    "5. **Print the following message** \"Dear customer, your order of Y items has a total cost of X euros, and a 15% discount was applied to W items.\", replacing X,Y, W with the respective values.\n",
    "6. **Return a tuple** with the number of items ordered, total cost, and the total discount applied.\n",
    "\n",
    "- Run the function customerSim to simulate the orders of 10 clients."
   ]
  },
  {
   "cell_type": "code",
   "execution_count": 45,
   "metadata": {},
   "outputs": [],
   "source": [
    "#Write your function here. You have the stock and prices dictionaries below :)\n",
    "\n",
    "def customerSim(s,p):\n",
    "    number_videogames_purchased = randomNr(len(s))\n",
    "    codes_videogames_purchased = keyReturner(number_videogames_purchased, s)\n",
    "    \n",
    "    # we create lists for the prices paid, for the actual prices (without any discounts) and for knowing if a discount was applied or no\n",
    "    actual_prices_list = []\n",
    "    paid_prices_list = []\n",
    "    yes_no_discount_list = []\n",
    "    \n",
    "    for codes in codes_videogames_purchased:\n",
    "        # we decide if a discount is applied or no, and store it on the list\n",
    "        yes_no_discount = boolGen(0.2)\n",
    "        yes_no_discount_list.append(yes_no_discount)\n",
    "        # we store the price of the videogame\n",
    "        actual_prices_list.append(p[codes])\n",
    "        # and we store the paid price of the videogame (with or without the discount)\n",
    "        paid_prices_list.append(applyDiscount(p[codes], yes_no_discount))\n",
    "        \n",
    "    # since we need this information to display it to the consumer, we calculate the number of products that had a discount and the total cost of each transaction\n",
    "    number_discounts = sum(yes_no_discount_list)\n",
    "    total_cost = sum(paid_prices_list)\n",
    "    \n",
    "    # then we have to calculate the total discount applied to the transaction, by adding the difference of the actual price and the paid price\n",
    "    total_discount = 0\n",
    "    for i in range(len(yes_no_discount_list)):\n",
    "        if yes_no_discount_list[i]:\n",
    "            total_discount += (actual_prices_list[i] - paid_prices_list[i])\n",
    "    \n",
    "    # we print the message (point 4)\n",
    "    message = \"Dear customer, your order of \" + str(number_videogames_purchased) + \" items has a total cost of \" + str(total_cost) + \" euros, and a 15% discount was applied to \" + str(number_discounts) + \" items.\"\n",
    "    print(message)\n",
    "    \n",
    "    # and create the tuple to return with the relevant information (point 5)\n",
    "    info = (number_videogames_purchased, total_cost, total_discount)\n",
    "    return info"
   ]
  },
  {
   "cell_type": "code",
   "execution_count": 46,
   "metadata": {},
   "outputs": [],
   "source": [
    "stock = {\n",
    "    \n",
    "    \"234\":\"God of War\",\n",
    "    \"956\":\"Call of Duty: Modern Warfare 2\",\n",
    "    \"365\":\"Final Fantasy IX\",\n",
    "    \"827\":\"BioShock Infinite\",\n",
    "    \"106\":\"World of Goo\",\n",
    "    \"465\":\"Metal Gear Solid V: The Phantom Pain\",\n",
    "    \"622\":\"Portal 2\",\n",
    "    \"266\":\"The Last of Us\",\n",
    "    \"534\":\"The Legend of Zelda: Majora's Mask\",\n",
    "    \"884\":\"Halo 2\",\n",
    "    \"472\":\"Red Dead Redemption\",\n",
    "    \"123\":\"Grand Theft Auto: San Andreas\"\n",
    "    \n",
    "}\n",
    "\n",
    "prices = {\n",
    "    \n",
    "    \"234\":49.99,\n",
    "    \"956\":35.0,\n",
    "    \"365\":68.99,\n",
    "    \"827\":20.99,\n",
    "    \"106\":2.50,\n",
    "    \"465\":49.99,\n",
    "    \"622\":19.99,\n",
    "    \"266\":19.99,\n",
    "    \"534\":5.99,\n",
    "    \"884\":9.99,\n",
    "    \"472\":19.99,\n",
    "    \"123\":24.99\n",
    "    \n",
    "}"
   ]
  },
  {
   "cell_type": "code",
   "execution_count": 47,
   "metadata": {},
   "outputs": [
    {
     "name": "stdout",
     "output_type": "stream",
     "text": [
      "Dear customer, your order of 8 items has a total cost of 172.18300000000002 euros, and a 15% discount was applied to 2 items.\n",
      "Dear customer, your order of 8 items has a total cost of 252.065 euros, and a 15% discount was applied to 1 items.\n",
      "Dear customer, your order of 8 items has a total cost of 273.033 euros, and a 15% discount was applied to 2 items.\n",
      "Dear customer, your order of 8 items has a total cost of 248.93000000000004 euros, and a 15% discount was applied to 0 items.\n",
      "Dear customer, your order of 8 items has a total cost of 184.393 euros, and a 15% discount was applied to 2 items.\n",
      "Dear customer, your order of 8 items has a total cost of 267.533 euros, and a 15% discount was applied to 2 items.\n",
      "Dear customer, your order of 11 items has a total cost of 275.553 euros, and a 15% discount was applied to 2 items.\n",
      "Dear customer, your order of 6 items has a total cost of 136.553 euros, and a 15% discount was applied to 2 items.\n",
      "Dear customer, your order of 2 items has a total cost of 40.98 euros, and a 15% discount was applied to 0 items.\n",
      "Dear customer, your order of 4 items has a total cost of 98.12299999999999 euros, and a 15% discount was applied to 2 items.\n"
     ]
    }
   ],
   "source": [
    "#Call your function here :)\n",
    "\n",
    "for i in range(10):\n",
    "    customerSim(stock, prices)"
   ]
  },
  {
   "cell_type": "markdown",
   "metadata": {},
   "source": [
    "## Exercise III - Map and Filter\n",
    "\n",
    "#### You can go to the documentation on: https://book.pythontips.com/en/latest/map_filter.html\n",
    "\n",
    "**Q**: Consider the list A declared below. Use the function map() to change the values in A by adding 1 to each value if it is even and subtracting 1 to it otherwise."
   ]
  },
  {
   "cell_type": "code",
   "execution_count": 48,
   "metadata": {},
   "outputs": [],
   "source": [
    "A = [460,3347,3044,490,699,1258,1804,973,2223,3416,2879,1058,2915,2422,351,1543,1020,208,643,795,3337,2585,471,2623,1077]"
   ]
  },
  {
   "cell_type": "code",
   "execution_count": 49,
   "metadata": {},
   "outputs": [
    {
     "name": "stdout",
     "output_type": "stream",
     "text": [
      "The new modified list A is [461, 3346, 3045, 491, 698, 1259, 1805, 972, 2222, 3417, 2878, 1059, 2914, 2423, 350, 1542, 1021, 209, 642, 794, 3336, 2584, 470, 2622, 1076]\n"
     ]
    }
   ],
   "source": [
    "# first we define a function that adds 1 to even values and subtracts 1 to odd values\n",
    "def add_subtract(a):\n",
    "    if (a % 2 != 0):\n",
    "        a -= 1\n",
    "    else:\n",
    "        a += 1\n",
    "    return a\n",
    "\n",
    "# then we use the map() function to apply the given function to each item of the iterable (in this case the list A)\n",
    "result = list(map(add_subtract, A))\n",
    "print(\"The new modified list A is\", result)"
   ]
  },
  {
   "cell_type": "markdown",
   "metadata": {},
   "source": [
    "**Q:** Create a list B with the same size of A, and where each element is True if the associated value in list A is greater than 700, else is False. <br>\n",
    "Note: You should use the function map()"
   ]
  },
  {
   "cell_type": "code",
   "execution_count": 50,
   "metadata": {},
   "outputs": [
    {
     "name": "stdout",
     "output_type": "stream",
     "text": [
      "The list B is [False, True, True, False, False, True, True, True, True, True, True, True, True, True, False, True, True, False, False, True, True, True, False, True, True]\n"
     ]
    }
   ],
   "source": [
    "# first we define a function that returns True if the value provided is greater than 700 and False otherwise\n",
    "def greater_than_700(a):\n",
    "    if a > 700:\n",
    "        return True\n",
    "    else:\n",
    "        return False\n",
    "    \n",
    "# then we use the map() function to apply the given function to each item of the iterable (in this case the list A)\n",
    "B = list(map(greater_than_700, A))\n",
    "print(\"The list B is\", B)"
   ]
  },
  {
   "cell_type": "markdown",
   "metadata": {},
   "source": [
    "**Q**: Create a list L that contains the Logarithm of base 10 of each value in A. <br>\n",
    "Note: You should use the module math to compute the logarithm."
   ]
  },
  {
   "cell_type": "code",
   "execution_count": 51,
   "metadata": {},
   "outputs": [],
   "source": [
    "import math"
   ]
  },
  {
   "cell_type": "code",
   "execution_count": 52,
   "metadata": {},
   "outputs": [
    {
     "name": "stdout",
     "output_type": "stream",
     "text": [
      "The list L containing the logarith of base 10 of each value in A is [2.662757831681574, 3.5246557123577773, 3.4834446480985353, 2.690196080028514, 2.8444771757456815, 3.09968064110925, 3.256236533205923, 2.988112840268352, 3.3469394626989906, 3.5335178620169674, 3.459241664878082, 3.024485667699167, 3.464638559095033, 3.3841741388070337, 2.545307116465824, 3.188365926063148, 3.0086001717619175, 2.3180633349627615, 2.808210972924222, 2.9003671286564705, 3.5233562066547925, 3.412460547429961, 2.673020907128896, 3.4187982905903533, 3.0322157032979815]\n"
     ]
    }
   ],
   "source": [
    "# the lambda function applies the logarithm of base 10 to a value, so combined with the map function, will iterate through all elements in list A\n",
    "L = list(map(lambda x: math.log10(x), A))\n",
    "print(\"The list L containing the logarith of base 10 of each value in A is\", L)"
   ]
  },
  {
   "cell_type": "markdown",
   "metadata": {},
   "source": [
    "**Q**: How many numbers in A are greater than 1000? <br>\n",
    "Note: You should use the function filter()"
   ]
  },
  {
   "cell_type": "code",
   "execution_count": 53,
   "metadata": {},
   "outputs": [
    {
     "name": "stdout",
     "output_type": "stream",
     "text": [
      "There are 16 numbers in A that are greater than 1000\n"
     ]
    }
   ],
   "source": [
    "# first we create a list with all the numbers greater than 1000 that are present in the list A\n",
    "# to do so, we use the lambda fuction that checks True if the value is greater than 1000 and False otherwise\n",
    "# then the filter function extracts elements from list A for which the lambda function returns True\n",
    "greater_than_1000 = list(filter(lambda x: x > 1000, A))\n",
    "print(\"There are\", len(greater_than_1000), \"numbers in A that are greater than 1000\")"
   ]
  },
  {
   "cell_type": "markdown",
   "metadata": {},
   "source": [
    "Congratulations, it is done! <br>\n",
    "**Don't forget, if you have any questions related with the homework assignment leave a post in the Moodle Forum.**"
   ]
  },
  {
   "cell_type": "code",
   "execution_count": null,
   "metadata": {},
   "outputs": [],
   "source": []
  }
 ],
 "metadata": {
  "kernelspec": {
   "display_name": "Python 3 (ipykernel)",
   "language": "python",
   "name": "python3"
  },
  "language_info": {
   "codemirror_mode": {
    "name": "ipython",
    "version": 3
   },
   "file_extension": ".py",
   "mimetype": "text/x-python",
   "name": "python",
   "nbconvert_exporter": "python",
   "pygments_lexer": "ipython3",
   "version": "3.9.13"
  }
 },
 "nbformat": 4,
 "nbformat_minor": 4
}
