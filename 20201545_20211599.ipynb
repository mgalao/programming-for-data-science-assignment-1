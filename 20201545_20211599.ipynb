{
 "cells": [
  {
   "cell_type": "markdown",
   "metadata": {
    "jp-MarkdownHeadingCollapsed": true
   },
   "source": [
    "# <span style=\"color:green\"> Start Here </span> \n",
    "\n",
    "[Please Complete the following form with your details]\n",
    "\n",
    "Student Name - Alexandra Pinto<br>\n",
    "Student id - 20211599<br>\n",
    "Contact e-mail - 20211599@novaims.unl.pt<br>\n",
    "\n",
    "\n",
    "Student Name - Marco Galão<br>\n",
    "Student id - 20201545<br>\n",
    "Contact e-mail - r20201545@novaims.unl.pt<br>"
   ]
  },
  {
   "cell_type": "markdown",
   "metadata": {},
   "source": [
    "# <span style=\"color:brown\"> Part 1 -  Variable Declaration and Manipulation </span> \n",
    "\n",
    "## Exercise I - of Lists and Random numbers\n",
    "\n",
    "**1**: Declare a variable X that stores a list of 100 integers randomly sampled between -100 and 100.<br>\n",
    "Note: You are not allowed to use third party libraries -- such as Numpy, Pandas, or Scipy -- in this exercise."
   ]
  },
  {
   "cell_type": "code",
   "execution_count": 1,
   "metadata": {},
   "outputs": [],
   "source": [
    "#Needed import to generate random integers\n",
    "import random \n",
    "\n",
    "#Creating a list X \n",
    "X = [random.randint(-100,100) for i in range(100)]"
   ]
  },
  {
   "cell_type": "code",
   "execution_count": 2,
   "metadata": {},
   "outputs": [
    {
     "name": "stdout",
     "output_type": "stream",
     "text": [
      "[28, -19, 100, -82, 80, -44, -27, 66, -44, -13, 85, -57, 13, 25, -18, -57, 82, -98, -27, -100, 35, -100, -56, -62, -98, -15, -25, -64, 89, -23, 63, 88, 53, -70, 64, 57, 63, 59, -36, 9, -50, 1, -63, -78, 26, 0, 57, -18, -72, -48, -38, 81, -6, 42, 76, -75, 26, -16, -46, -87, -29, -66, -42, 82, 65, -92, -93, -42, -44, -36, 21, -3, -39, -54, -45, 6, -80, -84, 42, 52, -57, 66, 86, -3, -29, 25, -7, 17, 6, 99, -1, 2, -17, 94, -42, -54, -70, -12, 50, -86]\n"
     ]
    }
   ],
   "source": [
    "#Checking the created list\n",
    "print(X)"
   ]
  },
  {
   "cell_type": "markdown",
   "metadata": {},
   "source": [
    "**2**: How many odd numbers are in list X?\n"
   ]
  },
  {
   "cell_type": "code",
   "execution_count": 3,
   "metadata": {},
   "outputs": [
    {
     "name": "stdout",
     "output_type": "stream",
     "text": [
      "Number of odd numbers in list X: 42\n"
     ]
    }
   ],
   "source": [
    "# Initializing a counter for the odd numbers\n",
    "odd_count = 0\n",
    "\n",
    "#Creating a for loop to access to every number in the list and check if its a odd number or no\n",
    "for i in X:\n",
    "    #Creating an if statement, when the number leaves a remainder when divided by 2 it means that is an odd number\n",
    "    if i % 2 != 0:\n",
    "        # Incrementing the ood counter by 1 each time an odd number is encountered\n",
    "        odd_count += 1 \n",
    "\n",
    "#Printing to achieve the answer to the question\n",
    "print(\"Number of odd numbers in list X:\", odd_count)"
   ]
  },
  {
   "cell_type": "markdown",
   "metadata": {},
   "source": [
    "**2.1** Check if there are as many even numbers as there are odd numbers, else discard the list and generate a new one."
   ]
  },
  {
   "cell_type": "code",
   "execution_count": 4,
   "metadata": {},
   "outputs": [],
   "source": [
    "# We will adapt the code in the previous exercise \n",
    "# Initializing a counter for the even numbers\n",
    "even_count = 0\n",
    "\n",
    "#Creating a for loop to access to every number in the list and check if its a even number or no\n",
    "for i in X:\n",
    "    #Creating an if statement, when the number does not leaves a remainder when divided by 2 it means that is an even number\n",
    "    if i % 2 == 0:\n",
    "        # Incrementing the ood counter by 1 each time an odd number is encountered\n",
    "        even_count += 1 "
   ]
  },
  {
   "cell_type": "code",
   "execution_count": 9,
   "metadata": {},
   "outputs": [
    {
     "name": "stdout",
     "output_type": "stream",
     "text": [
      "The list X has different number of even and odd numbers, so we will generate a new list X\n"
     ]
    }
   ],
   "source": [
    "#Now we will compare both counters\n",
    "\n",
    "if odd_count == even_count:\n",
    "    print(\"The list X has equal number of even and odd numbers\")\n",
    "else:\n",
    "    print(\"The list X has different number of even and odd numbers, so we will generate a new list X\")\n",
    "    #Using the code created in the first exercise\n",
    "    #Initializing an empty list X\n",
    "    X = []\n",
    "    #Creating a for loop to generate the 100 random integers\n",
    "    for i in range(100):\n",
    "        #In the following line we will generate a random integer in the asked interval\n",
    "        random_int = random.randint(-100,100)\n",
    "        #Now that the number was created we will append to the list created X\n",
    "        X.append(random_int)"
   ]
  },
  {
   "cell_type": "markdown",
   "metadata": {},
   "source": [
    "**2.2** Create a pipeline to automatically perform the tasks above such that you avoid having to run the cells multiple times to reach the desired outcome."
   ]
  },
  {
   "cell_type": "code",
   "execution_count": 10,
   "metadata": {},
   "outputs": [
    {
     "name": "stdout",
     "output_type": "stream",
     "text": [
      "The list X has different number of even and odd numbers, so we will generate a new list X\n",
      "The list X has different number of even and odd numbers, so we will generate a new list X\n",
      "The list X has equal number of even and odd numbers\n",
      "List X: [-66, 21, 57, -93, -5, -24, -74, -21, 70, -67, 98, -67, 79, -38, 83, 28, -83, 10, 97, 68, 0, -38, -37, -13, 19, -22, 76, 59, -64, 55, 23, 87, 12, 18, 54, 81, 46, 43, -13, 44, 57, 56, -30, 14, 36, 9, -72, 60, 37, -1, 12, 58, -54, 27, 49, -90, -47, 85, -70, 22, 84, -34, -43, 31, 99, -19, -22, 29, -95, -47, 1, -76, 21, 36, 21, 2, 70, 34, 97, 89, -36, 29, 53, -75, -66, 1, 64, -32, -72, 39, 72, -55, -18, -94, 70, -16, 77, 82, 39, 95]\n"
     ]
    }
   ],
   "source": [
    "#Small note: in the following code we will use docstrings\n",
    "\"\"\"\n",
    "Docstrings give to the executer a brief description of the code that \n",
    "explains what it does, its inputs(args) and outputs(returns)\n",
    "\"\"\"\n",
    "import random\n",
    "def generate_list():\n",
    "    \"\"\"\n",
    "    Generates a list of 100 random integers between -100 and 100.\n",
    "    \n",
    "    Returns:\n",
    "        list: A list of 100 random integers\n",
    "    \"\"\"\n",
    "    return [random.randint(-100,100) for i in range(100)]\n",
    "\n",
    "def count_even_odd_numbers(X):\n",
    "    \"\"\"\n",
    "    Counts the number of even and odd numbers in the list\n",
    "    \n",
    "    Args:\n",
    "        X (list): A list of integers\n",
    "    \n",
    "    Returns:\n",
    "        tuple: A tuple contaning the count of even numbers and the count of odd numbers\n",
    "    \"\"\"\n",
    "    even_count = 0\n",
    "    odd_count = 0\n",
    "    for i in X:\n",
    "        #Creating an if statement, when the number does not leaves a remainder when divided by 2 it means that is an even number\n",
    "        if i % 2 == 0:\n",
    "            # Incrementing the ood counter by 1 each time an odd number is encountered\n",
    "            even_count += 1  \n",
    "        else:\n",
    "            odd_count += 1\n",
    "        \n",
    "    return  even_count, odd_count\n",
    "\n",
    "def pipeline():\n",
    "    \"\"\"\n",
    "    Automates the task to generate a list.\n",
    "    \"\"\"\n",
    "    #Using the first function created to generate the X list\n",
    "    X= generate_list()\n",
    "    #Calculate the number of even and odd numbers\n",
    "    even_count, odd_count= count_even_odd_numbers(X)\n",
    "    while even_count != odd_count:\n",
    "        print(\"The list X has different number of even and odd numbers, so we will generate a new list X.\")\n",
    "        X= generate_list()\n",
    "        even_count, odd_count= count_even_odd_numbers(X)\n",
    "    print(\"The list X has equal number of even and odd numbers\")\n",
    "    print(\"List X:\", X)\n",
    "    \n",
    "pipeline()\n"
   ]
  },
  {
   "cell_type": "markdown",
   "metadata": {},
   "source": [
    "**3**: Print the number of digits that the 5th and 100th element of the list have. <br>\n",
    "*Note: For instance, the number 1 contains one digit, the number 10 contains two digits, the number -2 contains one digit.*"
   ]
  },
  {
   "cell_type": "code",
   "execution_count": 11,
   "metadata": {},
   "outputs": [
    {
     "name": "stdout",
     "output_type": "stream",
     "text": [
      "The 5th element is 47 and has 2 digits.\n",
      "The 100th element is 58 and has 2 digits.\n"
     ]
    }
   ],
   "source": [
    "fifth_element= X[4] #since the first number starts in 0 index\n",
    "hundredth_element=X[99]\n",
    "\n",
    "#To access the number of digits we wil use a combination of three functions:\n",
    "#abs: returns the absolute value of the number\n",
    "#str: converts the number into a string for counting the len\n",
    "#len: returns the length of the string\n",
    "print(f\"The 5th element is {fifth_element} and has {len(str(abs(fifth_element)))} digits.\")\n",
    "print(f\"The 100th element is {hundredth_element} and has {len(str(abs(hundredth_element)))} digits.\")"
   ]
  },
  {
   "cell_type": "markdown",
   "metadata": {},
   "source": [
    "**4**: Is the sum total of all the numbers in the list even or odd?"
   ]
  },
  {
   "cell_type": "code",
   "execution_count": 14,
   "metadata": {},
   "outputs": [
    {
     "name": "stdout",
     "output_type": "stream",
     "text": [
      "The sum of all the numbers in list X is odd and its equal to -525.\n"
     ]
    }
   ],
   "source": [
    "#Storing the sum of all numbers in the list\n",
    "total_sum= sum(X)\n",
    "\n",
    "#Check if the sum is even or odd\n",
    "if total_sum % 2 == 0:\n",
    "    print(f\"The sum of all the numbers in list X is even and it is equal to {total_sum}.\")\n",
    "else:\n",
    "    print(f\"The sum of all the numbers in list X is odd and it is equal to {total_sum}.\")"
   ]
  },
  {
   "cell_type": "markdown",
   "metadata": {},
   "source": [
    "**5**: What is the average of the list X?"
   ]
  },
  {
   "cell_type": "code",
   "execution_count": 16,
   "metadata": {},
   "outputs": [
    {
     "name": "stdout",
     "output_type": "stream",
     "text": [
      "The average of the list X is equal to -5.25\n"
     ]
    }
   ],
   "source": [
    "#Calculate the average of the list\n",
    "avg = sum(X) / len(X)\n",
    "\n",
    "print(f\"The average of the list X is equal to {avg}\")"
   ]
  },
  {
   "cell_type": "markdown",
   "metadata": {},
   "source": [
    "**5.1.** What is the population standard deviation? <br>"
   ]
  },
  {
   "cell_type": "code",
   "execution_count": 17,
   "metadata": {},
   "outputs": [
    {
     "name": "stdout",
     "output_type": "stream",
     "text": [
      "The population standard deviation of X list is 61.14742431206731.\n"
     ]
    }
   ],
   "source": [
    "## WITHOUT USING MATH IMPORT\n",
    "#Calculating the squared diff from the avg\n",
    "squared_diffs = [(x - avg)**2 for x in X]\n",
    "\n",
    "#Calculating the variance\n",
    "var = sum(squared_diffs) /len(X)\n",
    "\n",
    "#Calculate the pop. standard deviation\n",
    "std_dev = var ** 0.5\n",
    "##OR WITH MATH\n",
    "#std_dev = math.sqrt(var)\n",
    "\n",
    "print(f\"The population standard deviation of X list is {std_dev}.\")\n"
   ]
  },
  {
   "cell_type": "markdown",
   "metadata": {},
   "source": [
    "**6**: Sort list X in descending order and store the result in variable Xsort. <br>"
   ]
  },
  {
   "cell_type": "code",
   "execution_count": 19,
   "metadata": {},
   "outputs": [
    {
     "name": "stdout",
     "output_type": "stream",
     "text": [
      "[-79, -51, 81, -19, 47, -89, 66, -37, 95, -43, -28, -28, -53, 94, 45, 24, -28, -53, 78, 60, -64, 28, -25, -15, 56, 97, 53, 39, -23, 76, -94, -80, -87, 79, -42, 66, 54, 42, 35, 14, -92, 0, 62, 35, 75, -14, -37, 51, -96, -30, -62, -53, 18, 97, -51, -46, -92, 33, -94, -98, 26, -56, -87, -100, -4, -19, -37, -83, -77, -40, 86, 6, 52, 11, -77, -87, 50, 40, -44, 31, -8, -79, 86, -34, 72, -57, 17, 86, -94, 55, -89, -23, -71, 72, -52, -81, 71, 69, -11, 58]\n",
      "[97, 97, 95, 94, 86, 86, 86, 81, 79, 78, 76, 75, 72, 72, 71, 69, 66, 66, 62, 60, 58, 56, 55, 54, 53, 52, 51, 50, 47, 45, 42, 40, 39, 35, 35, 33, 31, 28, 26, 24, 18, 17, 14, 11, 6, 0, -4, -8, -11, -14, -15, -19, -19, -23, -23, -25, -28, -28, -28, -30, -34, -37, -37, -37, -40, -42, -43, -44, -46, -51, -51, -52, -53, -53, -53, -56, -57, -62, -64, -71, -77, -77, -79, -79, -80, -81, -83, -87, -87, -87, -89, -89, -92, -92, -94, -94, -94, -96, -98, -100]\n"
     ]
    }
   ],
   "source": [
    "#Using sorted function to sort X, and setting reverse=True to have it in descending order\n",
    "Xsort = sorted(X, reverse=True)\n",
    "\n",
    "#Check that actually work\n",
    "print(X)\n",
    "print(Xsort)"
   ]
  },
  {
   "cell_type": "markdown",
   "metadata": {},
   "source": [
    "**6.1** Then replace each value in Xsort with index i as the sum of the values with index i-1 and i. <br> "
   ]
  },
  {
   "cell_type": "code",
   "execution_count": 23,
   "metadata": {},
   "outputs": [
    {
     "data": {
      "text/plain": [
       "[97,\n",
       " 194,\n",
       " 192,\n",
       " 189,\n",
       " 180,\n",
       " 172,\n",
       " 172,\n",
       " 167,\n",
       " 160,\n",
       " 157,\n",
       " 154,\n",
       " 151,\n",
       " 147,\n",
       " 144,\n",
       " 143,\n",
       " 140,\n",
       " 135,\n",
       " 132,\n",
       " 128,\n",
       " 122,\n",
       " 118,\n",
       " 114,\n",
       " 111,\n",
       " 109,\n",
       " 107,\n",
       " 105,\n",
       " 103,\n",
       " 101,\n",
       " 97,\n",
       " 92,\n",
       " 87,\n",
       " 82,\n",
       " 79,\n",
       " 74,\n",
       " 70,\n",
       " 68,\n",
       " 64,\n",
       " 59,\n",
       " 54,\n",
       " 50,\n",
       " 42,\n",
       " 35,\n",
       " 31,\n",
       " 25,\n",
       " 17,\n",
       " 6,\n",
       " -4,\n",
       " -12,\n",
       " -19,\n",
       " -25,\n",
       " -29,\n",
       " -34,\n",
       " -38,\n",
       " -42,\n",
       " -46,\n",
       " -48,\n",
       " -53,\n",
       " -56,\n",
       " -56,\n",
       " -58,\n",
       " -64,\n",
       " -71,\n",
       " -74,\n",
       " -74,\n",
       " -77,\n",
       " -82,\n",
       " -85,\n",
       " -87,\n",
       " -90,\n",
       " -97,\n",
       " -102,\n",
       " -103,\n",
       " -105,\n",
       " -106,\n",
       " -106,\n",
       " -109,\n",
       " -113,\n",
       " -119,\n",
       " -126,\n",
       " -135,\n",
       " -148,\n",
       " -154,\n",
       " -156,\n",
       " -158,\n",
       " -159,\n",
       " -161,\n",
       " -164,\n",
       " -170,\n",
       " -174,\n",
       " -174,\n",
       " -176,\n",
       " -178,\n",
       " -181,\n",
       " -184,\n",
       " -186,\n",
       " -188,\n",
       " -188,\n",
       " -190,\n",
       " -194,\n",
       " -198]"
      ]
     },
     "execution_count": 23,
     "metadata": {},
     "output_type": "execute_result"
    }
   ],
   "source": [
    "Xsort= [Xsort[0]] + [ Xsort[i-1]+ Xsort[i] for i in range(1, len(Xsort))]\n",
    "Xsort"
   ]
  },
  {
   "cell_type": "markdown",
   "metadata": {},
   "source": [
    "## Exercise II - The Most Uncool Band\n",
    "\n",
    "**7**: Consider the dictionaries  *songs* and *users* that are declared in the cell below. <br>\n",
    "Create a list with the names of the people who listened to more than one song. Print the List. <br>"
   ]
  },
  {
   "cell_type": "code",
<<<<<<< Updated upstream
   "execution_count": 45,
=======
   "execution_count": 472,
>>>>>>> Stashed changes
   "metadata": {},
   "outputs": [],
   "source": [
    "songs = {\n",
    "    \"4589\": \"Mr. Blue Sky, Calling America, Twilight, Night in the City\",\n",
    "    \"7312\": \"Strange Magic, Sweet Talkin' Woman, Turn to Stone\",\n",
    "    \"9641\": \"Confusion, Last Train to London, All Over the World, Hold On Tight\",\n",
    "    \"2853\": \"Can't Get It Out of My Head, Showdown, Twilight\",\n",
    "    \"6704\": \"Ticket to the Moon, Here Is the News, Twilight, Secret Messages, Four Little Diamonds\"\n",
    "}"
   ]
  },
  {
   "cell_type": "code",
<<<<<<< Updated upstream
   "execution_count": 27,
=======
   "execution_count": 473,
>>>>>>> Stashed changes
   "metadata": {},
   "outputs": [],
   "source": [
    "users = {\n",
    "    \"4589\": \"Eve\",\n",
    "    \"7312\": \"Diana\",\n",
    "    \"9641\": \"Alice\",\n",
    "    \"2853\": \"Charlie\",\n",
    "    \"6704\": \"Bob\"\n",
    "}\n"
   ]
  },
  {
   "cell_type": "code",
   "execution_count": 31,
   "metadata": {},
   "outputs": [],
   "source": [
    "for user_id, song_list in songs.items():\n",
    "    song_counts= len(song_list.split(\", \"))"
   ]
  },
  {
   "cell_type": "code",
   "execution_count": 32,
   "metadata": {},
   "outputs": [
    {
     "data": {
      "text/plain": [
       "5"
      ]
     },
     "execution_count": 32,
     "metadata": {},
     "output_type": "execute_result"
    }
   ],
   "source": [
    "song_counts"
   ]
  },
  {
   "cell_type": "code",
   "execution_count": 35,
   "metadata": {},
   "outputs": [
    {
     "name": "stdout",
     "output_type": "stream",
     "text": [
      "The people who listened to more than one song are: ['Eve', 'Diana', 'Alice', 'Charlie', 'Bob']\n"
     ]
    }
   ],
   "source": [
    "# Creating a list to store the names of the people who listened to more than one song\n",
    "multiple_song_list = []\n",
    "\n",
    "#Iterate over the songs dict\n",
    "for user_id, song_list in songs.items():\n",
    "    #Split the song list into individual songs and counting them\n",
    "    song_counts= len(song_list.split(\", \"))\n",
    "    \n",
    "    #If statement to check if the user listened to more than one song\n",
    "    if song_counts > 2:\n",
    "        user_name = users[user_id]\n",
    "        \n",
    "        multiple_song_list.append(user_name)\n",
    "        \n",
    "print(f\"The people who listened to more than one song are: {multiple_song_list}\")"
   ]
  },
  {
   "cell_type": "markdown",
   "metadata": {},
   "source": [
    "**7.1** What is the name of the user who listened to the most songs?\n",
    "\n",
    "*Tip: You will want to check the methods associated with string manipulation. See the link: <br>\n",
    "https://python-reference.readthedocs.io/en/latest/docs/unicode/index.html*"
   ]
  },
  {
   "cell_type": "code",
   "execution_count": 38,
   "metadata": {},
   "outputs": [
    {
     "name": "stdout",
     "output_type": "stream",
     "text": [
      "The user who listened to the most songs is Bob who listen 5 songs\n"
     ]
    }
   ],
   "source": [
    "#Initializing variables to store the user with most songs and the maximum song count\n",
    "max_songs= 0\n",
    "max_songs_user= \"\"\n",
    "\n",
    "#Using a for loop over the songs dictionary \n",
    "for user_id, song_list in songs.items():\n",
    "    #As we did on the 7., split the song list into individual songs and counting them\n",
    "    song_counts= len(song_list.split(\", \"))\n",
    "    \n",
    "    #Write an if statement to get the maximum number of songs and them extract the user\n",
    "    if song_counts > max_songs:\n",
    "        max_songs = song_counts\n",
    "        max_songs_user = users[user_id]\n",
    "    \n",
    "print(f\"The user who listened to the most songs is {max_songs_user} who listened {max_songs} songs\")   \n",
    "        "
   ]
  },
  {
   "cell_type": "markdown",
   "metadata": {},
   "source": [
    "**7.2** What is the name of the most popular song?"
   ]
  },
  {
   "cell_type": "code",
   "execution_count": 46,
   "metadata": {},
   "outputs": [
    {
     "name": "stdout",
     "output_type": "stream",
     "text": [
      "The most popular song is Twilight\n"
     ]
    }
   ],
   "source": [
    "#Creating a dictionary to store the song counts\n",
    "song_counts= {}\n",
    "\n",
    "#Using a for loop over the songs dictionary \n",
    "for song_list in songs.values():\n",
    "    #As we did on the 7., split the song list into individual songs\n",
    "    songs_list_split = song_list.split(\", \")\n",
    "    \n",
    "    for song in songs_list_split:\n",
    "        if song in song_counts:\n",
    "            song_counts[song] += 1\n",
    "        else:\n",
    "            song_counts[song] = 1\n",
    "            \n",
    "#Finding the song with the max counting\n",
    "max_song = max(song_counts, key=song_counts.get)\n",
    "\n",
    "print(f\"The most popular song is {max_song}\")\n",
    "    "
   ]
  },
  {
   "cell_type": "markdown",
   "metadata": {},
   "source": [
    "# <span style=\"color:brown\"> Part 2 -  Data loading and analysis  </span>\n",
    "\n",
    "## Exercise I - Alice what do you have to say?\n",
    "\n",
    "**8**: Load the Alice text file into a variable called Alice. <br>\n",
    "\n",
    "*Note: Use a relative filepath in relation to the location of your notebook.*"
   ]
  },
  {
   "cell_type": "code",
   "execution_count": null,
   "metadata": {},
   "outputs": [],
   "source": []
  },
  {
   "cell_type": "markdown",
   "metadata": {},
   "source": [
    "**9**: Create a list in which each element is a word from the file *Alice*. Store that list in a variable called *wAlice*. <br>\n",
    "\n",
    "*Note: You will need to do some text parsing here. In particular to split the sentences into words. It is also a good practice to normalize words so that words \"Hello\" and \"hello\" become identical, by making all letters lower case. <br>*\n",
    "\n",
    "*Tip: check the following links for a discussion on regular expressions. Also consult the methods available for string manipulation.*\n",
    "\n",
    "https://docs.python.org/3/library/re.html\n",
    "\n",
    "https://stackoverflow.com/questions/1276764/stripping-everything-but-alphanumeric-chars-from-a-string-in-python"
   ]
  },
  {
   "cell_type": "code",
   "execution_count": null,
   "metadata": {},
   "outputs": [],
   "source": []
  },
  {
   "cell_type": "markdown",
   "metadata": {},
   "source": [
    "##### Using the list *wAlice* answer the following questions:<br>\n",
    "**10**: How many words are in the file Alice.txt? <br>"
   ]
  },
  {
   "cell_type": "code",
   "execution_count": null,
   "metadata": {},
   "outputs": [],
   "source": []
  },
  {
   "cell_type": "markdown",
   "metadata": {},
   "source": [
    "**11**: What is the longest and smallest word in the text file?\n",
    "\n",
    "*Note: Length in this case is measured in terms of the number of characters.*"
   ]
  },
  {
   "cell_type": "code",
   "execution_count": null,
   "metadata": {},
   "outputs": [],
   "source": []
  },
  {
   "cell_type": "markdown",
   "metadata": {},
   "source": [
    "**12**: Delete all the repeated words from *wAlice*. "
   ]
  },
  {
   "cell_type": "code",
   "execution_count": null,
   "metadata": {},
   "outputs": [],
   "source": []
  },
  {
   "cell_type": "markdown",
   "metadata": {},
   "source": [
    "**12.1**:How many different words does the text contain?"
   ]
  },
  {
   "cell_type": "code",
   "execution_count": null,
   "metadata": {},
   "outputs": [],
   "source": []
  },
  {
   "cell_type": "markdown",
   "metadata": {},
   "source": [
    "## Exercise II - Of Countries I Love\n",
    "\n",
    "Consider the list countries in the cell below. <br>\n",
    "It consists of a list of the 3-digit ISO codes of a set of countries of interest.\n",
    "\n",
    "**Note**: If you find the below list of tuples to be erroneous, correct it accordingly and comment on your correction."
   ]
  },
  {
   "cell_type": "code",
   "execution_count": 474,
   "metadata": {},
   "outputs": [],
   "source": [
    "countries = [\n",
    "\n",
    "('PRT','Portugal','Europe'),\n",
    "('ISL','Israel','Asia'),\n",
    "('COL','Colombia','South America'),\n",
    "('NEV','Nevada','North America'),\n",
    "('JPN','Japan','Asia'),\n",
    "('RUS','Russia','well... which part?'), \n",
    "('DEN','Denmark','Europe'),\n",
    "('NOR','Norway','Europe')\n",
    "]"
   ]
  },
  {
   "cell_type": "markdown",
   "metadata": {},
   "source": [
    "**Now consider the file *cdata.csv* that you should download.** <br>\n",
    "\n",
    "The file contains several information about countries, and is organized as follows:\n",
    "1. Column 1 is the 3-digit **ISO Code**\n",
    "2. Column 2 is the **Full Name** of the country\n",
    "3. Column 3 is the **Continent** of the country\n",
    "4. Column 4 is the **Population Size** in 2010\n",
    "5. Column 5 is the **GDP per capita** in 2010"
   ]
  },
  {
   "cell_type": "markdown",
   "metadata": {},
   "source": [
    "**13**: Using the Library CSV from Python STL, load the file *cdata.csv* into an object called *raw*. "
   ]
  },
  {
   "cell_type": "code",
   "execution_count": null,
   "metadata": {},
   "outputs": [],
   "source": []
  },
  {
   "cell_type": "markdown",
   "metadata": {},
   "source": [
    "**13.1**: Create a dictionary called *cData* in which the key corresponds to the 3-digit ISO Code and the value is a tuple with the information contained in the 2nd to the 5th of column of the cdata file."
   ]
  },
  {
   "cell_type": "code",
   "execution_count": null,
   "metadata": {},
   "outputs": [],
   "source": []
  },
  {
   "cell_type": "markdown",
   "metadata": {},
   "source": [
    "**14**: Using *cData*, identify what is the most common Continent among the nations in the list *countries*."
   ]
  },
  {
   "cell_type": "code",
   "execution_count": null,
   "metadata": {},
   "outputs": [],
   "source": []
  },
  {
   "cell_type": "markdown",
   "metadata": {},
   "source": [
    "**15**: Using *cData*, identify what is the the most populated nation in the list *countries*."
   ]
  },
  {
   "cell_type": "code",
   "execution_count": null,
   "metadata": {},
   "outputs": [],
   "source": []
  },
  {
   "cell_type": "markdown",
   "metadata": {},
   "source": [
    "**16**: Compare the average GDP per capita of the nations in the list *countries* with the average GDP of the countries in cdata file. What can you conclude?"
   ]
  },
  {
   "cell_type": "code",
   "execution_count": null,
   "metadata": {},
   "outputs": [],
   "source": []
  },
  {
   "cell_type": "markdown",
   "metadata": {},
   "source": [
    "# <span style=\"color:brown\"> Part 3 - Functions hurt nobody </span>\n",
    "\n",
    "## Exercise I - I hate math\n",
    "\n",
    "##### Consider the following equation:\n",
    "\n",
    "\\begin{equation}\n",
    "    y = 6x^2 + 3x + 2 + cos(x)\n",
    "\\end{equation}\n",
    "\n",
    "**17**: Write a function called *f* that takes one argument, x, and returns y according to the equation above. *Note: You should use the module math to solve this exercise.*"
   ]
  },
  {
   "cell_type": "code",
   "execution_count": 475,
   "metadata": {},
   "outputs": [],
   "source": [
    "# Import the math module\n",
    "import math"
   ]
  },
  {
   "cell_type": "code",
   "execution_count": 476,
   "metadata": {},
   "outputs": [],
   "source": [
    "# Define the function f\n",
    "def f(x):\n",
    "    return 6 * x**2 + 3*x + 2 + math.cos(x)"
   ]
  },
  {
   "cell_type": "markdown",
   "metadata": {},
   "source": [
    "**17.1**: Call the function for x = 2 and print the answer."
   ]
  },
  {
   "cell_type": "code",
   "execution_count": 477,
   "metadata": {},
   "outputs": [
    {
     "name": "stdout",
     "output_type": "stream",
     "text": [
      "31.583853163452858\n"
     ]
    }
   ],
   "source": [
    "# Call the function for x = 2\n",
    "answer = f(2)\n",
    "\n",
    "# Print the answer\n",
    "print(answer)"
   ]
  },
  {
   "cell_type": "markdown",
   "metadata": {},
   "source": [
    "##### Consider the following sequence of numbers:\n",
    "\n",
    "\\begin{equation}\n",
    "    x_0 = 0;  \\\\\n",
    "    x_{n} = x_{n-1} - n; ~~~ \\textit{ if} ~~~ x_{n-1}-n > 0 ~~~ \\textit{ and is not already in the sequence}\\\\\n",
    "    x_{n} = x_{n-1} + n; ~~~ \\textit{ otherwise} ~~~ ~~~ ~~~ ~~~ ~~ ~~~ ~~~ ~~~ ~~~ ~~~ ~ ~~~ ~~~ ~~~ ~~~ ~~~ ~~~ ~ ~~~ ~~~ ~~~~ ~~~ ~~~ ~~~ ~ \\\\\n",
    "\\end{equation}\n",
    "\n",
    "**17.2**: Write a function that returns the nth digit of the above defined sequence. <br>\n",
    "\n",
    "*Note: the above sequence is also known as the Recamán's sequence, and it was invented by Bernardo Recamán Santos (Bogotá, Colombia)*"
   ]
  },
  {
   "cell_type": "code",
   "execution_count": 478,
   "metadata": {},
   "outputs": [],
   "source": [
    "# Define the function RecamanSequence\n",
    "def RecamanSequence(n: int) -> int:\n",
    "    \"\"\"\n",
    "    Returns the nth digit in Recamán's sequence.\n",
    "\n",
    "    Args:\n",
    "    - n (int): The 1-based index of the digit in the sequence to return. Must be a positive integer.\n",
    "\n",
    "    Returns:\n",
    "    - int: The nth digit of the Recamán's sequence.\n",
    "    \"\"\"\n",
    "        \n",
    "    # Raise an error if n is not positive\n",
    "    if n <= 0:\n",
    "        raise ValueError(\"n must be a positive integer!\")\n",
    "    \n",
    "    # Initialize the sequence with 0 as the first digit\n",
    "    sequence = [0]\n",
    "\n",
    "    # Create the sequence until the nth digit\n",
    "    for i in range(1, n):\n",
    "        # Subtract the current index from the last digit\n",
    "        value = sequence[i-1] - i\n",
    "        \n",
    "        # If the value is positive and not already in the sequence, append it\n",
    "        if value > 0 and value not in sequence:\n",
    "            sequence.append(value)\n",
    "        # Otherwise, add the index to the last digit and append it\n",
    "        else:\n",
    "            sequence.append(sequence[i-1] + i)\n",
    "    \n",
    "    # Return the nth digit in the sequence\n",
    "    return sequence[n-1]"
   ]
  },
  {
   "cell_type": "code",
   "execution_count": 479,
   "metadata": {},
   "outputs": [
    {
     "name": "stdout",
     "output_type": "stream",
     "text": [
      "x1 = 0\n",
      "x2 = 1\n",
      "x3 = 3\n",
      "x4 = 6\n",
      "x5 = 2\n",
      "x6 = 7\n",
      "x7 = 13\n",
      "x8 = 20\n",
      "x9 = 12\n",
      "x10 = 21\n"
     ]
    }
   ],
   "source": [
    "# Test the RecamanSequence function by printing the first 10 digits of Recamán's sequence\n",
    "for n in range(1, 11):\n",
    "    print(f\"x{n} = {RecamanSequence(n)}\")"
   ]
  },
  {
   "cell_type": "markdown",
   "metadata": {},
   "source": [
    "**17.3** Write a function named isPrime that takes an integer as input and outputs True if the number is prime and False if the number if not prime. "
   ]
  },
  {
   "cell_type": "code",
   "execution_count": 480,
   "metadata": {},
   "outputs": [],
   "source": [
    "# Define the function isPrime\n",
    "def isPrime(x: int) -> bool:\n",
    "    \"\"\"\n",
    "    Check if a number is prime.\n",
    "\n",
    "    Args:\n",
    "    - x (int): The number to check for primality. Must be a positive integer.\n",
    "\n",
    "    Returns:\n",
    "    - bool: True if x is prime, False otherwise.\n",
    "    \"\"\"\n",
    "    \n",
    "    # Raise an error if x is not positive\n",
    "    if x <= 0:\n",
    "        raise ValueError(\"x must be a positive integer!\")\n",
    "    \n",
    "    # Handle the case for 1 separately (1 is not a prime number)\n",
    "    if x == 1:\n",
    "        return False\n",
    "    \n",
    "    # Iterate from 2 to x-1 to check for divisors\n",
    "    for i in range(2, x):\n",
    "        # If x is divisible by any number in this range, it's not a prime number\n",
    "        if x % i == 0:\n",
    "            return False\n",
    "    \n",
    "    # If no divisors were found, x is prime\n",
    "    return True"
   ]
  },
  {
   "cell_type": "markdown",
   "metadata": {},
   "source": [
    "**17.4** Test your function against some examples to show that it works as expected."
   ]
  },
  {
   "cell_type": "code",
   "execution_count": 481,
   "metadata": {},
   "outputs": [
    {
     "name": "stdout",
     "output_type": "stream",
     "text": [
      "1: False\n",
      "2: True\n",
      "3: True\n",
      "4: False\n",
      "5: True\n",
      "6: False\n",
      "7: True\n",
      "8: False\n",
      "9: False\n",
      "10: False\n"
     ]
    }
   ],
   "source": [
    "# Test the isPrime function by printing the primality of the numbers from 1 to 10\n",
    "for i in range(1, 11):\n",
    "    print(f\"{i}: {isPrime(i)}\")"
   ]
  },
  {
   "cell_type": "markdown",
   "metadata": {},
   "source": [
    "## Exercise II - Monty Hall Problem\n"
   ]
  },
  {
   "cell_type": "markdown",
   "metadata": {},
   "source": [
    "**18**: The Monty Hall Problem is a probability puzzle loosely based on the American television game show \"Let's Make a Deal\" and named after its original host, Monty Hall. The puzzle can be stated as follows\n",
    "\n",
    "> Suppose you're on a game show, and you're given the choice of three doors: Behind one door is a car; behind the others, goats. You pick a door, say No. 1, and the host, who knows what's behind the doors, opens another door, say No. 3, which has a goat. He then says to you, \"Do you want to pick door No. 2?\" Is it to your advantage to switch your choice? <br>\n",
    "+info: https://en.wikipedia.org/wiki/Monty_Hall_problem\n",
    "\n",
    "While intuitively your guess might be that the chances of winning the car is 1/3 independently of the choice to switch doors or not. However, the odds of winning if you switch doors are 2/3 and greater than if you decide not to switch. While there are theoretical solutions to this problem that allow us to estimate the correct odds of winning in each scenario -- switching or not doors -- an alternative way to proof such outcome is through computer simulations. That is the goal of this exercise, to write the necessary components to simulate the Monty Hall problem and validate the theoretical results through simulations.\n",
    "\n",
    "In this exercise, start by implementing a function that simulates one instance of the Monty Hall problem. \n",
    "In that sense, write a function called MontyHall that accepts **one argument**:\n",
    "- A boolean (True/False, or 1/0) that specifies if the player switches doors or not (after the host has opened his door, which contains a goat).\n",
    "The function should return True if the player wins the car or False if not.\n",
    "\n",
    "Naturally, for the function to reproduce the contest it needs to consider and perform some actions, such as:\n",
    "- Set up the game, that is, create the necessary variables to store the information about three doors and what they have behind, as well as an indicator to track the choice of the player.\n",
    "- Given the initial choice of the player, simulate the opening of one of the two remaining doors that contains a goat.\n",
    "- Given the last two doors left, simulate if the player wants to switch or not his/her choice given their strategy (defined by the input boolean argument of the function).\n",
    "- Output the result, if the contestant correctly guesses which door hides the car or if not.\n",
    "\n",
    "The function MontyHall should simulate one instance of the contest given the choice of the player (to switch or not).\n",
    "\n",
    "**The goal is to understand, statistically, which action leads to the highest probability of winning.** <br>\n",
    "*Note: You should use the library random to solve this exercise.*"
   ]
  },
  {
   "cell_type": "code",
   "execution_count": 482,
   "metadata": {},
   "outputs": [],
   "source": [
    "# Import the random module\n",
    "import random"
   ]
  },
  {
   "cell_type": "code",
   "execution_count": 483,
   "metadata": {},
   "outputs": [],
   "source": [
    "# Define the function MontyHall\n",
    "def MontyHall(switch: bool) -> bool:\n",
    "    \"\"\"\n",
    "    Simulate one instance of the Monty Hall problem.\n",
    "\n",
    "    Args:\n",
    "    - switch (bool): True if the player wants to switch doors after the host opens a door, which contains a goat, False otherwise.\n",
    "\n",
    "    Returns:\n",
    "    - bool: True if the player correctly guesses which door hides the car, False otherwise.\n",
    "    \"\"\"\n",
    "\n",
    "    # Initialize the doors: one with a car, two with a goat\n",
    "    doors = [\"car\", \"goat\", \"goat\"]\n",
    "\n",
    "    # Shuffle the doors randomly\n",
    "    random.shuffle(doors)\n",
    "\n",
    "    # Simulate the player randomly selecting one of the three doors\n",
    "    player_door = random.randint(0, 2)\n",
    "\n",
    "    # Identify which doors were not chosen by the player\n",
    "    remaining_doors = [i for i in range(3) if i != player_door]\n",
    "    \n",
    "    # Simulate the host opening a door, which contains a goat\n",
    "    host_door = next(i for i in remaining_doors if doors[i] == \"goat\")\n",
    "    \n",
    "    # Simulate if the player switches doors\n",
    "    if switch:\n",
    "        # Remove the door opened by the host\n",
    "        remaining_doors.remove(host_door)\n",
    "        \n",
    "        # Switch to the remaining door\n",
    "        player_door = remaining_doors[0]\n",
    "\n",
    "    # Return True if the player's final choice contains the car\n",
    "    return doors[player_door] == \"car\""
   ]
  },
  {
   "cell_type": "code",
   "execution_count": 484,
   "metadata": {},
   "outputs": [
    {
     "data": {
      "text/plain": [
       "True"
      ]
     },
     "execution_count": 484,
     "metadata": {},
     "output_type": "execute_result"
    }
   ],
   "source": [
    "# Test the MontyHall function with the player choosing to switch doors\n",
    "MontyHall(True)"
   ]
  },
  {
   "cell_type": "markdown",
   "metadata": {},
   "source": [
    "**18.1** Now that you have a function that simulates an instance of the Monty Hall problem, implement an experiment where you repeat many times (thousands of times) for each of the two possible scenarios: player switching the door, and player not switching the door. Keep track of the results and estimate the frequencies of wins for each scenario and discuss if the results are inline with the theoretical odds."
   ]
  },
  {
   "cell_type": "code",
   "execution_count": 485,
   "metadata": {},
   "outputs": [],
   "source": [
    "# Define the function ExperimentMontyHall\n",
    "def ExperimentMontyHall(n: int):\n",
    "    \"\"\"\n",
    "    Run an experiment to simulate the Monty Hall problem n times for each of the two possible scenarios:\n",
    "    player switching the door, and player not switching the door.\n",
    "    Calculate the win percentage for both scenarios and print the results.\n",
    "    \n",
    "    Args:\n",
    "    - n (int): The number of simulations to run for each scenario (switching or not switching).\n",
    "\n",
    "    Returns:\n",
    "    - None: The function prints the win percentages for both scenarios, but does not return any value.\n",
    "    \"\"\"\n",
    "    \n",
    "    # Initialize a list to store the results of the simulations for both scenarios\n",
    "    scenarios_simulations = []\n",
    "\n",
    "    # Simulate the two possible scenarios: switching or not switching\n",
    "    for switch in [True, False]:\n",
    "        # Initialize a list to store the result of each simulation for the current scenario\n",
    "        simulations = []\n",
    "\n",
    "        # Simulate the Monty Hall problem n times for the current scenario, and append the results to \"simulations\"\n",
    "        for _ in range(n):\n",
    "            simulations.append(MontyHall(switch))\n",
    "        \n",
    "        # Append the list of results for the current scenario to \"scenarios_simulations\"\n",
    "        scenarios_simulations.append(simulations)\n",
    "    \n",
    "    # Calculate the win percentage when the player switches doors\n",
    "    switching_wins_percentage = sum(scenarios_simulations[0]) / n * 100\n",
    "    \n",
    "    # Calculate the win percentage when the player doesn't switch doors\n",
    "    not_switching_wins_percentage = sum(scenarios_simulations[1]) / n * 100\n",
    "\n",
    "    # Print the results\n",
    "    print(\"Wins percentage\")\n",
    "    print(f\"Switching scenario: {round(switching_wins_percentage, 2)}%\")\n",
    "    print(f\"Not switching scenario: {round(not_switching_wins_percentage, 2)}%\")"
   ]
  },
  {
   "cell_type": "code",
   "execution_count": 486,
   "metadata": {},
   "outputs": [
    {
     "name": "stdout",
     "output_type": "stream",
     "text": [
      "Wins percentage\n",
      "Switching scenario: 66.14%\n",
      "Not switching scenario: 33.37%\n"
     ]
    }
   ],
   "source": [
    "# Test the ExperimentMontyHall function with 10,000 simulations for each scenario\n",
    "ExperimentMontyHall(10000)"
   ]
  },
  {
   "cell_type": "markdown",
   "metadata": {},
   "source": [
    "For the switching and not switching scenarios, the win percentages in the simulation are 66.14% and 33.37%, respectively. These results are very close to the theoretical odds of 2/3 and 1/3, respectively.<br>\n",
    "\n",
    "**Conclusion:** The results from 10,000 simulations align well with the theoretical odds of the Monty Hall problem. If the player chooses to switch doors, they significantly increase their chance of winning (around 2/3 of the time). On the other hand, if they stick with their original choice, their chances of winning are much lower (around 1/3 of the time)."
   ]
  },
  {
   "cell_type": "markdown",
   "metadata": {},
   "source": [
    "## Exercise III\n",
    "\n",
    "**19**: Consider the list *A*, declared below. <br>\n",
    "Use the function map() to change the values of A by adding 1 to each value if it is even and subtracting 1 from it otherwise.\n",
    "\n",
    "**Note**: Carefully consider the values of list A and adapt your code accordingly to deal with number that are represented as strings."
   ]
  },
  {
   "cell_type": "code",
   "execution_count": 487,
   "metadata": {},
   "outputs": [],
   "source": [
    "A = [460,3347,3044,490,699,\"1258\",1804,973,2223,3416,\"2879\",1058,2915,2422,351,\"1543\",1020,208,643,\"795\",3337,\"2585\",471,2623,1077]"
   ]
  },
  {
   "cell_type": "code",
   "execution_count": 488,
   "metadata": {},
   "outputs": [],
   "source": [
    "# For each element of A (x), convert it to an integer:\n",
    "# - If x is even, add 1 to it\n",
    "# - If x is odd, subtract 1 from it\n",
    "A = list(map(lambda x: int(x)+1 if int(x)%2 == 0 else int(x)-1, A))"
   ]
  },
  {
   "cell_type": "code",
   "execution_count": 489,
   "metadata": {},
   "outputs": [
    {
     "name": "stdout",
     "output_type": "stream",
     "text": [
      "[461, 3346, 3045, 491, 698, 1259, 1805, 972, 2222, 3417, 2878, 1059, 2914, 2423, 350, 1542, 1021, 209, 642, 794, 3336, 2584, 470, 2622, 1076]\n"
     ]
    }
   ],
   "source": [
    "# Print the modified list A\n",
    "print(A)"
   ]
  },
  {
   "cell_type": "markdown",
   "metadata": {},
   "source": [
    "**20**: Create a list B with the same size of A, where each element is True if the associated value in list A is greater than 700, else is False."
   ]
  },
  {
   "cell_type": "code",
   "execution_count": 490,
   "metadata": {},
   "outputs": [],
   "source": [
    "# Create the list B\n",
    "B = list(map(lambda x: x>700, A))"
   ]
  },
  {
   "cell_type": "code",
   "execution_count": 491,
   "metadata": {},
   "outputs": [
    {
     "name": "stdout",
     "output_type": "stream",
     "text": [
      "[False, True, True, False, False, True, True, True, True, True, True, True, True, True, False, True, True, False, False, True, True, True, False, True, True]\n"
     ]
    }
   ],
   "source": [
    "# Print the list B\n",
    "print(B)"
   ]
  },
  {
   "cell_type": "markdown",
   "metadata": {},
   "source": [
    "**21**: Create a list L that contains the Logarithm of base 10 of each value in A. <br>\n",
    "\n",
    "*Note: You should use the module math to solve this exercise.*"
   ]
  },
  {
   "cell_type": "code",
   "execution_count": 492,
   "metadata": {},
   "outputs": [],
   "source": [
    "# Import the math module\n",
    "import math"
   ]
  },
  {
   "cell_type": "code",
   "execution_count": 493,
   "metadata": {},
   "outputs": [],
   "source": [
    "# Create the list L\n",
    "L = list(map(lambda x: math.log10(x), A))"
   ]
  },
  {
   "cell_type": "code",
   "execution_count": 494,
   "metadata": {},
   "outputs": [
    {
     "name": "stdout",
     "output_type": "stream",
     "text": [
      "[2.663700925389648, 3.5245259366263757, 3.4835872969688944, 2.6910814921229687, 2.843855422623161, 3.1000257301078626, 3.256477206241677, 2.9876662649262746, 3.346744054604849, 3.5336449787987627, 3.4590907896005865, 3.024895960107485, 3.4644895474339714, 3.384353414137506, 2.5440680443502757, 3.188084373714938, 3.0090257420869104, 2.3201462861110542, 2.807535028068853, 2.8998205024270964, 3.523226041965701, 3.4122925093230463, 2.6720978579357175, 3.4186326873540653, 3.0318122713303706]\n"
     ]
    }
   ],
   "source": [
    "# Print the list L\n",
    "print(L)"
   ]
  },
  {
   "cell_type": "markdown",
   "metadata": {},
   "source": [
    "**22**: How many numbers in A are greater than 1000? <br>\n",
    "\n",
    "*Note: You should use the function filter().*"
   ]
  },
  {
   "cell_type": "code",
   "execution_count": 495,
   "metadata": {},
   "outputs": [],
   "source": [
    "# Create a filtered list with the elements of A that are greater than 1000\n",
    "numbers_above_1000 = list(filter(lambda x: x>1000, A))"
   ]
  },
  {
   "cell_type": "code",
   "execution_count": 496,
   "metadata": {},
   "outputs": [
    {
     "name": "stdout",
     "output_type": "stream",
     "text": [
      "16\n"
     ]
    }
   ],
   "source": [
    "# Print the length of the filtered list (the number of elements of A that are greater than 1000)\n",
    "print(len(numbers_above_1000))"
   ]
  },
  {
   "cell_type": "markdown",
   "metadata": {},
   "source": [
    "**23** Use the function isPrime, that you declared in 17.3, to identify which numbers from A are prime. Note that depending on your implementation of isPrime this task can take more or less time. Use filter to achieve this task."
   ]
  },
  {
   "cell_type": "code",
   "execution_count": 497,
   "metadata": {},
   "outputs": [],
   "source": [
    "# Create a filtered list with the elements of A that are prime\n",
    "prime_numbers = list(filter(lambda x: isPrime(x), A))"
   ]
  },
  {
   "cell_type": "code",
   "execution_count": 498,
   "metadata": {},
   "outputs": [
    {
     "name": "stdout",
     "output_type": "stream",
     "text": [
      "[461, 491, 1259, 2423, 1021]\n"
     ]
    }
   ],
   "source": [
    "# Print the filtered list (the elements of A that are prime)\n",
    "print(prime_numbers)"
   ]
  },
  {
   "cell_type": "markdown",
   "metadata": {},
   "source": [
    "### Congratulations, it is done!"
   ]
  }
 ],
 "metadata": {
  "kernelspec": {
   "display_name": "Python 3 (ipykernel)",
   "language": "python",
   "name": "python3"
  },
  "language_info": {
   "codemirror_mode": {
    "name": "ipython",
    "version": 3
   },
   "file_extension": ".py",
   "mimetype": "text/x-python",
   "name": "python",
   "nbconvert_exporter": "python",
   "pygments_lexer": "ipython3",
<<<<<<< Updated upstream
   "version": "3.11.3"
=======
   "version": "3.12.4"
>>>>>>> Stashed changes
  }
 },
 "nbformat": 4,
 "nbformat_minor": 4
}
