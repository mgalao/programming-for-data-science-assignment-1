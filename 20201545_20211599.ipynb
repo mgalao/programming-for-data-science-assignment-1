{
 "cells": [
  {
   "cell_type": "markdown",
   "metadata": {},
   "source": [
    "# <span style=\"color:green\"> Start Here </span> \n",
    "\n",
    "[Please Complete the following form with your details]\n",
    "\n",
    "Student Name - Alexandra Pinto<br>\n",
    "Student id - 20211599<br>\n",
    "Contact e-mail - 20211599@novaims.unl.pt<br>\n",
    "\n",
    "\n",
    "Student Name - Marco Galão<br>\n",
    "Student id - 20201545<br>\n",
    "Contact e-mail - r20201545@novaims.unl.pt<br>"
   ]
  },
  {
   "cell_type": "markdown",
   "metadata": {},
   "source": [
    "# <span style=\"color:brown\"> Part 1 -  Variable Declaration and Manipulation </span> \n",
    "\n",
    "## Exercise I - of Lists and Random numbers\n",
    "\n",
    "**1**: Declare a variable X that stores a list of 100 integers randomly sampled between -100 and 100.<br>\n",
    "Note: You are not allowed to use third party libraries -- such as Numpy, Pandas, or Scipy -- in this exercise."
   ]
  },
  {
   "cell_type": "code",
   "execution_count": 47,
   "metadata": {},
   "outputs": [],
   "source": [
    "# Import the random module (to generate random integers)\n",
    "import random"
   ]
  },
  {
   "cell_type": "code",
   "execution_count": 48,
   "metadata": {},
   "outputs": [],
   "source": [
    "# Create a list X with 100 random integers between -100 and 100 (inclusive)\n",
    "X = [random.randint(-100, 100) for i in range(100)]\n",
    "\n",
    "# Explanation:\n",
    "# random.randint(-100, 100) generates a random integer between -100 and 100 (inclusive)\n",
    "# range(100) ensures that 100 random integers are generated and added to the list X"
   ]
  },
  {
   "cell_type": "code",
   "execution_count": 49,
   "metadata": {},
   "outputs": [
    {
     "name": "stdout",
     "output_type": "stream",
     "text": [
      "X: [8, -64, -35, -73, 49, -34, -85, -59, -78, 71, 58, 43, 15, 46, 49, 7, 41, 9, -47, -90, -33, 42, 26, -100, 62, -51, -1, 62, -77, 0, -44, 66, -7, 32, 23, 19, 44, 54, 90, 95, -79, -80, 27, 33, 84, 92, -72, -67, 38, -80, -68, 63, -53, -88, -16, 5, -62, 59, -41, 88, -18, -44, 62, -68, 47, 16, 32, -27, -28, 42, 34, -94, 60, 48, 8, 58, 20, 40, -20, -27, -45, 25, -49, 17, 65, 64, -40, 96, 58, 24, -78, -98, 59, -61, -29, -89, 1, 66, 84, 61]\n"
     ]
    }
   ],
   "source": [
    "# Print the list X\n",
    "print(\"X:\", X)"
   ]
  },
  {
   "cell_type": "markdown",
   "metadata": {},
   "source": [
    "**2**: How many odd numbers are in list X?\n"
   ]
  },
  {
   "cell_type": "code",
   "execution_count": 50,
   "metadata": {},
   "outputs": [],
   "source": [
    "# Initialize a counter to keep track of the odd numbers\n",
    "odd_count = 0\n",
    "\n",
    "# Iterate through each number in the list X to check if it's odd\n",
    "for i in X:\n",
    "    # If the number is odd (there is a remainder when divided by 2), increment the odd number counter by 1\n",
    "    if i % 2 != 0:\n",
    "        odd_count += 1"
   ]
  },
  {
   "cell_type": "code",
   "execution_count": 51,
   "metadata": {},
   "outputs": [
    {
     "name": "stdout",
     "output_type": "stream",
     "text": [
      "There are 44 odd numbers in list X.\n"
     ]
    }
   ],
   "source": [
    "# Print the answer\n",
    "print(f\"There are {odd_count} odd numbers in list X.\")"
   ]
  },
  {
   "cell_type": "markdown",
   "metadata": {},
   "source": [
    "**2.1** Check if there are as many even numbers as there are odd numbers, else discard the list and generate a new one."
   ]
  },
  {
   "cell_type": "code",
   "execution_count": 52,
   "metadata": {},
   "outputs": [],
   "source": [
    "# In this exercise, we will adapt the code from exercise 2\n",
    "\n",
    "# Initialize a counter to keep track of the even numbers\n",
    "even_count = 0\n",
    "\n",
    "# Iterate through each number in the list X to check if it's even\n",
    "for i in X:\n",
    "    # If the number is even (there is no remainder when divided by 2), increment the even number counter by 1\n",
    "    if i % 2 == 0:\n",
    "        even_count += 1"
   ]
  },
  {
   "cell_type": "code",
   "execution_count": 53,
   "metadata": {},
   "outputs": [
    {
     "name": "stdout",
     "output_type": "stream",
     "text": [
      "There are 56 odd numbers in list X.\n"
     ]
    }
   ],
   "source": [
    "# Print the answer\n",
    "print(f\"There are {even_count} odd numbers in list X.\")"
   ]
  },
  {
   "cell_type": "code",
   "execution_count": 54,
   "metadata": {},
   "outputs": [
    {
     "name": "stdout",
     "output_type": "stream",
     "text": [
      "The list X has a different number of odd and even numbers, so we will generate a new list X.\n",
      "X: [-85, -53, -30, 54, 91, -40, -11, 68, -33, 91, 14, -3, -28, -40, 62, -9, -91, 58, -15, 33, 15, 10, 11, 87, -96, 60, 99, -5, -26, 88, -34, -56, 48, 90, 32, 59, -75, 51, -20, 46, 29, -31, -43, -6, 68, -93, 67, 18, 20, 58, 78, -62, -64, 19, -74, -28, 75, 19, 58, -22, -10, -29, 85, 39, 42, 42, -64, 60, 76, 66, -41, 65, -39, -68, -46, 56, 93, 4, 100, -65, -95, -75, 84, 49, 0, -92, -3, -90, 64, 23, -30, -75, 41, -44, -80, 71, 27, 26, 36, -14]\n"
     ]
    }
   ],
   "source": [
    "# Now we will compare the counts of odd and even numbers\n",
    "\n",
    "# Check if the number of odd and even numbers are equal or different\n",
    "if odd_count == even_count:\n",
    "    print(\"The list X has an equal number of odd and even numbers.\")\n",
    "else:\n",
    "    print(\"The list X has a different number of odd and even numbers, so we will generate a new list X.\")\n",
    "    \n",
    "    # Use the code from exercise 1\n",
    "    # Regenerate the list X with 100 random integers between -100 and 100 (inclusive)\n",
    "    X = [random.randint(-100, 100) for i in range(100)]\n",
    "    \n",
    "    # Explanation:\n",
    "    # random.randint(-100, 100) generates a random integer between -100 and 100, including both\n",
    "    # range(100) ensures that 100 random integers are generated and added to the list X\n",
    "\n",
    "    # Print the list X\n",
    "    print(\"X:\", X)"
   ]
  },
  {
   "cell_type": "markdown",
   "metadata": {},
   "source": [
    "**2.2** Create a pipeline to automatically perform the tasks above such that you avoid having to run the cells multiple times to reach the desired outcome."
   ]
  },
  {
   "cell_type": "code",
   "execution_count": 55,
   "metadata": {},
   "outputs": [],
   "source": [
    "# Import the random module (to generate random integers)\n",
    "import random"
   ]
  },
  {
   "cell_type": "code",
   "execution_count": 56,
   "metadata": {},
   "outputs": [],
   "source": [
    "# Define the function GenerateList\n",
    "def GenerateList():\n",
    "    \"\"\"\n",
    "    Generates a list of 100 random integers between -100 and 100 (inclusive).\n",
    "\n",
    "    Returns:\n",
    "        list: A list of 100 random integers between -100 and 100 (inclusive).\n",
    "    \"\"\"\n",
    "    \n",
    "    return [random.randint(-100, 100) for i in range(100)]\n",
    "    # Explanation:\n",
    "    # random.randint(-100, 100) generates a random integer between -100 and 100 (inclusive)\n",
    "    # range(100) ensures that 100 random integers are generated and added to the list X\n",
    "\n",
    "# Define the function CountEvenOddNumbers\n",
    "def CountEvenOddNumbers(X):\n",
    "    \"\"\"\n",
    "    Counts the number of even and odd numbers in a list of numeric types.\n",
    "\n",
    "    Args:\n",
    "    - X (list): A list of numeric types.\n",
    "\n",
    "    Returns:\n",
    "    - tuple: A tuple containing two integers - (even_count, odd_count) where:\n",
    "             - even_count is the number of even integers in the list.\n",
    "             - odd_count is the number of odd integers in the list.\n",
    "    \"\"\"\n",
    "\n",
    "    # Initialize counters to keep track of even and odd numbers\n",
    "    even_count = 0\n",
    "    odd_count = 0\n",
    "\n",
    "    # Iterate through each number in the list X to check if it's even or odd\n",
    "    for i in X:\n",
    "        # If the number is even (there is no remainder when divided by 2), increment the even number counter by 1\n",
    "        if i % 2 == 0:\n",
    "            even_count += 1  \n",
    "        # Otherwise, it's odd, so increment the odd number counter by 1\n",
    "        else:\n",
    "            odd_count += 1\n",
    "    \n",
    "    # Return the counts of even and odd numbers as a tuple\n",
    "    return even_count, odd_count\n",
    "\n",
    "# Define the function Pipeline\n",
    "def Pipeline():\n",
    "    \"\"\"\n",
    "    Generates a list of 100 random integers between -100 and 100 (inclusive) and\n",
    "    checks if it has an equal number of even and odd numbers.\n",
    "    If not, it regenerates the list until the counts of even and odd numbers are equal.\n",
    "\n",
    "    Returns:\n",
    "    - None\n",
    "    \"\"\"\n",
    "\n",
    "    # Generate the initial list X\n",
    "    X = GenerateList()\n",
    "    \n",
    "    # Calculate the initial counts of even and odd numbers\n",
    "    even_count, odd_count = CountEvenOddNumbers(X)\n",
    "    \n",
    "    # Continue regenerating list X until the number of even and odd numbers are equal\n",
    "    while even_count != odd_count:\n",
    "        print(\"The list X has a different number of odd and even numbers, so we will generate a new list X.\")\n",
    "        \n",
    "        # Regenerate a new list X\n",
    "        X = GenerateList()\n",
    "\n",
    "        # Print the regenerated list X\n",
    "        print(\"X:\", X, \"\\n\")\n",
    "\n",
    "        # Recalculate the counts of even and odd numbers\n",
    "        even_count, odd_count = CountEvenOddNumbers(X)\n",
    "        \n",
    "    # When the loop breaks, it means the number of even and odd numbers is equal\n",
    "    print(\"The list X has equal number of even and odd numbers.\")\n",
    "    \n",
    "    # Print the final list X\n",
    "    print(\"Final X:\", X)"
   ]
  },
  {
   "cell_type": "code",
   "execution_count": 57,
   "metadata": {},
   "outputs": [
    {
     "name": "stdout",
     "output_type": "stream",
     "text": [
      "The list X has a different number of odd and even numbers, so we will generate a new list X.\n",
      "X: [-87, -61, -29, 14, 53, -28, 31, -33, -65, 80, -57, 66, -70, -80, -81, -23, -18, -9, -60, -78, 67, -27, -25, -81, -18, -4, -19, 94, 33, -44, -96, 52, 90, 66, -69, -68, 14, 92, -77, -53, -34, 27, 83, -98, 54, -48, -99, 43, -41, 15, 17, 12, -88, -55, 68, 100, 94, -78, 19, -4, -51, 33, -91, -82, -43, 75, -81, 33, 25, 36, 43, -97, -31, -44, 4, 12, 23, 66, -50, 64, 57, 6, 70, 36, -27, -59, 60, -54, -7, -11, -19, -65, -81, -34, 77, 44, 60, -68, -52, 95] \n",
      "\n",
      "The list X has a different number of odd and even numbers, so we will generate a new list X.\n",
      "X: [-63, -5, -21, 57, -39, -35, -43, 78, 13, 38, 21, 15, -83, -77, 6, 69, -76, 43, -65, 91, 37, 81, 33, -21, 29, -10, 98, 27, -97, 53, 22, 37, 77, -33, 33, -62, -57, -75, 57, -3, 51, -63, 23, -55, -13, 69, -90, -99, -34, 53, 22, -52, -61, 99, 44, -100, -88, -32, 14, 75, -46, -4, -89, -42, 77, -74, 21, -75, 74, -1, 96, 100, -15, 9, -20, -14, -57, 98, 36, 14, -83, -95, 93, -80, 50, -100, 17, -53, -37, 1, 96, -69, -92, -60, 58, 93, 76, 94, -5, -34] \n",
      "\n",
      "The list X has a different number of odd and even numbers, so we will generate a new list X.\n",
      "X: [-49, 86, 74, 83, 14, -5, -60, -80, 5, 21, 40, 44, 57, -10, 62, 44, 63, 15, 81, -55, 95, 27, -4, -81, -39, 65, 60, 35, -50, -13, 40, 82, 13, 29, 94, 61, -91, -53, -82, -68, -38, 70, 28, 95, 8, 3, 32, 35, 5, -1, -62, -57, 43, 33, -77, 84, 0, 59, -74, -66, 22, 86, -39, 73, 64, -40, 49, 68, -64, 6, -87, 63, -28, 5, 21, -28, 15, -96, 60, -76, -25, -27, 87, 81, -5, -2, 85, 54, -66, -98, -47, -46, -81, -15, 17, -8, -35, -25, -3, -48] \n",
      "\n",
      "The list X has a different number of odd and even numbers, so we will generate a new list X.\n",
      "X: [14, 82, 18, 71, 62, 91, 21, -60, -4, 68, -6, -56, -12, 7, -98, -16, 25, -73, -67, 61, -13, -49, 94, 84, -46, 30, 14, -49, -74, -49, 7, 39, 41, -55, 95, -21, -95, 23, 66, -21, 50, 56, -53, 84, 32, 45, -85, -52, 7, 58, 72, -45, -79, 71, -25, 39, 40, -39, -25, 70, -18, -32, -7, 86, -100, 71, 36, 50, 52, 23, -97, 38, 81, -60, -7, -85, 78, -42, 35, -3, -36, 22, -1, -66, -40, -35, 50, -85, 42, 21, 27, 43, 97, 97, 88, 0, 20, 22, 92, -5] \n",
      "\n",
      "The list X has equal number of even and odd numbers.\n",
      "Final X: [14, 82, 18, 71, 62, 91, 21, -60, -4, 68, -6, -56, -12, 7, -98, -16, 25, -73, -67, 61, -13, -49, 94, 84, -46, 30, 14, -49, -74, -49, 7, 39, 41, -55, 95, -21, -95, 23, 66, -21, 50, 56, -53, 84, 32, 45, -85, -52, 7, 58, 72, -45, -79, 71, -25, 39, 40, -39, -25, 70, -18, -32, -7, 86, -100, 71, 36, 50, 52, 23, -97, 38, 81, -60, -7, -85, 78, -42, 35, -3, -36, 22, -1, -66, -40, -35, 50, -85, 42, 21, 27, 43, 97, 97, 88, 0, 20, 22, 92, -5]\n"
     ]
    }
   ],
   "source": [
    "# Call the function Pipeline\n",
    "Pipeline()"
   ]
  },
  {
   "cell_type": "markdown",
   "metadata": {},
   "source": [
    "**3**: Print the number of digits that the 5th and 100th element of the list have. <br>\n",
    "*Note: For instance, the number 1 contains one digit, the number 10 contains two digits, the number -2 contains one digit.*"
   ]
  },
  {
   "cell_type": "code",
   "execution_count": 58,
   "metadata": {},
   "outputs": [],
   "source": [
    "# Access the fifth and hundredth elements of the list X (indexing starts at 0)\n",
    "fifth_element = X[4]\n",
    "hundredth_element = X[99]"
   ]
  },
  {
   "cell_type": "code",
   "execution_count": 59,
   "metadata": {},
   "outputs": [
    {
     "name": "stdout",
     "output_type": "stream",
     "text": [
      "The 5th element is 91 and has 2 digits.\n",
      "The 100th element is -14 and has 2 digits.\n"
     ]
    }
   ],
   "source": [
    "# To determine the number of digits in a number, we will use a combination of three functions:\n",
    "# - abs: Returns the absolute value of the number to ensure we count digits correctly, regardless of sign\n",
    "# - str: Converts the absolute value to a string, allowing us to count its length\n",
    "# - len: Returns the length of the string representation, which corresponds to the number of digits\n",
    "\n",
    "# Print the answer\n",
    "print(f\"The 5th element is {fifth_element} and has {len(str(abs(fifth_element)))} digits.\")\n",
    "print(f\"The 100th element is {hundredth_element} and has {len(str(abs(hundredth_element)))} digits.\")"
   ]
  },
  {
   "cell_type": "markdown",
   "metadata": {},
   "source": [
    "**4**: Is the sum total of all the numbers in the list even or odd?"
   ]
  },
  {
   "cell_type": "code",
   "execution_count": 60,
   "metadata": {},
   "outputs": [
    {
     "name": "stdout",
     "output_type": "stream",
     "text": [
      "The sum of all the numbers in list X is even and is equal to 692.\n"
     ]
    }
   ],
   "source": [
    "# Store the sum of all numbers in the list\n",
    "total_sum = sum(X)\n",
    "\n",
    "# Determine if the total sum is even or odd and print the answer\n",
    "if total_sum % 2 == 0:\n",
    "    print(f\"The sum of all the numbers in list X is even and is equal to {total_sum}.\")\n",
    "else:\n",
    "    print(f\"The sum of all the numbers in list X is odd and is equal to {total_sum}.\")"
   ]
  },
  {
   "cell_type": "markdown",
   "metadata": {},
   "source": [
    "**5**: What is the average of the list X?"
   ]
  },
  {
   "cell_type": "code",
   "execution_count": 61,
   "metadata": {},
   "outputs": [],
   "source": [
    "# Calculate the average of the list X\n",
    "avg = sum(X) / len(X)"
   ]
  },
  {
   "cell_type": "code",
   "execution_count": 62,
   "metadata": {},
   "outputs": [
    {
     "name": "stdout",
     "output_type": "stream",
     "text": [
      "The average of the list X is 6.92.\n"
     ]
    }
   ],
   "source": [
    "# Print the answer\n",
    "print(f\"The average of the list X is {avg}.\")"
   ]
  },
  {
   "cell_type": "markdown",
   "metadata": {},
   "source": [
    "**5.1.** What is the population standard deviation? <br>"
   ]
  },
  {
   "cell_type": "code",
   "execution_count": 63,
   "metadata": {},
   "outputs": [],
   "source": [
    "# Calculate the squared differences from the average\n",
    "squared_diffs = [(x - avg) ** 2 for x in X]\n",
    "\n",
    "# Calculate the population variance\n",
    "pop_var = sum(squared_diffs) / len(X)\n",
    "\n",
    "# Calculate the population standard deviation\n",
    "pop_std_dev = pop_var ** 0.5"
   ]
  },
  {
   "cell_type": "code",
   "execution_count": 64,
   "metadata": {},
   "outputs": [
    {
     "name": "stdout",
     "output_type": "stream",
     "text": [
      "The population standard deviation of X list is 56.44.\n"
     ]
    }
   ],
   "source": [
    "# Print the answer\n",
    "print(f\"The population standard deviation of X list is {round(pop_std_dev, 2)}.\")"
   ]
  },
  {
   "cell_type": "markdown",
   "metadata": {},
   "source": [
    "**6**: Sort list X in descending order and store the result in variable Xsort. <br>"
   ]
  },
  {
   "cell_type": "code",
   "execution_count": 65,
   "metadata": {},
   "outputs": [],
   "source": [
    "# Sort the list X in descending order using the sorted() function\n",
    "# The reverse=True argument ensures that the sorting is done in descending order\n",
    "Xsort = sorted(X, reverse=True)"
   ]
  },
  {
   "cell_type": "code",
   "execution_count": 66,
   "metadata": {},
   "outputs": [
    {
     "name": "stdout",
     "output_type": "stream",
     "text": [
      "X: [-85, -53, -30, 54, 91, -40, -11, 68, -33, 91, 14, -3, -28, -40, 62, -9, -91, 58, -15, 33, 15, 10, 11, 87, -96, 60, 99, -5, -26, 88, -34, -56, 48, 90, 32, 59, -75, 51, -20, 46, 29, -31, -43, -6, 68, -93, 67, 18, 20, 58, 78, -62, -64, 19, -74, -28, 75, 19, 58, -22, -10, -29, 85, 39, 42, 42, -64, 60, 76, 66, -41, 65, -39, -68, -46, 56, 93, 4, 100, -65, -95, -75, 84, 49, 0, -92, -3, -90, 64, 23, -30, -75, 41, -44, -80, 71, 27, 26, 36, -14]\n",
      "Xsort: [100, 99, 93, 91, 91, 90, 88, 87, 85, 84, 78, 76, 75, 71, 68, 68, 67, 66, 65, 64, 62, 60, 60, 59, 58, 58, 58, 56, 54, 51, 49, 48, 46, 42, 42, 41, 39, 36, 33, 32, 29, 27, 26, 23, 20, 19, 19, 18, 15, 14, 11, 10, 4, 0, -3, -3, -5, -6, -9, -10, -11, -14, -15, -20, -22, -26, -28, -28, -29, -30, -30, -31, -33, -34, -39, -40, -40, -41, -43, -44, -46, -53, -56, -62, -64, -64, -65, -68, -74, -75, -75, -75, -80, -85, -90, -91, -92, -93, -95, -96]\n"
     ]
    }
   ],
   "source": [
    "# Print the original list X and the sorted list Xsort for comparison\n",
    "print(\"X:\", X)\n",
    "print(\"Xsort:\", Xsort)"
   ]
  },
  {
   "cell_type": "markdown",
   "metadata": {},
   "source": [
    "**6.1** Then replace each value in Xsort with index i as the sum of the values with index i-1 and i. <br> "
   ]
  },
  {
   "cell_type": "code",
   "execution_count": 67,
   "metadata": {},
   "outputs": [],
   "source": [
    "# Regenerate Xsort by taking the first element and, for each subsequent index, sum the current element with the previous element\n",
    "Xsort = [Xsort[0]] + [Xsort[i - 1] + Xsort[i] for i in range(1, len(Xsort))]"
   ]
  },
  {
   "cell_type": "code",
   "execution_count": 68,
   "metadata": {},
   "outputs": [
    {
     "name": "stdout",
     "output_type": "stream",
     "text": [
      "Xsort: [100, 199, 192, 184, 182, 181, 178, 175, 172, 169, 162, 154, 151, 146, 139, 136, 135, 133, 131, 129, 126, 122, 120, 119, 117, 116, 116, 114, 110, 105, 100, 97, 94, 88, 84, 83, 80, 75, 69, 65, 61, 56, 53, 49, 43, 39, 38, 37, 33, 29, 25, 21, 14, 4, -3, -6, -8, -11, -15, -19, -21, -25, -29, -35, -42, -48, -54, -56, -57, -59, -60, -61, -64, -67, -73, -79, -80, -81, -84, -87, -90, -99, -109, -118, -126, -128, -129, -133, -142, -149, -150, -150, -155, -165, -175, -181, -183, -185, -188, -191]\n"
     ]
    }
   ],
   "source": [
    "# Print the Xsort list\n",
    "print(\"Xsort:\", Xsort)"
   ]
  },
  {
   "cell_type": "markdown",
   "metadata": {},
   "source": [
    "## Exercise II - The Most Uncool Band\n",
    "\n",
    "**7**: Consider the dictionaries  *songs* and *users* that are declared in the cell below. <br>\n",
    "Create a list with the names of the people who listened to more than one song. Print the List. <br>"
   ]
  },
  {
   "cell_type": "code",
   "execution_count": 69,
   "metadata": {},
   "outputs": [],
   "source": [
    "songs = {\n",
    "    \"4589\": \"Mr. Blue Sky, Calling America, Twilight, Night in the City\",\n",
    "    \"7312\": \"Strange Magic, Sweet Talkin' Woman, Turn to Stone\",\n",
    "    \"9641\": \"Confusion, Last Train to London, All Over the World, Hold On Tight\",\n",
    "    \"2853\": \"Can't Get It Out of My Head, Showdown, Twilight\",\n",
    "    \"6704\": \"Ticket to the Moon, Here Is the News, Twilight, Secret Messages, Four Little Diamonds\"\n",
    "}"
   ]
  },
  {
   "cell_type": "code",
   "execution_count": 70,
   "metadata": {},
   "outputs": [],
   "source": [
    "users = {\n",
    "    \"4589\": \"Eve\",\n",
    "    \"7312\": \"Diana\",\n",
    "    \"9641\": \"Alice\",\n",
    "    \"2853\": \"Charlie\",\n",
    "    \"6704\": \"Bob\"\n",
    "}"
   ]
  },
  {
   "cell_type": "code",
   "execution_count": 71,
   "metadata": {},
   "outputs": [],
   "source": [
    "# Create a list to store the names of users who listened to more than one song\n",
    "users_with_multiple_songs = []\n",
    "\n",
    "# Iterate over the songs dictionary\n",
    "for user_id, song_list in songs.items():\n",
    "    # Split the \"song_list\" into individual songs and count the total number of songs\n",
    "    songs_count = len(song_list.split(\", \"))\n",
    "    \n",
    "    # Check if the user listened to more than one song\n",
    "    if songs_count > 1:\n",
    "        # Store the user name associated with the user ID\n",
    "        user_name = users[user_id]\n",
    "\n",
    "        # Append the user name to the list \"users_with_multiple_songs\"\n",
    "        users_with_multiple_songs.append(user_name)"
   ]
  },
  {
   "cell_type": "code",
   "execution_count": 72,
   "metadata": {},
   "outputs": [
    {
     "name": "stdout",
     "output_type": "stream",
     "text": [
      "The following users have listened to more than one song: ['Eve', 'Diana', 'Alice', 'Charlie', 'Bob'].\n"
     ]
    }
   ],
   "source": [
    "# Print the answer  \n",
    "print(f\"The following users have listened to more than one song: {users_with_multiple_songs}.\")"
   ]
  },
  {
   "cell_type": "markdown",
   "metadata": {},
   "source": [
    "**7.1** What is the name of the user who listened to the most songs?\n",
    "\n",
    "*Tip: You will want to check the methods associated with string manipulation. See the link: <br>\n",
    "https://python-reference.readthedocs.io/en/latest/docs/unicode/index.html*"
   ]
  },
  {
   "cell_type": "code",
   "execution_count": 73,
   "metadata": {},
   "outputs": [],
   "source": [
    "# Initialize variables to store the user with most songs and the maximum song count\n",
    "max_songs = 0\n",
    "user_max_songs = \"\"\n",
    "\n",
    "# Iterate over each user in the \"songs\" dictionary\n",
    "for user_id, song_list in songs.items():\n",
    "    # Split the \"song_list\" into individual songs and count the total number of songs\n",
    "    songs_count = len(song_list.split(\", \"))\n",
    "    \n",
    "    # Check if the current user has listened to more songs than the current maximum\n",
    "    if songs_count > max_songs:\n",
    "        # Update the maximum song count with the current user's count\n",
    "        max_songs = songs_count\n",
    "        \n",
    "        # Update the user with the maximum songs to the current user\n",
    "        user_max_songs = users[user_id]      "
   ]
  },
  {
   "cell_type": "code",
   "execution_count": 74,
   "metadata": {},
   "outputs": [
    {
     "name": "stdout",
     "output_type": "stream",
     "text": [
      "The user who listened to the most songs is Bob, with a total of 5 songs.\n"
     ]
    }
   ],
   "source": [
    "# Print the answer      \n",
    "print(f\"The user who listened to the most songs is {user_max_songs}, with a total of {max_songs} songs.\")"
   ]
  },
  {
   "cell_type": "markdown",
   "metadata": {},
   "source": [
    "**7.2** What is the name of the most popular song?"
   ]
  },
  {
   "cell_type": "code",
   "execution_count": 75,
   "metadata": {},
   "outputs": [],
   "source": [
    "# Create a dictionary to store the count of each song\n",
    "songs_count = {}\n",
    "\n",
    "# Iterate over the lists of songs in the \"songs\" dictionary\n",
    "for song_list in songs.values():\n",
    "    # Split the song list into individual songs\n",
    "    song_list_split = song_list.split(\", \")\n",
    "    \n",
    "    # Iterate through each song in the \"song_list_split\"\n",
    "    for song in song_list_split:\n",
    "        # Check if the song is already in the \"songs_count\" dictionary\n",
    "        if song in songs_count:\n",
    "            # If the song exists, increment its count by 1\n",
    "            songs_count[song] += 1\n",
    "        else:\n",
    "            # If the song does not exist, initialize its count to 1\n",
    "            songs_count[song] = 1\n",
    "\n",
    "# Find the song with the max counting\n",
    "most_popular_song = max(songs_count, key=songs_count.get)"
   ]
  },
  {
   "cell_type": "code",
   "execution_count": 76,
   "metadata": {},
   "outputs": [
    {
     "name": "stdout",
     "output_type": "stream",
     "text": [
      "The most popular song is Twilight.\n"
     ]
    }
   ],
   "source": [
    "# Print the answer      \n",
    "print(f\"The most popular song is {most_popular_song}.\")"
   ]
  },
  {
   "cell_type": "markdown",
   "metadata": {},
   "source": [
    "# <span style=\"color:brown\"> Part 2 -  Data loading and analysis  </span>\n",
    "\n",
    "## Exercise I - Alice what do you have to say?\n",
    "\n",
    "**8**: Load the Alice text file into a variable called Alice. <br>\n",
    "\n",
    "*Note: Use a relative filepath in relation to the location of your notebook.*"
   ]
  },
  {
   "cell_type": "code",
   "execution_count": 77,
   "metadata": {},
   "outputs": [
    {
     "name": "stdout",
     "output_type": "stream",
     "text": [
      "Alice was beginning to get very tired of sitting by her sister on the bank, and of having nothing to do: once or twice she had peeped into the book her sister was reading, but it had no pictures or conversations in it, <<and what is the use of a book>>. thought Alice <<without pictures or conversation?>>.\n"
     ]
    }
   ],
   "source": [
    "with open(\"alice.txt\", \"r\") as text_file:\n",
    "    alice_text = text_file.read()\n",
    "    # Print the Alice text content\n",
    "    print(alice_text)"
   ]
  },
  {
   "cell_type": "markdown",
   "metadata": {},
   "source": [
    "**9**: Create a list in which each element is a word from the file *Alice*. Store that list in a variable called *wAlice*. <br>\n",
    "\n",
    "*Note: You will need to do some text parsing here. In particular to split the sentences into words. It is also a good practice to normalize words so that words \"Hello\" and \"hello\" become identical, by making all letters lower case. <br>*\n",
    "\n",
    "*Tip: check the following links for a discussion on regular expressions. Also consult the methods available for string manipulation.*\n",
    "\n",
    "https://docs.python.org/3/library/re.html\n",
    "\n",
    "https://stackoverflow.com/questions/1276764/stripping-everything-but-alphanumeric-chars-from-a-string-in-python"
   ]
  },
  {
   "cell_type": "code",
   "execution_count": 78,
   "metadata": {},
   "outputs": [],
   "source": [
    "# Import the re module\n",
    "import re"
   ]
  },
  {
   "cell_type": "code",
   "execution_count": 79,
   "metadata": {},
   "outputs": [
    {
     "name": "stdout",
     "output_type": "stream",
     "text": [
      "['alice', 'was', 'beginning', 'to', 'get', 'very', 'tired', 'of', 'sitting', 'by', 'her', 'sister', 'on', 'the', 'bank', 'and', 'of', 'having', 'nothing', 'to', 'do', 'once', 'or', 'twice', 'she', 'had', 'peeped', 'into', 'the', 'book', 'her', 'sister', 'was', 'reading', 'but', 'it', 'had', 'no', 'pictures', 'or', 'conversations', 'in', 'it', 'and', 'what', 'is', 'the', 'use', 'of', 'a', 'book', 'thought', 'alice', 'without', 'pictures', 'or', 'conversation']\n"
     ]
    }
   ],
   "source": [
    "# Convert the alice text to a lower case\n",
    "alice_text = alice_text.lower()\n",
    "\n",
    "# Use a regular expression to replace all the non-alphanumeric characters with spaces\n",
    "# re is the module, and sub states for substitution \n",
    "# [^a-z0-9\\s] will select all the alphanumerics characters\n",
    "alice_text = re.sub(r'[^a-z0-9\\s]', ' ', alice_text)\n",
    "\n",
    "# Split the alice text into words\n",
    "wAlice = alice_text.split()\n",
    "\n",
    "# Print the answer\n",
    "print(wAlice)"
   ]
  },
  {
   "cell_type": "markdown",
   "metadata": {},
   "source": [
    "##### Using the list *wAlice* answer the following questions:<br>\n",
    "**10**: How many words are in the file Alice.txt? <br>"
   ]
  },
  {
   "cell_type": "code",
   "execution_count": 80,
   "metadata": {},
   "outputs": [
    {
     "name": "stdout",
     "output_type": "stream",
     "text": [
      "There are 57 words in the file Alice.txt\n"
     ]
    }
   ],
   "source": [
    "# Get the number of words in the file\n",
    "num_words = len(wAlice)\n",
    "\n",
    "# Print the answer\n",
    "print(f\"There are {num_words} words in the file Alice.txt\")"
   ]
  },
  {
   "cell_type": "markdown",
   "metadata": {},
   "source": [
    "**11**: What is the longest and smallest word in the text file?\n",
    "\n",
    "*Note: Length in this case is measured in terms of the number of characters.*"
   ]
  },
  {
   "cell_type": "code",
   "execution_count": 81,
   "metadata": {},
   "outputs": [
    {
     "name": "stdout",
     "output_type": "stream",
     "text": [
      "The longest word in Alice.txt file is 'conversations'.\n",
      "The smallest word in Alice.txt file is 'a'.\n"
     ]
    }
   ],
   "source": [
    "# Find the longest word in the file\n",
    "longest_word = max(wAlice, key=len)\n",
    "\n",
    "# Find the smallest word in the file\n",
    "smallest_word = min(wAlice, key=len)\n",
    "\n",
    "# Print the answers\n",
    "print(f\"The longest word in Alice.txt file is '{longest_word}'.\")\n",
    "print(f\"The smallest word in Alice.txt file is '{smallest_word}'.\")"
   ]
  },
  {
   "cell_type": "markdown",
   "metadata": {},
   "source": [
    "**12**: Delete all the repeated words from *wAlice*. "
   ]
  },
  {
   "cell_type": "code",
   "execution_count": 82,
   "metadata": {},
   "outputs": [
    {
     "name": "stdout",
     "output_type": "stream",
     "text": [
      "There are 57 words in the file Alice.txt.\n",
      "There are 41 words in the file Alice.txt, after removing the repeated words\n"
     ]
    }
   ],
   "source": [
    "# Convert the list to a set to remove duplicates since sets do not allowed repetitions\n",
    "wAlice_no_rep = set(wAlice)\n",
    "\n",
    "# Convert back to a list\n",
    "wAlice_no_rep = list(wAlice_no_rep)\n",
    "\n",
    "# Print \n",
    "print(f\"There are {len(wAlice)} words in the file Alice.txt.\")\n",
    "print(f\"There are {len(wAlice_no_rep)} words in the file Alice.txt, after removing the repeated words\")"
   ]
  },
  {
   "cell_type": "markdown",
   "metadata": {},
   "source": [
    "**12.1**:How many different words does the text contain?"
   ]
  },
  {
   "cell_type": "code",
   "execution_count": 83,
   "metadata": {},
   "outputs": [
    {
     "name": "stdout",
     "output_type": "stream",
     "text": [
      "There are 41 different words in the file Alice.txt.\n"
     ]
    }
   ],
   "source": [
    "# Print the answer\n",
    "# Since the repeated words were removed we can check the len of wAlice_no_rep\n",
    "print(f\"There are {len(wAlice_no_rep)} different words in the file Alice.txt.\")"
   ]
  },
  {
   "cell_type": "markdown",
   "metadata": {},
   "source": [
    "## Exercise II - Of Countries I Love\n",
    "\n",
    "Consider the list countries in the cell below. <br>\n",
    "It consists of a list of the 3-digit ISO codes of a set of countries of interest.\n",
    "\n",
    "**Note**: If you find the below list of tuples to be erroneous, correct it accordingly and comment on your correction."
   ]
  },
  {
   "cell_type": "code",
   "execution_count": 84,
   "metadata": {},
   "outputs": [],
   "source": [
    "#countries = [\n",
    "\n",
    "#('PRT','Portugal','Europe'),\n",
    "#('ISL','Israel','Asia'),\n",
    "#('COL','Colombia','South America'),\n",
    "#('NEV','Nevada','North America'),\n",
    "#('JPN','Japan','Asia'),\n",
    "#('RUS','Russia','well... which part?'), \n",
    "#('DEN','Denmark','Europe'),\n",
    "#('NOR','Norway','Europe')\n",
    "#]"
   ]
  },
  {
   "cell_type": "code",
   "execution_count": 85,
   "metadata": {},
   "outputs": [],
   "source": [
    "# Corrected one\n",
    "countries = [\n",
    "('PRT','Portugal','Europe'),\n",
    "('ISR','Israel','Asia'), # Israel ISO code is ISR not ISL\n",
    "#('COL','Colombia','South America'), # This line is in # because in the csv does not exist Colombia\n",
    "#('NEV','Nevada','North America'), # Nevada is a state of USA not a country\n",
    "('JPN','Japan','Asia'),\n",
    "('RUS','Russia','Asia'), # According to the csv file Russia is in Asia\n",
    "('DNK','Denmark','Europe'), # Denmark ISO code is DNK not DEN\n",
    "('NOR','Norway','Europe')\n",
    "]"
   ]
  },
  {
   "cell_type": "markdown",
   "metadata": {},
   "source": [
    "**Now consider the file *cdata.csv* that you should download.** <br>\n",
    "\n",
    "The file contains several information about countries, and is organized as follows:\n",
    "1. Column 1 is the 3-digit **ISO Code**\n",
    "2. Column 2 is the **Full Name** of the country\n",
    "3. Column 3 is the **Continent** of the country\n",
    "4. Column 4 is the **Population Size** in 2010\n",
    "5. Column 5 is the **GDP per capita** in 2010"
   ]
  },
  {
   "cell_type": "markdown",
   "metadata": {},
   "source": [
    "**13**: Using the Library CSV from Python STL, load the file *cdata.csv* into an object called *raw*. "
   ]
  },
  {
   "cell_type": "code",
   "execution_count": 86,
   "metadata": {},
   "outputs": [],
   "source": [
    "# Import csv module\n",
    "import csv"
   ]
  },
  {
   "cell_type": "code",
   "execution_count": 87,
   "metadata": {},
   "outputs": [
    {
     "name": "stdout",
     "output_type": "stream",
     "text": [
      "[['iso', 'countryname', 'continent', 'population(mil)', 'gdp'], ['ago', 'Angola', 'Africa', '23.369131088256836', '5988.534997149481'], ['bdi', 'Burundi', 'Africa', '8.766929626464844', '731.4232803265862'], ['ben', 'Benin', 'Africa', '9.199258804321289', '1919.9969479963038'], ['bfa', 'Burkina Faso', 'Africa', '15.605216979980469', '1327.2165314775982'], ['bwa', 'Botswana', 'Africa', '2.0148661136627197', '12256.14159052444'], ['caf', 'Central African Republic', 'Africa', '4.4485249519348145', '865.4421867263901'], ['cmr', 'Cameroon', 'Africa', '19.970495223999023', '2684.972890247272'], ['cod', 'Democratic Republic of the Congo', 'Africa', '64.52326202392578', '634.9713963013496'], ['cog', 'Republic of the Congo', 'Africa', '4.386693000793457', '4979.990496069269'], ['com', 'Comoros', 'Africa', '0.6896920204162598', '2292.997969425929'], ['cpv', 'Cape Verde', 'Africa', '0.5023840069770813', '5644.821253339075'], ['dji', 'Djibouti', 'Africa', '0.8511459827423096', '2124.4420625972525'], ['dza', 'Algeria', 'Africa', '36.117637634277344', '12590.224223813591'], ['egy', 'Egypt', 'Africa', '84.10760498046875', '9148.839753298033'], ['eth', 'Ethiopia', 'Africa', '87.70266723632812', '1100.1831875876223'], ['gab', 'Gabon', 'Africa', '1.6402100324630737', '11961.168226448879'], ['gha', 'Ghana', 'Africa', '24.512104034423828', '3931.2918319728856'], ['gin', 'Guinea', 'Africa', '10.794170379638672', '1742.7346742167783'], ['gmb', 'Gambia', 'Africa', '1.692149043083191', '2681.8586168502143'], ['gnb', 'Guinea-Bissau', 'Africa', '1.5558799505233765', '1387.2497310879905'], ['gnq', 'Equatorial Guinea', 'Africa', '0.9511039853096008', '31416.887137501908'], ['ken', 'Kenya', 'Africa', '41.35015106201172', '2484.0349094725366'], ['lbr', 'Liberia', 'Africa', '3.948124885559082', '786.6702306741524'], ['lso', 'Lesotho', 'Africa', '2.040550947189331', '2432.7976546880823'], ['mar', 'Morocco', 'Africa', '32.409637451171875', '6421.937677907418'], ['mdg', 'Madagascar', 'Africa', '21.151639938354492', '1459.9156124535612'], ['mli', 'Mali', 'Africa', '15.075084686279297', '1873.2809618195865'], ['moz', 'Mozambique', 'Africa', '24.221405029296875', '969.2307622526259'], ['mrt', 'Mauritania', 'Africa', '3.6095430850982666', '3082.647028528842'], ['mus', 'Mauritius', 'Africa', '1.2479549646377563', '15178.325920597827'], ['mwi', 'Malawi', 'Africa', '15.167095184326172', '972.0456815116237'], ['nam', 'Namibia', 'Africa', '2.1731700897216797', '7689.171239820006'], ['ner', 'Niger', 'Africa', '16.42557716369629', '845.8693682212395'], ['nga', 'Nigeria', 'Africa', '158.57826232910156', '5186.304307542348'], ['rwa', 'Rwanda', 'Africa', '10.246842384338379', '1379.6993252327009'], ['sdn', 'Sudan', 'Africa', '34.385963439941406', '3608.7856176907358'], ['sen', 'Senegal', 'Africa', '12.916229248046875', '2741.121456198507'], ['sle', 'Sierra Leone', 'Africa', '6.4587202072143555', '1161.8796942144647'], ['swz', 'Swaziland', 'Africa', '1.2028429508209229', '7042.524359035093'], ['syc', 'Seychelles', 'Africa', '0.0914049968123436', '17960.353075613308'], ['tcd', 'Chad', 'Africa', '11.887202262878418', '1880.3748762799714'], ['tgo', 'Togo', 'Africa', '6.5029520988464355', '1222.8150529133295'], ['tun', 'Tunisia', 'Africa', '10.639930725097656', '10647.834980284626'], ['tza', 'Tanzania', 'Africa', '44.82893753051758', '1979.1718644815185'], ['uga', 'Uganda', 'Africa', '33.91513442993164', '1723.5943355766267'], ['zaf', 'South Africa', 'Africa', '51.58466339111328', '11388.640515995063'], ['zmb', 'Zambia', 'Africa', '13.850032806396484', '2870.8872656342314'], ['zwe', 'Zimbabwe', 'Africa', '14.08631706237793', '1479.0305839163732'], ['are', 'United Arab Emirates', 'Asia', '8.270684242248535', '59707.412565389604'], ['arm', 'Armenia', 'Asia', '2.8773109912872314', '8222.945234202914'], ['aze', 'Azerbaijan', 'Asia', '9.03245735168457', '12947.102198682365'], ['bgd', 'Bangladesh', 'Asia', '152.14910888671875', '2411.1020691099325'], ['bhr', 'Bahrain', 'Asia', '1.2408620119094849', '37045.81310919623'], ['brn', 'Brunei', 'Asia', '0.3886620104312897', '67320.89957245934'], ['btn', 'Bhutan', 'Asia', '0.7276409864425659', '7235.18974818538'], ['chn', 'China', 'Asia', '1359.755126953125', '9337.290772677254'], ['cyp', 'Cyprus', 'Asia', '0.829446017742157', '28046.373877741087'], ['geo', 'Georgia', 'Asia', '4.231660842895508', '7966.602756952667'], ['hkg', 'Hong Kong', 'Asia', '7.02522087097168', '41687.946418899235'], ['ind', 'India', 'Asia', '1230.980712890625', '4357.0597360582315'], ['irn', 'Iran', 'Asia', '74.56751251220703', '17328.457882894658'], ['irq', 'Iraq', 'Asia', '30.7627010345459', '9344.543768350652'], ['isr', 'Israel', 'Asia', '7.42595911026001', '28638.9037385305'], ['jor', 'Jordan', 'Asia', '7.182390213012695', '9351.387283068141'], ['jpn', 'Japan', 'Asia', '128.5518798828125', '36595.63364058582'], ['kaz', 'Kazakhstan', 'Asia', '16.398975372314453', '17908.83993251286'], ['kgz', 'Kyrgyzstan', 'Asia', '5.422337055206299', '3382.4639059259293'], ['khm', 'Cambodia', 'Asia', '14.30873966217041', '2330.127207632253'], ['kor', 'South Korea', 'Asia', '49.5528564453125', '31589.705161145695'], ['kwt', 'Kuwait', 'Asia', '2.9980831146240234', '67029.51680017101'], ['lao', 'Laos', 'Asia', '6.246273994445801', '4316.969858587265'], ['lbn', 'Lebanon', 'Asia', '4.337141036987305', '18025.24893894264'], ['lka', 'Sri Lanka', 'Asia', '20.198352813720703', '8390.429701766443'], ['mac', 'Macau', 'Asia', '0.536969006061554', '91982.39517540816'], ['mdv', 'Maldives', 'Asia', '0.36451101303100586', '12140.803390739566'], ['mmr', 'Burma', 'Asia', '50.1558952331543', '3422.241340266976'], ['mng', 'Mongolia', 'Asia', '2.7126500606536865', '7670.714034382584'], ['mys', 'Malaysia', 'Asia', '28.112289428710938', '17913.164410782432'], ['npl', 'Nepal', 'Asia', '27.023136138916016', '1996.1961554516242'], ['omn', 'Oman', 'Asia', '3.0414600372314453', '40472.674942509126'], ['pak', 'Pakistan', 'Asia', '170.5601806640625', '4171.416562353057'], ['phl', 'Philippines', 'Asia', '93.72662353515625', '5391.233965240031'], ['qat', 'Qatar', 'Asia', '1.7796759605407715', '123128.40152283433'], ['sau', 'Saudi Arabia', 'Asia', '27.425676345825195', '42331.65885721999'], ['sgp', 'Singapore', 'Asia', '5.074252128601074', '58618.43503468222'], ['syr', 'Syria', 'Asia', '21.01883316040039', '5700.329438992399'], ['tha', 'Thailand', 'Asia', '67.20880889892578', '12496.244186726299'], ['tjk', 'Tajikistan', 'Asia', '7.641630172729492', '2784.5145587763627'], ['tkm', 'Turkmenistan', 'Asia', '5.087210178375244', '16061.429412691556'], ['tur', 'Turkey', 'Asia', '72.32691192626953', '17930.678781392427'], ['twn', 'Taiwan', 'Asia', '23.140947341918945', '37188.89452901009'], ['uzb', 'Uzbekistan', 'Asia', '28.606294631958008', '6574.51672506692'], ['vnm', 'Vietnam', 'Asia', '88.4725112915039', '4428.42140209062'], ['yem', 'Yemen', 'Asia', '23.606779098510742', '4553.557258443674'], ['alb', 'Albania', 'Europe', '2.9405250549316406', '9544.73991912729'], ['aut', 'Austria', 'Europe', '8.40994930267334', '40489.80635849457'], ['bel', 'Belgium', 'Europe', '10.938738822937012', '38177.94724875522'], ['bgr', 'Bulgaria', 'Europe', '7.404590129852295', '14906.784964031736'], ['bih', 'Bosnia and Herzegovina', 'Europe', '3.7220840454101562', '9049.364732987471'], ['blr', 'Belarus', 'Europe', '9.473071098327637', '16457.02937904922'], ['che', 'Switzerland', 'Europe', '7.831971168518066', '55688.020214268225'], ['cze', 'Czech Republic', 'Europe', '10.536286354064941', '26129.56935189834'], ['deu', 'Germany', 'Europe', '80.89478302001953', '40627.23054942445'], ['dnk', 'Denmark', 'Europe', '5.554843902587891', '43416.22338615916'], ['esp', 'Spain', 'Europe', '46.788631439208984', '31610.980157042286'], ['est', 'Estonia', 'Europe', '1.3321019411087036', '20265.572596704937'], ['fin', 'Finland', 'Europe', '5.365781784057617', '38394.06158150017'], ['fra', 'France', 'Europe', '65.14578247070312', '35786.16161450548'], ['gbr', 'United Kingdom', 'Europe', '63.30684280395508', '34810.28120173958'], ['grc', 'Greece', 'Europe', '11.446004867553711', '25815.80076797162'], ['hrv', 'Croatia', 'Europe', '4.328153133392334', '19305.008088868373'], ['hun', 'Hungary', 'Europe', '9.927840232849121', '20477.79856764035'], ['irl', 'Ireland', 'Europe', '4.626927852630615', '47823.50815113634'], ['isl', 'Iceland', 'Europe', '0.3203279972076416', '37729.01607603124'], ['ita', 'Italy', 'Europe', '59.72980880737305', '34727.67268834705'], ['ltu', 'Lithuania', 'Europe', '3.123802900314331', '18475.371145517096'], ['lux', 'Luxembourg', 'Europe', '0.5078889727592468', '57882.81020537233'], ['lva', 'Latvia', 'Europe', '2.1188480854034424', '16943.688322829523'], ['mda', 'Moldova', 'Europe', '4.0844807624816895', '4173.634753274572'], ['mkd', 'Macedonia', 'Europe', '2.0707390308380127', '11265.643175619889'], ['mlt', 'Malta', 'Europe', '0.41611000895500183', '22983.44992639125'], ['mne', 'Montenegro', 'Europe', '0.6242849826812744', '14960.94855221103'], ['nld', 'Netherlands', 'Europe', '16.68291664123535', '44004.146024770846'], ['nor', 'Norway', 'Europe', '4.885878086090088', '73262.68174170727'], ['pol', 'Poland', 'Europe', '38.323402404785156', '21006.027309294514'], ['prt', 'Portugal', 'Europe', '10.652320861816406', '25788.2739652247'], ['rou', 'Romania', 'Europe', '20.44034767150879', '16775.609043478133'], ['rus', 'Russia', 'Asia', '143.15386962890625', '21754.067899615977'], ['srb', 'Serbia', 'Europe', '7.291436195373535', '12453.482551916944'], ['svk', 'Slovakia', 'Europe', '5.404294013977051', '23061.12099058148'], ['svn', 'Slovenia', 'Europe', '2.045167922973633', '25831.33128718208'], ['swe', 'Sweden', 'Europe', '9.390168190002441', '40421.906436576974'], ['ukr', 'Ukraine', 'Europe', '45.79249954223633', '8713.259627419637'], ['abw', 'Aruba', 'NorthAmerica', '0.10166899859905243', '37059.34143869512'], ['aia', 'Anguilla', 'NorthAmerica', '0.013768999837338924', '21098.057152999143'], ['atg', 'Antigua and Barbuda', 'NorthAmerica', '0.09466099739074707', '17162.16102781353'], ['bhs', 'Bahamas', 'NorthAmerica', '0.36083200573921204', '29504.581346144332'], ['blz', 'Belize', 'NorthAmerica', '0.3216080069541931', '7145.952547655193'], ['bmu', 'Bermuda', 'NorthAmerica', '0.06395599991083145', '51447.147481910884'], ['brb', 'Barbados', 'NorthAmerica', '0.27956900000572205', '13995.612896540895'], ['can', 'Canada', 'NorthAmerica', '34.16866683959961', '40269.03526728651'], ['cri', 'Costa Rica', 'NorthAmerica', '4.5452799797058105', '12106.99191566891'], ['cuw', 'Curaçao', 'NorthAmerica', '0.14760799705982208', '24337.816177887613'], ['cym', 'Cayman Islands', 'NorthAmerica', '0.05550700053572655', '36670.678481483985'], ['dma', 'Dominica', 'NorthAmerica', '0.07143999636173248', '9101.993729581038'], ['dom', 'Dominican Republic', 'NorthAmerica', '9.897985458374023', '11500.13134401987'], ['grd', 'Grenada', 'NorthAmerica', '0.1046769991517067', '9791.291133092265'], ['gtm', 'Guatemala', 'NorthAmerica', '14.630416870117188', '6359.262684615136'], ['hnd', 'Honduras', 'NorthAmerica', '8.194778442382812', '3789.9102248753848'], ['hti', 'Haiti', 'NorthAmerica', '9.999616622924805', '1650.2697128700804'], ['jam', 'Jamaica', 'NorthAmerica', '2.8172099590301514', '6675.176956450172'], ['kna', 'Saint Kitts and Nevis', 'NorthAmerica', '0.05144499987363815', '17837.349758162076'], ['lca', 'Saint Lucia', 'NorthAmerica', '0.17258000373840332', '9178.266990673521'], ['mex', 'Mexico', 'NorthAmerica', '117.31893920898438', '14507.011923865603'], ['msr', 'Montserrat', 'NorthAmerica', '0.00494399992749095', '15385.002991478228'], ['nic', 'Nicaragua', 'NorthAmerica', '5.737722873687744', '3992.7619078961748'], ['pan', 'Panama', 'NorthAmerica', '3.6432220935821533', '15055.237591848218'], ['slv', 'El Salvador', 'NorthAmerica', '6.164626121520996', '6096.958357099287'], ['tca', 'Turks and Caicos Islands', 'NorthAmerica', '0.030993999913334846', '7230.966074605446'], ['tto', 'Trinidad and Tobago', 'NorthAmerica', '1.3280999660491943', '27510.236190041924'], ['usa', 'United States', 'NorthAmerica', '308.6413879394531', '49500.62628346238'], ['vct', 'Saint Vincent and the Grenadines', 'NorthAmerica', '0.10931500047445297', '8095.21923068351'], ['vgb', 'British Virgin Islands', 'NorthAmerica', '0.027224000543355942', '21183.279165646647'], ['aus', 'Australia', 'Oceania', '22.12006378173828', '44854.90004866657'], ['fji', 'Fiji', 'Oceania', '0.8599500060081482', '6902.0687720944225'], ['nzl', 'New Zealand', 'Oceania', '4.370061874389648', '30867.05437525178'], ['arg', 'Argentina', 'SouthAmerica', '41.2238883972168', '15841.658208158999'], ['bol', 'Bolivia', 'SouthAmerica', '9.918242454528809', '4806.608983377068'], ['bra', 'Brazil', 'SouthAmerica', '196.7962646484375', '13541.462561602328'], ['chl', 'Chile', 'SouthAmerica', '16.99335479736328', '18092.94007371081']]\n"
     ]
    }
   ],
   "source": [
    "with open(\"cdata.csv\", \"r\") as file:\n",
    "    reader= csv.reader(file, delimiter=\",\")\n",
    "    raw = list(reader)\n",
    "\n",
    "print(raw)"
   ]
  },
  {
   "cell_type": "markdown",
   "metadata": {},
   "source": [
    "**13.1**: Create a dictionary called *cData* in which the key corresponds to the 3-digit ISO Code and the value is a tuple with the information contained in the 2nd to the 5th of column of the cdata file."
   ]
  },
  {
   "cell_type": "code",
   "execution_count": 88,
   "metadata": {},
   "outputs": [
    {
     "name": "stdout",
     "output_type": "stream",
     "text": [
      "{'ago': ('Angola', 'Africa', '23.369131088256836', '5988.534997149481'), 'bdi': ('Burundi', 'Africa', '8.766929626464844', '731.4232803265862'), 'ben': ('Benin', 'Africa', '9.199258804321289', '1919.9969479963038'), 'bfa': ('Burkina Faso', 'Africa', '15.605216979980469', '1327.2165314775982'), 'bwa': ('Botswana', 'Africa', '2.0148661136627197', '12256.14159052444'), 'caf': ('Central African Republic', 'Africa', '4.4485249519348145', '865.4421867263901'), 'cmr': ('Cameroon', 'Africa', '19.970495223999023', '2684.972890247272'), 'cod': ('Democratic Republic of the Congo', 'Africa', '64.52326202392578', '634.9713963013496'), 'cog': ('Republic of the Congo', 'Africa', '4.386693000793457', '4979.990496069269'), 'com': ('Comoros', 'Africa', '0.6896920204162598', '2292.997969425929'), 'cpv': ('Cape Verde', 'Africa', '0.5023840069770813', '5644.821253339075'), 'dji': ('Djibouti', 'Africa', '0.8511459827423096', '2124.4420625972525'), 'dza': ('Algeria', 'Africa', '36.117637634277344', '12590.224223813591'), 'egy': ('Egypt', 'Africa', '84.10760498046875', '9148.839753298033'), 'eth': ('Ethiopia', 'Africa', '87.70266723632812', '1100.1831875876223'), 'gab': ('Gabon', 'Africa', '1.6402100324630737', '11961.168226448879'), 'gha': ('Ghana', 'Africa', '24.512104034423828', '3931.2918319728856'), 'gin': ('Guinea', 'Africa', '10.794170379638672', '1742.7346742167783'), 'gmb': ('Gambia', 'Africa', '1.692149043083191', '2681.8586168502143'), 'gnb': ('Guinea-Bissau', 'Africa', '1.5558799505233765', '1387.2497310879905'), 'gnq': ('Equatorial Guinea', 'Africa', '0.9511039853096008', '31416.887137501908'), 'ken': ('Kenya', 'Africa', '41.35015106201172', '2484.0349094725366'), 'lbr': ('Liberia', 'Africa', '3.948124885559082', '786.6702306741524'), 'lso': ('Lesotho', 'Africa', '2.040550947189331', '2432.7976546880823'), 'mar': ('Morocco', 'Africa', '32.409637451171875', '6421.937677907418'), 'mdg': ('Madagascar', 'Africa', '21.151639938354492', '1459.9156124535612'), 'mli': ('Mali', 'Africa', '15.075084686279297', '1873.2809618195865'), 'moz': ('Mozambique', 'Africa', '24.221405029296875', '969.2307622526259'), 'mrt': ('Mauritania', 'Africa', '3.6095430850982666', '3082.647028528842'), 'mus': ('Mauritius', 'Africa', '1.2479549646377563', '15178.325920597827'), 'mwi': ('Malawi', 'Africa', '15.167095184326172', '972.0456815116237'), 'nam': ('Namibia', 'Africa', '2.1731700897216797', '7689.171239820006'), 'ner': ('Niger', 'Africa', '16.42557716369629', '845.8693682212395'), 'nga': ('Nigeria', 'Africa', '158.57826232910156', '5186.304307542348'), 'rwa': ('Rwanda', 'Africa', '10.246842384338379', '1379.6993252327009'), 'sdn': ('Sudan', 'Africa', '34.385963439941406', '3608.7856176907358'), 'sen': ('Senegal', 'Africa', '12.916229248046875', '2741.121456198507'), 'sle': ('Sierra Leone', 'Africa', '6.4587202072143555', '1161.8796942144647'), 'swz': ('Swaziland', 'Africa', '1.2028429508209229', '7042.524359035093'), 'syc': ('Seychelles', 'Africa', '0.0914049968123436', '17960.353075613308'), 'tcd': ('Chad', 'Africa', '11.887202262878418', '1880.3748762799714'), 'tgo': ('Togo', 'Africa', '6.5029520988464355', '1222.8150529133295'), 'tun': ('Tunisia', 'Africa', '10.639930725097656', '10647.834980284626'), 'tza': ('Tanzania', 'Africa', '44.82893753051758', '1979.1718644815185'), 'uga': ('Uganda', 'Africa', '33.91513442993164', '1723.5943355766267'), 'zaf': ('South Africa', 'Africa', '51.58466339111328', '11388.640515995063'), 'zmb': ('Zambia', 'Africa', '13.850032806396484', '2870.8872656342314'), 'zwe': ('Zimbabwe', 'Africa', '14.08631706237793', '1479.0305839163732'), 'are': ('United Arab Emirates', 'Asia', '8.270684242248535', '59707.412565389604'), 'arm': ('Armenia', 'Asia', '2.8773109912872314', '8222.945234202914'), 'aze': ('Azerbaijan', 'Asia', '9.03245735168457', '12947.102198682365'), 'bgd': ('Bangladesh', 'Asia', '152.14910888671875', '2411.1020691099325'), 'bhr': ('Bahrain', 'Asia', '1.2408620119094849', '37045.81310919623'), 'brn': ('Brunei', 'Asia', '0.3886620104312897', '67320.89957245934'), 'btn': ('Bhutan', 'Asia', '0.7276409864425659', '7235.18974818538'), 'chn': ('China', 'Asia', '1359.755126953125', '9337.290772677254'), 'cyp': ('Cyprus', 'Asia', '0.829446017742157', '28046.373877741087'), 'geo': ('Georgia', 'Asia', '4.231660842895508', '7966.602756952667'), 'hkg': ('Hong Kong', 'Asia', '7.02522087097168', '41687.946418899235'), 'ind': ('India', 'Asia', '1230.980712890625', '4357.0597360582315'), 'irn': ('Iran', 'Asia', '74.56751251220703', '17328.457882894658'), 'irq': ('Iraq', 'Asia', '30.7627010345459', '9344.543768350652'), 'isr': ('Israel', 'Asia', '7.42595911026001', '28638.9037385305'), 'jor': ('Jordan', 'Asia', '7.182390213012695', '9351.387283068141'), 'jpn': ('Japan', 'Asia', '128.5518798828125', '36595.63364058582'), 'kaz': ('Kazakhstan', 'Asia', '16.398975372314453', '17908.83993251286'), 'kgz': ('Kyrgyzstan', 'Asia', '5.422337055206299', '3382.4639059259293'), 'khm': ('Cambodia', 'Asia', '14.30873966217041', '2330.127207632253'), 'kor': ('South Korea', 'Asia', '49.5528564453125', '31589.705161145695'), 'kwt': ('Kuwait', 'Asia', '2.9980831146240234', '67029.51680017101'), 'lao': ('Laos', 'Asia', '6.246273994445801', '4316.969858587265'), 'lbn': ('Lebanon', 'Asia', '4.337141036987305', '18025.24893894264'), 'lka': ('Sri Lanka', 'Asia', '20.198352813720703', '8390.429701766443'), 'mac': ('Macau', 'Asia', '0.536969006061554', '91982.39517540816'), 'mdv': ('Maldives', 'Asia', '0.36451101303100586', '12140.803390739566'), 'mmr': ('Burma', 'Asia', '50.1558952331543', '3422.241340266976'), 'mng': ('Mongolia', 'Asia', '2.7126500606536865', '7670.714034382584'), 'mys': ('Malaysia', 'Asia', '28.112289428710938', '17913.164410782432'), 'npl': ('Nepal', 'Asia', '27.023136138916016', '1996.1961554516242'), 'omn': ('Oman', 'Asia', '3.0414600372314453', '40472.674942509126'), 'pak': ('Pakistan', 'Asia', '170.5601806640625', '4171.416562353057'), 'phl': ('Philippines', 'Asia', '93.72662353515625', '5391.233965240031'), 'qat': ('Qatar', 'Asia', '1.7796759605407715', '123128.40152283433'), 'sau': ('Saudi Arabia', 'Asia', '27.425676345825195', '42331.65885721999'), 'sgp': ('Singapore', 'Asia', '5.074252128601074', '58618.43503468222'), 'syr': ('Syria', 'Asia', '21.01883316040039', '5700.329438992399'), 'tha': ('Thailand', 'Asia', '67.20880889892578', '12496.244186726299'), 'tjk': ('Tajikistan', 'Asia', '7.641630172729492', '2784.5145587763627'), 'tkm': ('Turkmenistan', 'Asia', '5.087210178375244', '16061.429412691556'), 'tur': ('Turkey', 'Asia', '72.32691192626953', '17930.678781392427'), 'twn': ('Taiwan', 'Asia', '23.140947341918945', '37188.89452901009'), 'uzb': ('Uzbekistan', 'Asia', '28.606294631958008', '6574.51672506692'), 'vnm': ('Vietnam', 'Asia', '88.4725112915039', '4428.42140209062'), 'yem': ('Yemen', 'Asia', '23.606779098510742', '4553.557258443674'), 'alb': ('Albania', 'Europe', '2.9405250549316406', '9544.73991912729'), 'aut': ('Austria', 'Europe', '8.40994930267334', '40489.80635849457'), 'bel': ('Belgium', 'Europe', '10.938738822937012', '38177.94724875522'), 'bgr': ('Bulgaria', 'Europe', '7.404590129852295', '14906.784964031736'), 'bih': ('Bosnia and Herzegovina', 'Europe', '3.7220840454101562', '9049.364732987471'), 'blr': ('Belarus', 'Europe', '9.473071098327637', '16457.02937904922'), 'che': ('Switzerland', 'Europe', '7.831971168518066', '55688.020214268225'), 'cze': ('Czech Republic', 'Europe', '10.536286354064941', '26129.56935189834'), 'deu': ('Germany', 'Europe', '80.89478302001953', '40627.23054942445'), 'dnk': ('Denmark', 'Europe', '5.554843902587891', '43416.22338615916'), 'esp': ('Spain', 'Europe', '46.788631439208984', '31610.980157042286'), 'est': ('Estonia', 'Europe', '1.3321019411087036', '20265.572596704937'), 'fin': ('Finland', 'Europe', '5.365781784057617', '38394.06158150017'), 'fra': ('France', 'Europe', '65.14578247070312', '35786.16161450548'), 'gbr': ('United Kingdom', 'Europe', '63.30684280395508', '34810.28120173958'), 'grc': ('Greece', 'Europe', '11.446004867553711', '25815.80076797162'), 'hrv': ('Croatia', 'Europe', '4.328153133392334', '19305.008088868373'), 'hun': ('Hungary', 'Europe', '9.927840232849121', '20477.79856764035'), 'irl': ('Ireland', 'Europe', '4.626927852630615', '47823.50815113634'), 'isl': ('Iceland', 'Europe', '0.3203279972076416', '37729.01607603124'), 'ita': ('Italy', 'Europe', '59.72980880737305', '34727.67268834705'), 'ltu': ('Lithuania', 'Europe', '3.123802900314331', '18475.371145517096'), 'lux': ('Luxembourg', 'Europe', '0.5078889727592468', '57882.81020537233'), 'lva': ('Latvia', 'Europe', '2.1188480854034424', '16943.688322829523'), 'mda': ('Moldova', 'Europe', '4.0844807624816895', '4173.634753274572'), 'mkd': ('Macedonia', 'Europe', '2.0707390308380127', '11265.643175619889'), 'mlt': ('Malta', 'Europe', '0.41611000895500183', '22983.44992639125'), 'mne': ('Montenegro', 'Europe', '0.6242849826812744', '14960.94855221103'), 'nld': ('Netherlands', 'Europe', '16.68291664123535', '44004.146024770846'), 'nor': ('Norway', 'Europe', '4.885878086090088', '73262.68174170727'), 'pol': ('Poland', 'Europe', '38.323402404785156', '21006.027309294514'), 'prt': ('Portugal', 'Europe', '10.652320861816406', '25788.2739652247'), 'rou': ('Romania', 'Europe', '20.44034767150879', '16775.609043478133'), 'rus': ('Russia', 'Asia', '143.15386962890625', '21754.067899615977'), 'srb': ('Serbia', 'Europe', '7.291436195373535', '12453.482551916944'), 'svk': ('Slovakia', 'Europe', '5.404294013977051', '23061.12099058148'), 'svn': ('Slovenia', 'Europe', '2.045167922973633', '25831.33128718208'), 'swe': ('Sweden', 'Europe', '9.390168190002441', '40421.906436576974'), 'ukr': ('Ukraine', 'Europe', '45.79249954223633', '8713.259627419637'), 'abw': ('Aruba', 'NorthAmerica', '0.10166899859905243', '37059.34143869512'), 'aia': ('Anguilla', 'NorthAmerica', '0.013768999837338924', '21098.057152999143'), 'atg': ('Antigua and Barbuda', 'NorthAmerica', '0.09466099739074707', '17162.16102781353'), 'bhs': ('Bahamas', 'NorthAmerica', '0.36083200573921204', '29504.581346144332'), 'blz': ('Belize', 'NorthAmerica', '0.3216080069541931', '7145.952547655193'), 'bmu': ('Bermuda', 'NorthAmerica', '0.06395599991083145', '51447.147481910884'), 'brb': ('Barbados', 'NorthAmerica', '0.27956900000572205', '13995.612896540895'), 'can': ('Canada', 'NorthAmerica', '34.16866683959961', '40269.03526728651'), 'cri': ('Costa Rica', 'NorthAmerica', '4.5452799797058105', '12106.99191566891'), 'cuw': ('Curaçao', 'NorthAmerica', '0.14760799705982208', '24337.816177887613'), 'cym': ('Cayman Islands', 'NorthAmerica', '0.05550700053572655', '36670.678481483985'), 'dma': ('Dominica', 'NorthAmerica', '0.07143999636173248', '9101.993729581038'), 'dom': ('Dominican Republic', 'NorthAmerica', '9.897985458374023', '11500.13134401987'), 'grd': ('Grenada', 'NorthAmerica', '0.1046769991517067', '9791.291133092265'), 'gtm': ('Guatemala', 'NorthAmerica', '14.630416870117188', '6359.262684615136'), 'hnd': ('Honduras', 'NorthAmerica', '8.194778442382812', '3789.9102248753848'), 'hti': ('Haiti', 'NorthAmerica', '9.999616622924805', '1650.2697128700804'), 'jam': ('Jamaica', 'NorthAmerica', '2.8172099590301514', '6675.176956450172'), 'kna': ('Saint Kitts and Nevis', 'NorthAmerica', '0.05144499987363815', '17837.349758162076'), 'lca': ('Saint Lucia', 'NorthAmerica', '0.17258000373840332', '9178.266990673521'), 'mex': ('Mexico', 'NorthAmerica', '117.31893920898438', '14507.011923865603'), 'msr': ('Montserrat', 'NorthAmerica', '0.00494399992749095', '15385.002991478228'), 'nic': ('Nicaragua', 'NorthAmerica', '5.737722873687744', '3992.7619078961748'), 'pan': ('Panama', 'NorthAmerica', '3.6432220935821533', '15055.237591848218'), 'slv': ('El Salvador', 'NorthAmerica', '6.164626121520996', '6096.958357099287'), 'tca': ('Turks and Caicos Islands', 'NorthAmerica', '0.030993999913334846', '7230.966074605446'), 'tto': ('Trinidad and Tobago', 'NorthAmerica', '1.3280999660491943', '27510.236190041924'), 'usa': ('United States', 'NorthAmerica', '308.6413879394531', '49500.62628346238'), 'vct': ('Saint Vincent and the Grenadines', 'NorthAmerica', '0.10931500047445297', '8095.21923068351'), 'vgb': ('British Virgin Islands', 'NorthAmerica', '0.027224000543355942', '21183.279165646647'), 'aus': ('Australia', 'Oceania', '22.12006378173828', '44854.90004866657'), 'fji': ('Fiji', 'Oceania', '0.8599500060081482', '6902.0687720944225'), 'nzl': ('New Zealand', 'Oceania', '4.370061874389648', '30867.05437525178'), 'arg': ('Argentina', 'SouthAmerica', '41.2238883972168', '15841.658208158999'), 'bol': ('Bolivia', 'SouthAmerica', '9.918242454528809', '4806.608983377068'), 'bra': ('Brazil', 'SouthAmerica', '196.7962646484375', '13541.462561602328'), 'chl': ('Chile', 'SouthAmerica', '16.99335479736328', '18092.94007371081')}\n"
     ]
    }
   ],
   "source": [
    "cData = {}\n",
    "\n",
    "# For loop to iterate over the rows in the raw data\n",
    "for row in raw[1:]:\n",
    "    # Get the 3-digit ISO Code \n",
    "    iso_code=row[0]\n",
    "    # Get the information in the 2nd and the 5nd columns\n",
    "    info = tuple(row[1:5])\n",
    "    # Add the data to the dictionary\n",
    "    cData[iso_code]= info\n",
    " \n",
    "# Print the answer\n",
    "print(cData)"
   ]
  },
  {
   "cell_type": "markdown",
   "metadata": {},
   "source": [
    "**14**: Using *cData*, identify what is the most common Continent among the nations in the list *countries*."
   ]
  },
  {
   "cell_type": "code",
   "execution_count": 89,
   "metadata": {},
   "outputs": [
    {
     "name": "stdout",
     "output_type": "stream",
     "text": [
      "The most common continent is Africa with 48 occurences.\n"
     ]
    }
   ],
   "source": [
    "#Since cData is a dictionary we can get the continents \n",
    "continents= [value[1] for value in cData.values()]\n",
    "\n",
    "# Count the number of occurences of each continent\n",
    "continents_counts = {continent: continents.count(continent) for continent in set(continents)}\n",
    "\n",
    "# Get the most common continent\n",
    "most_cont_count= max(continents_counts, key=continents_counts.get)\n",
    "\n",
    "# Print the answer\n",
    "print(f\"The most common continent is {most_cont_count} with {continents_counts[most_cont_count]} occurences.\")"
   ]
  },
  {
   "cell_type": "markdown",
   "metadata": {},
   "source": [
    "**15**: Using *cData*, identify what is the the most populated nation in the list *countries*."
   ]
  },
  {
   "cell_type": "code",
   "execution_count": 90,
   "metadata": {},
   "outputs": [
    {
     "name": "stdout",
     "output_type": "stream",
     "text": [
      "The most populated country is China with a population size of 1359.755126953125.\n"
     ]
    }
   ],
   "source": [
    "# Since cData is a dictionary we can get the countries \n",
    "countries_list= [(value[0], float(value[2])) for value in cData.values()]\n",
    "\n",
    "# Get the most populated country \n",
    "most_pop_country= max(countries_list, key=lambda x: x[1])\n",
    "\n",
    "# Print the answer\n",
    "print(f\"The most populated country is {most_pop_country[0]} with a population size of {most_pop_country[1]}.\")"
   ]
  },
  {
   "cell_type": "markdown",
   "metadata": {},
   "source": [
    "**16**: Compare the average GDP per capita of the nations in the list *countries* with the average GDP of the countries in cdata file. What can you conclude?"
   ]
  },
  {
   "cell_type": "code",
   "execution_count": 99,
   "metadata": {},
   "outputs": [
    {
     "name": "stdout",
     "output_type": "stream",
     "text": [
      "Average GDP per capita for countries in the list: 38242.63.\n",
      "Average GDP per capita for all countries in the cdata file: 18014.65.\n"
     ]
    }
   ],
   "source": [
    "# Extract GDP per capita for countries in the list `countries`\n",
    "gdp_countries_list = []\n",
    "\n",
    "# Iterate through each country in the dictionary\n",
    "for country in countries:\n",
    "    iso_code = country[0].lower()  # Convert ISO code to lowercase, as in the cData\n",
    "    if iso_code in cData:\n",
    "        gdp_per_capita = float(cData[iso_code][3])  # GDP per capita is in the 4th position (index 3)\n",
    "        gdp_countries_list.append(gdp_per_capita)\n",
    "\n",
    "# Calculate the average GDP per capita for countries in the list `countries`\n",
    "average_gdp_countries = sum(gdp_countries_list) / len(gdp_countries_list)\n",
    "\n",
    "# Extract GDP per capita for all countries in the cdata file\n",
    "gdp_all_countries = []\n",
    "for iso_code, info in cData.items():\n",
    "    gdp_per_capita = float(info[3])  # GDP per capita is in the 4th position (index 3)\n",
    "    gdp_all_countries.append(gdp_per_capita)\n",
    "\n",
    "# Calculate the average GDP per capita for all countries in the cdata file\n",
    "average_gdp_all_countries = sum(gdp_all_countries) / len(gdp_all_countries)\n",
    "\n",
    "# Print the results\n",
    "print(f\"Average GDP per capita for countries in the list: {average_gdp_countries:.7}.\")\n",
    "print(f\"Average GDP per capita for all countries in the cdata file: {average_gdp_all_countries:.7}.\")\n"
   ]
  },
  {
   "cell_type": "code",
   "execution_count": 103,
   "metadata": {},
   "outputs": [
    {
     "name": "stdout",
     "output_type": "stream",
     "text": [
      "The average GDP per capita of the countries in the list is higher than the average GDP of all countries in the cdata file.\n",
      "So we can conclude that the countries in the list, which are primarily developed nations, have a significantly higher standard of living compared to the global average.\n"
     ]
    }
   ],
   "source": [
    "# Compare and conclude\n",
    "if average_gdp_countries > average_gdp_all_countries:\n",
    "    print(\"The average GDP per capita of the countries in the list is higher than the average GDP of all countries in the cdata file.\\nSo we can conclude that the countries in the list, which are primarily developed nations, have a significantly higher standard of living compared to the global average.\")\n",
    "elif average_gdp_countries < average_gdp_all_countries:\n",
    "    print(\"The average GDP per capita of the countries in the list is lower than the average GDP of all countries in the cdata file.\\nSo we can conclude that the countries in the list, which may be developing or emerging economies, have a lower standard of living compared to the global average.\")\n",
    "else:\n",
    "    print(\"The average GDP per capita of the countries in the list is equal to the average GDP of all countries in the cdata file.\\nSo we can conclude that the countries in the list have a standard of living that is representative of the global average, indicating a balanced economy.\")"
   ]
  },
  {
   "cell_type": "markdown",
   "metadata": {},
   "source": [
    "# <span style=\"color:brown\"> Part 3 - Functions hurt nobody </span>\n",
    "\n",
    "## Exercise I - I hate math\n",
    "\n",
    "##### Consider the following equation:\n",
    "\n",
    "\\begin{equation}\n",
    "    y = 6x^2 + 3x + 2 + cos(x)\n",
    "\\end{equation}\n",
    "\n",
    "**17**: Write a function called *f* that takes one argument, x, and returns y according to the equation above. *Note: You should use the module math to solve this exercise.*"
   ]
  },
  {
   "cell_type": "code",
   "execution_count": 37,
   "metadata": {},
   "outputs": [],
   "source": [
    "# Import the math module\n",
    "import math"
   ]
  },
  {
   "cell_type": "code",
   "execution_count": 38,
   "metadata": {},
   "outputs": [],
   "source": [
    "# Define the function f\n",
    "def f(x):\n",
    "    return 6 * x**2 + 3*x + 2 + math.cos(x)"
   ]
  },
  {
   "cell_type": "markdown",
   "metadata": {},
   "source": [
    "**17.1**: Call the function for x = 2 and print the answer."
   ]
  },
  {
   "cell_type": "code",
   "execution_count": 39,
   "metadata": {},
   "outputs": [
    {
     "name": "stdout",
     "output_type": "stream",
     "text": [
      "31.583853163452858\n"
     ]
    }
   ],
   "source": [
    "# Call the f function for x = 2\n",
    "answer = f(2)\n",
    "\n",
    "# Print the answer\n",
    "print(answer)"
   ]
  },
  {
   "cell_type": "markdown",
   "metadata": {},
   "source": [
    "##### Consider the following sequence of numbers:\n",
    "\n",
    "\\begin{equation}\n",
    "    x_0 = 0;  \\\\\n",
    "    x_{n} = x_{n-1} - n; ~~~ \\textit{ if} ~~~ x_{n-1}-n > 0 ~~~ \\textit{ and is not already in the sequence}\\\\\n",
    "    x_{n} = x_{n-1} + n; ~~~ \\textit{ otherwise} ~~~ ~~~ ~~~ ~~~ ~~ ~~~ ~~~ ~~~ ~~~ ~~~ ~ ~~~ ~~~ ~~~ ~~~ ~~~ ~~~ ~ ~~~ ~~~ ~~~~ ~~~ ~~~ ~~~ ~ \\\\\n",
    "\\end{equation}\n",
    "\n",
    "**17.2**: Write a function that returns the nth digit of the above defined sequence. <br>\n",
    "\n",
    "*Note: the above sequence is also known as the Recamán's sequence, and it was invented by Bernardo Recamán Santos (Bogotá, Colombia)*"
   ]
  },
  {
   "cell_type": "code",
   "execution_count": 40,
   "metadata": {},
   "outputs": [],
   "source": [
    "# Define the function RecamanSequence\n",
    "def RecamanSequence(n: int) -> int:\n",
    "    \"\"\"\n",
    "    Returns the nth digit in Recamán's sequence.\n",
    "\n",
    "    Args:\n",
    "    - n (int): The 1-based index of the digit in the sequence to return. Must be a positive integer.\n",
    "\n",
    "    Returns:\n",
    "    - int: The nth digit of the Recamán's sequence.\n",
    "    \"\"\"\n",
    "        \n",
    "    # Raise an error if n is not positive\n",
    "    if n <= 0:\n",
    "        raise ValueError(\"n must be a positive integer!\")\n",
    "    \n",
    "    # Initialize the sequence with 0 as the first digit\n",
    "    sequence = [0]\n",
    "\n",
    "    # Create the sequence until the nth digit\n",
    "    for i in range(1, n):\n",
    "        # Subtract the current index from the last digit\n",
    "        value = sequence[i-1] - i\n",
    "        \n",
    "        # If the value is positive and not already in the sequence, append it\n",
    "        if value > 0 and value not in sequence:\n",
    "            sequence.append(value)\n",
    "        # Otherwise, add the index to the last digit and append it\n",
    "        else:\n",
    "            sequence.append(sequence[i-1] + i)\n",
    "    \n",
    "    # Return the nth digit in the sequence\n",
    "    return sequence[n-1]"
   ]
  },
  {
   "cell_type": "code",
   "execution_count": 41,
   "metadata": {},
   "outputs": [
    {
     "name": "stdout",
     "output_type": "stream",
     "text": [
      "x1 = 0\n",
      "x2 = 1\n",
      "x3 = 3\n",
      "x4 = 6\n",
      "x5 = 2\n",
      "x6 = 7\n",
      "x7 = 13\n",
      "x8 = 20\n",
      "x9 = 12\n",
      "x10 = 21\n"
     ]
    }
   ],
   "source": [
    "# Test the RecamanSequence function by printing the first 10 digits of Recamán's sequence\n",
    "for n in range(1, 11):\n",
    "    print(f\"x{n} = {RecamanSequence(n)}\")"
   ]
  },
  {
   "cell_type": "markdown",
   "metadata": {},
   "source": [
    "**17.3** Write a function named isPrime that takes an integer as input and outputs True if the number is prime and False if the number if not prime. "
   ]
  },
  {
   "cell_type": "code",
   "execution_count": 42,
   "metadata": {},
   "outputs": [],
   "source": [
    "# Define the function isPrime\n",
    "def isPrime(x: int) -> bool:\n",
    "    \"\"\"\n",
    "    Check if a number is prime.\n",
    "\n",
    "    Args:\n",
    "    - x (int): The number to check for primality. Must be a positive integer.\n",
    "\n",
    "    Returns:\n",
    "    - bool: True if x is prime, False otherwise.\n",
    "    \"\"\"\n",
    "    \n",
    "    # Raise an error if x is not positive\n",
    "    if x <= 0:\n",
    "        raise ValueError(\"x must be a positive integer!\")\n",
    "    \n",
    "    # Handle the case for 1 separately (1 is not a prime number)\n",
    "    if x == 1:\n",
    "        return False\n",
    "    \n",
    "    # Iterate from 2 to x-1 to check for divisors\n",
    "    for i in range(2, x):\n",
    "        # If x is divisible by any number in this range, it's not a prime number\n",
    "        if x % i == 0:\n",
    "            return False\n",
    "    \n",
    "    # If no divisors were found, x is prime\n",
    "    return True"
   ]
  },
  {
   "cell_type": "markdown",
   "metadata": {},
   "source": [
    "**17.4** Test your function against some examples to show that it works as expected."
   ]
  },
  {
   "cell_type": "code",
   "execution_count": 43,
   "metadata": {},
   "outputs": [
    {
     "name": "stdout",
     "output_type": "stream",
     "text": [
      "1: False\n",
      "2: True\n",
      "3: True\n",
      "4: False\n",
      "5: True\n",
      "6: False\n",
      "7: True\n",
      "8: False\n",
      "9: False\n",
      "10: False\n"
     ]
    }
   ],
   "source": [
    "# Test the isPrime function by printing the primality of the numbers from 1 to 10\n",
    "for i in range(1, 11):\n",
    "    print(f\"{i}: {isPrime(i)}\")"
   ]
  },
  {
   "cell_type": "markdown",
   "metadata": {},
   "source": [
    "## Exercise II - Monty Hall Problem\n"
   ]
  },
  {
   "cell_type": "markdown",
   "metadata": {},
   "source": [
    "**18**: The Monty Hall Problem is a probability puzzle loosely based on the American television game show \"Let's Make a Deal\" and named after its original host, Monty Hall. The puzzle can be stated as follows\n",
    "\n",
    "> Suppose you're on a game show, and you're given the choice of three doors: Behind one door is a car; behind the others, goats. You pick a door, say No. 1, and the host, who knows what's behind the doors, opens another door, say No. 3, which has a goat. He then says to you, \"Do you want to pick door No. 2?\" Is it to your advantage to switch your choice? <br>\n",
    "+info: https://en.wikipedia.org/wiki/Monty_Hall_problem\n",
    "\n",
    "While intuitively your guess might be that the chances of winning the car is 1/3 independently of the choice to switch doors or not. However, the odds of winning if you switch doors are 2/3 and greater than if you decide not to switch. While there are theoretical solutions to this problem that allow us to estimate the correct odds of winning in each scenario -- switching or not doors -- an alternative way to proof such outcome is through computer simulations. That is the goal of this exercise, to write the necessary components to simulate the Monty Hall problem and validate the theoretical results through simulations.\n",
    "\n",
    "In this exercise, start by implementing a function that simulates one instance of the Monty Hall problem. \n",
    "In that sense, write a function called MontyHall that accepts **one argument**:\n",
    "- A boolean (True/False, or 1/0) that specifies if the player switches doors or not (after the host has opened his door, which contains a goat).\n",
    "The function should return True if the player wins the car or False if not.\n",
    "\n",
    "Naturally, for the function to reproduce the contest it needs to consider and perform some actions, such as:\n",
    "- Set up the game, that is, create the necessary variables to store the information about three doors and what they have behind, as well as an indicator to track the choice of the player.\n",
    "- Given the initial choice of the player, simulate the opening of one of the two remaining doors that contains a goat.\n",
    "- Given the last two doors left, simulate if the player wants to switch or not his/her choice given their strategy (defined by the input boolean argument of the function).\n",
    "- Output the result, if the contestant correctly guesses which door hides the car or if not.\n",
    "\n",
    "The function MontyHall should simulate one instance of the contest given the choice of the player (to switch or not).\n",
    "\n",
    "**The goal is to understand, statistically, which action leads to the highest probability of winning.** <br>\n",
    "*Note: You should use the library random to solve this exercise.*"
   ]
  },
  {
   "cell_type": "code",
   "execution_count": 44,
   "metadata": {},
   "outputs": [],
   "source": [
    "# Import the random module\n",
    "import random"
   ]
  },
  {
   "cell_type": "code",
   "execution_count": 45,
   "metadata": {},
   "outputs": [],
   "source": [
    "# Define the function MontyHall\n",
    "def MontyHall(switch: bool) -> bool:\n",
    "    \"\"\"\n",
    "    Simulate one instance of the Monty Hall problem.\n",
    "\n",
    "    Args:\n",
    "    - switch (bool): True if the player wants to switch doors after the host opens a door, which contains a goat, False otherwise.\n",
    "\n",
    "    Returns:\n",
    "    - bool: True if the player correctly guesses which door hides the car, False otherwise.\n",
    "    \"\"\"\n",
    "\n",
    "    # Initialize the doors: one with a car, two with a goat\n",
    "    doors = [\"car\", \"goat\", \"goat\"]\n",
    "\n",
    "    # Shuffle the doors randomly\n",
    "    random.shuffle(doors)\n",
    "\n",
    "    # Simulate the player randomly selecting one of the three doors\n",
    "    player_door = random.randint(0, 2)\n",
    "\n",
    "    # Identify which doors were not chosen by the player\n",
    "    remaining_doors = [i for i in range(3) if i != player_door]\n",
    "    \n",
    "    # Simulate the host opening a door, which contains a goat\n",
    "    host_door = next(i for i in remaining_doors if doors[i] == \"goat\")\n",
    "    \n",
    "    # Simulate if the player switches doors\n",
    "    if switch:\n",
    "        # Remove the door opened by the host\n",
    "        remaining_doors.remove(host_door)\n",
    "        \n",
    "        # Switch to the remaining door\n",
    "        player_door = remaining_doors[0]\n",
    "\n",
    "    # Return True if the player's final choice contains the car\n",
    "    return doors[player_door] == \"car\""
   ]
  },
  {
   "cell_type": "code",
   "execution_count": 46,
   "metadata": {},
   "outputs": [
    {
     "data": {
      "text/plain": [
       "True"
      ]
     },
     "execution_count": 46,
     "metadata": {},
     "output_type": "execute_result"
    }
   ],
   "source": [
    "# Test the MontyHall function with the player choosing to switch doors\n",
    "MontyHall(True)"
   ]
  },
  {
   "cell_type": "markdown",
   "metadata": {},
   "source": [
    "**18.1** Now that you have a function that simulates an instance of the Monty Hall problem, implement an experiment where you repeat many times (thousands of times) for each of the two possible scenarios: player switching the door, and player not switching the door. Keep track of the results and estimate the frequencies of wins for each scenario and discuss if the results are inline with the theoretical odds."
   ]
  },
  {
   "cell_type": "code",
   "execution_count": 47,
   "metadata": {},
   "outputs": [],
   "source": [
    "# Define the function ExperimentMontyHall\n",
    "def ExperimentMontyHall(n: int):\n",
    "    \"\"\"\n",
    "    Run an experiment to simulate the Monty Hall problem n times for each of the two possible scenarios:\n",
    "    player switching the door, and player not switching the door.\n",
    "    Calculate the win percentage for both scenarios and print the results.\n",
    "    \n",
    "    Args:\n",
    "    - n (int): The number of simulations to run for each scenario (switching or not switching).\n",
    "\n",
    "    Returns:\n",
    "    - None: The function prints the win percentages for both scenarios, but does not return any value.\n",
    "    \"\"\"\n",
    "    \n",
    "    # Initialize a list to store the results of the simulations for both scenarios\n",
    "    scenarios_simulations = []\n",
    "\n",
    "    # Simulate the two possible scenarios: switching or not switching\n",
    "    for switch in [True, False]:\n",
    "        # Initialize a list to store the result of each simulation for the current scenario\n",
    "        simulations = []\n",
    "\n",
    "        # Simulate the Monty Hall problem n times for the current scenario, and append the results to \"simulations\"\n",
    "        for _ in range(n):\n",
    "            simulations.append(MontyHall(switch))\n",
    "        \n",
    "        # Append the list of results for the current scenario to \"scenarios_simulations\"\n",
    "        scenarios_simulations.append(simulations)\n",
    "    \n",
    "    # Calculate the win percentage when the player switches doors\n",
    "    switching_wins_percentage = sum(scenarios_simulations[0]) / n * 100\n",
    "    \n",
    "    # Calculate the win percentage when the player doesn't switch doors\n",
    "    not_switching_wins_percentage = sum(scenarios_simulations[1]) / n * 100\n",
    "\n",
    "    # Print the results\n",
    "    print(\"Wins percentage\")\n",
    "    print(f\"Switching scenario: {round(switching_wins_percentage, 2)}%\")\n",
    "    print(f\"Not switching scenario: {round(not_switching_wins_percentage, 2)}%\")"
   ]
  },
  {
   "cell_type": "code",
   "execution_count": 48,
   "metadata": {},
   "outputs": [
    {
     "name": "stdout",
     "output_type": "stream",
     "text": [
      "Wins percentage\n",
      "Switching scenario: 66.1%\n",
      "Not switching scenario: 34.19%\n"
     ]
    }
   ],
   "source": [
    "# Test the ExperimentMontyHall function with 10,000 simulations for each scenario\n",
    "ExperimentMontyHall(10000)"
   ]
  },
  {
   "cell_type": "markdown",
   "metadata": {},
   "source": [
    "For the switching and not switching scenarios, the win percentages in the simulation are 66.97% and 33.37%, respectively. These results are very close to the theoretical odds of 2/3 and 1/3, respectively.<br>\n",
    "\n",
    "**Conclusion:** The results from 10,000 simulations align well with the theoretical odds of the Monty Hall problem. If the player chooses to switch doors, they significantly increase their chance of winning (around 2/3 of the time). On the other hand, if they stick with their original choice, their chances of winning are much lower (around 1/3 of the time)."
   ]
  },
  {
   "cell_type": "markdown",
   "metadata": {},
   "source": [
    "## Exercise III\n",
    "\n",
    "**19**: Consider the list *A*, declared below. <br>\n",
    "Use the function map() to change the values of A by adding 1 to each value if it is even and subtracting 1 from it otherwise.\n",
    "\n",
    "**Note**: Carefully consider the values of list A and adapt your code accordingly to deal with number that are represented as strings."
   ]
  },
  {
   "cell_type": "code",
   "execution_count": 49,
   "metadata": {},
   "outputs": [],
   "source": [
    "A = [460,3347,3044,490,699,\"1258\",1804,973,2223,3416,\"2879\",1058,2915,2422,351,\"1543\",1020,208,643,\"795\",3337,\"2585\",471,2623,1077]"
   ]
  },
  {
   "cell_type": "code",
   "execution_count": 50,
   "metadata": {},
   "outputs": [],
   "source": [
    "# For each element of A (x), convert it to an integer:\n",
    "# - If x is even, add 1 to it\n",
    "# - If x is odd, subtract 1 from it\n",
    "A = list(map(lambda x: int(x)+1 if int(x)%2 == 0 else int(x)-1, A))"
   ]
  },
  {
   "cell_type": "code",
   "execution_count": 51,
   "metadata": {},
   "outputs": [
    {
     "name": "stdout",
     "output_type": "stream",
     "text": [
      "[461, 3346, 3045, 491, 698, 1259, 1805, 972, 2222, 3417, 2878, 1059, 2914, 2423, 350, 1542, 1021, 209, 642, 794, 3336, 2584, 470, 2622, 1076]\n"
     ]
    }
   ],
   "source": [
    "# Print the modified list A\n",
    "print(A)"
   ]
  },
  {
   "cell_type": "markdown",
   "metadata": {},
   "source": [
    "**20**: Create a list B with the same size of A, where each element is True if the associated value in list A is greater than 700, else is False."
   ]
  },
  {
   "cell_type": "code",
   "execution_count": 52,
   "metadata": {},
   "outputs": [],
   "source": [
    "# Create the list B\n",
    "B = list(map(lambda x: x>700, A))"
   ]
  },
  {
   "cell_type": "code",
   "execution_count": 53,
   "metadata": {},
   "outputs": [
    {
     "name": "stdout",
     "output_type": "stream",
     "text": [
      "[False, True, True, False, False, True, True, True, True, True, True, True, True, True, False, True, True, False, False, True, True, True, False, True, True]\n"
     ]
    }
   ],
   "source": [
    "# Print the list B\n",
    "print(B)"
   ]
  },
  {
   "cell_type": "markdown",
   "metadata": {},
   "source": [
    "**21**: Create a list L that contains the Logarithm of base 10 of each value in A. <br>\n",
    "\n",
    "*Note: You should use the module math to solve this exercise.*"
   ]
  },
  {
   "cell_type": "code",
   "execution_count": 54,
   "metadata": {},
   "outputs": [],
   "source": [
    "# Import the math module\n",
    "import math"
   ]
  },
  {
   "cell_type": "code",
   "execution_count": 55,
   "metadata": {},
   "outputs": [],
   "source": [
    "# Create the list L\n",
    "L = list(map(lambda x: math.log10(x), A))"
   ]
  },
  {
   "cell_type": "code",
   "execution_count": 56,
   "metadata": {},
   "outputs": [
    {
     "name": "stdout",
     "output_type": "stream",
     "text": [
      "[2.663700925389648, 3.5245259366263757, 3.4835872969688944, 2.6910814921229687, 2.843855422623161, 3.1000257301078626, 3.256477206241677, 2.9876662649262746, 3.346744054604849, 3.5336449787987627, 3.4590907896005865, 3.024895960107485, 3.4644895474339714, 3.384353414137506, 2.5440680443502757, 3.188084373714938, 3.0090257420869104, 2.3201462861110542, 2.807535028068853, 2.8998205024270964, 3.523226041965701, 3.4122925093230463, 2.6720978579357175, 3.4186326873540653, 3.0318122713303706]\n"
     ]
    }
   ],
   "source": [
    "# Print the list L\n",
    "print(L)"
   ]
  },
  {
   "cell_type": "markdown",
   "metadata": {},
   "source": [
    "**22**: How many numbers in A are greater than 1000? <br>\n",
    "\n",
    "*Note: You should use the function filter().*"
   ]
  },
  {
   "cell_type": "code",
   "execution_count": 65,
   "metadata": {},
   "outputs": [],
   "source": [
    "# Create a filtered list with the elements of A that are greater than 1000\n",
    "numbers_above_1000 = list(filter(lambda x: x>1000, A))"
   ]
  },
  {
   "cell_type": "code",
   "execution_count": 66,
   "metadata": {},
   "outputs": [
    {
     "name": "stdout",
     "output_type": "stream",
     "text": [
      "The number in A that are greater than 1000 is: 16\n"
     ]
    }
   ],
   "source": [
    "# Print the length of the filtered list (the number of elements of A that are greater than 1000)\n",
    "print(f\"The number of elements of A that are greater than 1000 is: {len(numbers_above_1000)}.\")"
   ]
  },
  {
   "cell_type": "markdown",
   "metadata": {},
   "source": [
    "**23** Use the function isPrime, that you declared in 17.3, to identify which numbers from A are prime. Note that depending on your implementation of isPrime this task can take more or less time. Use filter to achieve this task."
   ]
  },
  {
   "cell_type": "code",
   "execution_count": 59,
   "metadata": {},
   "outputs": [],
   "source": [
    "# Create a filtered list with the elements of A that are prime\n",
    "prime_numbers = list(filter(lambda x: isPrime(x), A))"
   ]
  },
  {
   "cell_type": "code",
   "execution_count": 60,
   "metadata": {},
   "outputs": [
    {
     "name": "stdout",
     "output_type": "stream",
     "text": [
      "[461, 491, 1259, 2423, 1021]\n"
     ]
    }
   ],
   "source": [
    "# Print the filtered list (the elements of A that are prime)\n",
    "print(prime_numbers)"
   ]
  },
  {
   "cell_type": "markdown",
   "metadata": {},
   "source": [
    "### Congratulations, it is done!"
   ]
  }
 ],
 "metadata": {
  "kernelspec": {
   "display_name": "Python 3 (ipykernel)",
   "language": "python",
   "name": "python3"
  },
  "language_info": {
   "codemirror_mode": {
    "name": "ipython",
    "version": 3
   },
   "file_extension": ".py",
   "mimetype": "text/x-python",
   "name": "python",
   "nbconvert_exporter": "python",
   "pygments_lexer": "ipython3",
   "version": "3.11.3"
  }
 },
 "nbformat": 4,
 "nbformat_minor": 4
}
