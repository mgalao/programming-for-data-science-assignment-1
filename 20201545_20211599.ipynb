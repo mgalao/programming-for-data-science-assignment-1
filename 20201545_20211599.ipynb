{
 "cells": [
  {
   "cell_type": "markdown",
   "metadata": {},
   "source": [
    "# <span style=\"color:green\"> Start Here </span> \n",
    "\n",
    "[Please Complete the following form with your details]\n",
    "\n",
    "Student Name - Alexandra Pinto<br>\n",
    "Student id - 20211599<br>\n",
    "Contact e-mail - 20211599@novaims.unl.pt<br>\n",
    "\n",
    "\n",
    "Student Name - Marco Galão<br>\n",
    "Student id - 20201545<br>\n",
    "Contact e-mail - r20201545@novaims.unl.pt<br>"
   ]
  },
  {
   "cell_type": "markdown",
   "metadata": {},
   "source": [
    "# <span style=\"color:brown\"> Part 1 -  Variable Declaration and Manipulation </span> \n",
    "\n",
    "## Exercise I - of Lists and Random numbers\n",
    "\n",
    "**1**: Declare a variable X that stores a list of 100 integers randomly sampled between -100 and 100.<br>\n",
    "Note: You are not allowed to use third party libraries -- such as Numpy, Pandas, or Scipy -- in this exercise."
   ]
  },
  {
   "cell_type": "code",
   "execution_count": 1,
   "metadata": {},
   "outputs": [],
   "source": [
    "# Import the random module\n",
    "import random"
   ]
  },
  {
   "cell_type": "code",
   "execution_count": 2,
   "metadata": {},
   "outputs": [],
   "source": [
    "# Create a list X with 100 random integers between -100 and 100 (inclusive)\n",
    "X = [random.randint(-100, 100) for i in range(100)]\n",
    "\n",
    "# Explanation:\n",
    "# random.randint(-100, 100) generates a random integer between -100 and 100 (inclusive)\n",
    "# range(100) ensures that 100 random integers are generated and added to the list X"
   ]
  },
  {
   "cell_type": "code",
   "execution_count": 3,
   "metadata": {},
   "outputs": [
    {
     "name": "stdout",
     "output_type": "stream",
     "text": [
      "X: [-38, -38, -72, 7, 65, 81, 33, 48, 75, -88, 3, -39, -12, -69, 93, -41, 64, -63, -66, 39, 66, 94, 35, -86, -3, 33, -37, 29, -15, -24, 23, 22, -41, -41, -15, -15, -60, 63, 19, -9, -44, 25, 11, 75, -82, 5, -31, 82, -81, -18, -60, 5, 30, -26, -55, 51, -99, -73, 17, -28, 38, 37, -97, 31, -52, -27, 15, -92, -67, -81, -23, -87, 89, 81, -5, -87, 25, 27, -42, -21, 83, -25, 57, 74, -78, 13, -21, 57, 15, -20, 94, -64, -95, -13, 79, 21, 39, 89, 36, 75]\n"
     ]
    }
   ],
   "source": [
    "# Print the list X\n",
    "print(\"X:\", X)"
   ]
  },
  {
   "cell_type": "markdown",
   "metadata": {},
   "source": [
    "**2**: How many odd numbers are in list X?\n"
   ]
  },
  {
   "cell_type": "code",
   "execution_count": 4,
   "metadata": {},
   "outputs": [],
   "source": [
    "# Initialize a counter to keep track of the odd numbers\n",
    "odd_count = 0\n",
    "\n",
    "# Iterate through each number in the list X to check if it's odd\n",
    "for i in X:\n",
    "    # If the number is odd (there is a remainder when divided by 2), increment the odd number counter by 1\n",
    "    if i % 2 != 0:\n",
    "        odd_count += 1"
   ]
  },
  {
   "cell_type": "code",
   "execution_count": 5,
   "metadata": {},
   "outputs": [
    {
     "name": "stdout",
     "output_type": "stream",
     "text": [
      "There are 68 odd numbers in list X.\n"
     ]
    }
   ],
   "source": [
    "# Print the answer\n",
    "print(f\"There are {odd_count} odd numbers in list X.\")"
   ]
  },
  {
   "cell_type": "markdown",
   "metadata": {},
   "source": [
    "**2.1** Check if there are as many even numbers as there are odd numbers, else discard the list and generate a new one."
   ]
  },
  {
   "cell_type": "code",
   "execution_count": 6,
   "metadata": {},
   "outputs": [],
   "source": [
    "# In this exercise, we will adapt the code from exercise 2\n",
    "\n",
    "# Initialize a counter to keep track of the even numbers\n",
    "even_count = 0\n",
    "\n",
    "# Iterate through each number in the list X to check if it's even\n",
    "for i in X:\n",
    "    # If the number is even (there is no remainder when divided by 2), increment the even number counter by 1\n",
    "    if i % 2 == 0:\n",
    "        even_count += 1"
   ]
  },
  {
   "cell_type": "code",
   "execution_count": 7,
   "metadata": {},
   "outputs": [
    {
     "name": "stdout",
     "output_type": "stream",
     "text": [
      "There are 32 odd numbers in list X.\n"
     ]
    }
   ],
   "source": [
    "# Print the answer\n",
    "print(f\"There are {even_count} odd numbers in list X.\")"
   ]
  },
  {
   "cell_type": "code",
   "execution_count": 8,
   "metadata": {},
   "outputs": [
    {
     "name": "stdout",
     "output_type": "stream",
     "text": [
      "The list X has a different number of odd and even numbers, so we will generate a new list X.\n",
      "X: [13, 33, -37, -33, 52, -79, -70, -67, 85, 50, 90, 81, -96, -55, -11, 7, 3, 56, 50, -15, 43, 6, -65, -72, -76, 95, 73, 40, -46, 40, 87, -14, 43, 13, 44, 36, -11, -43, 62, -96, 87, 67, 7, 91, -37, 30, -74, 36, 9, 35, -20, -35, -23, 86, 96, 31, 20, 81, 41, 97, -33, 61, 10, 25, 48, 57, 40, -55, -38, 98, -64, -59, -54, -47, -89, 99, 85, 52, 18, 51, 5, -90, -44, -64, -12, -13, 52, -98, 85, -68, 8, -43, 77, -23, 7, -35, 48, -23, 60, 31]\n"
     ]
    }
   ],
   "source": [
    "# Now we will compare the counts of odd and even numbers\n",
    "\n",
    "# Check if the number of odd and even numbers are equal or different\n",
    "if odd_count == even_count:\n",
    "    print(\"The list X has an equal number of odd and even numbers.\")\n",
    "else:\n",
    "    print(\"The list X has a different number of odd and even numbers, so we will generate a new list X.\")\n",
    "    \n",
    "    # Use the code from exercise 1\n",
    "    # Regenerate the list X with 100 random integers between -100 and 100 (inclusive)\n",
    "    X = [random.randint(-100, 100) for i in range(100)]\n",
    "    \n",
    "    # Explanation:\n",
    "    # random.randint(-100, 100) generates a random integer between -100 and 100, including both\n",
    "    # range(100) ensures that 100 random integers are generated and added to the list X\n",
    "\n",
    "    # Print X\n",
    "    print(\"X:\", X)"
   ]
  },
  {
   "cell_type": "markdown",
   "metadata": {},
   "source": [
    "**2.2** Create a pipeline to automatically perform the tasks above such that you avoid having to run the cells multiple times to reach the desired outcome."
   ]
  },
  {
   "cell_type": "code",
   "execution_count": 9,
   "metadata": {},
   "outputs": [],
   "source": [
    "# Import the random module (to generate random integers)\n",
    "import random"
   ]
  },
  {
   "cell_type": "code",
   "execution_count": 10,
   "metadata": {},
   "outputs": [],
   "source": [
    "# Define the function GenerateList\n",
    "def GenerateList():\n",
    "    \"\"\"\n",
    "    Generates a list of 100 random integers between -100 and 100 (inclusive).\n",
    "\n",
    "    Returns:\n",
    "        list: A list of 100 random integers between -100 and 100 (inclusive).\n",
    "    \"\"\"\n",
    "    \n",
    "    return [random.randint(-100, 100) for i in range(100)]\n",
    "    # Explanation:\n",
    "    # random.randint(-100, 100) generates a random integer between -100 and 100 (inclusive)\n",
    "    # range(100) ensures that 100 random integers are generated and added to the list X\n",
    "\n",
    "# Define the function CountEvenOddNumbers\n",
    "def CountEvenOddNumbers(X: list) -> tuple:\n",
    "    \"\"\"\n",
    "    Counts the number of even and odd numbers in a list of numeric types.\n",
    "\n",
    "    Args:\n",
    "    - X (list): A list of numeric types.\n",
    "\n",
    "    Returns:\n",
    "    - tuple: A tuple containing two integers - (even_count, odd_count) where:\n",
    "             - even_count is the number of even integers in the list.\n",
    "             - odd_count is the number of odd integers in the list.\n",
    "    \"\"\"\n",
    "\n",
    "    # Initialize counters to keep track of even and odd numbers\n",
    "    even_count = 0\n",
    "    odd_count = 0\n",
    "\n",
    "    # Iterate through each number in the list X to check if it's even or odd\n",
    "    for i in X:\n",
    "        # If the number is even (there is no remainder when divided by 2), increment the even number counter by 1\n",
    "        if i % 2 == 0:\n",
    "            even_count += 1  \n",
    "        # Otherwise, it's odd, so increment the odd number counter by 1\n",
    "        else:\n",
    "            odd_count += 1\n",
    "    \n",
    "    # Return the counts of even and odd numbers as a tuple\n",
    "    return even_count, odd_count\n",
    "\n",
    "# Define the function Pipeline\n",
    "def Pipeline():\n",
    "    \"\"\"\n",
    "    Generates a list of 100 random integers between -100 and 100 (inclusive) and\n",
    "    checks if it has an equal number of even and odd numbers.\n",
    "    If not, it regenerates the list until the counts of even and odd numbers are equal.\n",
    "\n",
    "    Returns:\n",
    "    - None\n",
    "    \"\"\"\n",
    "\n",
    "    # Generate the initial list X\n",
    "    X = GenerateList()\n",
    "    \n",
    "    # Calculate the initial counts of even and odd numbers\n",
    "    even_count, odd_count = CountEvenOddNumbers(X)\n",
    "    \n",
    "    # Continue regenerating list X until the number of even and odd numbers are equal\n",
    "    while even_count != odd_count:\n",
    "        print(\"The list X has a different number of odd and even numbers, so we will generate a new list X.\")\n",
    "        \n",
    "        # Regenerate a new list X\n",
    "        X = GenerateList()\n",
    "\n",
    "        # Print the regenerated list X\n",
    "        print(\"X:\", X, \"\\n\")\n",
    "\n",
    "        # Recalculate the counts of even and odd numbers\n",
    "        even_count, odd_count = CountEvenOddNumbers(X)\n",
    "        \n",
    "    # When the loop breaks, it means the number of even and odd numbers is equal\n",
    "    print(\"The list X has equal number of even and odd numbers.\")\n",
    "    \n",
    "    # Print the final list X\n",
    "    print(\"Final X:\", X)"
   ]
  },
  {
   "cell_type": "code",
   "execution_count": 11,
   "metadata": {},
   "outputs": [
    {
     "name": "stdout",
     "output_type": "stream",
     "text": [
      "The list X has a different number of odd and even numbers, so we will generate a new list X.\n",
      "X: [-81, -57, 52, -58, -52, 0, -54, -10, -62, -39, 66, 46, -90, 15, 14, 41, 4, 96, -91, 63, 30, -79, -56, 11, 41, 2, -83, 25, 4, 17, -80, -92, 100, -58, 59, 39, 32, -17, 56, -20, 46, -79, 16, 97, -5, 32, -25, -90, -13, 70, 78, -12, -73, -95, 32, 93, -9, -57, -88, 100, -70, -13, 15, 24, -86, -80, -40, 93, -64, 85, -49, 90, -63, 99, -68, 18, -2, -57, -94, 13, -51, 37, 27, 25, 53, -35, -61, 11, 62, 12, 50, 53, 12, 33, 58, -9, -16, 26, -88, 3] \n",
      "\n",
      "The list X has a different number of odd and even numbers, so we will generate a new list X.\n",
      "X: [-81, -72, -32, -26, -1, 53, 70, -22, 9, -43, 3, -55, -63, 2, -9, 94, -52, 35, -14, -61, 61, 17, -64, -70, -22, -37, 73, -9, -43, 91, 39, -70, -65, -15, -57, -39, 16, -15, 82, 10, 95, -69, -97, 87, -22, 32, -26, 72, 31, 46, 24, 16, 94, 84, -13, 89, 83, 92, -5, 76, 44, 92, -95, 88, 82, 62, 21, 63, -15, 75, 29, -6, 9, 57, 7, -80, -46, 13, 96, -11, -52, -26, -38, -68, 70, 83, -1, -46, -15, -95, 52, -72, 92, -27, 11, 46, 85, -84, 3, -98] \n",
      "\n",
      "The list X has a different number of odd and even numbers, so we will generate a new list X.\n",
      "X: [29, -67, 75, -72, -81, -9, 0, -58, -83, 80, 70, 91, -84, 22, -24, -52, 64, 77, 17, 96, 35, 69, 59, 14, 96, 76, -4, 75, 74, 50, 98, -12, -85, 92, 82, 82, -65, -73, -22, 11, 41, 8, -9, -23, -38, -8, 43, -80, -19, -88, 78, -13, -39, 27, 93, -60, 14, -54, -48, -57, -22, -43, -30, -33, 94, 73, 36, -85, 96, -37, 17, 45, 99, 16, -83, 62, 48, -19, -66, 82, -76, 38, -3, 76, -51, 73, -43, -93, 14, -94, -7, 36, -35, 39, -34, -47, 20, 97, -43, -25] \n",
      "\n",
      "The list X has a different number of odd and even numbers, so we will generate a new list X.\n",
      "X: [-12, -47, -38, 8, 33, -33, -37, 81, 52, -3, 37, 68, 93, -30, -30, -55, 52, -95, 63, -45, 81, 75, 32, -51, -54, -13, 11, 16, 52, 29, -10, 89, 7, -25, 56, 22, 29, 2, 91, 26, -54, 66, -48, -88, -9, -4, 11, 44, -40, -33, -93, -21, -20, -24, 14, -49, -11, -38, -72, -21, 69, 91, -10, -27, -60, -37, -7, -60, 87, -100, -39, 99, -99, -3, -42, -71, 38, -53, -92, 4, -5, 46, 41, -93, 99, 85, -8, 97, -48, -30, -90, 61, -54, 95, -57, 40, 69, 98, -42, 66] \n",
      "\n",
      "The list X has a different number of odd and even numbers, so we will generate a new list X.\n",
      "X: [-70, -67, -99, -41, -54, 91, -9, -83, 38, -14, -63, -32, 22, 91, 40, -91, -100, -57, -22, -37, 60, -29, -9, -74, 51, 46, 76, 48, -53, -28, -90, 73, -58, -13, -26, 28, 25, -88, 60, 93, -35, 27, 59, -70, -31, 92, -1, -64, -75, -36, 64, -72, -75, 8, -95, 28, -41, 87, 64, -91, -79, 27, 87, 41, 55, 91, -92, -45, -86, -6, -81, 94, -7, 79, -77, -78, -24, 26, -65, 32, 88, 81, 75, 46, -55, 74, -99, -19, -97, -13, -33, -22, -72, 99, -40, 7, -98, 57, -9, -82] \n",
      "\n",
      "The list X has a different number of odd and even numbers, so we will generate a new list X.\n",
      "X: [-65, 11, 47, 66, 67, -79, 82, 17, 94, 78, 4, 78, -93, -55, -93, 89, 43, 27, 13, -73, 26, 55, -4, -85, 99, -31, -8, -37, 21, -41, 12, 88, 59, -23, -52, 70, -34, 35, 31, 85, -22, 39, -50, -65, 76, -10, -71, -8, -43, -8, -12, 63, 39, 70, -24, 63, -39, 89, 32, -14, 30, -2, 86, -93, 6, 68, 51, 9, -49, -95, -19, -68, 87, -82, 28, -29, -58, 39, 78, 89, -17, 5, 28, 56, 9, 29, -66, -26, 69, 43, -39, -79, 35, 90, -58, 35, -32, 58, 77, 34] \n",
      "\n",
      "The list X has a different number of odd and even numbers, so we will generate a new list X.\n",
      "X: [-13, -31, 55, 90, 35, -65, 67, -71, -96, 40, 42, -67, 57, 87, -51, -27, 19, -64, -28, 57, 25, 40, 3, -24, -46, -67, -37, 63, 73, 50, -71, -77, -59, 68, -83, -94, 25, -96, -80, -16, 84, -23, 93, -15, -44, 47, 32, -12, 65, 8, -51, -34, 27, 89, 61, 55, 92, 11, 11, -36, 3, 24, 85, 34, 5, 89, 10, -53, -54, -65, -91, 60, 80, -16, -32, 37, -66, -39, 50, 63, -62, -93, -64, 18, -34, -65, 66, 70, -32, -39, 9, -54, -81, 18, 45, 58, 79, -28, 2, 78] \n",
      "\n",
      "The list X has a different number of odd and even numbers, so we will generate a new list X.\n",
      "X: [-69, -65, -18, -42, 41, -81, -66, -9, 57, 56, 93, -34, 36, -74, -64, 88, -64, 46, 91, 48, 33, 21, -79, -60, -97, 97, 62, 24, 76, 64, -83, 71, -76, 80, 14, 97, -60, 38, -64, 21, 77, 4, 20, 61, 84, 17, 49, -27, 12, -81, 86, -34, -3, -95, -7, -30, -87, 38, -40, 58, 41, 98, 7, 59, 51, 83, -97, -98, -89, -30, 73, 88, 73, -17, 89, 73, 60, 9, 52, -40, -44, -51, -53, -87, -25, -4, -46, -28, 47, 68, 48, 91, 0, 8, -53, -89, 16, -67, 62, -12] \n",
      "\n",
      "The list X has a different number of odd and even numbers, so we will generate a new list X.\n",
      "X: [-57, -8, 16, -46, -34, 15, -77, -90, -4, 96, -50, 36, -71, -63, 49, -11, 95, 26, 27, 18, -41, -51, -31, 8, 91, 90, 3, 43, -13, -43, 50, -80, 70, 48, -24, -47, -5, 69, 91, 31, -8, 51, -74, 30, 23, -41, 48, 22, -47, -37, 49, -39, 56, -85, 50, -48, 5, 61, 86, -49, -81, 35, -59, -42, -78, 0, -31, 35, 79, -49, -90, 5, -65, -61, 27, -40, 85, -95, 95, 77, 87, -8, -43, -33, 49, -47, 33, -82, 91, -16, -80, -48, -33, -45, -48, 59, -100, 94, -68, 79] \n",
      "\n",
      "The list X has a different number of odd and even numbers, so we will generate a new list X.\n",
      "X: [-69, -32, -33, -63, -48, 36, 72, 92, -57, -11, -96, 98, 75, 29, -2, -61, 1, 63, -23, 85, -69, -41, 74, 17, -6, -68, -74, 96, -43, -47, 36, 84, -51, -3, -81, -5, -84, 74, 84, -62, -37, 38, -51, 34, 93, 23, -67, -41, 30, -65, 93, -17, 85, 88, 73, -93, -56, -96, 49, 31, 30, -96, 57, -28, 93, -49, 39, 31, 96, 74, 35, 87, -40, -92, -74, -15, -87, 48, -16, 80, -23, -24, -62, -13, -36, 29, 77, 96, -6, -47, -32, 71, 43, 78, -85, 83, -58, -77, 57, 44] \n",
      "\n",
      "The list X has a different number of odd and even numbers, so we will generate a new list X.\n",
      "X: [2, -22, 48, -99, -10, 18, 68, -3, 29, -9, 81, -1, 80, 19, -20, -98, -77, -15, 0, -39, 13, -71, -82, -65, 60, -97, -72, -9, -16, 75, 23, 34, 82, 6, 83, 4, -90, 28, -4, 10, -70, 51, 97, -5, 88, 83, -10, 11, -56, -94, 0, 85, -73, -89, -76, 61, 9, 40, 54, -66, 2, 14, 89, 60, -27, 53, -19, 42, -77, 29, 51, -94, -73, -32, 20, 7, 22, -96, -79, 32, -56, -92, -70, 86, 32, -60, -17, 11, -13, -20, -49, 32, -19, -77, -49, -44, 72, -10, 6, -43] \n",
      "\n",
      "The list X has a different number of odd and even numbers, so we will generate a new list X.\n",
      "X: [-24, 59, -100, -87, -35, 22, -75, -3, 7, -20, -74, 6, 45, 20, 27, -58, -85, 4, -48, 96, 62, 33, 24, 17, -17, -79, 23, 81, 19, 3, 22, 6, 18, 88, -66, -11, 11, -2, -40, -30, 22, -58, -88, -40, -17, 42, -96, -70, 92, 54, 53, 47, -39, 36, -79, 44, -28, 5, 100, -30, 45, -93, -64, -4, -66, 59, -96, -14, -20, -56, 36, 55, 99, 52, 46, 13, -95, -41, 9, 2, -29, 19, 69, 96, -42, -97, -18, 23, 45, -48, 77, 84, 6, -72, -10, -38, 38, 0, 12, 90] \n",
      "\n",
      "The list X has a different number of odd and even numbers, so we will generate a new list X.\n",
      "X: [-59, 6, 45, -59, -42, 89, 12, 39, 10, -41, -35, 14, 36, 11, -31, 13, 54, -11, 30, 91, -32, -80, -32, -18, 46, -8, -30, 90, 52, -1, -82, 85, 67, 0, -67, 75, -16, -51, 59, -35, 48, 59, -90, 65, 81, 12, 34, -73, -66, -42, -82, -67, 17, 74, 73, 9, -24, 90, 19, -99, 6, 34, -18, 44, -47, -23, -81, -68, 8, 4, 44, -64, -24, -44, 25, 21, 97, 77, 18, -94, -98, -1, -97, 4, -86, -12, -84, -39, 22, 94, 21, -48, 17, -26, 71, -86, -4, -73, -72, -55] \n",
      "\n",
      "The list X has a different number of odd and even numbers, so we will generate a new list X.\n",
      "X: [4, 90, 91, 28, 75, 9, 75, 26, 48, -50, 77, -60, -58, -61, -73, 67, -4, 99, -78, -100, -80, 61, -92, 13, 75, 79, -35, 12, 17, -24, 52, 17, -46, -97, -78, -13, 87, -48, -19, 17, 91, -21, -92, -50, -31, -21, -95, -52, 69, 65, -10, -19, -82, 93, 94, -39, 15, 32, -69, -88, -93, 2, 81, 23, -29, 43, -22, 0, -9, 15, -36, -91, 63, 50, 37, 52, -92, -20, -49, -77, 37, -62, 45, 98, 96, -84, 45, -51, -70, -34, -86, -83, -68, -75, 60, -22, -91, -79, 36, 45] \n",
      "\n",
      "The list X has a different number of odd and even numbers, so we will generate a new list X.\n",
      "X: [17, 60, 59, -77, 7, 53, 19, -75, -53, -64, 6, 79, -50, -97, -10, 39, -39, 15, 20, 57, -15, -100, -57, 8, 77, -35, 1, -19, -34, -15, -67, -59, 56, 71, 8, 70, 34, 89, -74, -73, 0, -98, 51, -96, -76, 52, -32, -57, 98, 48, 67, -95, 17, 46, 90, -35, -24, -73, -72, -63, -73, 57, 50, -83, -55, 96, 82, -16, -64, 50, -39, 69, 51, -65, -24, -80, 71, 96, -14, -79, -100, -67, -10, 43, 54, -66, 82, -62, 24, 55, 48, 13, 47, -44, -61, 49, -16, -65, 23, -81] \n",
      "\n",
      "The list X has a different number of odd and even numbers, so we will generate a new list X.\n",
      "X: [86, -62, -22, 10, 1, 71, -29, 37, -85, -57, 4, -79, -86, -93, 41, -34, 78, -95, 29, 62, 82, 78, 71, 8, -34, 13, 38, 70, -49, -60, 55, 29, -73, 99, 39, 56, -32, 15, 42, 61, 29, -63, -48, 1, 19, -48, 9, 11, -50, -9, 2, 90, -89, -56, -52, 88, -23, -49, 4, 4, -28, -69, -18, 5, -75, -61, 12, -24, -79, -42, 87, -5, 44, 83, 51, 33, 91, 84, 14, -59, 52, 73, 78, 96, 3, -34, 27, 92, 49, 82, 85, 65, 63, -30, -7, 33, 51, -17, -57, -55] \n",
      "\n",
      "The list X has a different number of odd and even numbers, so we will generate a new list X.\n",
      "X: [-11, 52, -30, -93, -18, -77, 6, -77, 70, -75, -24, 88, -82, -15, -77, -21, -41, -22, 16, 44, 78, -24, 74, -81, -37, 23, 13, -83, 72, -16, 36, -93, -3, -76, 86, 42, -20, -50, -100, 12, 83, 31, -90, -55, 94, -19, 2, 20, 43, 81, 80, 2, -95, -51, 39, 61, 44, -36, -34, -95, -58, 48, 99, 0, 79, 69, 22, -84, 3, 93, 86, 13, 33, -59, 92, -25, 67, -100, -84, -19, 36, -98, 91, -37, -5, 52, 4, 21, 27, -86, 32, -97, -27, 64, 39, 50, 98, -90, 11, 41] \n",
      "\n",
      "The list X has a different number of odd and even numbers, so we will generate a new list X.\n",
      "X: [45, -90, 43, -15, 82, 75, -30, -21, 16, 59, 70, 16, -44, 51, 35, -29, 38, -23, 67, 50, 98, 42, 76, -47, -65, -23, -58, -18, -60, -24, -38, 29, 91, -22, -30, -87, -42, 49, -59, 91, 47, -34, -89, -99, -90, 45, -4, 87, -11, 18, 52, 12, -48, -97, 58, -65, 96, 62, 35, -91, 72, 22, 13, 96, 2, 77, 69, 44, -92, -54, -76, 61, -83, 8, 24, 12, -30, -63, 61, 99, 31, -31, -15, -5, -46, 33, 78, -33, -1, -27, -36, 89, 81, -32, -62, 81, 11, 3, 43, -100] \n",
      "\n",
      "The list X has a different number of odd and even numbers, so we will generate a new list X.\n",
      "X: [48, -79, 97, -91, -30, 57, 57, -8, 68, 25, -47, -42, -57, -59, 42, 89, -78, 67, -78, -1, -78, -60, 53, -1, -36, -96, -66, 97, 15, -51, 30, -38, 29, 56, 42, 51, 10, 59, 34, -97, 39, 89, -64, -13, -35, 60, -37, -23, 78, 52, -88, 2, 31, -94, 75, -22, -15, 31, 46, -43, -31, -10, 94, -95, 50, 75, 12, -69, 40, 94, -30, 34, 22, -92, -62, -45, 22, -4, 44, -7, -25, -49, -5, -33, -58, -29, -90, -67, 78, 45, 84, -30, -24, -7, 40, -3, -6, -100, -28, -80] \n",
      "\n",
      "The list X has a different number of odd and even numbers, so we will generate a new list X.\n",
      "X: [36, -67, -34, 27, 78, 60, -26, -99, -70, -4, -89, 92, -93, 67, -29, 87, 70, -1, 10, -30, -42, -11, 47, -82, 84, 24, -10, -16, 97, -86, 83, 78, 50, 4, 67, -45, 6, -55, -38, 18, 73, 80, -79, -45, -1, -42, -19, 8, -65, -84, -41, -95, -77, 45, -86, 58, -95, -5, 64, 59, -39, -68, -55, -82, 1, 42, 37, 60, -47, 84, -51, -51, -93, 22, 15, 94, -89, -7, 91, 25, 65, 21, 90, 87, 70, -35, 49, -61, 92, 92, -56, -26, 50, 73, -63, 31, -73, 82, -30, -85] \n",
      "\n",
      "The list X has a different number of odd and even numbers, so we will generate a new list X.\n",
      "X: [48, 64, -79, 2, -86, -28, 71, -84, -92, 10, 40, 47, -73, 14, 4, 79, 45, 15, 71, 55, 37, -3, -27, 80, -26, -30, 76, -77, -49, -77, -84, 20, 31, -59, -83, 82, -31, 0, 92, -33, 51, -34, 30, 58, 73, -17, -17, -32, -32, -28, 66, -44, 91, 26, 86, 86, -17, 1, 87, 68, 63, -85, -95, -51, -78, -55, -54, -99, 5, -90, -57, -82, -29, -31, 10, 2, -40, -59, 83, -94, -71, -21, -48, -17, 24, -89, -30, 13, 10, 55, 94, -97, -59, 21, -29, 71, 76, -87, -97, 90] \n",
      "\n",
      "The list X has a different number of odd and even numbers, so we will generate a new list X.\n",
      "X: [63, -43, -23, 70, 23, 28, 94, 55, 59, 80, 92, -28, -58, -19, 36, -29, 17, 53, 64, 17, 6, 92, -53, 65, -61, -55, -43, 49, -45, 25, -29, 84, -61, 90, -13, -38, -38, -18, -35, 5, -82, 45, -100, -78, -87, 48, -78, 37, 51, -52, 57, 81, -60, -28, 95, -22, 38, 5, 93, -57, 45, 53, -2, -28, 80, -36, 81, -25, 73, -47, -36, -60, -3, -52, 22, 44, 70, 54, 43, -64, 56, 78, 49, 22, 59, 25, -95, -73, -77, -34, -45, -6, -75, -86, 34, -8, -86, 55, -30, 11] \n",
      "\n",
      "The list X has a different number of odd and even numbers, so we will generate a new list X.\n",
      "X: [85, -75, -70, -5, -84, 7, 3, 76, 23, 92, -57, -38, 39, 68, 12, -91, 41, 48, 56, 45, 77, 51, 42, 27, -48, 74, -7, 5, -33, 46, -87, -42, 39, -13, 52, -41, 48, -94, 90, -9, -8, -95, 77, 10, -77, -47, -24, -41, -90, -58, -70, 89, 70, 41, 100, -39, -16, 30, 31, 6, 70, -25, 83, 72, 39, 63, 42, -18, -34, -24, 52, 11, -79, -31, 55, -84, -67, -95, -18, -73, 67, -55, 6, -85, -47, 35, 94, -84, 35, 38, 26, -19, 95, 83, 2, -66, -87, 27, -26, 17] \n",
      "\n",
      "The list X has a different number of odd and even numbers, so we will generate a new list X.\n",
      "X: [69, -64, -62, 24, 86, -38, 51, -95, -76, -94, 0, -70, 96, 1, 93, -8, -85, 34, 67, 47, -26, 38, 59, 3, 7, -81, -29, 24, -69, 84, 48, 16, 18, -20, -84, 29, -79, 9, 87, 33, -84, 67, -64, 100, 39, -65, 22, -23, 72, 99, -94, -55, -79, -29, -86, 88, 31, -68, 36, -45, -7, 34, 6, 28, 52, 75, -41, -47, 47, -38, 59, 51, -91, -62, 84, -79, -78, 30, -1, -13, 25, 84, 57, 78, -57, 68, 77, -7, -80, -59, 84, -36, 20, 100, -25, 77, -1, -62, 23, -99] \n",
      "\n",
      "The list X has a different number of odd and even numbers, so we will generate a new list X.\n",
      "X: [-52, 21, 16, 24, -2, 34, 91, -54, 1, -11, -11, 79, -37, -29, -21, -16, 2, -49, 15, 32, 57, 62, -78, 4, 53, -23, -66, -80, 19, 51, -23, 85, -58, 88, 65, 31, 16, -94, -26, 29, -70, -93, 49, -45, 46, -70, -86, -68, -23, 2, 35, -39, -24, -77, 82, -64, -33, 57, -9, -30, -3, -41, 50, 50, -7, -30, 18, -97, 81, 33, 95, -70, 95, 87, -82, 45, 58, -1, 65, -85, -25, 31, 16, 72, 40, -86, -54, -36, 35, 29, 39, -28, -24, -74, 98, -87, 24, -37, -17, -49] \n",
      "\n",
      "The list X has a different number of odd and even numbers, so we will generate a new list X.\n",
      "X: [14, 68, 76, 68, 85, 94, -83, -84, 85, -78, 74, 63, 18, 11, 89, -1, -45, -24, 67, 81, 13, -18, 40, -33, -65, 33, -22, -53, 34, -33, 16, 27, 46, 35, 13, 50, -47, -24, 11, 70, -6, -76, -42, 83, -51, -11, -94, -74, -82, -49, -52, 84, 41, -59, -74, -18, 60, 38, -40, -13, 89, 89, 71, 69, -74, -92, -24, -45, 99, -89, -7, -10, -22, -13, 7, -21, -51, 59, -18, 4, -45, -39, -63, 16, 53, -9, -89, -42, -66, 95, -14, -28, 6, -69, 46, 24, 43, 53, 17, 99] \n",
      "\n",
      "The list X has a different number of odd and even numbers, so we will generate a new list X.\n",
      "X: [24, -68, 48, 76, -68, 97, -34, -93, -83, -3, 82, -55, -48, 52, -70, 76, 50, 36, -65, 21, 15, -13, -81, 54, -81, 73, -79, 82, 35, 21, 63, 90, 17, -64, -29, 95, 42, 86, -53, -15, -1, 26, -20, 61, 79, 15, 39, -98, 44, -85, 49, -88, 74, 91, 49, -86, 82, 67, 93, 67, -62, -8, -7, -45, -51, 25, -86, 83, 37, 95, 7, 62, 77, 28, 67, -9, -42, -85, -62, 80, -91, 22, -11, 77, -19, -18, -34, 20, 38, 73, -29, 75, 43, 89, 60, -95, -8, 52, 46, 5] \n",
      "\n",
      "The list X has a different number of odd and even numbers, so we will generate a new list X.\n",
      "X: [51, 42, 32, -27, 46, -83, -99, 80, -55, -47, 59, 9, -62, 67, 84, 29, 18, 27, -48, 81, 60, 19, 69, -99, 10, -45, 88, -41, 21, 6, -10, 62, -22, -62, -78, -85, 13, 54, -57, 30, 55, -33, -92, -35, 79, -93, 48, 23, -85, -9, 8, 6, 15, 68, 100, 57, -26, 16, 0, 86, 26, -6, 19, -32, -10, 8, -73, 62, -10, -38, -96, -89, -63, -72, 14, 41, 7, 30, -13, 47, -45, 39, -55, -49, -74, 89, -3, -79, 100, -37, 16, -43, -34, -42, -54, -48, -43, -70, -40, -26] \n",
      "\n",
      "The list X has a different number of odd and even numbers, so we will generate a new list X.\n",
      "X: [-35, 76, -25, 80, 67, -8, 99, 24, 75, 66, -75, -8, 20, -31, -38, -72, 98, 71, -23, -46, 61, -15, 8, 8, -79, 81, 56, -15, -95, -48, 4, 96, -85, 45, 49, 88, -88, 40, -20, 22, -30, 81, -24, 80, 89, 71, 26, 75, -78, 85, 43, 76, -25, 53, -60, 46, -31, -64, 92, 15, 77, -28, 47, -40, 39, 86, 3, -58, -90, 86, -61, -88, 43, 25, -65, 94, 47, -70, 16, 59, -13, -61, -15, 44, -31, 37, 52, -36, 39, -75, -70, -84, 14, 48, 82, -79, 31, -77, -100, -19] \n",
      "\n",
      "The list X has a different number of odd and even numbers, so we will generate a new list X.\n",
      "X: [-46, 6, -14, -93, 63, 34, 18, -66, 67, -99, 58, -36, 11, -96, 57, -60, -91, 21, 94, 22, 81, -17, -72, 35, 68, -65, 30, -33, -93, 35, -18, -55, -1, 74, 90, 77, -75, 56, -3, -81, -4, -14, 3, -1, -43, 43, -39, -70, 33, 76, 39, -93, -19, -75, 64, -91, 71, 82, 37, 82, -25, -30, 46, -7, -50, 95, 53, -82, -15, -74, -78, 97, -26, -20, -51, -96, 18, -3, -84, 80, 91, 7, -24, 29, 61, 73, 63, 24, -98, -13, -76, -42, 77, 65, -87, -17, -91, 14, 99, 60] \n",
      "\n",
      "The list X has a different number of odd and even numbers, so we will generate a new list X.\n",
      "X: [47, 12, -91, 33, 19, 57, 23, 100, 1, -42, 96, -35, -83, -25, 35, 57, 80, -9, 20, -63, -62, 83, -60, -86, 25, 86, -70, 12, -63, 46, 2, -95, -72, -29, 22, 6, -90, 52, 81, -79, 17, -93, -63, -38, -37, 72, -56, -74, 43, -9, 28, -85, 24, -58, 34, -85, -94, 75, -11, -25, 90, 46, 40, -89, -37, -56, -86, 54, 87, 97, 47, 12, 46, -2, -82, 56, -93, -80, 98, 68, 7, 87, -38, 85, 53, -33, -48, 29, -22, 35, 88, -26, -88, -44, -87, -87, -65, -49, 74, -5] \n",
      "\n",
      "The list X has equal number of even and odd numbers.\n",
      "Final X: [47, 12, -91, 33, 19, 57, 23, 100, 1, -42, 96, -35, -83, -25, 35, 57, 80, -9, 20, -63, -62, 83, -60, -86, 25, 86, -70, 12, -63, 46, 2, -95, -72, -29, 22, 6, -90, 52, 81, -79, 17, -93, -63, -38, -37, 72, -56, -74, 43, -9, 28, -85, 24, -58, 34, -85, -94, 75, -11, -25, 90, 46, 40, -89, -37, -56, -86, 54, 87, 97, 47, 12, 46, -2, -82, 56, -93, -80, 98, 68, 7, 87, -38, 85, 53, -33, -48, 29, -22, 35, 88, -26, -88, -44, -87, -87, -65, -49, 74, -5]\n"
     ]
    }
   ],
   "source": [
    "# Call the function Pipeline\n",
    "Pipeline()"
   ]
  },
  {
   "cell_type": "markdown",
   "metadata": {},
   "source": [
    "**3**: Print the number of digits that the 5th and 100th element of the list have. <br>\n",
    "*Note: For instance, the number 1 contains one digit, the number 10 contains two digits, the number -2 contains one digit.*"
   ]
  },
  {
   "cell_type": "code",
   "execution_count": 12,
   "metadata": {},
   "outputs": [],
   "source": [
    "# Access the fifth and hundredth elements of the list X (indexing starts at 0)\n",
    "fifth_element = X[4]\n",
    "hundredth_element = X[99]"
   ]
  },
  {
   "cell_type": "code",
   "execution_count": 13,
   "metadata": {},
   "outputs": [
    {
     "name": "stdout",
     "output_type": "stream",
     "text": [
      "The 5th element is 52 and has 2 digits.\n",
      "The 100th element is 31 and has 2 digits.\n"
     ]
    }
   ],
   "source": [
    "# To determine the number of digits in a number, we will use a combination of three functions:\n",
    "# - abs: Returns the absolute value of the number to ensure we count digits correctly, regardless of sign\n",
    "# - str: Converts the absolute value to a string, allowing us to count its length\n",
    "# - len: Returns the length of the string representation, which corresponds to the number of digits\n",
    "\n",
    "# Print the answer\n",
    "print(f\"The 5th element is {fifth_element} and has {len(str(abs(fifth_element)))} digits.\")\n",
    "print(f\"The 100th element is {hundredth_element} and has {len(str(abs(hundredth_element)))} digits.\")"
   ]
  },
  {
   "cell_type": "markdown",
   "metadata": {},
   "source": [
    "**4**: Is the sum total of all the numbers in the list even or odd?"
   ]
  },
  {
   "cell_type": "code",
   "execution_count": 14,
   "metadata": {},
   "outputs": [
    {
     "name": "stdout",
     "output_type": "stream",
     "text": [
      "The sum of all the numbers in list X is even and is equal to 906.\n"
     ]
    }
   ],
   "source": [
    "# Store the sum of all numbers in the list\n",
    "total_sum = sum(X)\n",
    "\n",
    "# Determine if the total sum is even or odd and print the answer\n",
    "if total_sum % 2 == 0:\n",
    "    print(f\"The sum of all the numbers in list X is even and is equal to {total_sum}.\")\n",
    "else:\n",
    "    print(f\"The sum of all the numbers in list X is odd and is equal to {total_sum}.\")"
   ]
  },
  {
   "cell_type": "markdown",
   "metadata": {},
   "source": [
    "**5**: What is the average of the list X?"
   ]
  },
  {
   "cell_type": "code",
   "execution_count": 15,
   "metadata": {},
   "outputs": [],
   "source": [
    "# Calculate the average of the list X\n",
    "avg = sum(X) / len(X)"
   ]
  },
  {
   "cell_type": "code",
   "execution_count": 16,
   "metadata": {},
   "outputs": [
    {
     "name": "stdout",
     "output_type": "stream",
     "text": [
      "The average of the list X is 9.06.\n"
     ]
    }
   ],
   "source": [
    "# Print the answer\n",
    "print(f\"The average of the list X is {avg}.\")"
   ]
  },
  {
   "cell_type": "markdown",
   "metadata": {},
   "source": [
    "**5.1.** What is the population standard deviation? <br>"
   ]
  },
  {
   "cell_type": "code",
   "execution_count": 17,
   "metadata": {},
   "outputs": [],
   "source": [
    "# Calculate the squared differences from the average\n",
    "squared_diffs = [(x - avg) ** 2 for x in X]\n",
    "\n",
    "# Calculate the population variance\n",
    "pop_var = sum(squared_diffs) / len(X)\n",
    "\n",
    "# Calculate the population standard deviation\n",
    "pop_std_dev = pop_var ** 0.5"
   ]
  },
  {
   "cell_type": "code",
   "execution_count": 18,
   "metadata": {},
   "outputs": [
    {
     "name": "stdout",
     "output_type": "stream",
     "text": [
      "The population standard deviation of X list is 56.17.\n"
     ]
    }
   ],
   "source": [
    "# Print the answer\n",
    "print(f\"The population standard deviation of X list is {round(pop_std_dev, 2)}.\")"
   ]
  },
  {
   "cell_type": "markdown",
   "metadata": {},
   "source": [
    "**6**: Sort list X in descending order and store the result in variable Xsort. <br>"
   ]
  },
  {
   "cell_type": "code",
   "execution_count": 19,
   "metadata": {},
   "outputs": [],
   "source": [
    "# Sort the list X in descending order using the sorted() function\n",
    "# The reverse=True argument ensures that the sorting is done in descending order\n",
    "Xsort = sorted(X, reverse=True)"
   ]
  },
  {
   "cell_type": "code",
   "execution_count": 20,
   "metadata": {},
   "outputs": [
    {
     "name": "stdout",
     "output_type": "stream",
     "text": [
      "X: [13, 33, -37, -33, 52, -79, -70, -67, 85, 50, 90, 81, -96, -55, -11, 7, 3, 56, 50, -15, 43, 6, -65, -72, -76, 95, 73, 40, -46, 40, 87, -14, 43, 13, 44, 36, -11, -43, 62, -96, 87, 67, 7, 91, -37, 30, -74, 36, 9, 35, -20, -35, -23, 86, 96, 31, 20, 81, 41, 97, -33, 61, 10, 25, 48, 57, 40, -55, -38, 98, -64, -59, -54, -47, -89, 99, 85, 52, 18, 51, 5, -90, -44, -64, -12, -13, 52, -98, 85, -68, 8, -43, 77, -23, 7, -35, 48, -23, 60, 31]\n",
      "Xsort: [99, 98, 97, 96, 95, 91, 90, 87, 87, 86, 85, 85, 85, 81, 81, 77, 73, 67, 62, 61, 60, 57, 56, 52, 52, 52, 51, 50, 50, 48, 48, 44, 43, 43, 41, 40, 40, 40, 36, 36, 35, 33, 31, 31, 30, 25, 20, 18, 13, 13, 10, 9, 8, 7, 7, 7, 6, 5, 3, -11, -11, -12, -13, -14, -15, -20, -23, -23, -23, -33, -33, -35, -35, -37, -37, -38, -43, -43, -44, -46, -47, -54, -55, -55, -59, -64, -64, -65, -67, -68, -70, -72, -74, -76, -79, -89, -90, -96, -96, -98]\n"
     ]
    }
   ],
   "source": [
    "# Print the original list X and the sorted list Xsort for comparison\n",
    "print(\"X:\", X)\n",
    "print(\"Xsort:\", Xsort)"
   ]
  },
  {
   "cell_type": "markdown",
   "metadata": {},
   "source": [
    "**6.1** Then replace each value in Xsort with index i as the sum of the values with index i-1 and i. <br> "
   ]
  },
  {
   "cell_type": "code",
   "execution_count": 21,
   "metadata": {},
   "outputs": [],
   "source": [
    "# Regenerate Xsort by taking the first element and, for each subsequent index, sum the current element with the previous element\n",
    "Xsort = [Xsort[0]] + [Xsort[i - 1] + Xsort[i] for i in range(1, len(Xsort))]"
   ]
  },
  {
   "cell_type": "code",
   "execution_count": 22,
   "metadata": {},
   "outputs": [
    {
     "name": "stdout",
     "output_type": "stream",
     "text": [
      "Xsort: [99, 197, 195, 193, 191, 186, 181, 177, 174, 173, 171, 170, 170, 166, 162, 158, 150, 140, 129, 123, 121, 117, 113, 108, 104, 104, 103, 101, 100, 98, 96, 92, 87, 86, 84, 81, 80, 80, 76, 72, 71, 68, 64, 62, 61, 55, 45, 38, 31, 26, 23, 19, 17, 15, 14, 14, 13, 11, 8, -8, -22, -23, -25, -27, -29, -35, -43, -46, -46, -56, -66, -68, -70, -72, -74, -75, -81, -86, -87, -90, -93, -101, -109, -110, -114, -123, -128, -129, -132, -135, -138, -142, -146, -150, -155, -168, -179, -186, -192, -194]\n"
     ]
    }
   ],
   "source": [
    "# Print the Xsort list\n",
    "print(\"Xsort:\", Xsort)"
   ]
  },
  {
   "cell_type": "markdown",
   "metadata": {},
   "source": [
    "## Exercise II - The Most Uncool Band\n",
    "\n",
    "**7**: Consider the dictionaries  *songs* and *users* that are declared in the cell below. <br>\n",
    "Create a list with the names of the people who listened to more than one song. Print the List. <br>"
   ]
  },
  {
   "cell_type": "code",
   "execution_count": 23,
   "metadata": {},
   "outputs": [],
   "source": [
    "songs = {\n",
    "    \"4589\": \"Mr. Blue Sky, Calling America, Twilight, Night in the City\",\n",
    "    \"7312\": \"Strange Magic, Sweet Talkin' Woman, Turn to Stone\",\n",
    "    \"9641\": \"Confusion, Last Train to London, All Over the World, Hold On Tight\",\n",
    "    \"2853\": \"Can't Get It Out of My Head, Showdown, Twilight\",\n",
    "    \"6704\": \"Ticket to the Moon, Here Is the News, Twilight, Secret Messages, Four Little Diamonds\"\n",
    "}"
   ]
  },
  {
   "cell_type": "code",
   "execution_count": 24,
   "metadata": {},
   "outputs": [],
   "source": [
    "users = {\n",
    "    \"4589\": \"Eve\",\n",
    "    \"7312\": \"Diana\",\n",
    "    \"9641\": \"Alice\",\n",
    "    \"2853\": \"Charlie\",\n",
    "    \"6704\": \"Bob\"\n",
    "}"
   ]
  },
  {
   "cell_type": "code",
   "execution_count": 25,
   "metadata": {},
   "outputs": [],
   "source": [
    "# Create a list to store the names of users who listened to more than one song\n",
    "users_with_multiple_songs = []\n",
    "\n",
    "# Iterate over the songs dictionary\n",
    "for user_id, song_list in songs.items():\n",
    "    # Split the \"song_list\" into individual songs and count the total number of songs\n",
    "    songs_count = len(song_list.split(\", \"))\n",
    "    \n",
    "    # Check if the user listened to more than one song\n",
    "    if songs_count > 1:\n",
    "        # Store the user name associated with the user ID\n",
    "        user_name = users[user_id]\n",
    "\n",
    "        # Append the user name to the list \"users_with_multiple_songs\"\n",
    "        users_with_multiple_songs.append(user_name)"
   ]
  },
  {
   "cell_type": "code",
   "execution_count": 26,
   "metadata": {},
   "outputs": [
    {
     "name": "stdout",
     "output_type": "stream",
     "text": [
      "The following users have listened to more than one song: ['Eve', 'Diana', 'Alice', 'Charlie', 'Bob'].\n"
     ]
    }
   ],
   "source": [
    "# Print the answer  \n",
    "print(f\"The following users have listened to more than one song: {users_with_multiple_songs}.\")"
   ]
  },
  {
   "cell_type": "markdown",
   "metadata": {},
   "source": [
    "**7.1** What is the name of the user who listened to the most songs?\n",
    "\n",
    "*Tip: You will want to check the methods associated with string manipulation. See the link: <br>\n",
    "https://python-reference.readthedocs.io/en/latest/docs/unicode/index.html*"
   ]
  },
  {
   "cell_type": "code",
   "execution_count": 27,
   "metadata": {},
   "outputs": [],
   "source": [
    "# Initialize variables to store the maximum song count and a list for users with that count\n",
    "max_songs = 0\n",
    "users_max_songs = []\n",
    "\n",
    "# Iterate over each user in the \"songs\" dictionary\n",
    "for user_id, song_list in songs.items():\n",
    "    # Split the \"song_list\" into individual songs and count the total number of songs\n",
    "    songs_count = len(song_list.split(\", \"))\n",
    "    \n",
    "    # Check if the current user has listened to more songs than the current maximum\n",
    "    if songs_count > max_songs:\n",
    "        # Update the maximum song count with the current user's count\n",
    "        max_songs = songs_count\n",
    "        \n",
    "        # Update the user with the maximum songs to the current user\n",
    "        users_max_songs = [users[user_id]]\n",
    "\n",
    "    # If the current user's song count equals the current maximum\n",
    "    elif songs_count == max_songs:\n",
    "        # Add the user to the list of users with the maximum songs\n",
    "        users_max_songs.append(users[user_id])   "
   ]
  },
  {
   "cell_type": "code",
   "execution_count": 28,
   "metadata": {},
   "outputs": [
    {
     "name": "stdout",
     "output_type": "stream",
     "text": [
      "The user who listened to the most songs is Bob, with 5 songs.\n"
     ]
    }
   ],
   "source": [
    "# Print the answer      \n",
    "if len(users_max_songs) == 1:\n",
    "    print(f\"The user who listened to the most songs is {users_max_songs[0]}, with {max_songs} songs.\")\n",
    "else:\n",
    "    print(f\"The users who listened to the most songs ({max_songs} songs) are: {', '.join(users_max_songs)}.\")"
   ]
  },
  {
   "cell_type": "markdown",
   "metadata": {},
   "source": [
    "**7.2** What is the name of the most popular song?"
   ]
  },
  {
   "cell_type": "code",
   "execution_count": 29,
   "metadata": {},
   "outputs": [],
   "source": [
    "# Create a dictionary to store the count of each song\n",
    "songs_count = {}\n",
    "\n",
    "# Iterate over the lists of songs in the \"songs\" dictionary\n",
    "for song_list in songs.values():\n",
    "    # Split the song list into individual songs\n",
    "    song_list_split = song_list.split(\", \")\n",
    "    \n",
    "    # Iterate through each song in the \"song_list_split\"\n",
    "    for song in song_list_split:\n",
    "        # Check if the song is already in the \"songs_count\" dictionary\n",
    "        if song in songs_count:\n",
    "            # If the song exists, increment its count by 1\n",
    "            songs_count[song] += 1\n",
    "        else:\n",
    "            # If the song does not exist, initialize its count to 1\n",
    "            songs_count[song] = 1\n",
    "\n",
    "# Find the maximum count of any song\n",
    "max_songs_count = max(songs_count.values())\n",
    "\n",
    "# Find all the songs that have the maximum count\n",
    "most_popular_songs = [song for song, count in songs_count.items() if count == max_songs_count]"
   ]
  },
  {
   "cell_type": "code",
   "execution_count": 30,
   "metadata": {},
   "outputs": [
    {
     "name": "stdout",
     "output_type": "stream",
     "text": [
      "The most popular song is 'Twilight', with 3 occurrences.\n"
     ]
    }
   ],
   "source": [
    "# Print the answer      \n",
    "if len(most_popular_songs) == 1:\n",
    "    print(f\"The most popular song is '{most_popular_songs[0]}', with {max_songs_count} occurrences.\")\n",
    "else:\n",
    "    print(f\"The most popular songs ({max_songs_count} occurrences) are: {', '.join(most_popular_songs)}.\")"
   ]
  },
  {
   "cell_type": "markdown",
   "metadata": {},
   "source": [
    "# <span style=\"color:brown\"> Part 2 -  Data loading and analysis  </span>\n",
    "\n",
    "## Exercise I - Alice what do you have to say?\n",
    "\n",
    "**8**: Load the Alice text file into a variable called Alice. <br>\n",
    "\n",
    "*Note: Use a relative filepath in relation to the location of your notebook.*"
   ]
  },
  {
   "cell_type": "code",
   "execution_count": 31,
   "metadata": {},
   "outputs": [],
   "source": [
    "# Open the file \"alice.txt\" in read mode (\"r\")\n",
    "with open(\"alice.txt\", \"r\") as text_file:\n",
    "    # Load the content of the text file into a variable\n",
    "    Alice = text_file.read()"
   ]
  },
  {
   "cell_type": "code",
   "execution_count": 32,
   "metadata": {},
   "outputs": [
    {
     "name": "stdout",
     "output_type": "stream",
     "text": [
      "Alice was beginning to get very tired of sitting by her sister on the bank, and of having nothing to do: once or twice she had peeped into the book her sister was reading, but it had no pictures or conversations in it, <<and what is the use of a book>>. thought Alice <<without pictures or conversation?>>.\n"
     ]
    }
   ],
   "source": [
    "# Print the Alice variable\n",
    "print(Alice)"
   ]
  },
  {
   "cell_type": "markdown",
   "metadata": {},
   "source": [
    "**9**: Create a list in which each element is a word from the file *Alice*. Store that list in a variable called *wAlice*. <br>\n",
    "\n",
    "*Note: You will need to do some text parsing here. In particular to split the sentences into words. It is also a good practice to normalize words so that words \"Hello\" and \"hello\" become identical, by making all letters lower case. <br>*\n",
    "\n",
    "*Tip: check the following links for a discussion on regular expressions. Also consult the methods available for string manipulation.*\n",
    "\n",
    "https://docs.python.org/3/library/re.html\n",
    "\n",
    "https://stackoverflow.com/questions/1276764/stripping-everything-but-alphanumeric-chars-from-a-string-in-python"
   ]
  },
  {
   "cell_type": "code",
   "execution_count": 33,
   "metadata": {},
   "outputs": [],
   "source": [
    "# Import the re module\n",
    "import re"
   ]
  },
  {
   "cell_type": "code",
   "execution_count": 34,
   "metadata": {},
   "outputs": [],
   "source": [
    "# Convert the \"Alice\" text to lowercase\n",
    "Alice_lower = Alice.lower()\n",
    "\n",
    "# Use a regular expression to replace all the non-alphanumeric characters with spaces\n",
    "# re is the module for regular expressions, and sub stands for substitution\n",
    "# [^a-z0-9\\s] matches any character that is not a lowercase letter, digit, or space and replace it with spaces\n",
    "Alice_sub = re.sub(r'[^a-z0-9\\s]', ' ', Alice_lower)\n",
    "\n",
    "# Split the \"Alice_sub\" text into words by using spaces as the separator\n",
    "wAlice = Alice_sub.split()"
   ]
  },
  {
   "cell_type": "code",
   "execution_count": 35,
   "metadata": {},
   "outputs": [
    {
     "name": "stdout",
     "output_type": "stream",
     "text": [
      "wAlice: ['alice', 'was', 'beginning', 'to', 'get', 'very', 'tired', 'of', 'sitting', 'by', 'her', 'sister', 'on', 'the', 'bank', 'and', 'of', 'having', 'nothing', 'to', 'do', 'once', 'or', 'twice', 'she', 'had', 'peeped', 'into', 'the', 'book', 'her', 'sister', 'was', 'reading', 'but', 'it', 'had', 'no', 'pictures', 'or', 'conversations', 'in', 'it', 'and', 'what', 'is', 'the', 'use', 'of', 'a', 'book', 'thought', 'alice', 'without', 'pictures', 'or', 'conversation']\n"
     ]
    }
   ],
   "source": [
    "# Print wAlice\n",
    "print(\"wAlice:\", wAlice)"
   ]
  },
  {
   "cell_type": "markdown",
   "metadata": {},
   "source": [
    "##### Using the list *wAlice* answer the following questions:<br>\n",
    "**10**: How many words are in the file Alice.txt? <br>"
   ]
  },
  {
   "cell_type": "code",
   "execution_count": 36,
   "metadata": {},
   "outputs": [
    {
     "name": "stdout",
     "output_type": "stream",
     "text": [
      "There are 57 words in the file 'Alice.txt'.\n"
     ]
    }
   ],
   "source": [
    "# Print the answer\n",
    "print(f\"There are {len(wAlice)} words in the file 'Alice.txt'.\")"
   ]
  },
  {
   "cell_type": "markdown",
   "metadata": {},
   "source": [
    "**11**: What is the longest and smallest word in the text file?\n",
    "\n",
    "*Note: Length in this case is measured in terms of the number of characters.*"
   ]
  },
  {
   "cell_type": "code",
   "execution_count": 37,
   "metadata": {},
   "outputs": [],
   "source": [
    "# Find the longest word in the text file\n",
    "longest_word = max(wAlice, key=len)\n",
    "\n",
    "# Find the smallest word in the text file\n",
    "smallest_word = min(wAlice, key=len)"
   ]
  },
  {
   "cell_type": "code",
   "execution_count": 38,
   "metadata": {},
   "outputs": [
    {
     "name": "stdout",
     "output_type": "stream",
     "text": [
      "The longest word in the 'Alice.txt' file is 'conversations'.\n",
      "The smallest word in the 'Alice.txt' file is 'a'.\n"
     ]
    }
   ],
   "source": [
    "# Print the answers\n",
    "print(f\"The longest word in the 'Alice.txt' file is '{longest_word}'.\")\n",
    "print(f\"The smallest word in the 'Alice.txt' file is '{smallest_word}'.\")"
   ]
  },
  {
   "cell_type": "markdown",
   "metadata": {},
   "source": [
    "**12**: Delete all the repeated words from *wAlice*. "
   ]
  },
  {
   "cell_type": "code",
   "execution_count": 39,
   "metadata": {},
   "outputs": [],
   "source": [
    "# Convert the list of words to a set to remove duplicates, as sets do not allow repeated elements\n",
    "wAlice = set(wAlice)\n",
    "\n",
    "# Convert the set back to a list to maintain list functionality\n",
    "wAlice = list(wAlice)"
   ]
  },
  {
   "cell_type": "code",
   "execution_count": 40,
   "metadata": {},
   "outputs": [
    {
     "name": "stdout",
     "output_type": "stream",
     "text": [
      "wAlice: ['by', 'reading', 'conversation', 'pictures', 'she', 'what', 'had', 'no', 'once', 'having', 'was', 'tired', 'conversations', 'peeped', 'do', 'sister', 'in', 'on', 'the', 'it', 'thought', 'without', 'very', 'use', 'alice', 'into', 'twice', 'her', 'but', 'of', 'or', 'book', 'a', 'nothing', 'get', 'sitting', 'bank', 'and', 'beginning', 'is', 'to']\n"
     ]
    }
   ],
   "source": [
    "# Print wAlice\n",
    "print(\"wAlice:\", wAlice)"
   ]
  },
  {
   "cell_type": "markdown",
   "metadata": {},
   "source": [
    "**12.1**:How many different words does the text contain?"
   ]
  },
  {
   "cell_type": "code",
   "execution_count": 41,
   "metadata": {},
   "outputs": [
    {
     "name": "stdout",
     "output_type": "stream",
     "text": [
      "There are 41 unique words in the file 'Alice.txt'.\n"
     ]
    }
   ],
   "source": [
    "# Print the answer\n",
    "print(f\"There are {len(wAlice)} unique words in the file 'Alice.txt'.\")"
   ]
  },
  {
   "cell_type": "markdown",
   "metadata": {},
   "source": [
    "## Exercise II - Of Countries I Love\n",
    "\n",
    "Consider the list countries in the cell below. <br>\n",
    "It consists of a list of the 3-digit ISO codes of a set of countries of interest.\n",
    "\n",
    "**Note**: If you find the below list of tuples to be erroneous, correct it accordingly and comment on your correction."
   ]
  },
  {
   "cell_type": "code",
   "execution_count": 42,
   "metadata": {},
   "outputs": [],
   "source": [
    "countries = [\n",
    "('PRT','Portugal','Europe'),\n",
    "('ISL','Israel','Asia'),\n",
    "('COL','Colombia','South America'),\n",
    "('NEV','Nevada','North America'),\n",
    "('JPN','Japan','Asia'),\n",
    "('RUS','Russia','well... which part?'), \n",
    "('DEN','Denmark','Europe'),\n",
    "('NOR','Norway','Europe')\n",
    "]"
   ]
  },
  {
   "cell_type": "markdown",
   "metadata": {},
   "source": [
    "**Now consider the file *cdata.csv* that you should download.** <br>\n",
    "\n",
    "The file contains several information about countries, and is organized as follows:\n",
    "1. Column 1 is the 3-digit **ISO Code**\n",
    "2. Column 2 is the **Full Name** of the country\n",
    "3. Column 3 is the **Continent** of the country\n",
    "4. Column 4 is the **Population Size** in 2010\n",
    "5. Column 5 is the **GDP per capita** in 2010"
   ]
  },
  {
   "cell_type": "markdown",
   "metadata": {},
   "source": [
    "**13**: Using the Library CSV from Python STL, load the file *cdata.csv* into an object called *raw*. "
   ]
  },
  {
   "cell_type": "code",
   "execution_count": 43,
   "metadata": {},
   "outputs": [],
   "source": [
    "# Import the csv module\n",
    "import csv"
   ]
  },
  {
   "cell_type": "code",
   "execution_count": 44,
   "metadata": {},
   "outputs": [],
   "source": [
    "# Open the file \"cdata.csv\" in read mode (\"r\")\n",
    "with open(\"cdata.csv\", \"r\") as csv_file:\n",
    "    # Use csv.reader to read the file and convert each row into a list of values\n",
    "    # The result is a list of lists, where each inner list represents a row from the CSV file\n",
    "    raw = list(csv.reader(csv_file))"
   ]
  },
  {
   "cell_type": "code",
   "execution_count": 45,
   "metadata": {},
   "outputs": [
    {
     "name": "stdout",
     "output_type": "stream",
     "text": [
      "raw: [['iso', 'countryname', 'continent', 'population(mil)', 'gdp'], ['ago', 'Angola', 'Africa', '23.369131088256836', '5988.534997149481'], ['bdi', 'Burundi', 'Africa', '8.766929626464844', '731.4232803265862'], ['ben', 'Benin', 'Africa', '9.199258804321289', '1919.9969479963038'], ['bfa', 'Burkina Faso', 'Africa', '15.605216979980469', '1327.2165314775982'], ['bwa', 'Botswana', 'Africa', '2.0148661136627197', '12256.14159052444'], ['caf', 'Central African Republic', 'Africa', '4.4485249519348145', '865.4421867263901'], ['cmr', 'Cameroon', 'Africa', '19.970495223999023', '2684.972890247272'], ['cod', 'Democratic Republic of the Congo', 'Africa', '64.52326202392578', '634.9713963013496'], ['cog', 'Republic of the Congo', 'Africa', '4.386693000793457', '4979.990496069269'], ['com', 'Comoros', 'Africa', '0.6896920204162598', '2292.997969425929'], ['cpv', 'Cape Verde', 'Africa', '0.5023840069770813', '5644.821253339075'], ['dji', 'Djibouti', 'Africa', '0.8511459827423096', '2124.4420625972525'], ['dza', 'Algeria', 'Africa', '36.117637634277344', '12590.224223813591'], ['egy', 'Egypt', 'Africa', '84.10760498046875', '9148.839753298033'], ['eth', 'Ethiopia', 'Africa', '87.70266723632812', '1100.1831875876223'], ['gab', 'Gabon', 'Africa', '1.6402100324630737', '11961.168226448879'], ['gha', 'Ghana', 'Africa', '24.512104034423828', '3931.2918319728856'], ['gin', 'Guinea', 'Africa', '10.794170379638672', '1742.7346742167783'], ['gmb', 'Gambia', 'Africa', '1.692149043083191', '2681.8586168502143'], ['gnb', 'Guinea-Bissau', 'Africa', '1.5558799505233765', '1387.2497310879905'], ['gnq', 'Equatorial Guinea', 'Africa', '0.9511039853096008', '31416.887137501908'], ['ken', 'Kenya', 'Africa', '41.35015106201172', '2484.0349094725366'], ['lbr', 'Liberia', 'Africa', '3.948124885559082', '786.6702306741524'], ['lso', 'Lesotho', 'Africa', '2.040550947189331', '2432.7976546880823'], ['mar', 'Morocco', 'Africa', '32.409637451171875', '6421.937677907418'], ['mdg', 'Madagascar', 'Africa', '21.151639938354492', '1459.9156124535612'], ['mli', 'Mali', 'Africa', '15.075084686279297', '1873.2809618195865'], ['moz', 'Mozambique', 'Africa', '24.221405029296875', '969.2307622526259'], ['mrt', 'Mauritania', 'Africa', '3.6095430850982666', '3082.647028528842'], ['mus', 'Mauritius', 'Africa', '1.2479549646377563', '15178.325920597827'], ['mwi', 'Malawi', 'Africa', '15.167095184326172', '972.0456815116237'], ['nam', 'Namibia', 'Africa', '2.1731700897216797', '7689.171239820006'], ['ner', 'Niger', 'Africa', '16.42557716369629', '845.8693682212395'], ['nga', 'Nigeria', 'Africa', '158.57826232910156', '5186.304307542348'], ['rwa', 'Rwanda', 'Africa', '10.246842384338379', '1379.6993252327009'], ['sdn', 'Sudan', 'Africa', '34.385963439941406', '3608.7856176907358'], ['sen', 'Senegal', 'Africa', '12.916229248046875', '2741.121456198507'], ['sle', 'Sierra Leone', 'Africa', '6.4587202072143555', '1161.8796942144647'], ['swz', 'Swaziland', 'Africa', '1.2028429508209229', '7042.524359035093'], ['syc', 'Seychelles', 'Africa', '0.0914049968123436', '17960.353075613308'], ['tcd', 'Chad', 'Africa', '11.887202262878418', '1880.3748762799714'], ['tgo', 'Togo', 'Africa', '6.5029520988464355', '1222.8150529133295'], ['tun', 'Tunisia', 'Africa', '10.639930725097656', '10647.834980284626'], ['tza', 'Tanzania', 'Africa', '44.82893753051758', '1979.1718644815185'], ['uga', 'Uganda', 'Africa', '33.91513442993164', '1723.5943355766267'], ['zaf', 'South Africa', 'Africa', '51.58466339111328', '11388.640515995063'], ['zmb', 'Zambia', 'Africa', '13.850032806396484', '2870.8872656342314'], ['zwe', 'Zimbabwe', 'Africa', '14.08631706237793', '1479.0305839163732'], ['are', 'United Arab Emirates', 'Asia', '8.270684242248535', '59707.412565389604'], ['arm', 'Armenia', 'Asia', '2.8773109912872314', '8222.945234202914'], ['aze', 'Azerbaijan', 'Asia', '9.03245735168457', '12947.102198682365'], ['bgd', 'Bangladesh', 'Asia', '152.14910888671875', '2411.1020691099325'], ['bhr', 'Bahrain', 'Asia', '1.2408620119094849', '37045.81310919623'], ['brn', 'Brunei', 'Asia', '0.3886620104312897', '67320.89957245934'], ['btn', 'Bhutan', 'Asia', '0.7276409864425659', '7235.18974818538'], ['chn', 'China', 'Asia', '1359.755126953125', '9337.290772677254'], ['cyp', 'Cyprus', 'Asia', '0.829446017742157', '28046.373877741087'], ['geo', 'Georgia', 'Asia', '4.231660842895508', '7966.602756952667'], ['hkg', 'Hong Kong', 'Asia', '7.02522087097168', '41687.946418899235'], ['ind', 'India', 'Asia', '1230.980712890625', '4357.0597360582315'], ['irn', 'Iran', 'Asia', '74.56751251220703', '17328.457882894658'], ['irq', 'Iraq', 'Asia', '30.7627010345459', '9344.543768350652'], ['isr', 'Israel', 'Asia', '7.42595911026001', '28638.9037385305'], ['jor', 'Jordan', 'Asia', '7.182390213012695', '9351.387283068141'], ['jpn', 'Japan', 'Asia', '128.5518798828125', '36595.63364058582'], ['kaz', 'Kazakhstan', 'Asia', '16.398975372314453', '17908.83993251286'], ['kgz', 'Kyrgyzstan', 'Asia', '5.422337055206299', '3382.4639059259293'], ['khm', 'Cambodia', 'Asia', '14.30873966217041', '2330.127207632253'], ['kor', 'South Korea', 'Asia', '49.5528564453125', '31589.705161145695'], ['kwt', 'Kuwait', 'Asia', '2.9980831146240234', '67029.51680017101'], ['lao', 'Laos', 'Asia', '6.246273994445801', '4316.969858587265'], ['lbn', 'Lebanon', 'Asia', '4.337141036987305', '18025.24893894264'], ['lka', 'Sri Lanka', 'Asia', '20.198352813720703', '8390.429701766443'], ['mac', 'Macau', 'Asia', '0.536969006061554', '91982.39517540816'], ['mdv', 'Maldives', 'Asia', '0.36451101303100586', '12140.803390739566'], ['mmr', 'Burma', 'Asia', '50.1558952331543', '3422.241340266976'], ['mng', 'Mongolia', 'Asia', '2.7126500606536865', '7670.714034382584'], ['mys', 'Malaysia', 'Asia', '28.112289428710938', '17913.164410782432'], ['npl', 'Nepal', 'Asia', '27.023136138916016', '1996.1961554516242'], ['omn', 'Oman', 'Asia', '3.0414600372314453', '40472.674942509126'], ['pak', 'Pakistan', 'Asia', '170.5601806640625', '4171.416562353057'], ['phl', 'Philippines', 'Asia', '93.72662353515625', '5391.233965240031'], ['qat', 'Qatar', 'Asia', '1.7796759605407715', '123128.40152283433'], ['sau', 'Saudi Arabia', 'Asia', '27.425676345825195', '42331.65885721999'], ['sgp', 'Singapore', 'Asia', '5.074252128601074', '58618.43503468222'], ['syr', 'Syria', 'Asia', '21.01883316040039', '5700.329438992399'], ['tha', 'Thailand', 'Asia', '67.20880889892578', '12496.244186726299'], ['tjk', 'Tajikistan', 'Asia', '7.641630172729492', '2784.5145587763627'], ['tkm', 'Turkmenistan', 'Asia', '5.087210178375244', '16061.429412691556'], ['tur', 'Turkey', 'Asia', '72.32691192626953', '17930.678781392427'], ['twn', 'Taiwan', 'Asia', '23.140947341918945', '37188.89452901009'], ['uzb', 'Uzbekistan', 'Asia', '28.606294631958008', '6574.51672506692'], ['vnm', 'Vietnam', 'Asia', '88.4725112915039', '4428.42140209062'], ['yem', 'Yemen', 'Asia', '23.606779098510742', '4553.557258443674'], ['alb', 'Albania', 'Europe', '2.9405250549316406', '9544.73991912729'], ['aut', 'Austria', 'Europe', '8.40994930267334', '40489.80635849457'], ['bel', 'Belgium', 'Europe', '10.938738822937012', '38177.94724875522'], ['bgr', 'Bulgaria', 'Europe', '7.404590129852295', '14906.784964031736'], ['bih', 'Bosnia and Herzegovina', 'Europe', '3.7220840454101562', '9049.364732987471'], ['blr', 'Belarus', 'Europe', '9.473071098327637', '16457.02937904922'], ['che', 'Switzerland', 'Europe', '7.831971168518066', '55688.020214268225'], ['cze', 'Czech Republic', 'Europe', '10.536286354064941', '26129.56935189834'], ['deu', 'Germany', 'Europe', '80.89478302001953', '40627.23054942445'], ['dnk', 'Denmark', 'Europe', '5.554843902587891', '43416.22338615916'], ['esp', 'Spain', 'Europe', '46.788631439208984', '31610.980157042286'], ['est', 'Estonia', 'Europe', '1.3321019411087036', '20265.572596704937'], ['fin', 'Finland', 'Europe', '5.365781784057617', '38394.06158150017'], ['fra', 'France', 'Europe', '65.14578247070312', '35786.16161450548'], ['gbr', 'United Kingdom', 'Europe', '63.30684280395508', '34810.28120173958'], ['grc', 'Greece', 'Europe', '11.446004867553711', '25815.80076797162'], ['hrv', 'Croatia', 'Europe', '4.328153133392334', '19305.008088868373'], ['hun', 'Hungary', 'Europe', '9.927840232849121', '20477.79856764035'], ['irl', 'Ireland', 'Europe', '4.626927852630615', '47823.50815113634'], ['isl', 'Iceland', 'Europe', '0.3203279972076416', '37729.01607603124'], ['ita', 'Italy', 'Europe', '59.72980880737305', '34727.67268834705'], ['ltu', 'Lithuania', 'Europe', '3.123802900314331', '18475.371145517096'], ['lux', 'Luxembourg', 'Europe', '0.5078889727592468', '57882.81020537233'], ['lva', 'Latvia', 'Europe', '2.1188480854034424', '16943.688322829523'], ['mda', 'Moldova', 'Europe', '4.0844807624816895', '4173.634753274572'], ['mkd', 'Macedonia', 'Europe', '2.0707390308380127', '11265.643175619889'], ['mlt', 'Malta', 'Europe', '0.41611000895500183', '22983.44992639125'], ['mne', 'Montenegro', 'Europe', '0.6242849826812744', '14960.94855221103'], ['nld', 'Netherlands', 'Europe', '16.68291664123535', '44004.146024770846'], ['nor', 'Norway', 'Europe', '4.885878086090088', '73262.68174170727'], ['pol', 'Poland', 'Europe', '38.323402404785156', '21006.027309294514'], ['prt', 'Portugal', 'Europe', '10.652320861816406', '25788.2739652247'], ['rou', 'Romania', 'Europe', '20.44034767150879', '16775.609043478133'], ['rus', 'Russia', 'Asia', '143.15386962890625', '21754.067899615977'], ['srb', 'Serbia', 'Europe', '7.291436195373535', '12453.482551916944'], ['svk', 'Slovakia', 'Europe', '5.404294013977051', '23061.12099058148'], ['svn', 'Slovenia', 'Europe', '2.045167922973633', '25831.33128718208'], ['swe', 'Sweden', 'Europe', '9.390168190002441', '40421.906436576974'], ['ukr', 'Ukraine', 'Europe', '45.79249954223633', '8713.259627419637'], ['abw', 'Aruba', 'NorthAmerica', '0.10166899859905243', '37059.34143869512'], ['aia', 'Anguilla', 'NorthAmerica', '0.013768999837338924', '21098.057152999143'], ['atg', 'Antigua and Barbuda', 'NorthAmerica', '0.09466099739074707', '17162.16102781353'], ['bhs', 'Bahamas', 'NorthAmerica', '0.36083200573921204', '29504.581346144332'], ['blz', 'Belize', 'NorthAmerica', '0.3216080069541931', '7145.952547655193'], ['bmu', 'Bermuda', 'NorthAmerica', '0.06395599991083145', '51447.147481910884'], ['brb', 'Barbados', 'NorthAmerica', '0.27956900000572205', '13995.612896540895'], ['can', 'Canada', 'NorthAmerica', '34.16866683959961', '40269.03526728651'], ['cri', 'Costa Rica', 'NorthAmerica', '4.5452799797058105', '12106.99191566891'], ['cuw', 'Curaçao', 'NorthAmerica', '0.14760799705982208', '24337.816177887613'], ['cym', 'Cayman Islands', 'NorthAmerica', '0.05550700053572655', '36670.678481483985'], ['dma', 'Dominica', 'NorthAmerica', '0.07143999636173248', '9101.993729581038'], ['dom', 'Dominican Republic', 'NorthAmerica', '9.897985458374023', '11500.13134401987'], ['grd', 'Grenada', 'NorthAmerica', '0.1046769991517067', '9791.291133092265'], ['gtm', 'Guatemala', 'NorthAmerica', '14.630416870117188', '6359.262684615136'], ['hnd', 'Honduras', 'NorthAmerica', '8.194778442382812', '3789.9102248753848'], ['hti', 'Haiti', 'NorthAmerica', '9.999616622924805', '1650.2697128700804'], ['jam', 'Jamaica', 'NorthAmerica', '2.8172099590301514', '6675.176956450172'], ['kna', 'Saint Kitts and Nevis', 'NorthAmerica', '0.05144499987363815', '17837.349758162076'], ['lca', 'Saint Lucia', 'NorthAmerica', '0.17258000373840332', '9178.266990673521'], ['mex', 'Mexico', 'NorthAmerica', '117.31893920898438', '14507.011923865603'], ['msr', 'Montserrat', 'NorthAmerica', '0.00494399992749095', '15385.002991478228'], ['nic', 'Nicaragua', 'NorthAmerica', '5.737722873687744', '3992.7619078961748'], ['pan', 'Panama', 'NorthAmerica', '3.6432220935821533', '15055.237591848218'], ['slv', 'El Salvador', 'NorthAmerica', '6.164626121520996', '6096.958357099287'], ['tca', 'Turks and Caicos Islands', 'NorthAmerica', '0.030993999913334846', '7230.966074605446'], ['tto', 'Trinidad and Tobago', 'NorthAmerica', '1.3280999660491943', '27510.236190041924'], ['usa', 'United States', 'NorthAmerica', '308.6413879394531', '49500.62628346238'], ['vct', 'Saint Vincent and the Grenadines', 'NorthAmerica', '0.10931500047445297', '8095.21923068351'], ['vgb', 'British Virgin Islands', 'NorthAmerica', '0.027224000543355942', '21183.279165646647'], ['aus', 'Australia', 'Oceania', '22.12006378173828', '44854.90004866657'], ['fji', 'Fiji', 'Oceania', '0.8599500060081482', '6902.0687720944225'], ['nzl', 'New Zealand', 'Oceania', '4.370061874389648', '30867.05437525178'], ['arg', 'Argentina', 'SouthAmerica', '41.2238883972168', '15841.658208158999'], ['bol', 'Bolivia', 'SouthAmerica', '9.918242454528809', '4806.608983377068'], ['bra', 'Brazil', 'SouthAmerica', '196.7962646484375', '13541.462561602328'], ['chl', 'Chile', 'SouthAmerica', '16.99335479736328', '18092.94007371081']]\n"
     ]
    }
   ],
   "source": [
    "# Print raw\n",
    "print(\"raw:\", raw)"
   ]
  },
  {
   "cell_type": "markdown",
   "metadata": {},
   "source": [
    "**Note:** Now that we've opened the CSV file, we can correct the provided list of countries based on the actual data from the file."
   ]
  },
  {
   "cell_type": "code",
   "execution_count": 46,
   "metadata": {},
   "outputs": [
    {
     "name": "stdout",
     "output_type": "stream",
     "text": [
      "Warning: Colombia not found in the CSV. Skipping this entry.\n",
      "Warning: Nevada not found in the CSV. Skipping this entry.\n",
      "\n",
      "Corrected 'countries' list:\n"
     ]
    },
    {
     "data": {
      "text/plain": [
       "[('prt', 'Portugal', 'Europe'),\n",
       " ('isr', 'Israel', 'Asia'),\n",
       " ('jpn', 'Japan', 'Asia'),\n",
       " ('rus', 'Russia', 'Asia'),\n",
       " ('dnk', 'Denmark', 'Europe'),\n",
       " ('nor', 'Norway', 'Europe')]"
      ]
     },
     "execution_count": 46,
     "metadata": {},
     "output_type": "execute_result"
    }
   ],
   "source": [
    "# Create an empty list to store the corrected countries\n",
    "corrected_countries = []\n",
    "\n",
    "# Iterate over each tuple in the provided \"countries\" list\n",
    "for iso_code, country_name, continent in countries:\n",
    "    # Initialize flag to track whether the country is found in the CSV\n",
    "    country_found = False\n",
    "\n",
    "    # Search for the correct country data in the \"raw\" data, skipping the header row (column names)\n",
    "    for row in raw[1: ]:\n",
    "        # Match country names\n",
    "        if row[1].lower() == country_name.lower():\n",
    "            # Set flag to True if the country is found\n",
    "            country_found = True\n",
    "            \n",
    "            # Extract the correct ISO code and continent from the \"raw\" data\n",
    "            correct_iso = row[0]\n",
    "            correct_continent = row[2]\n",
    "            \n",
    "            # Append the corrected tuple to \"corrected_countries\" with the correct ISO and continent\n",
    "            corrected_countries.append((correct_iso, country_name, correct_continent))\n",
    "            \n",
    "            # Exit the inner loop once the country is found\n",
    "            break\n",
    "    \n",
    "    # If the country was not found in the \"raw\" data, print a warning message\n",
    "    if not country_found:\n",
    "        print(f\"Warning: {country_name} not found in the CSV. Skipping this entry.\")\n",
    "\n",
    "# Overwrite the original \"countries\" list with the corrected entries\n",
    "countries = corrected_countries\n",
    "\n",
    "# Print the corrected countries list\n",
    "print(\"\\nCorrected 'countries' list:\")\n",
    "countries"
   ]
  },
  {
   "cell_type": "markdown",
   "metadata": {},
   "source": [
    "**Notes:** After reviewing the \"cdata.csv\" file, here’s what we found and fixed:\n",
    "- Colombia was not present in the CSV, so it was removed from the list;\n",
    "- Nevada was skipped, as expected, since it’s a U.S. state, not a country;\n",
    "- The ISO code for Israel was incorrect in the original list (ISL). We updated it to the correct code, ISR;\n",
    "- Russia's continent was missing, so we added it as Asia based on the CSV data;\n",
    "- Denmark's ISO code was listed as DEN, but the correct code is DNK, which we updated;\n",
    "- Lastly, since the CSV file used lowercase ISO codes, we ensured all ISO codes in the list were automatically converted to lowercase during the loop to maintain consistency."
   ]
  },
  {
   "cell_type": "markdown",
   "metadata": {},
   "source": [
    "**13.1**: Create a dictionary called *cData* in which the key corresponds to the 3-digit ISO Code and the value is a tuple with the information contained in the 2nd to the 5th of column of the cdata file."
   ]
  },
  {
   "cell_type": "code",
   "execution_count": 47,
   "metadata": {},
   "outputs": [],
   "source": [
    "# Initialize an empty dictionary to store country data\n",
    "cData = {}\n",
    "\n",
    "# Iterate over the rows in the \"raw\" data, skipping the header row (column names)\n",
    "for row in raw[1: ]:\n",
    "    # Get the 3-digit ISO code from the first column\n",
    "    iso_code = row[0]\n",
    "\n",
    "    # Get the information from the 2nd to the 5th columns and store it as a tuple\n",
    "    info = tuple(row[1:5])\n",
    "\n",
    "    # Add the ISO code and its corresponding information to the \"cData\" dictionary\n",
    "    cData[iso_code] = info"
   ]
  },
  {
   "cell_type": "code",
   "execution_count": 48,
   "metadata": {},
   "outputs": [
    {
     "name": "stdout",
     "output_type": "stream",
     "text": [
      "cData: {'ago': ('Angola', 'Africa', '23.369131088256836', '5988.534997149481'), 'bdi': ('Burundi', 'Africa', '8.766929626464844', '731.4232803265862'), 'ben': ('Benin', 'Africa', '9.199258804321289', '1919.9969479963038'), 'bfa': ('Burkina Faso', 'Africa', '15.605216979980469', '1327.2165314775982'), 'bwa': ('Botswana', 'Africa', '2.0148661136627197', '12256.14159052444'), 'caf': ('Central African Republic', 'Africa', '4.4485249519348145', '865.4421867263901'), 'cmr': ('Cameroon', 'Africa', '19.970495223999023', '2684.972890247272'), 'cod': ('Democratic Republic of the Congo', 'Africa', '64.52326202392578', '634.9713963013496'), 'cog': ('Republic of the Congo', 'Africa', '4.386693000793457', '4979.990496069269'), 'com': ('Comoros', 'Africa', '0.6896920204162598', '2292.997969425929'), 'cpv': ('Cape Verde', 'Africa', '0.5023840069770813', '5644.821253339075'), 'dji': ('Djibouti', 'Africa', '0.8511459827423096', '2124.4420625972525'), 'dza': ('Algeria', 'Africa', '36.117637634277344', '12590.224223813591'), 'egy': ('Egypt', 'Africa', '84.10760498046875', '9148.839753298033'), 'eth': ('Ethiopia', 'Africa', '87.70266723632812', '1100.1831875876223'), 'gab': ('Gabon', 'Africa', '1.6402100324630737', '11961.168226448879'), 'gha': ('Ghana', 'Africa', '24.512104034423828', '3931.2918319728856'), 'gin': ('Guinea', 'Africa', '10.794170379638672', '1742.7346742167783'), 'gmb': ('Gambia', 'Africa', '1.692149043083191', '2681.8586168502143'), 'gnb': ('Guinea-Bissau', 'Africa', '1.5558799505233765', '1387.2497310879905'), 'gnq': ('Equatorial Guinea', 'Africa', '0.9511039853096008', '31416.887137501908'), 'ken': ('Kenya', 'Africa', '41.35015106201172', '2484.0349094725366'), 'lbr': ('Liberia', 'Africa', '3.948124885559082', '786.6702306741524'), 'lso': ('Lesotho', 'Africa', '2.040550947189331', '2432.7976546880823'), 'mar': ('Morocco', 'Africa', '32.409637451171875', '6421.937677907418'), 'mdg': ('Madagascar', 'Africa', '21.151639938354492', '1459.9156124535612'), 'mli': ('Mali', 'Africa', '15.075084686279297', '1873.2809618195865'), 'moz': ('Mozambique', 'Africa', '24.221405029296875', '969.2307622526259'), 'mrt': ('Mauritania', 'Africa', '3.6095430850982666', '3082.647028528842'), 'mus': ('Mauritius', 'Africa', '1.2479549646377563', '15178.325920597827'), 'mwi': ('Malawi', 'Africa', '15.167095184326172', '972.0456815116237'), 'nam': ('Namibia', 'Africa', '2.1731700897216797', '7689.171239820006'), 'ner': ('Niger', 'Africa', '16.42557716369629', '845.8693682212395'), 'nga': ('Nigeria', 'Africa', '158.57826232910156', '5186.304307542348'), 'rwa': ('Rwanda', 'Africa', '10.246842384338379', '1379.6993252327009'), 'sdn': ('Sudan', 'Africa', '34.385963439941406', '3608.7856176907358'), 'sen': ('Senegal', 'Africa', '12.916229248046875', '2741.121456198507'), 'sle': ('Sierra Leone', 'Africa', '6.4587202072143555', '1161.8796942144647'), 'swz': ('Swaziland', 'Africa', '1.2028429508209229', '7042.524359035093'), 'syc': ('Seychelles', 'Africa', '0.0914049968123436', '17960.353075613308'), 'tcd': ('Chad', 'Africa', '11.887202262878418', '1880.3748762799714'), 'tgo': ('Togo', 'Africa', '6.5029520988464355', '1222.8150529133295'), 'tun': ('Tunisia', 'Africa', '10.639930725097656', '10647.834980284626'), 'tza': ('Tanzania', 'Africa', '44.82893753051758', '1979.1718644815185'), 'uga': ('Uganda', 'Africa', '33.91513442993164', '1723.5943355766267'), 'zaf': ('South Africa', 'Africa', '51.58466339111328', '11388.640515995063'), 'zmb': ('Zambia', 'Africa', '13.850032806396484', '2870.8872656342314'), 'zwe': ('Zimbabwe', 'Africa', '14.08631706237793', '1479.0305839163732'), 'are': ('United Arab Emirates', 'Asia', '8.270684242248535', '59707.412565389604'), 'arm': ('Armenia', 'Asia', '2.8773109912872314', '8222.945234202914'), 'aze': ('Azerbaijan', 'Asia', '9.03245735168457', '12947.102198682365'), 'bgd': ('Bangladesh', 'Asia', '152.14910888671875', '2411.1020691099325'), 'bhr': ('Bahrain', 'Asia', '1.2408620119094849', '37045.81310919623'), 'brn': ('Brunei', 'Asia', '0.3886620104312897', '67320.89957245934'), 'btn': ('Bhutan', 'Asia', '0.7276409864425659', '7235.18974818538'), 'chn': ('China', 'Asia', '1359.755126953125', '9337.290772677254'), 'cyp': ('Cyprus', 'Asia', '0.829446017742157', '28046.373877741087'), 'geo': ('Georgia', 'Asia', '4.231660842895508', '7966.602756952667'), 'hkg': ('Hong Kong', 'Asia', '7.02522087097168', '41687.946418899235'), 'ind': ('India', 'Asia', '1230.980712890625', '4357.0597360582315'), 'irn': ('Iran', 'Asia', '74.56751251220703', '17328.457882894658'), 'irq': ('Iraq', 'Asia', '30.7627010345459', '9344.543768350652'), 'isr': ('Israel', 'Asia', '7.42595911026001', '28638.9037385305'), 'jor': ('Jordan', 'Asia', '7.182390213012695', '9351.387283068141'), 'jpn': ('Japan', 'Asia', '128.5518798828125', '36595.63364058582'), 'kaz': ('Kazakhstan', 'Asia', '16.398975372314453', '17908.83993251286'), 'kgz': ('Kyrgyzstan', 'Asia', '5.422337055206299', '3382.4639059259293'), 'khm': ('Cambodia', 'Asia', '14.30873966217041', '2330.127207632253'), 'kor': ('South Korea', 'Asia', '49.5528564453125', '31589.705161145695'), 'kwt': ('Kuwait', 'Asia', '2.9980831146240234', '67029.51680017101'), 'lao': ('Laos', 'Asia', '6.246273994445801', '4316.969858587265'), 'lbn': ('Lebanon', 'Asia', '4.337141036987305', '18025.24893894264'), 'lka': ('Sri Lanka', 'Asia', '20.198352813720703', '8390.429701766443'), 'mac': ('Macau', 'Asia', '0.536969006061554', '91982.39517540816'), 'mdv': ('Maldives', 'Asia', '0.36451101303100586', '12140.803390739566'), 'mmr': ('Burma', 'Asia', '50.1558952331543', '3422.241340266976'), 'mng': ('Mongolia', 'Asia', '2.7126500606536865', '7670.714034382584'), 'mys': ('Malaysia', 'Asia', '28.112289428710938', '17913.164410782432'), 'npl': ('Nepal', 'Asia', '27.023136138916016', '1996.1961554516242'), 'omn': ('Oman', 'Asia', '3.0414600372314453', '40472.674942509126'), 'pak': ('Pakistan', 'Asia', '170.5601806640625', '4171.416562353057'), 'phl': ('Philippines', 'Asia', '93.72662353515625', '5391.233965240031'), 'qat': ('Qatar', 'Asia', '1.7796759605407715', '123128.40152283433'), 'sau': ('Saudi Arabia', 'Asia', '27.425676345825195', '42331.65885721999'), 'sgp': ('Singapore', 'Asia', '5.074252128601074', '58618.43503468222'), 'syr': ('Syria', 'Asia', '21.01883316040039', '5700.329438992399'), 'tha': ('Thailand', 'Asia', '67.20880889892578', '12496.244186726299'), 'tjk': ('Tajikistan', 'Asia', '7.641630172729492', '2784.5145587763627'), 'tkm': ('Turkmenistan', 'Asia', '5.087210178375244', '16061.429412691556'), 'tur': ('Turkey', 'Asia', '72.32691192626953', '17930.678781392427'), 'twn': ('Taiwan', 'Asia', '23.140947341918945', '37188.89452901009'), 'uzb': ('Uzbekistan', 'Asia', '28.606294631958008', '6574.51672506692'), 'vnm': ('Vietnam', 'Asia', '88.4725112915039', '4428.42140209062'), 'yem': ('Yemen', 'Asia', '23.606779098510742', '4553.557258443674'), 'alb': ('Albania', 'Europe', '2.9405250549316406', '9544.73991912729'), 'aut': ('Austria', 'Europe', '8.40994930267334', '40489.80635849457'), 'bel': ('Belgium', 'Europe', '10.938738822937012', '38177.94724875522'), 'bgr': ('Bulgaria', 'Europe', '7.404590129852295', '14906.784964031736'), 'bih': ('Bosnia and Herzegovina', 'Europe', '3.7220840454101562', '9049.364732987471'), 'blr': ('Belarus', 'Europe', '9.473071098327637', '16457.02937904922'), 'che': ('Switzerland', 'Europe', '7.831971168518066', '55688.020214268225'), 'cze': ('Czech Republic', 'Europe', '10.536286354064941', '26129.56935189834'), 'deu': ('Germany', 'Europe', '80.89478302001953', '40627.23054942445'), 'dnk': ('Denmark', 'Europe', '5.554843902587891', '43416.22338615916'), 'esp': ('Spain', 'Europe', '46.788631439208984', '31610.980157042286'), 'est': ('Estonia', 'Europe', '1.3321019411087036', '20265.572596704937'), 'fin': ('Finland', 'Europe', '5.365781784057617', '38394.06158150017'), 'fra': ('France', 'Europe', '65.14578247070312', '35786.16161450548'), 'gbr': ('United Kingdom', 'Europe', '63.30684280395508', '34810.28120173958'), 'grc': ('Greece', 'Europe', '11.446004867553711', '25815.80076797162'), 'hrv': ('Croatia', 'Europe', '4.328153133392334', '19305.008088868373'), 'hun': ('Hungary', 'Europe', '9.927840232849121', '20477.79856764035'), 'irl': ('Ireland', 'Europe', '4.626927852630615', '47823.50815113634'), 'isl': ('Iceland', 'Europe', '0.3203279972076416', '37729.01607603124'), 'ita': ('Italy', 'Europe', '59.72980880737305', '34727.67268834705'), 'ltu': ('Lithuania', 'Europe', '3.123802900314331', '18475.371145517096'), 'lux': ('Luxembourg', 'Europe', '0.5078889727592468', '57882.81020537233'), 'lva': ('Latvia', 'Europe', '2.1188480854034424', '16943.688322829523'), 'mda': ('Moldova', 'Europe', '4.0844807624816895', '4173.634753274572'), 'mkd': ('Macedonia', 'Europe', '2.0707390308380127', '11265.643175619889'), 'mlt': ('Malta', 'Europe', '0.41611000895500183', '22983.44992639125'), 'mne': ('Montenegro', 'Europe', '0.6242849826812744', '14960.94855221103'), 'nld': ('Netherlands', 'Europe', '16.68291664123535', '44004.146024770846'), 'nor': ('Norway', 'Europe', '4.885878086090088', '73262.68174170727'), 'pol': ('Poland', 'Europe', '38.323402404785156', '21006.027309294514'), 'prt': ('Portugal', 'Europe', '10.652320861816406', '25788.2739652247'), 'rou': ('Romania', 'Europe', '20.44034767150879', '16775.609043478133'), 'rus': ('Russia', 'Asia', '143.15386962890625', '21754.067899615977'), 'srb': ('Serbia', 'Europe', '7.291436195373535', '12453.482551916944'), 'svk': ('Slovakia', 'Europe', '5.404294013977051', '23061.12099058148'), 'svn': ('Slovenia', 'Europe', '2.045167922973633', '25831.33128718208'), 'swe': ('Sweden', 'Europe', '9.390168190002441', '40421.906436576974'), 'ukr': ('Ukraine', 'Europe', '45.79249954223633', '8713.259627419637'), 'abw': ('Aruba', 'NorthAmerica', '0.10166899859905243', '37059.34143869512'), 'aia': ('Anguilla', 'NorthAmerica', '0.013768999837338924', '21098.057152999143'), 'atg': ('Antigua and Barbuda', 'NorthAmerica', '0.09466099739074707', '17162.16102781353'), 'bhs': ('Bahamas', 'NorthAmerica', '0.36083200573921204', '29504.581346144332'), 'blz': ('Belize', 'NorthAmerica', '0.3216080069541931', '7145.952547655193'), 'bmu': ('Bermuda', 'NorthAmerica', '0.06395599991083145', '51447.147481910884'), 'brb': ('Barbados', 'NorthAmerica', '0.27956900000572205', '13995.612896540895'), 'can': ('Canada', 'NorthAmerica', '34.16866683959961', '40269.03526728651'), 'cri': ('Costa Rica', 'NorthAmerica', '4.5452799797058105', '12106.99191566891'), 'cuw': ('Curaçao', 'NorthAmerica', '0.14760799705982208', '24337.816177887613'), 'cym': ('Cayman Islands', 'NorthAmerica', '0.05550700053572655', '36670.678481483985'), 'dma': ('Dominica', 'NorthAmerica', '0.07143999636173248', '9101.993729581038'), 'dom': ('Dominican Republic', 'NorthAmerica', '9.897985458374023', '11500.13134401987'), 'grd': ('Grenada', 'NorthAmerica', '0.1046769991517067', '9791.291133092265'), 'gtm': ('Guatemala', 'NorthAmerica', '14.630416870117188', '6359.262684615136'), 'hnd': ('Honduras', 'NorthAmerica', '8.194778442382812', '3789.9102248753848'), 'hti': ('Haiti', 'NorthAmerica', '9.999616622924805', '1650.2697128700804'), 'jam': ('Jamaica', 'NorthAmerica', '2.8172099590301514', '6675.176956450172'), 'kna': ('Saint Kitts and Nevis', 'NorthAmerica', '0.05144499987363815', '17837.349758162076'), 'lca': ('Saint Lucia', 'NorthAmerica', '0.17258000373840332', '9178.266990673521'), 'mex': ('Mexico', 'NorthAmerica', '117.31893920898438', '14507.011923865603'), 'msr': ('Montserrat', 'NorthAmerica', '0.00494399992749095', '15385.002991478228'), 'nic': ('Nicaragua', 'NorthAmerica', '5.737722873687744', '3992.7619078961748'), 'pan': ('Panama', 'NorthAmerica', '3.6432220935821533', '15055.237591848218'), 'slv': ('El Salvador', 'NorthAmerica', '6.164626121520996', '6096.958357099287'), 'tca': ('Turks and Caicos Islands', 'NorthAmerica', '0.030993999913334846', '7230.966074605446'), 'tto': ('Trinidad and Tobago', 'NorthAmerica', '1.3280999660491943', '27510.236190041924'), 'usa': ('United States', 'NorthAmerica', '308.6413879394531', '49500.62628346238'), 'vct': ('Saint Vincent and the Grenadines', 'NorthAmerica', '0.10931500047445297', '8095.21923068351'), 'vgb': ('British Virgin Islands', 'NorthAmerica', '0.027224000543355942', '21183.279165646647'), 'aus': ('Australia', 'Oceania', '22.12006378173828', '44854.90004866657'), 'fji': ('Fiji', 'Oceania', '0.8599500060081482', '6902.0687720944225'), 'nzl': ('New Zealand', 'Oceania', '4.370061874389648', '30867.05437525178'), 'arg': ('Argentina', 'SouthAmerica', '41.2238883972168', '15841.658208158999'), 'bol': ('Bolivia', 'SouthAmerica', '9.918242454528809', '4806.608983377068'), 'bra': ('Brazil', 'SouthAmerica', '196.7962646484375', '13541.462561602328'), 'chl': ('Chile', 'SouthAmerica', '16.99335479736328', '18092.94007371081')}\n"
     ]
    }
   ],
   "source": [
    "# Print cData\n",
    "print(\"cData:\", cData)"
   ]
  },
  {
   "cell_type": "markdown",
   "metadata": {},
   "source": [
    "**14**: Using *cData*, identify what is the most common Continent among the nations in the list *countries*."
   ]
  },
  {
   "cell_type": "code",
   "execution_count": 49,
   "metadata": {},
   "outputs": [],
   "source": [
    "# Extract ISO codes from the \"countries\" list\n",
    "iso_codes_from_countries = [country[0].lower() for country in countries]\n",
    "\n",
    "# Filter cData to only include the countries from \"countries\" list\n",
    "filtered_cData = {iso_code: info for iso_code, info in cData.items() if iso_code in iso_codes_from_countries}\n",
    "\n",
    "# Extract the continents from the \"filtered_cData\"\n",
    "continents = [info[1] for info in filtered_cData.values()]\n",
    "\n",
    "# Count the occurrences of each continent\n",
    "continents_counts = {continent: continents.count(continent) for continent in set(continents)}\n",
    "\n",
    "# Calculate the maximum count of any continent\n",
    "max_count = max(continents_counts.values())\n",
    "\n",
    "# Find all continents that have the maximum count\n",
    "most_common_continents = [continent for continent, count in continents_counts.items() if count == max_count]"
   ]
  },
  {
   "cell_type": "code",
   "execution_count": 50,
   "metadata": {},
   "outputs": [
    {
     "name": "stdout",
     "output_type": "stream",
     "text": [
      "There is a tie between the most common continents (with 3 occurrences): Asia, Europe.\n"
     ]
    }
   ],
   "source": [
    "# Print the answer\n",
    "if len(most_common_continents) == 1:\n",
    "    print(f\"The most common continent is {most_common_continents[0]} with {max_count} occurrences.\")\n",
    "else:\n",
    "    print(f\"There is a tie between the most common continents (with {max_count} occurrences): {', '.join(most_common_continents)}.\")"
   ]
  },
  {
   "cell_type": "markdown",
   "metadata": {},
   "source": [
    "**15**: Using *cData*, identify what is the the most populated nation in the list *countries*."
   ]
  },
  {
   "cell_type": "code",
   "execution_count": 51,
   "metadata": {},
   "outputs": [],
   "source": [
    "# Initialize variables to store the most populated country (no ties are expected) and its population\n",
    "most_populated_country = None\n",
    "max_population = 0\n",
    "\n",
    "# Iterate through filtered_cData (created in the exercise 14.) to find the country with the highest population\n",
    "for iso_code, info in filtered_cData.items():\n",
    "    # Extract the population and convert it to float\n",
    "    population = float(info[2])\n",
    "    \n",
    "    # Check if the current country's population is greater than the \"max_population\"\n",
    "    if population > max_population:\n",
    "        # Update \"max_population\" to the current country's population\n",
    "        max_population = population\n",
    "    \n",
    "        # Update \"most_populated_country\" to the current country's name\n",
    "        most_populated_country = info[0]"
   ]
  },
  {
   "cell_type": "code",
   "execution_count": 52,
   "metadata": {},
   "outputs": [
    {
     "name": "stdout",
     "output_type": "stream",
     "text": [
      "The most populated country is Russia with a population of 143.15 thousands.\n"
     ]
    }
   ],
   "source": [
    "# Print the answer\n",
    "print(f\"The most populated country is {most_populated_country} with a population of {round(max_population, 2)} thousands.\")"
   ]
  },
  {
   "cell_type": "markdown",
   "metadata": {},
   "source": [
    "**16**: Compare the average GDP per capita of the nations in the list *countries* with the average GDP of the countries in cdata file. What can you conclude?"
   ]
  },
  {
   "cell_type": "markdown",
   "metadata": {},
   "source": [
    "**Note:** Although the exercise states to compare the average GDP per capita of the countries in the list \"countries\" with the average GDP (and not average GDP per capita) of the countries in the \"cdata.csv\" file, we will instead compare the averages of GDP per capita for a more meaningful analysis. This is because the \"cdata.csv\" file provides GDP per capita data, allowing us to assess the standard of living of the countries in the list relative to the remaining countries in the CSV file."
   ]
  },
  {
   "cell_type": "code",
   "execution_count": 53,
   "metadata": {},
   "outputs": [],
   "source": [
    "# Initialize an empty list to store GDP per capita of countries in the \"countries\" list, using \"filtered_cData\" (created in exercise 14.)\n",
    "gdp_countries_list = []\n",
    "\n",
    "# Iterate through each country in the \"filtered_cData\"\n",
    "for iso_code, info in filtered_cData.items():\n",
    "    # Get GDP per capita and convert it to float\n",
    "    gdp_per_capita = float(info[3])\n",
    "    \n",
    "    # Append the GDP per capita to the \"gdp_countries_list\"\n",
    "    gdp_countries_list.append(gdp_per_capita)\n",
    "\n",
    "# Calculate the average GDP per capita for the countries in the \"countries\" list\n",
    "average_gdp_countries_list = sum(gdp_countries_list) / len(gdp_countries_list)\n",
    "\n",
    "# Initialize an empty list to store GDP per capita of all countries except those in the \"countries\" list\n",
    "gdp_all_countries = []\n",
    "\n",
    "# Iterate over the entire cData to include all countries not in the \"corrected_countries\" list (i.e., not in \"filtered_cData\")\n",
    "for iso_code, info in cData.items():\n",
    "    # If the country is not in \"filtered_cData\"\n",
    "    if iso_code not in filtered_cData:\n",
    "        # Get GDP per capita and convert it to float\n",
    "        gdp_per_capita = float(info[3])\n",
    "        \n",
    "        # Append the GDP per capita to the \"gdp_all_countries\"\n",
    "        gdp_all_countries.append(gdp_per_capita)\n",
    "\n",
    "# Calculate the average GDP per capita for all countries in cData except those in the \"countries\" list\n",
    "average_gdp_all_countries = sum(gdp_all_countries) / len(gdp_all_countries)"
   ]
  },
  {
   "cell_type": "code",
   "execution_count": 54,
   "metadata": {},
   "outputs": [
    {
     "name": "stdout",
     "output_type": "stream",
     "text": [
      "Average GDP per capita for countries in the 'countries' list: 38242.63.\n",
      "Average GDP per capita for all countries in the 'cdata.csv' file (excluding those in the 'countries' list): 17274.61.\n"
     ]
    }
   ],
   "source": [
    "# Print the results\n",
    "print(f\"Average GDP per capita for countries in the 'countries' list: {round(average_gdp_countries_list, 2)}.\")\n",
    "print(f\"Average GDP per capita for all countries in the 'cdata.csv' file (excluding those in the 'countries' list): {round(average_gdp_all_countries, 2)}.\")"
   ]
  },
  {
   "cell_type": "code",
   "execution_count": 55,
   "metadata": {},
   "outputs": [
    {
     "name": "stdout",
     "output_type": "stream",
     "text": [
      "The ratio is 2.21.\n",
      "The average GDP per capita of the countries in the 'countries' list is 2.21 times higher than that of the remaining countries in the 'cdata.csv' file.\n",
      "This suggests that the countries in the list tend to be wealthier, with a higher standard of living, compared to the other countries.\n"
     ]
    }
   ],
   "source": [
    "# Calculate the ratio of average GDP per capita between the countries in the list and the remaining countries in the 'cdata.csv' file\n",
    "average_gdp_ratio = average_gdp_countries_list / average_gdp_all_countries\n",
    "\n",
    "# Print the conclusion\n",
    "if average_gdp_ratio == 1:\n",
    "    print(f\"The ratio is 1.\\nThe average GDP per capita of the countries in the 'countries' list is exactly equal to that of the remaining countries in the 'cdata.csv' file.\\nThis suggests that the countries in the list have a similar economic performance and standard of living to the global average represented by the other countries.\")\n",
    "elif average_gdp_ratio > 1:\n",
    "    print(f\"The ratio is {round(average_gdp_ratio, 2)}.\\nThe average GDP per capita of the countries in the 'countries' list is {round(average_gdp_ratio, 2)} times higher than that of the remaining countries in the 'cdata.csv' file.\\nThis suggests that the countries in the list tend to be wealthier, with a higher standard of living, compared to the other countries.\")\n",
    "else:\n",
    "    print(f\"The ratio is {round(average_gdp_ratio, 2)}.\\nThe average GDP per capita of the countries in the 'countries' list is {round(1 / average_gdp_ratio, 2)} times lower than that of the remaining countries in the 'cdata.csv' file.\\nThis suggests that the countries in the list have a lower standard of living or economic output, potentially representing developing or emerging economies, compared to the other countries.\")"
   ]
  },
  {
   "cell_type": "markdown",
   "metadata": {},
   "source": [
    "# <span style=\"color:brown\"> Part 3 - Functions hurt nobody </span>\n",
    "\n",
    "## Exercise I - I hate math\n",
    "\n",
    "##### Consider the following equation:\n",
    "\n",
    "\\begin{equation}\n",
    "    y = 6x^2 + 3x + 2 + cos(x)\n",
    "\\end{equation}\n",
    "\n",
    "**17**: Write a function called *f* that takes one argument, x, and returns y according to the equation above. *Note: You should use the module math to solve this exercise.*"
   ]
  },
  {
   "cell_type": "code",
   "execution_count": 56,
   "metadata": {},
   "outputs": [],
   "source": [
    "# Import the math module\n",
    "import math\n",
    "\n",
    "# Import the Union type hint from the typing module\n",
    "from typing import Union"
   ]
  },
  {
   "cell_type": "code",
   "execution_count": 57,
   "metadata": {},
   "outputs": [],
   "source": [
    "# Define the function f\n",
    "# The 'Union' type hint allows to specify that a function parameter can accept more than one type\n",
    "def f(x: Union[int, float]) -> float:\n",
    "    return 6 * x**2 + 3*x + 2 + math.cos(x)"
   ]
  },
  {
   "cell_type": "markdown",
   "metadata": {},
   "source": [
    "**17.1**: Call the function for x = 2 and print the answer."
   ]
  },
  {
   "cell_type": "code",
   "execution_count": 58,
   "metadata": {},
   "outputs": [
    {
     "name": "stdout",
     "output_type": "stream",
     "text": [
      "31.583853163452858\n"
     ]
    }
   ],
   "source": [
    "# Call the f function for x = 2\n",
    "answer = f(2)\n",
    "\n",
    "# Print the answer\n",
    "print(answer)"
   ]
  },
  {
   "cell_type": "markdown",
   "metadata": {},
   "source": [
    "##### Consider the following sequence of numbers:\n",
    "\n",
    "\\begin{equation}\n",
    "    x_0 = 0;  \\\\\n",
    "    x_{n} = x_{n-1} - n; ~~~ \\textit{ if} ~~~ x_{n-1}-n > 0 ~~~ \\textit{ and is not already in the sequence}\\\\\n",
    "    x_{n} = x_{n-1} + n; ~~~ \\textit{ otherwise} ~~~ ~~~ ~~~ ~~~ ~~ ~~~ ~~~ ~~~ ~~~ ~~~ ~ ~~~ ~~~ ~~~ ~~~ ~~~ ~~~ ~ ~~~ ~~~ ~~~~ ~~~ ~~~ ~~~ ~ \\\\\n",
    "\\end{equation}\n",
    "\n",
    "**17.2**: Write a function that returns the nth digit of the above defined sequence. <br>\n",
    "\n",
    "*Note: the above sequence is also known as the Recamán's sequence, and it was invented by Bernardo Recamán Santos (Bogotá, Colombia)*"
   ]
  },
  {
   "cell_type": "code",
   "execution_count": 59,
   "metadata": {},
   "outputs": [],
   "source": [
    "# Define the function RecamanSequence\n",
    "def RecamanSequence(n: int) -> int:\n",
    "    \"\"\"\n",
    "    Returns the nth digit in Recamán's sequence.\n",
    "\n",
    "    Args:\n",
    "    - n (int): The 1-based index of the digit in the sequence to return. Must be a positive integer.\n",
    "\n",
    "    Returns:\n",
    "    - int: The nth digit of the Recamán's sequence.\n",
    "    \"\"\"\n",
    "        \n",
    "    # Raise an error if n is not positive\n",
    "    if n <= 0:\n",
    "        raise ValueError(\"n must be a positive integer!\")\n",
    "    \n",
    "    # Initialize the sequence with 0 as the first digit\n",
    "    sequence = [0]\n",
    "\n",
    "    # Create the sequence until the nth digit\n",
    "    for i in range(1, n):\n",
    "        # Subtract the current index from the last digit\n",
    "        value = sequence[i-1] - i\n",
    "        \n",
    "        # If the value is positive and not already in the sequence, append it\n",
    "        if value > 0 and value not in sequence:\n",
    "            sequence.append(value)\n",
    "        # Otherwise, add the index to the last digit and append it\n",
    "        else:\n",
    "            sequence.append(sequence[i-1] + i)\n",
    "    \n",
    "    # Return the nth digit in the sequence\n",
    "    return sequence[n-1]"
   ]
  },
  {
   "cell_type": "code",
   "execution_count": 60,
   "metadata": {},
   "outputs": [
    {
     "name": "stdout",
     "output_type": "stream",
     "text": [
      "x1 = 0\n",
      "x2 = 1\n",
      "x3 = 3\n",
      "x4 = 6\n",
      "x5 = 2\n",
      "x6 = 7\n",
      "x7 = 13\n",
      "x8 = 20\n",
      "x9 = 12\n",
      "x10 = 21\n"
     ]
    }
   ],
   "source": [
    "# Test the RecamanSequence function by printing the first 10 digits of Recamán's sequence\n",
    "for n in range(1, 11):\n",
    "    print(f\"x{n} = {RecamanSequence(n)}\")"
   ]
  },
  {
   "cell_type": "markdown",
   "metadata": {},
   "source": [
    "**17.3** Write a function named isPrime that takes an integer as input and outputs True if the number is prime and False if the number if not prime. "
   ]
  },
  {
   "cell_type": "code",
   "execution_count": 61,
   "metadata": {},
   "outputs": [],
   "source": [
    "# Define the function isPrime\n",
    "def isPrime(x: int) -> bool:\n",
    "    \"\"\"\n",
    "    Check if a number is prime.\n",
    "\n",
    "    Args:\n",
    "    - x (int): The number to check for primality. Must be a positive integer.\n",
    "\n",
    "    Returns:\n",
    "    - bool: True if x is prime, False otherwise.\n",
    "    \"\"\"\n",
    "    \n",
    "    # Raise an error if x is not positive\n",
    "    if x <= 0:\n",
    "        raise ValueError(\"x must be a positive integer!\")\n",
    "    \n",
    "    # Handle the case for 1 separately (1 is not a prime number)\n",
    "    if x == 1:\n",
    "        return False\n",
    "    \n",
    "    # Iterate from 2 to x-1 to check for divisors\n",
    "    for i in range(2, x):\n",
    "        # If x is divisible by any number in this range, it's not a prime number\n",
    "        if x % i == 0:\n",
    "            return False\n",
    "    \n",
    "    # If no divisors were found, x is prime\n",
    "    return True"
   ]
  },
  {
   "cell_type": "markdown",
   "metadata": {},
   "source": [
    "**17.4** Test your function against some examples to show that it works as expected."
   ]
  },
  {
   "cell_type": "code",
   "execution_count": 62,
   "metadata": {},
   "outputs": [
    {
     "name": "stdout",
     "output_type": "stream",
     "text": [
      "1: False\n",
      "2: True\n",
      "3: True\n",
      "4: False\n",
      "5: True\n",
      "6: False\n",
      "7: True\n",
      "8: False\n",
      "9: False\n",
      "10: False\n"
     ]
    }
   ],
   "source": [
    "# Test the isPrime function by printing the primality of the numbers from 1 to 10\n",
    "for i in range(1, 11):\n",
    "    print(f\"{i}: {isPrime(i)}\")"
   ]
  },
  {
   "cell_type": "markdown",
   "metadata": {},
   "source": [
    "## Exercise II - Monty Hall Problem\n"
   ]
  },
  {
   "cell_type": "markdown",
   "metadata": {},
   "source": [
    "**18**: The Monty Hall Problem is a probability puzzle loosely based on the American television game show \"Let's Make a Deal\" and named after its original host, Monty Hall. The puzzle can be stated as follows\n",
    "\n",
    "> Suppose you're on a game show, and you're given the choice of three doors: Behind one door is a car; behind the others, goats. You pick a door, say No. 1, and the host, who knows what's behind the doors, opens another door, say No. 3, which has a goat. He then says to you, \"Do you want to pick door No. 2?\" Is it to your advantage to switch your choice? <br>\n",
    "+info: https://en.wikipedia.org/wiki/Monty_Hall_problem\n",
    "\n",
    "While intuitively your guess might be that the chances of winning the car is 1/3 independently of the choice to switch doors or not. However, the odds of winning if you switch doors are 2/3 and greater than if you decide not to switch. While there are theoretical solutions to this problem that allow us to estimate the correct odds of winning in each scenario -- switching or not doors -- an alternative way to proof such outcome is through computer simulations. That is the goal of this exercise, to write the necessary components to simulate the Monty Hall problem and validate the theoretical results through simulations.\n",
    "\n",
    "In this exercise, start by implementing a function that simulates one instance of the Monty Hall problem. \n",
    "In that sense, write a function called MontyHall that accepts **one argument**:\n",
    "- A boolean (True/False, or 1/0) that specifies if the player switches doors or not (after the host has opened his door, which contains a goat).\n",
    "The function should return True if the player wins the car or False if not.\n",
    "\n",
    "Naturally, for the function to reproduce the contest it needs to consider and perform some actions, such as:\n",
    "- Set up the game, that is, create the necessary variables to store the information about three doors and what they have behind, as well as an indicator to track the choice of the player.\n",
    "- Given the initial choice of the player, simulate the opening of one of the two remaining doors that contains a goat.\n",
    "- Given the last two doors left, simulate if the player wants to switch or not his/her choice given their strategy (defined by the input boolean argument of the function).\n",
    "- Output the result, if the contestant correctly guesses which door hides the car or if not.\n",
    "\n",
    "The function MontyHall should simulate one instance of the contest given the choice of the player (to switch or not).\n",
    "\n",
    "**The goal is to understand, statistically, which action leads to the highest probability of winning.** <br>\n",
    "*Note: You should use the library random to solve this exercise.*"
   ]
  },
  {
   "cell_type": "code",
   "execution_count": 63,
   "metadata": {},
   "outputs": [],
   "source": [
    "# Import the random module\n",
    "import random"
   ]
  },
  {
   "cell_type": "code",
   "execution_count": 64,
   "metadata": {},
   "outputs": [],
   "source": [
    "# Define the function MontyHall\n",
    "def MontyHall(switch: bool) -> bool:\n",
    "    \"\"\"\n",
    "    Simulate one instance of the Monty Hall problem.\n",
    "\n",
    "    Args:\n",
    "    - switch (bool): True if the player wants to switch doors after the host opens a door, which contains a goat, False otherwise.\n",
    "\n",
    "    Returns:\n",
    "    - bool: True if the player correctly guesses which door hides the car, False otherwise.\n",
    "    \"\"\"\n",
    "\n",
    "    # Initialize the doors: one with a car, two with a goat\n",
    "    doors = [\"car\", \"goat\", \"goat\"]\n",
    "\n",
    "    # Shuffle the doors randomly\n",
    "    random.shuffle(doors)\n",
    "\n",
    "    # Simulate the player randomly selecting one of the three doors\n",
    "    player_door = random.randint(0, 2)\n",
    "\n",
    "    # Identify which doors were not chosen by the player\n",
    "    remaining_doors = [i for i in range(3) if i != player_door]\n",
    "    \n",
    "    # Simulate the host opening a door, which contains a goat\n",
    "    host_door = next(i for i in remaining_doors if doors[i] == \"goat\")\n",
    "    \n",
    "    # Simulate if the player switches doors\n",
    "    if switch:\n",
    "        # Remove the door opened by the host\n",
    "        remaining_doors.remove(host_door)\n",
    "        \n",
    "        # Switch to the remaining door\n",
    "        player_door = remaining_doors[0]\n",
    "\n",
    "    # Return True if the player's final choice contains the car\n",
    "    return doors[player_door] == \"car\""
   ]
  },
  {
   "cell_type": "code",
   "execution_count": 65,
   "metadata": {},
   "outputs": [
    {
     "data": {
      "text/plain": [
       "False"
      ]
     },
     "execution_count": 65,
     "metadata": {},
     "output_type": "execute_result"
    }
   ],
   "source": [
    "# Test the MontyHall function with the player choosing to switch doors\n",
    "MontyHall(True)"
   ]
  },
  {
   "cell_type": "markdown",
   "metadata": {},
   "source": [
    "**18.1** Now that you have a function that simulates an instance of the Monty Hall problem, implement an experiment where you repeat many times (thousands of times) for each of the two possible scenarios: player switching the door, and player not switching the door. Keep track of the results and estimate the frequencies of wins for each scenario and discuss if the results are inline with the theoretical odds."
   ]
  },
  {
   "cell_type": "code",
   "execution_count": 66,
   "metadata": {},
   "outputs": [],
   "source": [
    "# Define the function ExperimentMontyHall\n",
    "def ExperimentMontyHall(n: int):\n",
    "    \"\"\"\n",
    "    Run an experiment to simulate the Monty Hall problem n times for each of the two possible scenarios:\n",
    "    player switching the door, and player not switching the door.\n",
    "    Calculate the win percentage for both scenarios and print the results.\n",
    "    \n",
    "    Args:\n",
    "    - n (int): The number of simulations to run for each scenario (switching or not switching).\n",
    "\n",
    "    Returns:\n",
    "    - None: The function prints the win percentages for both scenarios, but does not return any value.\n",
    "    \"\"\"\n",
    "    \n",
    "    # Initialize a list to store the results of the simulations for both scenarios\n",
    "    scenarios_simulations = []\n",
    "\n",
    "    # Simulate the two possible scenarios: switching or not switching\n",
    "    for switch in [True, False]:\n",
    "        # Initialize a list to store the result of each simulation for the current scenario\n",
    "        simulations = []\n",
    "\n",
    "        # Simulate the Monty Hall problem n times for the current scenario, and append the results to \"simulations\"\n",
    "        for _ in range(n):\n",
    "            simulations.append(MontyHall(switch))\n",
    "        \n",
    "        # Append the list of results for the current scenario to \"scenarios_simulations\"\n",
    "        scenarios_simulations.append(simulations)\n",
    "    \n",
    "    # Calculate the win percentage when the player switches doors\n",
    "    switching_wins_percentage = sum(scenarios_simulations[0]) / n * 100\n",
    "    \n",
    "    # Calculate the win percentage when the player doesn't switch doors\n",
    "    not_switching_wins_percentage = sum(scenarios_simulations[1]) / n * 100\n",
    "\n",
    "    # Print the results\n",
    "    print(\"Wins percentage\")\n",
    "    print(f\"Switching scenario: {round(switching_wins_percentage, 2)}%\")\n",
    "    print(f\"Not switching scenario: {round(not_switching_wins_percentage, 2)}%\")"
   ]
  },
  {
   "cell_type": "code",
   "execution_count": 67,
   "metadata": {},
   "outputs": [
    {
     "name": "stdout",
     "output_type": "stream",
     "text": [
      "Wins percentage\n",
      "Switching scenario: 66.73%\n",
      "Not switching scenario: 33.29%\n"
     ]
    }
   ],
   "source": [
    "# Test the ExperimentMontyHall function with 10,000 simulations for each scenario\n",
    "ExperimentMontyHall(10000)"
   ]
  },
  {
   "cell_type": "markdown",
   "metadata": {},
   "source": [
    "For the switching and not switching scenarios, the win percentages in the simulation are 66.73% and 33.29%, respectively. These results are very close to the theoretical odds of 2/3 and 1/3, respectively.<br>\n",
    "\n",
    "**Conclusion:** The results from 10,000 simulations align well with the theoretical odds of the Monty Hall problem. If the player chooses to switch doors, they significantly increase their chance of winning (around 2/3 of the time). On the other hand, if they stick with their original choice, their chances of winning are much lower (around 1/3 of the time)."
   ]
  },
  {
   "cell_type": "markdown",
   "metadata": {},
   "source": [
    "## Exercise III\n",
    "\n",
    "**19**: Consider the list *A*, declared below. <br>\n",
    "Use the function map() to change the values of A by adding 1 to each value if it is even and subtracting 1 from it otherwise.\n",
    "\n",
    "**Note**: Carefully consider the values of list A and adapt your code accordingly to deal with number that are represented as strings."
   ]
  },
  {
   "cell_type": "code",
   "execution_count": 68,
   "metadata": {},
   "outputs": [],
   "source": [
    "A = [460,3347,3044,490,699,\"1258\",1804,973,2223,3416,\"2879\",1058,2915,2422,351,\"1543\",1020,208,643,\"795\",3337,\"2585\",471,2623,1077]"
   ]
  },
  {
   "cell_type": "code",
   "execution_count": 69,
   "metadata": {},
   "outputs": [],
   "source": [
    "# For each element of A (x), convert it to an integer:\n",
    "# - If x is even, add 1 to it\n",
    "# - If x is odd, subtract 1 from it\n",
    "A = list(map(lambda x: int(x)+1 if int(x)%2 == 0 else int(x)-1, A))"
   ]
  },
  {
   "cell_type": "code",
   "execution_count": 70,
   "metadata": {},
   "outputs": [
    {
     "name": "stdout",
     "output_type": "stream",
     "text": [
      "[461, 3346, 3045, 491, 698, 1259, 1805, 972, 2222, 3417, 2878, 1059, 2914, 2423, 350, 1542, 1021, 209, 642, 794, 3336, 2584, 470, 2622, 1076]\n"
     ]
    }
   ],
   "source": [
    "# Print the modified list A\n",
    "print(A)"
   ]
  },
  {
   "cell_type": "markdown",
   "metadata": {},
   "source": [
    "**20**: Create a list B with the same size of A, where each element is True if the associated value in list A is greater than 700, else is False."
   ]
  },
  {
   "cell_type": "code",
   "execution_count": 71,
   "metadata": {},
   "outputs": [],
   "source": [
    "# Create the list B\n",
    "B = list(map(lambda x: x>700, A))"
   ]
  },
  {
   "cell_type": "code",
   "execution_count": 72,
   "metadata": {},
   "outputs": [
    {
     "name": "stdout",
     "output_type": "stream",
     "text": [
      "[False, True, True, False, False, True, True, True, True, True, True, True, True, True, False, True, True, False, False, True, True, True, False, True, True]\n"
     ]
    }
   ],
   "source": [
    "# Print the list B\n",
    "print(B)"
   ]
  },
  {
   "cell_type": "markdown",
   "metadata": {},
   "source": [
    "**21**: Create a list L that contains the Logarithm of base 10 of each value in A. <br>\n",
    "\n",
    "*Note: You should use the module math to solve this exercise.*"
   ]
  },
  {
   "cell_type": "code",
   "execution_count": 73,
   "metadata": {},
   "outputs": [],
   "source": [
    "# Import the math module\n",
    "import math"
   ]
  },
  {
   "cell_type": "code",
   "execution_count": 74,
   "metadata": {},
   "outputs": [],
   "source": [
    "# Create the list L\n",
    "L = list(map(lambda x: math.log10(x), A))"
   ]
  },
  {
   "cell_type": "code",
   "execution_count": 75,
   "metadata": {},
   "outputs": [
    {
     "name": "stdout",
     "output_type": "stream",
     "text": [
      "[2.663700925389648, 3.5245259366263757, 3.4835872969688944, 2.6910814921229687, 2.843855422623161, 3.1000257301078626, 3.256477206241677, 2.9876662649262746, 3.346744054604849, 3.5336449787987627, 3.4590907896005865, 3.024895960107485, 3.4644895474339714, 3.384353414137506, 2.5440680443502757, 3.188084373714938, 3.0090257420869104, 2.3201462861110542, 2.807535028068853, 2.8998205024270964, 3.523226041965701, 3.4122925093230463, 2.6720978579357175, 3.4186326873540653, 3.0318122713303706]\n"
     ]
    }
   ],
   "source": [
    "# Print the list L\n",
    "print(L)"
   ]
  },
  {
   "cell_type": "markdown",
   "metadata": {},
   "source": [
    "**22**: How many numbers in A are greater than 1000? <br>\n",
    "\n",
    "*Note: You should use the function filter().*"
   ]
  },
  {
   "cell_type": "code",
   "execution_count": 76,
   "metadata": {},
   "outputs": [],
   "source": [
    "# Create a filtered list with the elements of A that are greater than 1000\n",
    "numbers_above_1000 = list(filter(lambda x: x>1000, A))"
   ]
  },
  {
   "cell_type": "code",
   "execution_count": 77,
   "metadata": {},
   "outputs": [
    {
     "name": "stdout",
     "output_type": "stream",
     "text": [
      "The number of elements of A that are greater than 1000 is: 16.\n"
     ]
    }
   ],
   "source": [
    "# Print the length of the filtered list (the number of elements of A that are greater than 1000)\n",
    "print(f\"The number of elements of A that are greater than 1000 is: {len(numbers_above_1000)}.\")"
   ]
  },
  {
   "cell_type": "markdown",
   "metadata": {},
   "source": [
    "**23** Use the function isPrime, that you declared in 17.3, to identify which numbers from A are prime. Note that depending on your implementation of isPrime this task can take more or less time. Use filter to achieve this task."
   ]
  },
  {
   "cell_type": "code",
   "execution_count": 78,
   "metadata": {},
   "outputs": [],
   "source": [
    "# Create a filtered list with the elements of A that are prime\n",
    "prime_numbers = list(filter(lambda x: isPrime(x), A))"
   ]
  },
  {
   "cell_type": "code",
   "execution_count": 79,
   "metadata": {},
   "outputs": [
    {
     "name": "stdout",
     "output_type": "stream",
     "text": [
      "The prime numbers in A are: [461, 491, 1259, 2423, 1021].\n"
     ]
    }
   ],
   "source": [
    "# Print the filtered list (the elements of A that are prime)\n",
    "print(f\"The prime numbers in A are: {prime_numbers}.\")"
   ]
  },
  {
   "cell_type": "markdown",
   "metadata": {},
   "source": [
    "### Congratulations, it is done!"
   ]
  }
 ],
 "metadata": {
  "kernelspec": {
   "display_name": "Python 3",
   "language": "python",
   "name": "python3"
  },
  "language_info": {
   "codemirror_mode": {
    "name": "ipython",
    "version": 3
   },
   "file_extension": ".py",
   "mimetype": "text/x-python",
   "name": "python",
   "nbconvert_exporter": "python",
   "pygments_lexer": "ipython3",
   "version": "3.12.4"
  }
 },
 "nbformat": 4,
 "nbformat_minor": 4
}
